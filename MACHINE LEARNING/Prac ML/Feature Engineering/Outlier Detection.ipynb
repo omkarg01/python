{
 "cells": [
  {
   "cell_type": "code",
   "execution_count": 2,
   "metadata": {},
   "outputs": [],
   "source": [
    "import pandas as pd"
   ]
  },
  {
   "cell_type": "code",
   "execution_count": 3,
   "metadata": {},
   "outputs": [],
   "source": [
    "df = pd.read_csv('..\\\\..\\\\Ml\\\\FeatureEngineering\\\\1_outliers\\\\heights.csv')"
   ]
  },
  {
   "cell_type": "code",
   "execution_count": 35,
   "metadata": {},
   "outputs": [
    {
     "data": {
      "text/html": [
       "<div>\n",
       "<style scoped>\n",
       "    .dataframe tbody tr th:only-of-type {\n",
       "        vertical-align: middle;\n",
       "    }\n",
       "\n",
       "    .dataframe tbody tr th {\n",
       "        vertical-align: top;\n",
       "    }\n",
       "\n",
       "    .dataframe thead th {\n",
       "        text-align: right;\n",
       "    }\n",
       "</style>\n",
       "<table border=\"1\" class=\"dataframe\">\n",
       "  <thead>\n",
       "    <tr style=\"text-align: right;\">\n",
       "      <th></th>\n",
       "      <th>name</th>\n",
       "      <th>height</th>\n",
       "    </tr>\n",
       "  </thead>\n",
       "  <tbody>\n",
       "    <tr>\n",
       "      <th>0</th>\n",
       "      <td>mohan</td>\n",
       "      <td>5.9</td>\n",
       "    </tr>\n",
       "    <tr>\n",
       "      <th>1</th>\n",
       "      <td>maria</td>\n",
       "      <td>5.2</td>\n",
       "    </tr>\n",
       "    <tr>\n",
       "      <th>2</th>\n",
       "      <td>sakib</td>\n",
       "      <td>5.1</td>\n",
       "    </tr>\n",
       "    <tr>\n",
       "      <th>3</th>\n",
       "      <td>tao</td>\n",
       "      <td>5.5</td>\n",
       "    </tr>\n",
       "    <tr>\n",
       "      <th>4</th>\n",
       "      <td>virat</td>\n",
       "      <td>4.9</td>\n",
       "    </tr>\n",
       "    <tr>\n",
       "      <th>5</th>\n",
       "      <td>khusbu</td>\n",
       "      <td>5.4</td>\n",
       "    </tr>\n",
       "    <tr>\n",
       "      <th>6</th>\n",
       "      <td>dmitry</td>\n",
       "      <td>6.2</td>\n",
       "    </tr>\n",
       "    <tr>\n",
       "      <th>7</th>\n",
       "      <td>selena</td>\n",
       "      <td>6.5</td>\n",
       "    </tr>\n",
       "    <tr>\n",
       "      <th>8</th>\n",
       "      <td>john</td>\n",
       "      <td>7.1</td>\n",
       "    </tr>\n",
       "    <tr>\n",
       "      <th>9</th>\n",
       "      <td>imran</td>\n",
       "      <td>14.5</td>\n",
       "    </tr>\n",
       "    <tr>\n",
       "      <th>10</th>\n",
       "      <td>jose</td>\n",
       "      <td>6.1</td>\n",
       "    </tr>\n",
       "    <tr>\n",
       "      <th>11</th>\n",
       "      <td>deepika</td>\n",
       "      <td>5.6</td>\n",
       "    </tr>\n",
       "    <tr>\n",
       "      <th>12</th>\n",
       "      <td>yoseph</td>\n",
       "      <td>1.2</td>\n",
       "    </tr>\n",
       "    <tr>\n",
       "      <th>13</th>\n",
       "      <td>binod</td>\n",
       "      <td>5.5</td>\n",
       "    </tr>\n",
       "  </tbody>\n",
       "</table>\n",
       "</div>"
      ],
      "text/plain": [
       "       name  height\n",
       "0     mohan     5.9\n",
       "1     maria     5.2\n",
       "2     sakib     5.1\n",
       "3       tao     5.5\n",
       "4     virat     4.9\n",
       "5    khusbu     5.4\n",
       "6    dmitry     6.2\n",
       "7    selena     6.5\n",
       "8      john     7.1\n",
       "9     imran    14.5\n",
       "10     jose     6.1\n",
       "11  deepika     5.6\n",
       "12   yoseph     1.2\n",
       "13    binod     5.5"
      ]
     },
     "execution_count": 35,
     "metadata": {},
     "output_type": "execute_result"
    }
   ],
   "source": [
    "df"
   ]
  },
  {
   "cell_type": "code",
   "execution_count": 36,
   "metadata": {},
   "outputs": [
    {
     "data": {
      "text/plain": [
       "5.55"
      ]
     },
     "execution_count": 36,
     "metadata": {},
     "output_type": "execute_result"
    }
   ],
   "source": [
    "df['height'].quantile(0.5)"
   ]
  },
  {
   "cell_type": "code",
   "execution_count": 43,
   "metadata": {},
   "outputs": [],
   "source": [
    "max_threshold = df['height'].quantile(0.95)\n",
    "min_threshold = df['height'].quantile(0.05)"
   ]
  },
  {
   "cell_type": "code",
   "execution_count": 44,
   "metadata": {},
   "outputs": [
    {
     "data": {
      "text/html": [
       "<div>\n",
       "<style scoped>\n",
       "    .dataframe tbody tr th:only-of-type {\n",
       "        vertical-align: middle;\n",
       "    }\n",
       "\n",
       "    .dataframe tbody tr th {\n",
       "        vertical-align: top;\n",
       "    }\n",
       "\n",
       "    .dataframe thead th {\n",
       "        text-align: right;\n",
       "    }\n",
       "</style>\n",
       "<table border=\"1\" class=\"dataframe\">\n",
       "  <thead>\n",
       "    <tr style=\"text-align: right;\">\n",
       "      <th></th>\n",
       "      <th>name</th>\n",
       "      <th>height</th>\n",
       "    </tr>\n",
       "  </thead>\n",
       "  <tbody>\n",
       "    <tr>\n",
       "      <th>9</th>\n",
       "      <td>imran</td>\n",
       "      <td>14.5</td>\n",
       "    </tr>\n",
       "  </tbody>\n",
       "</table>\n",
       "</div>"
      ],
      "text/plain": [
       "    name  height\n",
       "9  imran    14.5"
      ]
     },
     "execution_count": 44,
     "metadata": {},
     "output_type": "execute_result"
    }
   ],
   "source": [
    "df[df['height']>max_threshold]"
   ]
  },
  {
   "cell_type": "code",
   "execution_count": 47,
   "metadata": {},
   "outputs": [
    {
     "data": {
      "text/html": [
       "<div>\n",
       "<style scoped>\n",
       "    .dataframe tbody tr th:only-of-type {\n",
       "        vertical-align: middle;\n",
       "    }\n",
       "\n",
       "    .dataframe tbody tr th {\n",
       "        vertical-align: top;\n",
       "    }\n",
       "\n",
       "    .dataframe thead th {\n",
       "        text-align: right;\n",
       "    }\n",
       "</style>\n",
       "<table border=\"1\" class=\"dataframe\">\n",
       "  <thead>\n",
       "    <tr style=\"text-align: right;\">\n",
       "      <th></th>\n",
       "      <th>name</th>\n",
       "      <th>height</th>\n",
       "    </tr>\n",
       "  </thead>\n",
       "  <tbody>\n",
       "    <tr>\n",
       "      <th>0</th>\n",
       "      <td>mohan</td>\n",
       "      <td>5.9</td>\n",
       "    </tr>\n",
       "    <tr>\n",
       "      <th>1</th>\n",
       "      <td>maria</td>\n",
       "      <td>5.2</td>\n",
       "    </tr>\n",
       "    <tr>\n",
       "      <th>2</th>\n",
       "      <td>sakib</td>\n",
       "      <td>5.1</td>\n",
       "    </tr>\n",
       "    <tr>\n",
       "      <th>3</th>\n",
       "      <td>tao</td>\n",
       "      <td>5.5</td>\n",
       "    </tr>\n",
       "    <tr>\n",
       "      <th>4</th>\n",
       "      <td>virat</td>\n",
       "      <td>4.9</td>\n",
       "    </tr>\n",
       "    <tr>\n",
       "      <th>5</th>\n",
       "      <td>khusbu</td>\n",
       "      <td>5.4</td>\n",
       "    </tr>\n",
       "    <tr>\n",
       "      <th>6</th>\n",
       "      <td>dmitry</td>\n",
       "      <td>6.2</td>\n",
       "    </tr>\n",
       "    <tr>\n",
       "      <th>7</th>\n",
       "      <td>selena</td>\n",
       "      <td>6.5</td>\n",
       "    </tr>\n",
       "    <tr>\n",
       "      <th>8</th>\n",
       "      <td>john</td>\n",
       "      <td>7.1</td>\n",
       "    </tr>\n",
       "    <tr>\n",
       "      <th>10</th>\n",
       "      <td>jose</td>\n",
       "      <td>6.1</td>\n",
       "    </tr>\n",
       "    <tr>\n",
       "      <th>11</th>\n",
       "      <td>deepika</td>\n",
       "      <td>5.6</td>\n",
       "    </tr>\n",
       "    <tr>\n",
       "      <th>13</th>\n",
       "      <td>binod</td>\n",
       "      <td>5.5</td>\n",
       "    </tr>\n",
       "  </tbody>\n",
       "</table>\n",
       "</div>"
      ],
      "text/plain": [
       "       name  height\n",
       "0     mohan     5.9\n",
       "1     maria     5.2\n",
       "2     sakib     5.1\n",
       "3       tao     5.5\n",
       "4     virat     4.9\n",
       "5    khusbu     5.4\n",
       "6    dmitry     6.2\n",
       "7    selena     6.5\n",
       "8      john     7.1\n",
       "10     jose     6.1\n",
       "11  deepika     5.6\n",
       "13    binod     5.5"
      ]
     },
     "execution_count": 47,
     "metadata": {},
     "output_type": "execute_result"
    }
   ],
   "source": [
    "df[(df['height']<max_threshold) & (df['height']>min_threshold)]"
   ]
  },
  {
   "cell_type": "code",
   "execution_count": 48,
   "metadata": {},
   "outputs": [],
   "source": [
    "df1 = pd.read_csv('..\\\\..\\\\Ml\\\\FeatureEngineering\\\\1_outliers\\\\bhp.csv')"
   ]
  },
  {
   "cell_type": "code",
   "execution_count": 49,
   "metadata": {},
   "outputs": [
    {
     "data": {
      "text/html": [
       "<div>\n",
       "<style scoped>\n",
       "    .dataframe tbody tr th:only-of-type {\n",
       "        vertical-align: middle;\n",
       "    }\n",
       "\n",
       "    .dataframe tbody tr th {\n",
       "        vertical-align: top;\n",
       "    }\n",
       "\n",
       "    .dataframe thead th {\n",
       "        text-align: right;\n",
       "    }\n",
       "</style>\n",
       "<table border=\"1\" class=\"dataframe\">\n",
       "  <thead>\n",
       "    <tr style=\"text-align: right;\">\n",
       "      <th></th>\n",
       "      <th>location</th>\n",
       "      <th>size</th>\n",
       "      <th>total_sqft</th>\n",
       "      <th>bath</th>\n",
       "      <th>price</th>\n",
       "      <th>bhk</th>\n",
       "      <th>price_per_sqft</th>\n",
       "    </tr>\n",
       "  </thead>\n",
       "  <tbody>\n",
       "    <tr>\n",
       "      <th>0</th>\n",
       "      <td>Electronic City Phase II</td>\n",
       "      <td>2 BHK</td>\n",
       "      <td>1056.0</td>\n",
       "      <td>2.0</td>\n",
       "      <td>39.07</td>\n",
       "      <td>2</td>\n",
       "      <td>3699</td>\n",
       "    </tr>\n",
       "    <tr>\n",
       "      <th>1</th>\n",
       "      <td>Chikka Tirupathi</td>\n",
       "      <td>4 Bedroom</td>\n",
       "      <td>2600.0</td>\n",
       "      <td>5.0</td>\n",
       "      <td>120.00</td>\n",
       "      <td>4</td>\n",
       "      <td>4615</td>\n",
       "    </tr>\n",
       "    <tr>\n",
       "      <th>2</th>\n",
       "      <td>Uttarahalli</td>\n",
       "      <td>3 BHK</td>\n",
       "      <td>1440.0</td>\n",
       "      <td>2.0</td>\n",
       "      <td>62.00</td>\n",
       "      <td>3</td>\n",
       "      <td>4305</td>\n",
       "    </tr>\n",
       "    <tr>\n",
       "      <th>3</th>\n",
       "      <td>Lingadheeranahalli</td>\n",
       "      <td>3 BHK</td>\n",
       "      <td>1521.0</td>\n",
       "      <td>3.0</td>\n",
       "      <td>95.00</td>\n",
       "      <td>3</td>\n",
       "      <td>6245</td>\n",
       "    </tr>\n",
       "    <tr>\n",
       "      <th>4</th>\n",
       "      <td>Kothanur</td>\n",
       "      <td>2 BHK</td>\n",
       "      <td>1200.0</td>\n",
       "      <td>2.0</td>\n",
       "      <td>51.00</td>\n",
       "      <td>2</td>\n",
       "      <td>4250</td>\n",
       "    </tr>\n",
       "    <tr>\n",
       "      <th>...</th>\n",
       "      <td>...</td>\n",
       "      <td>...</td>\n",
       "      <td>...</td>\n",
       "      <td>...</td>\n",
       "      <td>...</td>\n",
       "      <td>...</td>\n",
       "      <td>...</td>\n",
       "    </tr>\n",
       "    <tr>\n",
       "      <th>13195</th>\n",
       "      <td>Whitefield</td>\n",
       "      <td>5 Bedroom</td>\n",
       "      <td>3453.0</td>\n",
       "      <td>4.0</td>\n",
       "      <td>231.00</td>\n",
       "      <td>5</td>\n",
       "      <td>6689</td>\n",
       "    </tr>\n",
       "    <tr>\n",
       "      <th>13196</th>\n",
       "      <td>other</td>\n",
       "      <td>4 BHK</td>\n",
       "      <td>3600.0</td>\n",
       "      <td>5.0</td>\n",
       "      <td>400.00</td>\n",
       "      <td>4</td>\n",
       "      <td>11111</td>\n",
       "    </tr>\n",
       "    <tr>\n",
       "      <th>13197</th>\n",
       "      <td>Raja Rajeshwari Nagar</td>\n",
       "      <td>2 BHK</td>\n",
       "      <td>1141.0</td>\n",
       "      <td>2.0</td>\n",
       "      <td>60.00</td>\n",
       "      <td>2</td>\n",
       "      <td>5258</td>\n",
       "    </tr>\n",
       "    <tr>\n",
       "      <th>13198</th>\n",
       "      <td>Padmanabhanagar</td>\n",
       "      <td>4 BHK</td>\n",
       "      <td>4689.0</td>\n",
       "      <td>4.0</td>\n",
       "      <td>488.00</td>\n",
       "      <td>4</td>\n",
       "      <td>10407</td>\n",
       "    </tr>\n",
       "    <tr>\n",
       "      <th>13199</th>\n",
       "      <td>Doddathoguru</td>\n",
       "      <td>1 BHK</td>\n",
       "      <td>550.0</td>\n",
       "      <td>1.0</td>\n",
       "      <td>17.00</td>\n",
       "      <td>1</td>\n",
       "      <td>3090</td>\n",
       "    </tr>\n",
       "  </tbody>\n",
       "</table>\n",
       "<p>13200 rows × 7 columns</p>\n",
       "</div>"
      ],
      "text/plain": [
       "                       location       size  total_sqft  bath   price  bhk  \\\n",
       "0      Electronic City Phase II      2 BHK      1056.0   2.0   39.07    2   \n",
       "1              Chikka Tirupathi  4 Bedroom      2600.0   5.0  120.00    4   \n",
       "2                   Uttarahalli      3 BHK      1440.0   2.0   62.00    3   \n",
       "3            Lingadheeranahalli      3 BHK      1521.0   3.0   95.00    3   \n",
       "4                      Kothanur      2 BHK      1200.0   2.0   51.00    2   \n",
       "...                         ...        ...         ...   ...     ...  ...   \n",
       "13195                Whitefield  5 Bedroom      3453.0   4.0  231.00    5   \n",
       "13196                     other      4 BHK      3600.0   5.0  400.00    4   \n",
       "13197     Raja Rajeshwari Nagar      2 BHK      1141.0   2.0   60.00    2   \n",
       "13198           Padmanabhanagar      4 BHK      4689.0   4.0  488.00    4   \n",
       "13199              Doddathoguru      1 BHK       550.0   1.0   17.00    1   \n",
       "\n",
       "       price_per_sqft  \n",
       "0                3699  \n",
       "1                4615  \n",
       "2                4305  \n",
       "3                6245  \n",
       "4                4250  \n",
       "...               ...  \n",
       "13195            6689  \n",
       "13196           11111  \n",
       "13197            5258  \n",
       "13198           10407  \n",
       "13199            3090  \n",
       "\n",
       "[13200 rows x 7 columns]"
      ]
     },
     "execution_count": 49,
     "metadata": {},
     "output_type": "execute_result"
    }
   ],
   "source": [
    "df1"
   ]
  },
  {
   "cell_type": "code",
   "execution_count": 52,
   "metadata": {},
   "outputs": [],
   "source": [
    "df2 = pd.read_csv('..\\\\..\\\\Ml\\\\FeatureEngineering\\\\1_outliers\\\\Exercise\\\\AB_NYC_2019.csv')"
   ]
  },
  {
   "cell_type": "code",
   "execution_count": 58,
   "metadata": {},
   "outputs": [
    {
     "data": {
      "text/plain": [
       "count    48895.000000\n",
       "mean       152.720687\n",
       "std        240.154170\n",
       "min          0.000000\n",
       "25%         69.000000\n",
       "50%        106.000000\n",
       "75%        175.000000\n",
       "max      10000.000000\n",
       "Name: price, dtype: float64"
      ]
     },
     "execution_count": 58,
     "metadata": {},
     "output_type": "execute_result"
    }
   ],
   "source": [
    "df2.price.describe()"
   ]
  },
  {
   "cell_type": "code",
   "execution_count": 59,
   "metadata": {},
   "outputs": [
    {
     "data": {
      "text/plain": [
       "(30.0, 3000.0)"
      ]
     },
     "execution_count": 59,
     "metadata": {},
     "output_type": "execute_result"
    }
   ],
   "source": [
    "min_thresold, max_thresold = df2.price.quantile([0.01,0.999])\n",
    "min_thresold, max_thresold"
   ]
  },
  {
   "cell_type": "code",
   "execution_count": 61,
   "metadata": {},
   "outputs": [
    {
     "data": {
      "text/plain": [
       "(48183, 16)"
      ]
     },
     "execution_count": 61,
     "metadata": {},
     "output_type": "execute_result"
    }
   ],
   "source": [
    "df3 = df2[(df2.price>min_thresold)&(df2.price<max_thresold)]\n",
    "df3.shape"
   ]
  },
  {
   "cell_type": "code",
   "execution_count": 63,
   "metadata": {},
   "outputs": [
    {
     "data": {
      "text/plain": [
       "count    48183.000000\n",
       "mean       148.772036\n",
       "std        153.594795\n",
       "min         31.000000\n",
       "25%         70.000000\n",
       "50%        110.000000\n",
       "75%        179.000000\n",
       "max       2999.000000\n",
       "Name: price, dtype: float64"
      ]
     },
     "execution_count": 63,
     "metadata": {},
     "output_type": "execute_result"
    }
   ],
   "source": [
    "df3.price.describe()"
   ]
  },
  {
   "cell_type": "code",
   "execution_count": 64,
   "metadata": {},
   "outputs": [],
   "source": [
    "import numpy as np"
   ]
  },
  {
   "cell_type": "code",
   "execution_count": 70,
   "metadata": {},
   "outputs": [
    {
     "data": {
      "text/plain": [
       "array([1. , 1.1, 1.2, 1.3, 1.4, 1.5, 1.6, 1.7, 1.8, 1.9])"
      ]
     },
     "execution_count": 70,
     "metadata": {},
     "output_type": "execute_result"
    }
   ],
   "source": [
    "np.arange(1,2,0.1)"
   ]
  },
  {
   "cell_type": "code",
   "execution_count": 71,
   "metadata": {},
   "outputs": [
    {
     "data": {
      "text/html": [
       "<div>\n",
       "<style scoped>\n",
       "    .dataframe tbody tr th:only-of-type {\n",
       "        vertical-align: middle;\n",
       "    }\n",
       "\n",
       "    .dataframe tbody tr th {\n",
       "        vertical-align: top;\n",
       "    }\n",
       "\n",
       "    .dataframe thead th {\n",
       "        text-align: right;\n",
       "    }\n",
       "</style>\n",
       "<table border=\"1\" class=\"dataframe\">\n",
       "  <thead>\n",
       "    <tr style=\"text-align: right;\">\n",
       "      <th></th>\n",
       "      <th>location</th>\n",
       "      <th>size</th>\n",
       "      <th>total_sqft</th>\n",
       "      <th>bath</th>\n",
       "      <th>price</th>\n",
       "      <th>bhk</th>\n",
       "      <th>price_per_sqft</th>\n",
       "    </tr>\n",
       "  </thead>\n",
       "  <tbody>\n",
       "    <tr>\n",
       "      <th>0</th>\n",
       "      <td>Electronic City Phase II</td>\n",
       "      <td>2 BHK</td>\n",
       "      <td>1056.0</td>\n",
       "      <td>2.0</td>\n",
       "      <td>39.07</td>\n",
       "      <td>2</td>\n",
       "      <td>3699</td>\n",
       "    </tr>\n",
       "    <tr>\n",
       "      <th>1</th>\n",
       "      <td>Chikka Tirupathi</td>\n",
       "      <td>4 Bedroom</td>\n",
       "      <td>2600.0</td>\n",
       "      <td>5.0</td>\n",
       "      <td>120.00</td>\n",
       "      <td>4</td>\n",
       "      <td>4615</td>\n",
       "    </tr>\n",
       "    <tr>\n",
       "      <th>2</th>\n",
       "      <td>Uttarahalli</td>\n",
       "      <td>3 BHK</td>\n",
       "      <td>1440.0</td>\n",
       "      <td>2.0</td>\n",
       "      <td>62.00</td>\n",
       "      <td>3</td>\n",
       "      <td>4305</td>\n",
       "    </tr>\n",
       "    <tr>\n",
       "      <th>3</th>\n",
       "      <td>Lingadheeranahalli</td>\n",
       "      <td>3 BHK</td>\n",
       "      <td>1521.0</td>\n",
       "      <td>3.0</td>\n",
       "      <td>95.00</td>\n",
       "      <td>3</td>\n",
       "      <td>6245</td>\n",
       "    </tr>\n",
       "    <tr>\n",
       "      <th>4</th>\n",
       "      <td>Kothanur</td>\n",
       "      <td>2 BHK</td>\n",
       "      <td>1200.0</td>\n",
       "      <td>2.0</td>\n",
       "      <td>51.00</td>\n",
       "      <td>2</td>\n",
       "      <td>4250</td>\n",
       "    </tr>\n",
       "    <tr>\n",
       "      <th>...</th>\n",
       "      <td>...</td>\n",
       "      <td>...</td>\n",
       "      <td>...</td>\n",
       "      <td>...</td>\n",
       "      <td>...</td>\n",
       "      <td>...</td>\n",
       "      <td>...</td>\n",
       "    </tr>\n",
       "    <tr>\n",
       "      <th>13195</th>\n",
       "      <td>Whitefield</td>\n",
       "      <td>5 Bedroom</td>\n",
       "      <td>3453.0</td>\n",
       "      <td>4.0</td>\n",
       "      <td>231.00</td>\n",
       "      <td>5</td>\n",
       "      <td>6689</td>\n",
       "    </tr>\n",
       "    <tr>\n",
       "      <th>13196</th>\n",
       "      <td>other</td>\n",
       "      <td>4 BHK</td>\n",
       "      <td>3600.0</td>\n",
       "      <td>5.0</td>\n",
       "      <td>400.00</td>\n",
       "      <td>4</td>\n",
       "      <td>11111</td>\n",
       "    </tr>\n",
       "    <tr>\n",
       "      <th>13197</th>\n",
       "      <td>Raja Rajeshwari Nagar</td>\n",
       "      <td>2 BHK</td>\n",
       "      <td>1141.0</td>\n",
       "      <td>2.0</td>\n",
       "      <td>60.00</td>\n",
       "      <td>2</td>\n",
       "      <td>5258</td>\n",
       "    </tr>\n",
       "    <tr>\n",
       "      <th>13198</th>\n",
       "      <td>Padmanabhanagar</td>\n",
       "      <td>4 BHK</td>\n",
       "      <td>4689.0</td>\n",
       "      <td>4.0</td>\n",
       "      <td>488.00</td>\n",
       "      <td>4</td>\n",
       "      <td>10407</td>\n",
       "    </tr>\n",
       "    <tr>\n",
       "      <th>13199</th>\n",
       "      <td>Doddathoguru</td>\n",
       "      <td>1 BHK</td>\n",
       "      <td>550.0</td>\n",
       "      <td>1.0</td>\n",
       "      <td>17.00</td>\n",
       "      <td>1</td>\n",
       "      <td>3090</td>\n",
       "    </tr>\n",
       "  </tbody>\n",
       "</table>\n",
       "<p>13200 rows × 7 columns</p>\n",
       "</div>"
      ],
      "text/plain": [
       "                       location       size  total_sqft  bath   price  bhk  \\\n",
       "0      Electronic City Phase II      2 BHK      1056.0   2.0   39.07    2   \n",
       "1              Chikka Tirupathi  4 Bedroom      2600.0   5.0  120.00    4   \n",
       "2                   Uttarahalli      3 BHK      1440.0   2.0   62.00    3   \n",
       "3            Lingadheeranahalli      3 BHK      1521.0   3.0   95.00    3   \n",
       "4                      Kothanur      2 BHK      1200.0   2.0   51.00    2   \n",
       "...                         ...        ...         ...   ...     ...  ...   \n",
       "13195                Whitefield  5 Bedroom      3453.0   4.0  231.00    5   \n",
       "13196                     other      4 BHK      3600.0   5.0  400.00    4   \n",
       "13197     Raja Rajeshwari Nagar      2 BHK      1141.0   2.0   60.00    2   \n",
       "13198           Padmanabhanagar      4 BHK      4689.0   4.0  488.00    4   \n",
       "13199              Doddathoguru      1 BHK       550.0   1.0   17.00    1   \n",
       "\n",
       "       price_per_sqft  \n",
       "0                3699  \n",
       "1                4615  \n",
       "2                4305  \n",
       "3                6245  \n",
       "4                4250  \n",
       "...               ...  \n",
       "13195            6689  \n",
       "13196           11111  \n",
       "13197            5258  \n",
       "13198           10407  \n",
       "13199            3090  \n",
       "\n",
       "[13200 rows x 7 columns]"
      ]
     },
     "execution_count": 71,
     "metadata": {},
     "output_type": "execute_result"
    }
   ],
   "source": [
    "df1"
   ]
  },
  {
   "cell_type": "code",
   "execution_count": 76,
   "metadata": {},
   "outputs": [
    {
     "data": {
      "text/plain": [
       "(1366.184, 50959.36200000099)"
      ]
     },
     "execution_count": 76,
     "metadata": {},
     "output_type": "execute_result"
    }
   ],
   "source": [
    "min, max = df1['price_per_sqft'].quantile([0.001, 0.999])\n",
    "min, max"
   ]
  },
  {
   "cell_type": "code",
   "execution_count": 79,
   "metadata": {},
   "outputs": [],
   "source": [
    "new_df1 = df1[(df1['price_per_sqft']>min) & (df1['price_per_sqft']<max)]"
   ]
  },
  {
   "cell_type": "code",
   "execution_count": 80,
   "metadata": {},
   "outputs": [
    {
     "data": {
      "text/html": [
       "<div>\n",
       "<style scoped>\n",
       "    .dataframe tbody tr th:only-of-type {\n",
       "        vertical-align: middle;\n",
       "    }\n",
       "\n",
       "    .dataframe tbody tr th {\n",
       "        vertical-align: top;\n",
       "    }\n",
       "\n",
       "    .dataframe thead th {\n",
       "        text-align: right;\n",
       "    }\n",
       "</style>\n",
       "<table border=\"1\" class=\"dataframe\">\n",
       "  <thead>\n",
       "    <tr style=\"text-align: right;\">\n",
       "      <th></th>\n",
       "      <th>total_sqft</th>\n",
       "      <th>bath</th>\n",
       "      <th>price</th>\n",
       "      <th>bhk</th>\n",
       "      <th>price_per_sqft</th>\n",
       "    </tr>\n",
       "  </thead>\n",
       "  <tbody>\n",
       "    <tr>\n",
       "      <th>count</th>\n",
       "      <td>13172.000000</td>\n",
       "      <td>13172.000000</td>\n",
       "      <td>13172.000000</td>\n",
       "      <td>13172.000000</td>\n",
       "      <td>13172.000000</td>\n",
       "    </tr>\n",
       "    <tr>\n",
       "      <th>mean</th>\n",
       "      <td>1537.861049</td>\n",
       "      <td>2.690100</td>\n",
       "      <td>111.591865</td>\n",
       "      <td>2.799651</td>\n",
       "      <td>6663.653735</td>\n",
       "    </tr>\n",
       "    <tr>\n",
       "      <th>std</th>\n",
       "      <td>967.123711</td>\n",
       "      <td>1.337026</td>\n",
       "      <td>145.372047</td>\n",
       "      <td>1.291130</td>\n",
       "      <td>4141.020700</td>\n",
       "    </tr>\n",
       "    <tr>\n",
       "      <th>min</th>\n",
       "      <td>250.000000</td>\n",
       "      <td>1.000000</td>\n",
       "      <td>8.000000</td>\n",
       "      <td>1.000000</td>\n",
       "      <td>1379.000000</td>\n",
       "    </tr>\n",
       "    <tr>\n",
       "      <th>25%</th>\n",
       "      <td>1100.000000</td>\n",
       "      <td>2.000000</td>\n",
       "      <td>50.000000</td>\n",
       "      <td>2.000000</td>\n",
       "      <td>4271.000000</td>\n",
       "    </tr>\n",
       "    <tr>\n",
       "      <th>50%</th>\n",
       "      <td>1274.500000</td>\n",
       "      <td>2.000000</td>\n",
       "      <td>71.550000</td>\n",
       "      <td>3.000000</td>\n",
       "      <td>5438.000000</td>\n",
       "    </tr>\n",
       "    <tr>\n",
       "      <th>75%</th>\n",
       "      <td>1670.000000</td>\n",
       "      <td>3.000000</td>\n",
       "      <td>120.000000</td>\n",
       "      <td>3.000000</td>\n",
       "      <td>7311.000000</td>\n",
       "    </tr>\n",
       "    <tr>\n",
       "      <th>max</th>\n",
       "      <td>30400.000000</td>\n",
       "      <td>40.000000</td>\n",
       "      <td>3600.000000</td>\n",
       "      <td>43.000000</td>\n",
       "      <td>50349.000000</td>\n",
       "    </tr>\n",
       "  </tbody>\n",
       "</table>\n",
       "</div>"
      ],
      "text/plain": [
       "         total_sqft          bath         price           bhk  price_per_sqft\n",
       "count  13172.000000  13172.000000  13172.000000  13172.000000    13172.000000\n",
       "mean    1537.861049      2.690100    111.591865      2.799651     6663.653735\n",
       "std      967.123711      1.337026    145.372047      1.291130     4141.020700\n",
       "min      250.000000      1.000000      8.000000      1.000000     1379.000000\n",
       "25%     1100.000000      2.000000     50.000000      2.000000     4271.000000\n",
       "50%     1274.500000      2.000000     71.550000      3.000000     5438.000000\n",
       "75%     1670.000000      3.000000    120.000000      3.000000     7311.000000\n",
       "max    30400.000000     40.000000   3600.000000     43.000000    50349.000000"
      ]
     },
     "execution_count": 80,
     "metadata": {},
     "output_type": "execute_result"
    }
   ],
   "source": [
    "new_df1.describe()"
   ]
  },
  {
   "cell_type": "code",
   "execution_count": 84,
   "metadata": {},
   "outputs": [],
   "source": [
    "sd = new_df1.price_per_sqft.std()"
   ]
  },
  {
   "cell_type": "code",
   "execution_count": 85,
   "metadata": {},
   "outputs": [],
   "source": [
    "mean = new_df1.price_per_sqft.mean()"
   ]
  },
  {
   "cell_type": "code",
   "execution_count": 86,
   "metadata": {},
   "outputs": [],
   "source": [
    "right_most = mean + 4*sd"
   ]
  },
  {
   "cell_type": "code",
   "execution_count": 87,
   "metadata": {},
   "outputs": [
    {
     "data": {
      "text/plain": [
       "23227.73653589429"
      ]
     },
     "execution_count": 87,
     "metadata": {},
     "output_type": "execute_result"
    }
   ],
   "source": [
    "right_most"
   ]
  },
  {
   "cell_type": "code",
   "execution_count": 88,
   "metadata": {},
   "outputs": [
    {
     "data": {
      "text/plain": [
       "-9900.429065502549"
      ]
     },
     "execution_count": 88,
     "metadata": {},
     "output_type": "execute_result"
    }
   ],
   "source": [
    "left_most = mean - 4*sd\n",
    "left_most"
   ]
  },
  {
   "cell_type": "code",
   "execution_count": 97,
   "metadata": {},
   "outputs": [],
   "source": [
    "df3 = new_df1[(new_df1['price_per_sqft'] > left_most) & (new_df1['price_per_sqft'] < right_most)]"
   ]
  },
  {
   "cell_type": "code",
   "execution_count": 98,
   "metadata": {},
   "outputs": [
    {
     "data": {
      "text/plain": [
       "(13047, 7)"
      ]
     },
     "execution_count": 98,
     "metadata": {},
     "output_type": "execute_result"
    }
   ],
   "source": [
    "df3.shape"
   ]
  },
  {
   "cell_type": "code",
   "execution_count": 99,
   "metadata": {},
   "outputs": [],
   "source": [
    "import matplotlib.pyplot as plt"
   ]
  },
  {
   "cell_type": "code",
   "execution_count": 111,
   "metadata": {},
   "outputs": [],
   "source": [
    "%matplotlib inline\n",
    "plt.rcParams['figure.figsize'] = (12,8)"
   ]
  },
  {
   "cell_type": "code",
   "execution_count": 113,
   "metadata": {},
   "outputs": [
    {
     "data": {
      "image/png": "[encoded data removed]",
      "text/plain": [
       "<Figure size 864x576 with 1 Axes>"
      ]
     },
     "metadata": {
      "needs_background": "light"
     },
     "output_type": "display_data"
    }
   ],
   "source": [
    "\n",
    "plt.hist(df3['price_per_sqft'], bins=20, rwidth=0.8)\n",
    "plt.show()"
   ]
  },
  {
   "cell_type": "code",
   "execution_count": 114,
   "metadata": {},
   "outputs": [
    {
     "data": {
      "text/plain": [
       "array([-5000, -4900, -4800, -4700, -4600, -4500, -4400, -4300, -4200,\n",
       "       -4100, -4000, -3900, -3800, -3700, -3600, -3500, -3400, -3300,\n",
       "       -3200, -3100, -3000, -2900, -2800, -2700, -2600, -2500, -2400,\n",
       "       -2300, -2200, -2100, -2000, -1900, -1800, -1700, -1600, -1500,\n",
       "       -1400, -1300, -1200, -1100, -1000,  -900,  -800,  -700,  -600,\n",
       "        -500,  -400,  -300,  -200,  -100,     0,   100,   200,   300,\n",
       "         400,   500,   600,   700,   800,   900,  1000,  1100,  1200,\n",
       "        1300,  1400,  1500,  1600,  1700,  1800,  1900,  2000,  2100,\n",
       "        2200,  2300,  2400,  2500,  2600,  2700,  2800,  2900,  3000,\n",
       "        3100,  3200,  3300,  3400,  3500,  3600,  3700,  3800,  3900,\n",
       "        4000,  4100,  4200,  4300,  4400,  4500,  4600,  4700,  4800,\n",
       "        4900,  5000,  5100,  5200,  5300,  5400,  5500,  5600,  5700,\n",
       "        5800,  5900,  6000,  6100,  6200,  6300,  6400,  6500,  6600,\n",
       "        6700,  6800,  6900,  7000,  7100,  7200,  7300,  7400,  7500,\n",
       "        7600,  7700,  7800,  7900,  8000,  8100,  8200,  8300,  8400,\n",
       "        8500,  8600,  8700,  8800,  8900,  9000,  9100,  9200,  9300,\n",
       "        9400,  9500,  9600,  9700,  9800,  9900, 10000, 10100, 10200,\n",
       "       10300, 10400, 10500, 10600, 10700, 10800, 10900, 11000, 11100,\n",
       "       11200, 11300, 11400, 11500, 11600, 11700, 11800, 11900, 12000,\n",
       "       12100, 12200, 12300, 12400, 12500, 12600, 12700, 12800, 12900,\n",
       "       13000, 13100, 13200, 13300, 13400, 13500, 13600, 13700, 13800,\n",
       "       13900, 14000, 14100, 14200, 14300, 14400, 14500, 14600, 14700,\n",
       "       14800, 14900, 15000, 15100, 15200, 15300, 15400, 15500, 15600,\n",
       "       15700, 15800, 15900, 16000, 16100, 16200, 16300, 16400, 16500,\n",
       "       16600, 16700, 16800, 16900, 17000, 17100, 17200, 17300, 17400,\n",
       "       17500, 17600, 17700, 17800, 17900, 18000, 18100, 18200, 18300,\n",
       "       18400, 18500, 18600, 18700, 18800, 18900, 19000, 19100, 19200,\n",
       "       19300, 19400, 19500, 19600, 19700, 19800, 19900, 20000, 20100,\n",
       "       20200, 20300, 20400, 20500, 20600, 20700, 20800, 20900, 21000,\n",
       "       21100, 21200, 21300, 21400, 21500, 21600, 21700, 21800, 21900,\n",
       "       22000, 22100, 22200, 22300, 22400, 22500, 22600, 22700, 22800,\n",
       "       22900, 23000, 23100, 23200])"
      ]
     },
     "execution_count": 114,
     "metadata": {},
     "output_type": "execute_result"
    }
   ],
   "source": [
    "rng = np.arange(-5000, df3.price_per_sqft.max(), 100)\n",
    "rng"
   ]
  },
  {
   "cell_type": "code",
   "execution_count": 122,
   "metadata": {},
   "outputs": [
    {
     "data": {
      "text/plain": [
       "[<matplotlib.lines.Line2D at 0x22272126190>]"
      ]
     },
     "execution_count": 122,
     "metadata": {},
     "output_type": "execute_result"
    },
    {
     "data": {
      "image/png": "[encoded data removed]",
      "text/plain": [
       "<Figure size 864x576 with 1 Axes>"
      ]
     },
     "metadata": {
      "needs_background": "light"
     },
     "output_type": "display_data"
    }
   ],
   "source": [
    "plt.hist(df3['price_per_sqft'], bins=20, rwidth=0.8)\n",
    "plt.plot(rng, norm.pdf(rng,df3.price_per_sqft.mean(),df3.price_per_sqft.std()))\n"
   ]
  },
  {
   "cell_type": "code",
   "execution_count": 117,
   "metadata": {},
   "outputs": [
    {
     "data": {
      "text/plain": [
       "array([5.22667522e-07, 5.74017804e-07, 6.29895019e-07, 6.90643530e-07,\n",
       "       7.56628480e-07, 8.28236534e-07, 9.05876609e-07, 9.89980569e-07,\n",
       "       1.08100389e-06, 1.17942630e-06, 1.28575233e-06, 1.40051188e-06,\n",
       "       1.52426064e-06, 1.65758053e-06, 1.80107999e-06, 1.95539422e-06,\n",
       "       2.12118534e-06, 2.29914239e-06, 2.48998129e-06, 2.69444462e-06,\n",
       "       2.91330129e-06, 3.14734611e-06, 3.39739913e-06, 3.66430487e-06,\n",
       "       3.94893141e-06, 4.25216927e-06, 4.57493009e-06, 4.91814514e-06,\n",
       "       5.28276368e-06, 5.66975103e-06, 6.08008648e-06, 6.51476099e-06,\n",
       "       6.97477465e-06, 7.46113394e-06, 7.97484875e-06, 8.51692920e-06,\n",
       "       9.08838217e-06, 9.69020775e-06, 1.03233953e-05, 1.09889195e-05,\n",
       "       1.16877358e-05, 1.24207764e-05, 1.31889452e-05, 1.39931132e-05,\n",
       "       1.48341134e-05, 1.57127356e-05, 1.66297214e-05, 1.75857587e-05,\n",
       "       1.85814759e-05, 1.96174370e-05, 2.06941355e-05, 2.18119892e-05,\n",
       "       2.29713343e-05, 2.41724201e-05, 2.54154034e-05, 2.67003432e-05,\n",
       "       2.80271955e-05, 2.93958081e-05, 3.08059161e-05, 3.22571368e-05,\n",
       "       3.37489656e-05, 3.52807719e-05, 3.68517957e-05, 3.84611435e-05,\n",
       "       4.01077864e-05, 4.17905568e-05, 4.35081467e-05, 4.52591062e-05,\n",
       "       4.70418427e-05, 4.88546200e-05, 5.06955592e-05, 5.25626385e-05,\n",
       "       5.44536958e-05, 5.63664296e-05, 5.82984026e-05, 6.02470444e-05,\n",
       "       6.22096560e-05, 6.41834144e-05, 6.61653777e-05, 6.81524917e-05,\n",
       "       7.01415959e-05, 7.21294318e-05, 7.41126498e-05, 7.60878188e-05,\n",
       "       7.80514347e-05, 7.99999303e-05, 8.19296860e-05, 8.38370396e-05,\n",
       "       8.57182984e-05, 8.75697502e-05, 8.93876754e-05, 9.11683591e-05,\n",
       "       9.29081037e-05, 9.46032413e-05, 9.62501466e-05, 9.78452497e-05,\n",
       "       9.93850486e-05, 1.00866123e-04, 1.02285144e-04, 1.03638891e-04,\n",
       "       1.04924261e-04, 1.06138279e-04, 1.07278113e-04, 1.08341083e-04,\n",
       "       1.09324672e-04, 1.10226535e-04, 1.11044510e-04, 1.11776625e-04,\n",
       "       1.12421106e-04, 1.12976386e-04, 1.13441109e-04, 1.13814138e-04,\n",
       "       1.14094557e-04, 1.14281677e-04, 1.14375035e-04, 1.14374404e-04,\n",
       "       1.14279783e-04, 1.14091406e-04, 1.13809737e-04, 1.13435470e-04,\n",
       "       1.12969521e-04, 1.12413033e-04, 1.11767363e-04, 1.11034082e-04,\n",
       "       1.10214967e-04, 1.09311990e-04, 1.08327318e-04, 1.07263298e-04,\n",
       "       1.06122449e-04, 1.04907453e-04, 1.03621144e-04, 1.02266499e-04,\n",
       "       1.00846622e-04, 9.93647369e-05, 9.78241718e-05, 9.62283492e-05,\n",
       "       9.45807719e-05, 9.28850106e-05, 9.11446914e-05, 8.93634827e-05,\n",
       "       8.75450823e-05, 8.56932052e-05, 8.38115712e-05, 8.19038920e-05,\n",
       "       7.99738604e-05, 7.80251376e-05, 7.60613430e-05, 7.40860427e-05,\n",
       "       7.21027401e-05, 7.01148652e-05, 6.81257662e-05, 6.61387008e-05,\n",
       "       6.41568277e-05, 6.21831999e-05, 6.02207576e-05, 5.82723222e-05,\n",
       "       5.63405910e-05, 5.44281327e-05, 5.25373827e-05, 5.06706406e-05,\n",
       "       4.88300669e-05, 4.70176811e-05, 4.52353605e-05, 4.34848392e-05,\n",
       "       4.17677080e-05, 4.00854148e-05, 3.84392656e-05, 3.68304263e-05,\n",
       "       3.52599240e-05, 3.37286502e-05, 3.22373632e-05, 3.07866920e-05,\n",
       "       2.93771394e-05, 2.80090864e-05, 2.66827967e-05, 2.53984207e-05,\n",
       "       2.41560011e-05, 2.29554775e-05, 2.17966919e-05, 2.06793937e-05,\n",
       "       1.96032456e-05, 1.85678287e-05, 1.75726487e-05, 1.66171406e-05,\n",
       "       1.57006750e-05, 1.48225634e-05, 1.39820636e-05, 1.31783850e-05,\n",
       "       1.24106941e-05, 1.16781195e-05, 1.09797568e-05, 1.03146736e-05,\n",
       "       9.68191405e-06, 9.08050324e-06, 8.50945165e-06, 7.96775910e-06,\n",
       "       7.45441862e-06, 6.96842009e-06, 6.50875362e-06, 6.07441282e-06,\n",
       "       5.66439770e-06, 5.27771743e-06, 4.91339290e-06, 4.57045898e-06,\n",
       "       4.24796667e-06, 3.94498493e-06, 3.66060239e-06, 3.39392884e-06,\n",
       "       3.14409650e-06, 2.91026118e-06, 2.69160315e-06, 2.48732796e-06,\n",
       "       2.29666704e-06, 2.11887818e-06, 1.95324580e-06, 1.79908124e-06,\n",
       "       1.65572274e-06, 1.52253545e-06, 1.39891130e-06, 1.28426871e-06,\n",
       "       1.17805235e-06, 1.07973267e-06, 9.88805464e-07, 9.04791338e-07,\n",
       "       8.27235139e-07, 7.55705315e-07, 6.89793252e-07, 6.29112580e-07,\n",
       "       5.73298441e-07, 5.22006744e-07, 4.74913407e-07, 4.31713579e-07,\n",
       "       3.92120864e-07, 3.55866539e-07, 3.22698779e-07, 2.92381878e-07,\n",
       "       2.64695492e-07, 2.39433878e-07, 2.16405163e-07, 1.95430615e-07,\n",
       "       1.76343941e-07, 1.58990600e-07, 1.43227139e-07, 1.28920550e-07,\n",
       "       1.15947648e-07, 1.04194478e-07, 9.35557364e-08, 8.39342288e-08,\n",
       "       7.52403401e-08, 6.73915365e-08, 6.03118888e-08, 5.39316197e-08,\n",
       "       4.81866750e-08, 4.30183173e-08, 3.83727426e-08, 3.42007181e-08,\n",
       "       3.04572419e-08, 2.71012226e-08, 2.40951790e-08, 2.14049586e-08,\n",
       "       1.89994745e-08, 1.68504596e-08, 1.49322370e-08, 1.32215071e-08,\n",
       "       1.16971487e-08, 1.03400354e-08, 9.13286417e-09, 8.05999804e-09,\n",
       "       7.10731946e-09, 6.26209569e-09, 5.51285444e-09, 4.84926942e-09,\n",
       "       4.26205515e-09, 3.74287031e-09, 3.28422919e-09, 2.87942052e-09,\n",
       "       2.52243334e-09, 2.20788914e-09, 1.93098007e-09, 1.68741258e-09,\n",
       "       1.47335613e-09, 1.28539661e-09, 1.12049398e-09])"
      ]
     },
     "execution_count": 117,
     "metadata": {},
     "output_type": "execute_result"
    }
   ],
   "source": [
    "from scipy.stats import norm\n",
    "\n",
    "norm.pdf(rng,df3.price_per_sqft.mean(),df3.price_per_sqft.std())"
   ]
  },
  {
   "cell_type": "code",
   "execution_count": 129,
   "metadata": {},
   "outputs": [
    {
     "data": {
      "text/html": [
       "<div>\n",
       "<style scoped>\n",
       "    .dataframe tbody tr th:only-of-type {\n",
       "        vertical-align: middle;\n",
       "    }\n",
       "\n",
       "    .dataframe tbody tr th {\n",
       "        vertical-align: top;\n",
       "    }\n",
       "\n",
       "    .dataframe thead th {\n",
       "        text-align: right;\n",
       "    }\n",
       "</style>\n",
       "<table border=\"1\" class=\"dataframe\">\n",
       "  <thead>\n",
       "    <tr style=\"text-align: right;\">\n",
       "      <th></th>\n",
       "      <th>id</th>\n",
       "      <th>name</th>\n",
       "      <th>host_id</th>\n",
       "      <th>host_name</th>\n",
       "      <th>neighbourhood_group</th>\n",
       "      <th>neighbourhood</th>\n",
       "      <th>latitude</th>\n",
       "      <th>longitude</th>\n",
       "      <th>room_type</th>\n",
       "      <th>price</th>\n",
       "      <th>minimum_nights</th>\n",
       "      <th>number_of_reviews</th>\n",
       "      <th>last_review</th>\n",
       "      <th>reviews_per_month</th>\n",
       "      <th>calculated_host_listings_count</th>\n",
       "      <th>availability_365</th>\n",
       "      <th>zscore</th>\n",
       "    </tr>\n",
       "  </thead>\n",
       "  <tbody>\n",
       "    <tr>\n",
       "      <th>32689</th>\n",
       "      <td>25740704</td>\n",
       "      <td>Beautifully Renovated 3BD/2BA ☆ 1 Block to Subway</td>\n",
       "      <td>193151416</td>\n",
       "      <td>Mohammed</td>\n",
       "      <td>Brooklyn</td>\n",
       "      <td>East Flatbush</td>\n",
       "      <td>40.64707</td>\n",
       "      <td>-73.95074</td>\n",
       "      <td>Entire home/apt</td>\n",
       "      <td>140</td>\n",
       "      <td>2</td>\n",
       "      <td>64</td>\n",
       "      <td>2019-07-06</td>\n",
       "      <td>4.96</td>\n",
       "      <td>1</td>\n",
       "      <td>220</td>\n",
       "      <td>NaN</td>\n",
       "    </tr>\n",
       "    <tr>\n",
       "      <th>16741</th>\n",
       "      <td>13378919</td>\n",
       "      <td>Bright &amp; Cozy Bedroom (near N/R train)</td>\n",
       "      <td>28370925</td>\n",
       "      <td>En &amp; Lora</td>\n",
       "      <td>Brooklyn</td>\n",
       "      <td>Sunset Park</td>\n",
       "      <td>40.63909</td>\n",
       "      <td>-74.01815</td>\n",
       "      <td>Private room</td>\n",
       "      <td>47</td>\n",
       "      <td>2</td>\n",
       "      <td>87</td>\n",
       "      <td>2018-07-23</td>\n",
       "      <td>2.32</td>\n",
       "      <td>4</td>\n",
       "      <td>0</td>\n",
       "      <td>NaN</td>\n",
       "    </tr>\n",
       "    <tr>\n",
       "      <th>48842</th>\n",
       "      <td>36453160</td>\n",
       "      <td>LUXURY MANHATTAN PENTHOUSE+HUDSON RIVER+EMPIRE...</td>\n",
       "      <td>224171371</td>\n",
       "      <td>LuxuryApartmentsByAmber</td>\n",
       "      <td>Manhattan</td>\n",
       "      <td>Chelsea</td>\n",
       "      <td>40.75204</td>\n",
       "      <td>-74.00292</td>\n",
       "      <td>Entire home/apt</td>\n",
       "      <td>350</td>\n",
       "      <td>1</td>\n",
       "      <td>0</td>\n",
       "      <td>NaN</td>\n",
       "      <td>NaN</td>\n",
       "      <td>1</td>\n",
       "      <td>9</td>\n",
       "      <td>NaN</td>\n",
       "    </tr>\n",
       "    <tr>\n",
       "      <th>26791</th>\n",
       "      <td>21264131</td>\n",
       "      <td>Beautiful Super Cozy Studio</td>\n",
       "      <td>67226812</td>\n",
       "      <td>RaShaan</td>\n",
       "      <td>Brooklyn</td>\n",
       "      <td>Bedford-Stuyvesant</td>\n",
       "      <td>40.68744</td>\n",
       "      <td>-73.94905</td>\n",
       "      <td>Entire home/apt</td>\n",
       "      <td>95</td>\n",
       "      <td>1</td>\n",
       "      <td>89</td>\n",
       "      <td>2019-07-08</td>\n",
       "      <td>4.43</td>\n",
       "      <td>1</td>\n",
       "      <td>0</td>\n",
       "      <td>NaN</td>\n",
       "    </tr>\n",
       "    <tr>\n",
       "      <th>22330</th>\n",
       "      <td>18024561</td>\n",
       "      <td>Amazing Columbus Circle 3 Bedroom</td>\n",
       "      <td>47536613</td>\n",
       "      <td>Emily</td>\n",
       "      <td>Manhattan</td>\n",
       "      <td>Upper West Side</td>\n",
       "      <td>40.76876</td>\n",
       "      <td>-73.98359</td>\n",
       "      <td>Entire home/apt</td>\n",
       "      <td>375</td>\n",
       "      <td>3</td>\n",
       "      <td>76</td>\n",
       "      <td>2019-06-23</td>\n",
       "      <td>2.89</td>\n",
       "      <td>1</td>\n",
       "      <td>301</td>\n",
       "      <td>NaN</td>\n",
       "    </tr>\n",
       "    <tr>\n",
       "      <th>42355</th>\n",
       "      <td>32866678</td>\n",
       "      <td>Sonder | The Nash | Relaxed 1BR + Rooftop</td>\n",
       "      <td>219517861</td>\n",
       "      <td>Sonder (NYC)</td>\n",
       "      <td>Manhattan</td>\n",
       "      <td>Murray Hill</td>\n",
       "      <td>40.74896</td>\n",
       "      <td>-73.97521</td>\n",
       "      <td>Entire home/apt</td>\n",
       "      <td>212</td>\n",
       "      <td>29</td>\n",
       "      <td>0</td>\n",
       "      <td>NaN</td>\n",
       "      <td>NaN</td>\n",
       "      <td>327</td>\n",
       "      <td>330</td>\n",
       "      <td>NaN</td>\n",
       "    </tr>\n",
       "    <tr>\n",
       "      <th>30181</th>\n",
       "      <td>23289674</td>\n",
       "      <td>WILLIAMSBURG PRIME BROOKLYN PRIVATE APT NEAR W...</td>\n",
       "      <td>29219991</td>\n",
       "      <td>Doug</td>\n",
       "      <td>Brooklyn</td>\n",
       "      <td>Williamsburg</td>\n",
       "      <td>40.71703</td>\n",
       "      <td>-73.96509</td>\n",
       "      <td>Entire home/apt</td>\n",
       "      <td>125</td>\n",
       "      <td>31</td>\n",
       "      <td>11</td>\n",
       "      <td>2019-05-09</td>\n",
       "      <td>1.29</td>\n",
       "      <td>2</td>\n",
       "      <td>190</td>\n",
       "      <td>NaN</td>\n",
       "    </tr>\n",
       "    <tr>\n",
       "      <th>12242</th>\n",
       "      <td>9477359</td>\n",
       "      <td>Bright, airy East Village apartment</td>\n",
       "      <td>22063782</td>\n",
       "      <td>Jennifer</td>\n",
       "      <td>Manhattan</td>\n",
       "      <td>East Village</td>\n",
       "      <td>40.72311</td>\n",
       "      <td>-73.98389</td>\n",
       "      <td>Entire home/apt</td>\n",
       "      <td>180</td>\n",
       "      <td>7</td>\n",
       "      <td>1</td>\n",
       "      <td>2016-01-03</td>\n",
       "      <td>0.02</td>\n",
       "      <td>1</td>\n",
       "      <td>0</td>\n",
       "      <td>-0.945998</td>\n",
       "    </tr>\n",
       "    <tr>\n",
       "      <th>29726</th>\n",
       "      <td>22845926</td>\n",
       "      <td>Spacious, Manhattan Home has a private room!</td>\n",
       "      <td>74410137</td>\n",
       "      <td>Jordan</td>\n",
       "      <td>Manhattan</td>\n",
       "      <td>Harlem</td>\n",
       "      <td>40.80684</td>\n",
       "      <td>-73.94612</td>\n",
       "      <td>Private room</td>\n",
       "      <td>46</td>\n",
       "      <td>3</td>\n",
       "      <td>10</td>\n",
       "      <td>2018-12-20</td>\n",
       "      <td>0.57</td>\n",
       "      <td>1</td>\n",
       "      <td>0</td>\n",
       "      <td>NaN</td>\n",
       "    </tr>\n",
       "    <tr>\n",
       "      <th>19067</th>\n",
       "      <td>15145285</td>\n",
       "      <td>UES charm</td>\n",
       "      <td>21255768</td>\n",
       "      <td>Breanne</td>\n",
       "      <td>Manhattan</td>\n",
       "      <td>Upper East Side</td>\n",
       "      <td>40.77962</td>\n",
       "      <td>-73.95069</td>\n",
       "      <td>Entire home/apt</td>\n",
       "      <td>300</td>\n",
       "      <td>1</td>\n",
       "      <td>0</td>\n",
       "      <td>NaN</td>\n",
       "      <td>NaN</td>\n",
       "      <td>1</td>\n",
       "      <td>0</td>\n",
       "      <td>NaN</td>\n",
       "    </tr>\n",
       "  </tbody>\n",
       "</table>\n",
       "</div>"
      ],
      "text/plain": [
       "             id                                               name    host_id  \\\n",
       "32689  25740704  Beautifully Renovated 3BD/2BA ☆ 1 Block to Subway  193151416   \n",
       "16741  13378919             Bright & Cozy Bedroom (near N/R train)   28370925   \n",
       "48842  36453160  LUXURY MANHATTAN PENTHOUSE+HUDSON RIVER+EMPIRE...  224171371   \n",
       "26791  21264131                        Beautiful Super Cozy Studio   67226812   \n",
       "22330  18024561                  Amazing Columbus Circle 3 Bedroom   47536613   \n",
       "42355  32866678          Sonder | The Nash | Relaxed 1BR + Rooftop  219517861   \n",
       "30181  23289674  WILLIAMSBURG PRIME BROOKLYN PRIVATE APT NEAR W...   29219991   \n",
       "12242   9477359                Bright, airy East Village apartment   22063782   \n",
       "29726  22845926       Spacious, Manhattan Home has a private room!   74410137   \n",
       "19067  15145285                                          UES charm   21255768   \n",
       "\n",
       "                     host_name neighbourhood_group       neighbourhood  \\\n",
       "32689                 Mohammed            Brooklyn       East Flatbush   \n",
       "16741                En & Lora            Brooklyn         Sunset Park   \n",
       "48842  LuxuryApartmentsByAmber           Manhattan             Chelsea   \n",
       "26791                  RaShaan            Brooklyn  Bedford-Stuyvesant   \n",
       "22330                    Emily           Manhattan     Upper West Side   \n",
       "42355             Sonder (NYC)           Manhattan         Murray Hill   \n",
       "30181                     Doug            Brooklyn        Williamsburg   \n",
       "12242                 Jennifer           Manhattan        East Village   \n",
       "29726                   Jordan           Manhattan              Harlem   \n",
       "19067                  Breanne           Manhattan     Upper East Side   \n",
       "\n",
       "       latitude  longitude        room_type  price  minimum_nights  \\\n",
       "32689  40.64707  -73.95074  Entire home/apt    140               2   \n",
       "16741  40.63909  -74.01815     Private room     47               2   \n",
       "48842  40.75204  -74.00292  Entire home/apt    350               1   \n",
       "26791  40.68744  -73.94905  Entire home/apt     95               1   \n",
       "22330  40.76876  -73.98359  Entire home/apt    375               3   \n",
       "42355  40.74896  -73.97521  Entire home/apt    212              29   \n",
       "30181  40.71703  -73.96509  Entire home/apt    125              31   \n",
       "12242  40.72311  -73.98389  Entire home/apt    180               7   \n",
       "29726  40.80684  -73.94612     Private room     46               3   \n",
       "19067  40.77962  -73.95069  Entire home/apt    300               1   \n",
       "\n",
       "       number_of_reviews last_review  reviews_per_month  \\\n",
       "32689                 64  2019-07-06               4.96   \n",
       "16741                 87  2018-07-23               2.32   \n",
       "48842                  0         NaN                NaN   \n",
       "26791                 89  2019-07-08               4.43   \n",
       "22330                 76  2019-06-23               2.89   \n",
       "42355                  0         NaN                NaN   \n",
       "30181                 11  2019-05-09               1.29   \n",
       "12242                  1  2016-01-03               0.02   \n",
       "29726                 10  2018-12-20               0.57   \n",
       "19067                  0         NaN                NaN   \n",
       "\n",
       "       calculated_host_listings_count  availability_365    zscore  \n",
       "32689                               1               220       NaN  \n",
       "16741                               4                 0       NaN  \n",
       "48842                               1                 9       NaN  \n",
       "26791                               1                 0       NaN  \n",
       "22330                               1               301       NaN  \n",
       "42355                             327               330       NaN  \n",
       "30181                               2               190       NaN  \n",
       "12242                               1                 0 -0.945998  \n",
       "29726                               1                 0       NaN  \n",
       "19067                               1                 0       NaN  "
      ]
     },
     "execution_count": 129,
     "metadata": {},
     "output_type": "execute_result"
    }
   ],
   "source": [
    "df2['zscore'] = (df3.price_per_sqft-df3.price_per_sqft.mean())/df3.price_per_sqft.std()\n",
    "df2.sample(10)"
   ]
  },
  {
   "cell_type": "code",
   "execution_count": null,
   "metadata": {},
   "outputs": [],
   "source": []
  }
 ],
 "metadata": {
  "kernelspec": {
   "display_name": "Python 3",
   "language": "python",
   "name": "python3"
  },
  "language_info": {
   "codemirror_mode": {
    "name": "ipython",
    "version": 3
   },
   "file_extension": ".py",
   "mimetype": "text/x-python",
   "name": "python",
   "nbconvert_exporter": "python",
   "pygments_lexer": "ipython3",
   "version": "3.8.3"
  }
 },
 "nbformat": 4,
 "nbformat_minor": 4
}
