{
 "cells": [
  {
   "cell_type": "code",
   "execution_count": 48,
   "metadata": {},
   "outputs": [
    {
     "name": "stdout",
     "output_type": "stream",
     "text": [
      "Copied to clipboard:\n",
      "800-420-7240\n",
      "415-863-9900\n",
      "415-863-9950\n",
      "info@nostarch.com\n",
      "media@nostarch.com\n",
      "academic@nostarch.com\n",
      "info@nostarch.com\n"
     ]
    }
   ],
   "source": [
    "#! python3\n",
    "# phoneAndEmail.py - Finds phone numbers and email addresses on the clipboard.\n",
    "import pyperclip, re\n",
    "phoneRegex = re.compile(r'''(\n",
    "    (\\d{3}|\\(\\d{3}\\))? # area code\n",
    "    (\\s|-|\\.)? # separator\n",
    "    (\\d{3}) # first 3 digits\n",
    "    (\\s|-|\\.) # separator\n",
    "    (\\d{4}) # last 4 digits\n",
    "    (\\s*(ext|x|ext.)\\s*(\\d{2,5}))? # extension\n",
    "    )''', re.VERBOSE)\n",
    "\n",
    "# TODO: Create email regex.\n",
    "# Create email regex.\n",
    "emailRegex = re.compile(r'''(\n",
    "    [a-zA-Z0-9._%+-]+ # username\n",
    "    @ # @ symbol\n",
    "    [a-zA-Z0-9.-]+ # domain name\n",
    "    (\\.[a-zA-Z]{2,4}) # dot-something\n",
    "    )''', re.VERBOSE)\n",
    "\n",
    "# TODO: Find matches in clipboard text.\n",
    "# Find matches in clipboard text.\n",
    "text = str(pyperclip.paste())\n",
    "matches = []\n",
    "for groups in phoneRegex.findall(text):\n",
    "    phoneNum = '-'.join([groups[1], groups[3], groups[5]])\n",
    "    if groups[8] != '':\n",
    "        phoneNum += ' x' + groups[8]\n",
    "    matches.append(phoneNum)\n",
    "for groups in emailRegex.findall(text):\n",
    "    matches.append(groups[0])\n",
    "\n",
    "# TODO: Copy results to the clipboard.\n",
    "# Copy results to the clipboard.\n",
    "if len(matches) > 0:\n",
    "    pyperclip.copy('\\n'.join(matches))\n",
    "    print('Copied to clipboard:')\n",
    "    print('\\n'.join(matches))\n",
    "else:\n",
    "    print('No phone numbers or email addresses found.')"
   ]
  },
  {
   "cell_type": "code",
   "execution_count": 109,
   "metadata": {},
   "outputs": [],
   "source": [
    "text = str(pyperclip.paste())\n",
    "matches = []\n",
    "for groups in phoneRegex.findall(text):\n",
    "    phoneNum = '-'.join([groups[1], groups[3], groups[5]])\n",
    "    if groups[8] != '':\n",
    "        phoneNum += ' x' + groups[8]\n",
    "    matches.append(phoneNum)"
   ]
  },
  {
   "cell_type": "code",
   "execution_count": 113,
   "metadata": {},
   "outputs": [
    {
     "name": "stdout",
     "output_type": "stream",
     "text": [
      "[('415.863.9950 ext 84', '415', '.', '863', '.', '9950', ' ext 84', 'ext', '84')]\n"
     ]
    }
   ],
   "source": [
    "print(phoneRegex.findall(text))"
   ]
  },
  {
   "cell_type": "code",
   "execution_count": 116,
   "metadata": {},
   "outputs": [
    {
     "name": "stdout",
     "output_type": "stream",
     "text": [
      "415\n"
     ]
    }
   ],
   "source": [
    "print(groups[1])"
   ]
  },
  {
   "cell_type": "code",
   "execution_count": 83,
   "metadata": {},
   "outputs": [
    {
     "name": "stdout",
     "output_type": "stream",
     "text": [
      "863\n"
     ]
    }
   ],
   "source": [
    "print(groups[3])"
   ]
  },
  {
   "cell_type": "code",
   "execution_count": 84,
   "metadata": {},
   "outputs": [
    {
     "name": "stdout",
     "output_type": "stream",
     "text": [
      "9950\n"
     ]
    }
   ],
   "source": [
    "print(groups[5])"
   ]
  },
  {
   "cell_type": "code",
   "execution_count": 110,
   "metadata": {},
   "outputs": [
    {
     "data": {
      "text/plain": [
       "['415-863-9950 x84']"
      ]
     },
     "execution_count": 110,
     "metadata": {},
     "output_type": "execute_result"
    }
   ],
   "source": [
    "matches"
   ]
  },
  {
   "cell_type": "code",
   "execution_count": null,
   "metadata": {},
   "outputs": [],
   "source": [
    "Contact Us\n",
    "\n",
    "No Starch Press, Inc.\n",
    "245 8th Street\n",
    "San Francisco, CA 94103 USA\n",
    "Phone: 800.420.7240 or +1 415.863.9900 (9 a.m. to 5 p.m., M-F, PST)\n",
    "Fax: +1 415.863.9950 ext 84\n",
    "\n",
    "Reach Us by Email\n",
    "\n",
    "General inquiries: info@nostarch.com\n",
    "Media requests: media@nostarch.com\n",
    "Academic requests: academic@nostarch.com (Further information)\n",
    "Help with your order: info@nostarch.com"
   ]
  },
  {
   "cell_type": "code",
   "execution_count": 107,
   "metadata": {},
   "outputs": [],
   "source": [
    "pattern = re.compile(r'(\\s*(he)\\w(lo))')\n",
    "mo = pattern.search('  hello hell')"
   ]
  },
  {
   "cell_type": "code",
   "execution_count": 108,
   "metadata": {},
   "outputs": [
    {
     "data": {
      "text/plain": [
       "'  hello'"
      ]
     },
     "execution_count": 108,
     "metadata": {},
     "output_type": "execute_result"
    }
   ],
   "source": [
    "mo.group(1)"
   ]
  },
  {
   "cell_type": "code",
   "execution_count": 106,
   "metadata": {},
   "outputs": [
    {
     "data": {
      "text/plain": [
       "<re.Match object; span=(0, 5), match='hello'>"
      ]
     },
     "execution_count": 106,
     "metadata": {},
     "output_type": "execute_result"
    }
   ],
   "source": [
    "mo"
   ]
  },
  {
   "cell_type": "code",
   "execution_count": 209,
   "metadata": {},
   "outputs": [],
   "source": [
    "emailRegex = re.compile(r'''(\n",
    "    [a-zA-Z0-9._%+-]+ # username\n",
    "    @ # @ symbol\n",
    "    [a-zA-Z0-9.-]+ # domain name\n",
    "    (\\.[a-zA-Z]{2,4}) # dot-something\n",
    "    )''', re.VERBOSE)"
   ]
  },
  {
   "cell_type": "code",
   "execution_count": 196,
   "metadata": {},
   "outputs": [],
   "source": [
    "text = str(pyperclip.paste())"
   ]
  },
  {
   "cell_type": "code",
   "execution_count": 212,
   "metadata": {},
   "outputs": [],
   "source": [
    "matches = []\n",
    "for groups in emailRegex.findall(text):\n",
    "    matches.append(groups[0])  "
   ]
  },
  {
   "cell_type": "code",
   "execution_count": 213,
   "metadata": {},
   "outputs": [
    {
     "data": {
      "text/plain": [
       "['ademic@nostarch.com', 'info@nostarch.com']"
      ]
     },
     "execution_count": 213,
     "metadata": {},
     "output_type": "execute_result"
    }
   ],
   "source": [
    "matches"
   ]
  },
  {
   "cell_type": "code",
   "execution_count": 211,
   "metadata": {},
   "outputs": [
    {
     "data": {
      "text/plain": [
       "'ademic@nostarch.com (Further information)\\r\\nHelp with your order: info@nostarch.com'"
      ]
     },
     "execution_count": 211,
     "metadata": {},
     "output_type": "execute_result"
    }
   ],
   "source": [
    "text"
   ]
  },
  {
   "cell_type": "code",
   "execution_count": null,
   "metadata": {},
   "outputs": [],
   "source": [
    "ademic@nostarch.com (Further information)\n",
    "Help with your order: info@nostarch.com"
   ]
  }
 ],
 "metadata": {
  "kernelspec": {
   "display_name": "Python 3",
   "language": "python",
   "name": "python3"
  },
  "language_info": {
   "codemirror_mode": {
    "name": "ipython",
    "version": 3
   },
   "file_extension": ".py",
   "mimetype": "text/x-python",
   "name": "python",
   "nbconvert_exporter": "python",
   "pygments_lexer": "ipython3",
   "version": "3.8.3"
  }
 },
 "nbformat": 4,
 "nbformat_minor": 4
}
