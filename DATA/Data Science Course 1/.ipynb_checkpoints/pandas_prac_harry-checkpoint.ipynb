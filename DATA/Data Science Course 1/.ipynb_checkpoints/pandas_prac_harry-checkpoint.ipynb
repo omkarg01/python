{
 "cells": [
  {
   "cell_type": "code",
   "execution_count": 1,
   "metadata": {},
   "outputs": [],
   "source": [
    "import numpy as np\n",
    "import pandas as pd"
   ]
  },
  {
   "cell_type": "code",
   "execution_count": 2,
   "metadata": {},
   "outputs": [],
   "source": [
    "ser = pd.Series(np.random.rand(34))"
   ]
  },
  {
   "cell_type": "code",
   "execution_count": 3,
   "metadata": {},
   "outputs": [
    {
     "data": {
      "text/plain": [
       "0    0.811657\n",
       "1    0.885867\n",
       "2    0.229246\n",
       "3    0.917736\n",
       "4    0.678595\n",
       "dtype: float64"
      ]
     },
     "execution_count": 3,
     "metadata": {},
     "output_type": "execute_result"
    }
   ],
   "source": [
    "ser.head()"
   ]
  },
  {
   "cell_type": "code",
   "execution_count": 4,
   "metadata": {},
   "outputs": [
    {
     "data": {
      "text/html": [
       "<div>\n",
       "<style scoped>\n",
       "    .dataframe tbody tr th:only-of-type {\n",
       "        vertical-align: middle;\n",
       "    }\n",
       "\n",
       "    .dataframe tbody tr th {\n",
       "        vertical-align: top;\n",
       "    }\n",
       "\n",
       "    .dataframe thead th {\n",
       "        text-align: right;\n",
       "    }\n",
       "</style>\n",
       "<table border=\"1\" class=\"dataframe\">\n",
       "  <thead>\n",
       "    <tr style=\"text-align: right;\">\n",
       "      <th></th>\n",
       "      <th>0</th>\n",
       "      <th>1</th>\n",
       "      <th>2</th>\n",
       "      <th>3</th>\n",
       "      <th>4</th>\n",
       "    </tr>\n",
       "  </thead>\n",
       "  <tbody>\n",
       "    <tr>\n",
       "      <th>0</th>\n",
       "      <td>0.995598</td>\n",
       "      <td>0.996805</td>\n",
       "      <td>0.616086</td>\n",
       "      <td>0.626454</td>\n",
       "      <td>0.212524</td>\n",
       "    </tr>\n",
       "    <tr>\n",
       "      <th>1</th>\n",
       "      <td>0.971227</td>\n",
       "      <td>0.967047</td>\n",
       "      <td>0.021355</td>\n",
       "      <td>0.816691</td>\n",
       "      <td>0.326887</td>\n",
       "    </tr>\n",
       "    <tr>\n",
       "      <th>2</th>\n",
       "      <td>0.126623</td>\n",
       "      <td>0.948033</td>\n",
       "      <td>0.368154</td>\n",
       "      <td>0.014444</td>\n",
       "      <td>0.007308</td>\n",
       "    </tr>\n",
       "    <tr>\n",
       "      <th>3</th>\n",
       "      <td>0.374004</td>\n",
       "      <td>0.825637</td>\n",
       "      <td>0.671085</td>\n",
       "      <td>0.429251</td>\n",
       "      <td>0.831526</td>\n",
       "    </tr>\n",
       "    <tr>\n",
       "      <th>4</th>\n",
       "      <td>0.985916</td>\n",
       "      <td>0.849171</td>\n",
       "      <td>0.048570</td>\n",
       "      <td>0.027450</td>\n",
       "      <td>0.864169</td>\n",
       "    </tr>\n",
       "  </tbody>\n",
       "</table>\n",
       "</div>"
      ],
      "text/plain": [
       "          0         1         2         3         4\n",
       "0  0.995598  0.996805  0.616086  0.626454  0.212524\n",
       "1  0.971227  0.967047  0.021355  0.816691  0.326887\n",
       "2  0.126623  0.948033  0.368154  0.014444  0.007308\n",
       "3  0.374004  0.825637  0.671085  0.429251  0.831526\n",
       "4  0.985916  0.849171  0.048570  0.027450  0.864169"
      ]
     },
     "execution_count": 4,
     "metadata": {},
     "output_type": "execute_result"
    }
   ],
   "source": [
    "newdf= pd.DataFrame(np.random.rand(334, 5), index=np.arange(334))\n",
    "newdf.head()"
   ]
  },
  {
   "cell_type": "code",
   "execution_count": 5,
   "metadata": {},
   "outputs": [
    {
     "data": {
      "text/html": [
       "<div>\n",
       "<style scoped>\n",
       "    .dataframe tbody tr th:only-of-type {\n",
       "        vertical-align: middle;\n",
       "    }\n",
       "\n",
       "    .dataframe tbody tr th {\n",
       "        vertical-align: top;\n",
       "    }\n",
       "\n",
       "    .dataframe thead th {\n",
       "        text-align: right;\n",
       "    }\n",
       "</style>\n",
       "<table border=\"1\" class=\"dataframe\">\n",
       "  <thead>\n",
       "    <tr style=\"text-align: right;\">\n",
       "      <th></th>\n",
       "      <th>0</th>\n",
       "      <th>1</th>\n",
       "      <th>2</th>\n",
       "      <th>3</th>\n",
       "      <th>4</th>\n",
       "    </tr>\n",
       "  </thead>\n",
       "  <tbody>\n",
       "    <tr>\n",
       "      <th>count</th>\n",
       "      <td>334.000000</td>\n",
       "      <td>334.000000</td>\n",
       "      <td>334.000000</td>\n",
       "      <td>334.000000</td>\n",
       "      <td>334.000000</td>\n",
       "    </tr>\n",
       "    <tr>\n",
       "      <th>mean</th>\n",
       "      <td>0.504989</td>\n",
       "      <td>0.503971</td>\n",
       "      <td>0.474463</td>\n",
       "      <td>0.502008</td>\n",
       "      <td>0.500538</td>\n",
       "    </tr>\n",
       "    <tr>\n",
       "      <th>std</th>\n",
       "      <td>0.305346</td>\n",
       "      <td>0.289316</td>\n",
       "      <td>0.287549</td>\n",
       "      <td>0.299225</td>\n",
       "      <td>0.280617</td>\n",
       "    </tr>\n",
       "    <tr>\n",
       "      <th>min</th>\n",
       "      <td>0.005978</td>\n",
       "      <td>0.010736</td>\n",
       "      <td>0.008976</td>\n",
       "      <td>0.000280</td>\n",
       "      <td>0.004527</td>\n",
       "    </tr>\n",
       "    <tr>\n",
       "      <th>25%</th>\n",
       "      <td>0.259056</td>\n",
       "      <td>0.243000</td>\n",
       "      <td>0.211078</td>\n",
       "      <td>0.223701</td>\n",
       "      <td>0.251767</td>\n",
       "    </tr>\n",
       "    <tr>\n",
       "      <th>50%</th>\n",
       "      <td>0.495416</td>\n",
       "      <td>0.481661</td>\n",
       "      <td>0.451302</td>\n",
       "      <td>0.532340</td>\n",
       "      <td>0.500781</td>\n",
       "    </tr>\n",
       "    <tr>\n",
       "      <th>75%</th>\n",
       "      <td>0.787847</td>\n",
       "      <td>0.746388</td>\n",
       "      <td>0.729805</td>\n",
       "      <td>0.762764</td>\n",
       "      <td>0.723994</td>\n",
       "    </tr>\n",
       "    <tr>\n",
       "      <th>max</th>\n",
       "      <td>0.997726</td>\n",
       "      <td>0.997845</td>\n",
       "      <td>0.999558</td>\n",
       "      <td>0.999953</td>\n",
       "      <td>0.999757</td>\n",
       "    </tr>\n",
       "  </tbody>\n",
       "</table>\n",
       "</div>"
      ],
      "text/plain": [
       "                0           1           2           3           4\n",
       "count  334.000000  334.000000  334.000000  334.000000  334.000000\n",
       "mean     0.504989    0.503971    0.474463    0.502008    0.500538\n",
       "std      0.305346    0.289316    0.287549    0.299225    0.280617\n",
       "min      0.005978    0.010736    0.008976    0.000280    0.004527\n",
       "25%      0.259056    0.243000    0.211078    0.223701    0.251767\n",
       "50%      0.495416    0.481661    0.451302    0.532340    0.500781\n",
       "75%      0.787847    0.746388    0.729805    0.762764    0.723994\n",
       "max      0.997726    0.997845    0.999558    0.999953    0.999757"
      ]
     },
     "execution_count": 5,
     "metadata": {},
     "output_type": "execute_result"
    }
   ],
   "source": [
    "newdf.describe()"
   ]
  },
  {
   "cell_type": "code",
   "execution_count": 6,
   "metadata": {},
   "outputs": [
    {
     "data": {
      "text/plain": [
       "0    float64\n",
       "1    float64\n",
       "2    float64\n",
       "3    float64\n",
       "4    float64\n",
       "dtype: object"
      ]
     },
     "execution_count": 6,
     "metadata": {},
     "output_type": "execute_result"
    }
   ],
   "source": [
    "newdf.dtypes"
   ]
  },
  {
   "cell_type": "code",
   "execution_count": 7,
   "metadata": {},
   "outputs": [
    {
     "data": {
      "text/html": [
       "<div>\n",
       "<style scoped>\n",
       "    .dataframe tbody tr th:only-of-type {\n",
       "        vertical-align: middle;\n",
       "    }\n",
       "\n",
       "    .dataframe tbody tr th {\n",
       "        vertical-align: top;\n",
       "    }\n",
       "\n",
       "    .dataframe thead th {\n",
       "        text-align: right;\n",
       "    }\n",
       "</style>\n",
       "<table border=\"1\" class=\"dataframe\">\n",
       "  <thead>\n",
       "    <tr style=\"text-align: right;\">\n",
       "      <th></th>\n",
       "      <th>0</th>\n",
       "      <th>1</th>\n",
       "      <th>2</th>\n",
       "      <th>3</th>\n",
       "      <th>4</th>\n",
       "    </tr>\n",
       "  </thead>\n",
       "  <tbody>\n",
       "    <tr>\n",
       "      <th>0</th>\n",
       "      <td>omkar</td>\n",
       "      <td>0.996805</td>\n",
       "      <td>0.616086</td>\n",
       "      <td>0.626454</td>\n",
       "      <td>0.212524</td>\n",
       "    </tr>\n",
       "    <tr>\n",
       "      <th>1</th>\n",
       "      <td>0.971227</td>\n",
       "      <td>0.967047</td>\n",
       "      <td>0.021355</td>\n",
       "      <td>0.816691</td>\n",
       "      <td>0.326887</td>\n",
       "    </tr>\n",
       "    <tr>\n",
       "      <th>2</th>\n",
       "      <td>0.126623</td>\n",
       "      <td>0.948033</td>\n",
       "      <td>0.368154</td>\n",
       "      <td>0.014444</td>\n",
       "      <td>0.007308</td>\n",
       "    </tr>\n",
       "    <tr>\n",
       "      <th>3</th>\n",
       "      <td>0.374004</td>\n",
       "      <td>0.825637</td>\n",
       "      <td>0.671085</td>\n",
       "      <td>0.429251</td>\n",
       "      <td>0.831526</td>\n",
       "    </tr>\n",
       "    <tr>\n",
       "      <th>4</th>\n",
       "      <td>0.985916</td>\n",
       "      <td>0.849171</td>\n",
       "      <td>0.048570</td>\n",
       "      <td>0.027450</td>\n",
       "      <td>0.864169</td>\n",
       "    </tr>\n",
       "  </tbody>\n",
       "</table>\n",
       "</div>"
      ],
      "text/plain": [
       "          0         1         2         3         4\n",
       "0     omkar  0.996805  0.616086  0.626454  0.212524\n",
       "1  0.971227  0.967047  0.021355  0.816691  0.326887\n",
       "2  0.126623  0.948033  0.368154  0.014444  0.007308\n",
       "3  0.374004  0.825637  0.671085  0.429251  0.831526\n",
       "4  0.985916  0.849171  0.048570  0.027450  0.864169"
      ]
     },
     "execution_count": 7,
     "metadata": {},
     "output_type": "execute_result"
    }
   ],
   "source": [
    "newdf[0][0]='omkar'\n",
    "newdf.head()"
   ]
  },
  {
   "cell_type": "code",
   "execution_count": 8,
   "metadata": {},
   "outputs": [
    {
     "data": {
      "text/plain": [
       "Int64Index([  0,   1,   2,   3,   4,   5,   6,   7,   8,   9,\n",
       "            ...\n",
       "            324, 325, 326, 327, 328, 329, 330, 331, 332, 333],\n",
       "           dtype='int64', length=334)"
      ]
     },
     "execution_count": 8,
     "metadata": {},
     "output_type": "execute_result"
    }
   ],
   "source": [
    "newdf.index"
   ]
  },
  {
   "cell_type": "code",
   "execution_count": 9,
   "metadata": {},
   "outputs": [
    {
     "data": {
      "text/plain": [
       "RangeIndex(start=0, stop=5, step=1)"
      ]
     },
     "execution_count": 9,
     "metadata": {},
     "output_type": "execute_result"
    }
   ],
   "source": [
    "newdf.columns"
   ]
  },
  {
   "cell_type": "code",
   "execution_count": 10,
   "metadata": {},
   "outputs": [
    {
     "data": {
      "text/plain": [
       "array([['omkar', 0.996805389685098, 0.6160864664041679,\n",
       "        0.626454078174511, 0.21252386347214292],\n",
       "       [0.9712265374775347, 0.9670472371946377, 0.02135487435387473,\n",
       "        0.8166907055087433, 0.32688739722237536],\n",
       "       [0.12662255932788813, 0.9480326854550845, 0.36815448906969694,\n",
       "        0.01444436202603383, 0.007308109985287969],\n",
       "       ...,\n",
       "       [0.5305957128503207, 0.08159709400770865, 0.15430914573491972,\n",
       "        0.0228571553213901, 0.607348174289501],\n",
       "       [0.5130752161558128, 0.5866335595650002, 0.19442118822198273,\n",
       "        0.5547250319435045, 0.9709909184215016],\n",
       "       [0.878651335403446, 0.5341460410910542, 0.6867265776403009,\n",
       "        0.028553617525195807, 0.03536634423527052]], dtype=object)"
      ]
     },
     "execution_count": 10,
     "metadata": {},
     "output_type": "execute_result"
    }
   ],
   "source": [
    "newdf.to_numpy(\n",
    ")"
   ]
  },
  {
   "cell_type": "code",
   "execution_count": 11,
   "metadata": {},
   "outputs": [
    {
     "name": "stderr",
     "output_type": "stream",
     "text": [
      "<ipython-input-11-e374ad0f66b2>:1: SettingWithCopyWarning: \n",
      "A value is trying to be set on a copy of a slice from a DataFrame\n",
      "\n",
      "See the caveats in the documentation: https://pandas.pydata.org/pandas-docs/stable/user_guide/indexing.html#returning-a-view-versus-a-copy\n",
      "  newdf[0][0]=0.3\n"
     ]
    },
    {
     "data": {
      "text/plain": [
       "array([[0.3, 0.996805389685098, 0.6160864664041679, 0.626454078174511,\n",
       "        0.21252386347214292],\n",
       "       [0.9712265374775347, 0.9670472371946377, 0.02135487435387473,\n",
       "        0.8166907055087433, 0.32688739722237536],\n",
       "       [0.12662255932788813, 0.9480326854550845, 0.36815448906969694,\n",
       "        0.01444436202603383, 0.007308109985287969],\n",
       "       ...,\n",
       "       [0.5305957128503207, 0.08159709400770865, 0.15430914573491972,\n",
       "        0.0228571553213901, 0.607348174289501],\n",
       "       [0.5130752161558128, 0.5866335595650002, 0.19442118822198273,\n",
       "        0.5547250319435045, 0.9709909184215016],\n",
       "       [0.878651335403446, 0.5341460410910542, 0.6867265776403009,\n",
       "        0.028553617525195807, 0.03536634423527052]], dtype=object)"
      ]
     },
     "execution_count": 11,
     "metadata": {},
     "output_type": "execute_result"
    }
   ],
   "source": [
    "newdf[0][0]=0.3\n",
    "newdf.to_numpy()"
   ]
  },
  {
   "cell_type": "code",
   "execution_count": 12,
   "metadata": {},
   "outputs": [
    {
     "data": {
      "text/html": [
       "<div>\n",
       "<style scoped>\n",
       "    .dataframe tbody tr th:only-of-type {\n",
       "        vertical-align: middle;\n",
       "    }\n",
       "\n",
       "    .dataframe tbody tr th {\n",
       "        vertical-align: top;\n",
       "    }\n",
       "\n",
       "    .dataframe thead th {\n",
       "        text-align: right;\n",
       "    }\n",
       "</style>\n",
       "<table border=\"1\" class=\"dataframe\">\n",
       "  <thead>\n",
       "    <tr style=\"text-align: right;\">\n",
       "      <th></th>\n",
       "      <th>0</th>\n",
       "      <th>1</th>\n",
       "      <th>2</th>\n",
       "      <th>3</th>\n",
       "      <th>4</th>\n",
       "    </tr>\n",
       "  </thead>\n",
       "  <tbody>\n",
       "    <tr>\n",
       "      <th>0</th>\n",
       "      <td>0.3</td>\n",
       "      <td>0.996805</td>\n",
       "      <td>0.616086</td>\n",
       "      <td>0.626454</td>\n",
       "      <td>0.212524</td>\n",
       "    </tr>\n",
       "    <tr>\n",
       "      <th>1</th>\n",
       "      <td>0.971227</td>\n",
       "      <td>0.967047</td>\n",
       "      <td>0.021355</td>\n",
       "      <td>0.816691</td>\n",
       "      <td>0.326887</td>\n",
       "    </tr>\n",
       "    <tr>\n",
       "      <th>2</th>\n",
       "      <td>0.126623</td>\n",
       "      <td>0.948033</td>\n",
       "      <td>0.368154</td>\n",
       "      <td>0.014444</td>\n",
       "      <td>0.007308</td>\n",
       "    </tr>\n",
       "    <tr>\n",
       "      <th>3</th>\n",
       "      <td>0.374004</td>\n",
       "      <td>0.825637</td>\n",
       "      <td>0.671085</td>\n",
       "      <td>0.429251</td>\n",
       "      <td>0.831526</td>\n",
       "    </tr>\n",
       "    <tr>\n",
       "      <th>4</th>\n",
       "      <td>0.985916</td>\n",
       "      <td>0.849171</td>\n",
       "      <td>0.048570</td>\n",
       "      <td>0.027450</td>\n",
       "      <td>0.864169</td>\n",
       "    </tr>\n",
       "  </tbody>\n",
       "</table>\n",
       "</div>"
      ],
      "text/plain": [
       "          0         1         2         3         4\n",
       "0       0.3  0.996805  0.616086  0.626454  0.212524\n",
       "1  0.971227  0.967047  0.021355  0.816691  0.326887\n",
       "2  0.126623  0.948033  0.368154  0.014444  0.007308\n",
       "3  0.374004  0.825637  0.671085  0.429251  0.831526\n",
       "4  0.985916  0.849171  0.048570  0.027450  0.864169"
      ]
     },
     "execution_count": 12,
     "metadata": {},
     "output_type": "execute_result"
    }
   ],
   "source": [
    "newdf.head()"
   ]
  },
  {
   "cell_type": "code",
   "execution_count": 13,
   "metadata": {},
   "outputs": [
    {
     "data": {
      "text/html": [
       "<div>\n",
       "<style scoped>\n",
       "    .dataframe tbody tr th:only-of-type {\n",
       "        vertical-align: middle;\n",
       "    }\n",
       "\n",
       "    .dataframe tbody tr th {\n",
       "        vertical-align: top;\n",
       "    }\n",
       "\n",
       "    .dataframe thead th {\n",
       "        text-align: right;\n",
       "    }\n",
       "</style>\n",
       "<table border=\"1\" class=\"dataframe\">\n",
       "  <thead>\n",
       "    <tr style=\"text-align: right;\">\n",
       "      <th></th>\n",
       "      <th>0</th>\n",
       "      <th>1</th>\n",
       "      <th>2</th>\n",
       "      <th>3</th>\n",
       "      <th>4</th>\n",
       "      <th>5</th>\n",
       "      <th>6</th>\n",
       "      <th>7</th>\n",
       "      <th>8</th>\n",
       "      <th>9</th>\n",
       "      <th>...</th>\n",
       "      <th>324</th>\n",
       "      <th>325</th>\n",
       "      <th>326</th>\n",
       "      <th>327</th>\n",
       "      <th>328</th>\n",
       "      <th>329</th>\n",
       "      <th>330</th>\n",
       "      <th>331</th>\n",
       "      <th>332</th>\n",
       "      <th>333</th>\n",
       "    </tr>\n",
       "  </thead>\n",
       "  <tbody>\n",
       "    <tr>\n",
       "      <th>0</th>\n",
       "      <td>0.3</td>\n",
       "      <td>0.971227</td>\n",
       "      <td>0.126623</td>\n",
       "      <td>0.374004</td>\n",
       "      <td>0.985916</td>\n",
       "      <td>0.926889</td>\n",
       "      <td>0.720011</td>\n",
       "      <td>0.0703796</td>\n",
       "      <td>0.0732944</td>\n",
       "      <td>0.00625421</td>\n",
       "      <td>...</td>\n",
       "      <td>0.925045</td>\n",
       "      <td>0.788534</td>\n",
       "      <td>0.882738</td>\n",
       "      <td>0.0394445</td>\n",
       "      <td>0.600011</td>\n",
       "      <td>0.154482</td>\n",
       "      <td>0.489221</td>\n",
       "      <td>0.530596</td>\n",
       "      <td>0.513075</td>\n",
       "      <td>0.878651</td>\n",
       "    </tr>\n",
       "    <tr>\n",
       "      <th>1</th>\n",
       "      <td>0.996805</td>\n",
       "      <td>0.967047</td>\n",
       "      <td>0.948033</td>\n",
       "      <td>0.825637</td>\n",
       "      <td>0.849171</td>\n",
       "      <td>0.256085</td>\n",
       "      <td>0.886877</td>\n",
       "      <td>0.830215</td>\n",
       "      <td>0.230016</td>\n",
       "      <td>0.161743</td>\n",
       "      <td>...</td>\n",
       "      <td>0.355202</td>\n",
       "      <td>0.176059</td>\n",
       "      <td>0.578243</td>\n",
       "      <td>0.593466</td>\n",
       "      <td>0.936219</td>\n",
       "      <td>0.965906</td>\n",
       "      <td>0.233295</td>\n",
       "      <td>0.0815971</td>\n",
       "      <td>0.586634</td>\n",
       "      <td>0.534146</td>\n",
       "    </tr>\n",
       "    <tr>\n",
       "      <th>2</th>\n",
       "      <td>0.616086</td>\n",
       "      <td>0.0213549</td>\n",
       "      <td>0.368154</td>\n",
       "      <td>0.671085</td>\n",
       "      <td>0.0485695</td>\n",
       "      <td>0.813952</td>\n",
       "      <td>0.323028</td>\n",
       "      <td>0.547105</td>\n",
       "      <td>0.591975</td>\n",
       "      <td>0.727709</td>\n",
       "      <td>...</td>\n",
       "      <td>0.868788</td>\n",
       "      <td>0.813054</td>\n",
       "      <td>0.434262</td>\n",
       "      <td>0.250551</td>\n",
       "      <td>0.0185919</td>\n",
       "      <td>0.0406445</td>\n",
       "      <td>0.12921</td>\n",
       "      <td>0.154309</td>\n",
       "      <td>0.194421</td>\n",
       "      <td>0.686727</td>\n",
       "    </tr>\n",
       "    <tr>\n",
       "      <th>3</th>\n",
       "      <td>0.626454</td>\n",
       "      <td>0.816691</td>\n",
       "      <td>0.0144444</td>\n",
       "      <td>0.429251</td>\n",
       "      <td>0.0274496</td>\n",
       "      <td>0.165956</td>\n",
       "      <td>0.686368</td>\n",
       "      <td>0.0841187</td>\n",
       "      <td>0.789242</td>\n",
       "      <td>0.793983</td>\n",
       "      <td>...</td>\n",
       "      <td>0.359711</td>\n",
       "      <td>0.53053</td>\n",
       "      <td>0.772558</td>\n",
       "      <td>0.687581</td>\n",
       "      <td>0.000279513</td>\n",
       "      <td>0.597862</td>\n",
       "      <td>0.182279</td>\n",
       "      <td>0.0228572</td>\n",
       "      <td>0.554725</td>\n",
       "      <td>0.0285536</td>\n",
       "    </tr>\n",
       "    <tr>\n",
       "      <th>4</th>\n",
       "      <td>0.212524</td>\n",
       "      <td>0.326887</td>\n",
       "      <td>0.00730811</td>\n",
       "      <td>0.831526</td>\n",
       "      <td>0.864169</td>\n",
       "      <td>0.861948</td>\n",
       "      <td>0.369441</td>\n",
       "      <td>0.473895</td>\n",
       "      <td>0.536952</td>\n",
       "      <td>0.448839</td>\n",
       "      <td>...</td>\n",
       "      <td>0.46387</td>\n",
       "      <td>0.120767</td>\n",
       "      <td>0.385875</td>\n",
       "      <td>0.200114</td>\n",
       "      <td>0.0152171</td>\n",
       "      <td>0.471982</td>\n",
       "      <td>0.999757</td>\n",
       "      <td>0.607348</td>\n",
       "      <td>0.970991</td>\n",
       "      <td>0.0353663</td>\n",
       "    </tr>\n",
       "  </tbody>\n",
       "</table>\n",
       "<p>5 rows × 334 columns</p>\n",
       "</div>"
      ],
      "text/plain": [
       "        0          1           2         3          4         5         6    \\\n",
       "0       0.3   0.971227    0.126623  0.374004   0.985916  0.926889  0.720011   \n",
       "1  0.996805   0.967047    0.948033  0.825637   0.849171  0.256085  0.886877   \n",
       "2  0.616086  0.0213549    0.368154  0.671085  0.0485695  0.813952  0.323028   \n",
       "3  0.626454   0.816691   0.0144444  0.429251  0.0274496  0.165956  0.686368   \n",
       "4  0.212524   0.326887  0.00730811  0.831526   0.864169  0.861948  0.369441   \n",
       "\n",
       "         7          8           9    ...       324       325       326  \\\n",
       "0  0.0703796  0.0732944  0.00625421  ...  0.925045  0.788534  0.882738   \n",
       "1   0.830215   0.230016    0.161743  ...  0.355202  0.176059  0.578243   \n",
       "2   0.547105   0.591975    0.727709  ...  0.868788  0.813054  0.434262   \n",
       "3  0.0841187   0.789242    0.793983  ...  0.359711   0.53053  0.772558   \n",
       "4   0.473895   0.536952    0.448839  ...   0.46387  0.120767  0.385875   \n",
       "\n",
       "         327          328        329       330        331       332        333  \n",
       "0  0.0394445     0.600011   0.154482  0.489221   0.530596  0.513075   0.878651  \n",
       "1   0.593466     0.936219   0.965906  0.233295  0.0815971  0.586634   0.534146  \n",
       "2   0.250551    0.0185919  0.0406445   0.12921   0.154309  0.194421   0.686727  \n",
       "3   0.687581  0.000279513   0.597862  0.182279  0.0228572  0.554725  0.0285536  \n",
       "4   0.200114    0.0152171   0.471982  0.999757   0.607348  0.970991  0.0353663  \n",
       "\n",
       "[5 rows x 334 columns]"
      ]
     },
     "execution_count": 13,
     "metadata": {},
     "output_type": "execute_result"
    }
   ],
   "source": [
    "newdf.T"
   ]
  },
  {
   "cell_type": "code",
   "execution_count": 14,
   "metadata": {},
   "outputs": [
    {
     "data": {
      "text/html": [
       "<div>\n",
       "<style scoped>\n",
       "    .dataframe tbody tr th:only-of-type {\n",
       "        vertical-align: middle;\n",
       "    }\n",
       "\n",
       "    .dataframe tbody tr th {\n",
       "        vertical-align: top;\n",
       "    }\n",
       "\n",
       "    .dataframe thead th {\n",
       "        text-align: right;\n",
       "    }\n",
       "</style>\n",
       "<table border=\"1\" class=\"dataframe\">\n",
       "  <thead>\n",
       "    <tr style=\"text-align: right;\">\n",
       "      <th></th>\n",
       "      <th>4</th>\n",
       "      <th>3</th>\n",
       "      <th>2</th>\n",
       "      <th>1</th>\n",
       "      <th>0</th>\n",
       "    </tr>\n",
       "  </thead>\n",
       "  <tbody>\n",
       "    <tr>\n",
       "      <th>0</th>\n",
       "      <td>0.212524</td>\n",
       "      <td>0.626454</td>\n",
       "      <td>0.616086</td>\n",
       "      <td>0.996805</td>\n",
       "      <td>0.3</td>\n",
       "    </tr>\n",
       "    <tr>\n",
       "      <th>1</th>\n",
       "      <td>0.326887</td>\n",
       "      <td>0.816691</td>\n",
       "      <td>0.021355</td>\n",
       "      <td>0.967047</td>\n",
       "      <td>0.971227</td>\n",
       "    </tr>\n",
       "    <tr>\n",
       "      <th>2</th>\n",
       "      <td>0.007308</td>\n",
       "      <td>0.014444</td>\n",
       "      <td>0.368154</td>\n",
       "      <td>0.948033</td>\n",
       "      <td>0.126623</td>\n",
       "    </tr>\n",
       "    <tr>\n",
       "      <th>3</th>\n",
       "      <td>0.831526</td>\n",
       "      <td>0.429251</td>\n",
       "      <td>0.671085</td>\n",
       "      <td>0.825637</td>\n",
       "      <td>0.374004</td>\n",
       "    </tr>\n",
       "    <tr>\n",
       "      <th>4</th>\n",
       "      <td>0.864169</td>\n",
       "      <td>0.027450</td>\n",
       "      <td>0.048570</td>\n",
       "      <td>0.849171</td>\n",
       "      <td>0.985916</td>\n",
       "    </tr>\n",
       "    <tr>\n",
       "      <th>...</th>\n",
       "      <td>...</td>\n",
       "      <td>...</td>\n",
       "      <td>...</td>\n",
       "      <td>...</td>\n",
       "      <td>...</td>\n",
       "    </tr>\n",
       "    <tr>\n",
       "      <th>329</th>\n",
       "      <td>0.471982</td>\n",
       "      <td>0.597862</td>\n",
       "      <td>0.040644</td>\n",
       "      <td>0.965906</td>\n",
       "      <td>0.154482</td>\n",
       "    </tr>\n",
       "    <tr>\n",
       "      <th>330</th>\n",
       "      <td>0.999757</td>\n",
       "      <td>0.182279</td>\n",
       "      <td>0.129210</td>\n",
       "      <td>0.233295</td>\n",
       "      <td>0.489221</td>\n",
       "    </tr>\n",
       "    <tr>\n",
       "      <th>331</th>\n",
       "      <td>0.607348</td>\n",
       "      <td>0.022857</td>\n",
       "      <td>0.154309</td>\n",
       "      <td>0.081597</td>\n",
       "      <td>0.530596</td>\n",
       "    </tr>\n",
       "    <tr>\n",
       "      <th>332</th>\n",
       "      <td>0.970991</td>\n",
       "      <td>0.554725</td>\n",
       "      <td>0.194421</td>\n",
       "      <td>0.586634</td>\n",
       "      <td>0.513075</td>\n",
       "    </tr>\n",
       "    <tr>\n",
       "      <th>333</th>\n",
       "      <td>0.035366</td>\n",
       "      <td>0.028554</td>\n",
       "      <td>0.686727</td>\n",
       "      <td>0.534146</td>\n",
       "      <td>0.878651</td>\n",
       "    </tr>\n",
       "  </tbody>\n",
       "</table>\n",
       "<p>334 rows × 5 columns</p>\n",
       "</div>"
      ],
      "text/plain": [
       "            4         3         2         1         0\n",
       "0    0.212524  0.626454  0.616086  0.996805       0.3\n",
       "1    0.326887  0.816691  0.021355  0.967047  0.971227\n",
       "2    0.007308  0.014444  0.368154  0.948033  0.126623\n",
       "3    0.831526  0.429251  0.671085  0.825637  0.374004\n",
       "4    0.864169  0.027450  0.048570  0.849171  0.985916\n",
       "..        ...       ...       ...       ...       ...\n",
       "329  0.471982  0.597862  0.040644  0.965906  0.154482\n",
       "330  0.999757  0.182279  0.129210  0.233295  0.489221\n",
       "331  0.607348  0.022857  0.154309  0.081597  0.530596\n",
       "332  0.970991  0.554725  0.194421  0.586634  0.513075\n",
       "333  0.035366  0.028554  0.686727  0.534146  0.878651\n",
       "\n",
       "[334 rows x 5 columns]"
      ]
     },
     "execution_count": 14,
     "metadata": {},
     "output_type": "execute_result"
    }
   ],
   "source": [
    "newdf.sort_index(axis=1, ascending=False)"
   ]
  },
  {
   "cell_type": "code",
   "execution_count": 15,
   "metadata": {},
   "outputs": [
    {
     "data": {
      "text/html": [
       "<div>\n",
       "<style scoped>\n",
       "    .dataframe tbody tr th:only-of-type {\n",
       "        vertical-align: middle;\n",
       "    }\n",
       "\n",
       "    .dataframe tbody tr th {\n",
       "        vertical-align: top;\n",
       "    }\n",
       "\n",
       "    .dataframe thead th {\n",
       "        text-align: right;\n",
       "    }\n",
       "</style>\n",
       "<table border=\"1\" class=\"dataframe\">\n",
       "  <thead>\n",
       "    <tr style=\"text-align: right;\">\n",
       "      <th></th>\n",
       "      <th>0</th>\n",
       "      <th>1</th>\n",
       "      <th>2</th>\n",
       "      <th>3</th>\n",
       "      <th>4</th>\n",
       "    </tr>\n",
       "  </thead>\n",
       "  <tbody>\n",
       "    <tr>\n",
       "      <th>0</th>\n",
       "      <td>0.3</td>\n",
       "      <td>0.996805</td>\n",
       "      <td>0.616086</td>\n",
       "      <td>0.626454</td>\n",
       "      <td>0.212524</td>\n",
       "    </tr>\n",
       "    <tr>\n",
       "      <th>1</th>\n",
       "      <td>0.971227</td>\n",
       "      <td>0.967047</td>\n",
       "      <td>0.021355</td>\n",
       "      <td>0.816691</td>\n",
       "      <td>0.326887</td>\n",
       "    </tr>\n",
       "    <tr>\n",
       "      <th>2</th>\n",
       "      <td>0.126623</td>\n",
       "      <td>0.948033</td>\n",
       "      <td>0.368154</td>\n",
       "      <td>0.014444</td>\n",
       "      <td>0.007308</td>\n",
       "    </tr>\n",
       "    <tr>\n",
       "      <th>3</th>\n",
       "      <td>0.374004</td>\n",
       "      <td>0.825637</td>\n",
       "      <td>0.671085</td>\n",
       "      <td>0.429251</td>\n",
       "      <td>0.831526</td>\n",
       "    </tr>\n",
       "    <tr>\n",
       "      <th>4</th>\n",
       "      <td>0.985916</td>\n",
       "      <td>0.849171</td>\n",
       "      <td>0.048570</td>\n",
       "      <td>0.027450</td>\n",
       "      <td>0.864169</td>\n",
       "    </tr>\n",
       "  </tbody>\n",
       "</table>\n",
       "</div>"
      ],
      "text/plain": [
       "          0         1         2         3         4\n",
       "0       0.3  0.996805  0.616086  0.626454  0.212524\n",
       "1  0.971227  0.967047  0.021355  0.816691  0.326887\n",
       "2  0.126623  0.948033  0.368154  0.014444  0.007308\n",
       "3  0.374004  0.825637  0.671085  0.429251  0.831526\n",
       "4  0.985916  0.849171  0.048570  0.027450  0.864169"
      ]
     },
     "execution_count": 15,
     "metadata": {},
     "output_type": "execute_result"
    }
   ],
   "source": [
    "newdf.head()"
   ]
  },
  {
   "cell_type": "code",
   "execution_count": 16,
   "metadata": {},
   "outputs": [
    {
     "data": {
      "text/plain": [
       "0         0.3\n",
       "1    0.971227\n",
       "2    0.126623\n",
       "3    0.374004\n",
       "4    0.985916\n",
       "Name: 0, dtype: object"
      ]
     },
     "execution_count": 16,
     "metadata": {},
     "output_type": "execute_result"
    }
   ],
   "source": [
    "newdf[0].head()"
   ]
  },
  {
   "cell_type": "code",
   "execution_count": 17,
   "metadata": {},
   "outputs": [],
   "source": [
    "newdf.loc[0,0]=654"
   ]
  },
  {
   "cell_type": "code",
   "execution_count": 18,
   "metadata": {},
   "outputs": [
    {
     "data": {
      "text/html": [
       "<div>\n",
       "<style scoped>\n",
       "    .dataframe tbody tr th:only-of-type {\n",
       "        vertical-align: middle;\n",
       "    }\n",
       "\n",
       "    .dataframe tbody tr th {\n",
       "        vertical-align: top;\n",
       "    }\n",
       "\n",
       "    .dataframe thead th {\n",
       "        text-align: right;\n",
       "    }\n",
       "</style>\n",
       "<table border=\"1\" class=\"dataframe\">\n",
       "  <thead>\n",
       "    <tr style=\"text-align: right;\">\n",
       "      <th></th>\n",
       "      <th>0</th>\n",
       "      <th>1</th>\n",
       "      <th>2</th>\n",
       "      <th>3</th>\n",
       "      <th>4</th>\n",
       "    </tr>\n",
       "  </thead>\n",
       "  <tbody>\n",
       "    <tr>\n",
       "      <th>0</th>\n",
       "      <td>654</td>\n",
       "      <td>0.996805</td>\n",
       "      <td>0.616086</td>\n",
       "      <td>0.626454</td>\n",
       "      <td>0.212524</td>\n",
       "    </tr>\n",
       "    <tr>\n",
       "      <th>1</th>\n",
       "      <td>0.971227</td>\n",
       "      <td>0.967047</td>\n",
       "      <td>0.021355</td>\n",
       "      <td>0.816691</td>\n",
       "      <td>0.326887</td>\n",
       "    </tr>\n",
       "  </tbody>\n",
       "</table>\n",
       "</div>"
      ],
      "text/plain": [
       "          0         1         2         3         4\n",
       "0       654  0.996805  0.616086  0.626454  0.212524\n",
       "1  0.971227  0.967047  0.021355  0.816691  0.326887"
      ]
     },
     "execution_count": 18,
     "metadata": {},
     "output_type": "execute_result"
    }
   ],
   "source": [
    "newdf.head(2)"
   ]
  },
  {
   "cell_type": "code",
   "execution_count": 19,
   "metadata": {},
   "outputs": [
    {
     "data": {
      "text/html": [
       "<div>\n",
       "<style scoped>\n",
       "    .dataframe tbody tr th:only-of-type {\n",
       "        vertical-align: middle;\n",
       "    }\n",
       "\n",
       "    .dataframe tbody tr th {\n",
       "        vertical-align: top;\n",
       "    }\n",
       "\n",
       "    .dataframe thead th {\n",
       "        text-align: right;\n",
       "    }\n",
       "</style>\n",
       "<table border=\"1\" class=\"dataframe\">\n",
       "  <thead>\n",
       "    <tr style=\"text-align: right;\">\n",
       "      <th></th>\n",
       "      <th>A</th>\n",
       "      <th>b</th>\n",
       "      <th>c</th>\n",
       "      <th>d</th>\n",
       "      <th>e</th>\n",
       "    </tr>\n",
       "  </thead>\n",
       "  <tbody>\n",
       "    <tr>\n",
       "      <th>0</th>\n",
       "      <td>654</td>\n",
       "      <td>0.996805</td>\n",
       "      <td>0.616086</td>\n",
       "      <td>0.626454</td>\n",
       "      <td>0.212524</td>\n",
       "    </tr>\n",
       "    <tr>\n",
       "      <th>1</th>\n",
       "      <td>0.971227</td>\n",
       "      <td>0.967047</td>\n",
       "      <td>0.021355</td>\n",
       "      <td>0.816691</td>\n",
       "      <td>0.326887</td>\n",
       "    </tr>\n",
       "  </tbody>\n",
       "</table>\n",
       "</div>"
      ],
      "text/plain": [
       "          A         b         c         d         e\n",
       "0       654  0.996805  0.616086  0.626454  0.212524\n",
       "1  0.971227  0.967047  0.021355  0.816691  0.326887"
      ]
     },
     "execution_count": 19,
     "metadata": {},
     "output_type": "execute_result"
    }
   ],
   "source": [
    "newdf.columns = list('Abcde')\n",
    "newdf.head(2)"
   ]
  },
  {
   "cell_type": "code",
   "execution_count": 20,
   "metadata": {},
   "outputs": [
    {
     "data": {
      "text/html": [
       "<div>\n",
       "<style scoped>\n",
       "    .dataframe tbody tr th:only-of-type {\n",
       "        vertical-align: middle;\n",
       "    }\n",
       "\n",
       "    .dataframe tbody tr th {\n",
       "        vertical-align: top;\n",
       "    }\n",
       "\n",
       "    .dataframe thead th {\n",
       "        text-align: right;\n",
       "    }\n",
       "</style>\n",
       "<table border=\"1\" class=\"dataframe\">\n",
       "  <thead>\n",
       "    <tr style=\"text-align: right;\">\n",
       "      <th></th>\n",
       "      <th>A</th>\n",
       "      <th>b</th>\n",
       "      <th>c</th>\n",
       "      <th>d</th>\n",
       "      <th>e</th>\n",
       "    </tr>\n",
       "  </thead>\n",
       "  <tbody>\n",
       "    <tr>\n",
       "      <th>0</th>\n",
       "      <td>65462</td>\n",
       "      <td>0.996805</td>\n",
       "      <td>0.616086</td>\n",
       "      <td>0.626454</td>\n",
       "      <td>0.212524</td>\n",
       "    </tr>\n",
       "    <tr>\n",
       "      <th>1</th>\n",
       "      <td>0.971227</td>\n",
       "      <td>0.967047</td>\n",
       "      <td>0.021355</td>\n",
       "      <td>0.816691</td>\n",
       "      <td>0.326887</td>\n",
       "    </tr>\n",
       "  </tbody>\n",
       "</table>\n",
       "</div>"
      ],
      "text/plain": [
       "          A         b         c         d         e\n",
       "0     65462  0.996805  0.616086  0.626454  0.212524\n",
       "1  0.971227  0.967047  0.021355  0.816691  0.326887"
      ]
     },
     "execution_count": 20,
     "metadata": {},
     "output_type": "execute_result"
    }
   ],
   "source": [
    "newdf.loc[0,'A']=65462\n",
    "newdf.head(2)"
   ]
  },
  {
   "cell_type": "code",
   "execution_count": 21,
   "metadata": {},
   "outputs": [
    {
     "data": {
      "text/html": [
       "<div>\n",
       "<style scoped>\n",
       "    .dataframe tbody tr th:only-of-type {\n",
       "        vertical-align: middle;\n",
       "    }\n",
       "\n",
       "    .dataframe tbody tr th {\n",
       "        vertical-align: top;\n",
       "    }\n",
       "\n",
       "    .dataframe thead th {\n",
       "        text-align: right;\n",
       "    }\n",
       "</style>\n",
       "<table border=\"1\" class=\"dataframe\">\n",
       "  <thead>\n",
       "    <tr style=\"text-align: right;\">\n",
       "      <th></th>\n",
       "      <th>A</th>\n",
       "      <th>b</th>\n",
       "      <th>c</th>\n",
       "      <th>d</th>\n",
       "      <th>e</th>\n",
       "      <th>0</th>\n",
       "    </tr>\n",
       "  </thead>\n",
       "  <tbody>\n",
       "    <tr>\n",
       "      <th>0</th>\n",
       "      <td>65462</td>\n",
       "      <td>0.996805</td>\n",
       "      <td>0.616086</td>\n",
       "      <td>0.626454</td>\n",
       "      <td>0.212524</td>\n",
       "      <td>65554.0</td>\n",
       "    </tr>\n",
       "    <tr>\n",
       "      <th>1</th>\n",
       "      <td>0.971227</td>\n",
       "      <td>0.967047</td>\n",
       "      <td>0.021355</td>\n",
       "      <td>0.816691</td>\n",
       "      <td>0.326887</td>\n",
       "      <td>NaN</td>\n",
       "    </tr>\n",
       "  </tbody>\n",
       "</table>\n",
       "</div>"
      ],
      "text/plain": [
       "          A         b         c         d         e        0\n",
       "0     65462  0.996805  0.616086  0.626454  0.212524  65554.0\n",
       "1  0.971227  0.967047  0.021355  0.816691  0.326887      NaN"
      ]
     },
     "execution_count": 21,
     "metadata": {},
     "output_type": "execute_result"
    }
   ],
   "source": [
    "newdf.loc[0,0]= 65554\n",
    "newdf.head(2)"
   ]
  },
  {
   "cell_type": "code",
   "execution_count": 22,
   "metadata": {},
   "outputs": [
    {
     "data": {
      "text/html": [
       "<div>\n",
       "<style scoped>\n",
       "    .dataframe tbody tr th:only-of-type {\n",
       "        vertical-align: middle;\n",
       "    }\n",
       "\n",
       "    .dataframe tbody tr th {\n",
       "        vertical-align: top;\n",
       "    }\n",
       "\n",
       "    .dataframe thead th {\n",
       "        text-align: right;\n",
       "    }\n",
       "</style>\n",
       "<table border=\"1\" class=\"dataframe\">\n",
       "  <thead>\n",
       "    <tr style=\"text-align: right;\">\n",
       "      <th></th>\n",
       "      <th>A</th>\n",
       "      <th>b</th>\n",
       "      <th>c</th>\n",
       "      <th>d</th>\n",
       "      <th>e</th>\n",
       "      <th>0</th>\n",
       "    </tr>\n",
       "  </thead>\n",
       "  <tbody>\n",
       "    <tr>\n",
       "      <th>0</th>\n",
       "      <td>65462</td>\n",
       "      <td>0.996805</td>\n",
       "      <td>0.616086</td>\n",
       "      <td>0.626454</td>\n",
       "      <td>0.212524</td>\n",
       "      <td>65554.0</td>\n",
       "    </tr>\n",
       "    <tr>\n",
       "      <th>1</th>\n",
       "      <td>0.971227</td>\n",
       "      <td>0.967047</td>\n",
       "      <td>0.021355</td>\n",
       "      <td>0.816691</td>\n",
       "      <td>0.326887</td>\n",
       "      <td>NaN</td>\n",
       "    </tr>\n",
       "    <tr>\n",
       "      <th>3</th>\n",
       "      <td>0.374004</td>\n",
       "      <td>0.825637</td>\n",
       "      <td>0.671085</td>\n",
       "      <td>0.429251</td>\n",
       "      <td>0.831526</td>\n",
       "      <td>NaN</td>\n",
       "    </tr>\n",
       "    <tr>\n",
       "      <th>4</th>\n",
       "      <td>0.985916</td>\n",
       "      <td>0.849171</td>\n",
       "      <td>0.048570</td>\n",
       "      <td>0.027450</td>\n",
       "      <td>0.864169</td>\n",
       "      <td>NaN</td>\n",
       "    </tr>\n",
       "    <tr>\n",
       "      <th>5</th>\n",
       "      <td>0.926889</td>\n",
       "      <td>0.256085</td>\n",
       "      <td>0.813952</td>\n",
       "      <td>0.165956</td>\n",
       "      <td>0.861948</td>\n",
       "      <td>NaN</td>\n",
       "    </tr>\n",
       "  </tbody>\n",
       "</table>\n",
       "</div>"
      ],
      "text/plain": [
       "          A         b         c         d         e        0\n",
       "0     65462  0.996805  0.616086  0.626454  0.212524  65554.0\n",
       "1  0.971227  0.967047  0.021355  0.816691  0.326887      NaN\n",
       "3  0.374004  0.825637  0.671085  0.429251  0.831526      NaN\n",
       "4  0.985916  0.849171  0.048570  0.027450  0.864169      NaN\n",
       "5  0.926889  0.256085  0.813952  0.165956  0.861948      NaN"
      ]
     },
     "execution_count": 22,
     "metadata": {},
     "output_type": "execute_result"
    }
   ],
   "source": [
    "newdf=newdf.drop(2, axis=0)\n",
    "newdf.head()"
   ]
  },
  {
   "cell_type": "code",
   "execution_count": 23,
   "metadata": {},
   "outputs": [
    {
     "ename": "ValueError",
     "evalue": "Length mismatch: Expected axis has 6 elements, new values have 5 elements",
     "output_type": "error",
     "traceback": [
      "\u001b[1;31m-----------------------------------------------------------------\u001b[0m",
      "\u001b[1;31mValueError\u001b[0m                      Traceback (most recent call last)",
      "\u001b[1;32m<ipython-input-23-f8a0ca90b17c>\u001b[0m in \u001b[0;36m<module>\u001b[1;34m\u001b[0m\n\u001b[1;32m----> 1\u001b[1;33m \u001b[0mnewdf\u001b[0m\u001b[1;33m.\u001b[0m\u001b[0mcolumns\u001b[0m\u001b[1;33m=\u001b[0m\u001b[0mlist\u001b[0m\u001b[1;33m(\u001b[0m\u001b[1;34m'ABCDE'\u001b[0m\u001b[1;33m)\u001b[0m\u001b[1;33m\u001b[0m\u001b[1;33m\u001b[0m\u001b[0m\n\u001b[0m\u001b[0;32m      2\u001b[0m \u001b[0mnewdf\u001b[0m\u001b[1;33m.\u001b[0m\u001b[0mhead\u001b[0m\u001b[1;33m(\u001b[0m\u001b[1;36m2\u001b[0m\u001b[1;33m)\u001b[0m\u001b[1;33m\u001b[0m\u001b[1;33m\u001b[0m\u001b[0m\n",
      "\u001b[1;32m~\\Python\\Python38-32\\lib\\site-packages\\pandas\\core\\generic.py\u001b[0m in \u001b[0;36m__setattr__\u001b[1;34m(self, name, value)\u001b[0m\n\u001b[0;32m   5141\u001b[0m         \u001b[1;32mtry\u001b[0m\u001b[1;33m:\u001b[0m\u001b[1;33m\u001b[0m\u001b[1;33m\u001b[0m\u001b[0m\n\u001b[0;32m   5142\u001b[0m             \u001b[0mobject\u001b[0m\u001b[1;33m.\u001b[0m\u001b[0m__getattribute__\u001b[0m\u001b[1;33m(\u001b[0m\u001b[0mself\u001b[0m\u001b[1;33m,\u001b[0m \u001b[0mname\u001b[0m\u001b[1;33m)\u001b[0m\u001b[1;33m\u001b[0m\u001b[1;33m\u001b[0m\u001b[0m\n\u001b[1;32m-> 5143\u001b[1;33m             \u001b[1;32mreturn\u001b[0m \u001b[0mobject\u001b[0m\u001b[1;33m.\u001b[0m\u001b[0m__setattr__\u001b[0m\u001b[1;33m(\u001b[0m\u001b[0mself\u001b[0m\u001b[1;33m,\u001b[0m \u001b[0mname\u001b[0m\u001b[1;33m,\u001b[0m \u001b[0mvalue\u001b[0m\u001b[1;33m)\u001b[0m\u001b[1;33m\u001b[0m\u001b[1;33m\u001b[0m\u001b[0m\n\u001b[0m\u001b[0;32m   5144\u001b[0m         \u001b[1;32mexcept\u001b[0m \u001b[0mAttributeError\u001b[0m\u001b[1;33m:\u001b[0m\u001b[1;33m\u001b[0m\u001b[1;33m\u001b[0m\u001b[0m\n\u001b[0;32m   5145\u001b[0m             \u001b[1;32mpass\u001b[0m\u001b[1;33m\u001b[0m\u001b[1;33m\u001b[0m\u001b[0m\n",
      "\u001b[1;32mpandas\\_libs\\properties.pyx\u001b[0m in \u001b[0;36mpandas._libs.properties.AxisProperty.__set__\u001b[1;34m()\u001b[0m\n",
      "\u001b[1;32m~\\Python\\Python38-32\\lib\\site-packages\\pandas\\core\\generic.py\u001b[0m in \u001b[0;36m_set_axis\u001b[1;34m(self, axis, labels)\u001b[0m\n\u001b[0;32m    562\u001b[0m     \u001b[1;32mdef\u001b[0m \u001b[0m_set_axis\u001b[0m\u001b[1;33m(\u001b[0m\u001b[0mself\u001b[0m\u001b[1;33m,\u001b[0m \u001b[0maxis\u001b[0m\u001b[1;33m:\u001b[0m \u001b[0mint\u001b[0m\u001b[1;33m,\u001b[0m \u001b[0mlabels\u001b[0m\u001b[1;33m:\u001b[0m \u001b[0mIndex\u001b[0m\u001b[1;33m)\u001b[0m \u001b[1;33m->\u001b[0m \u001b[1;32mNone\u001b[0m\u001b[1;33m:\u001b[0m\u001b[1;33m\u001b[0m\u001b[1;33m\u001b[0m\u001b[0m\n\u001b[0;32m    563\u001b[0m         \u001b[0mlabels\u001b[0m \u001b[1;33m=\u001b[0m \u001b[0mensure_index\u001b[0m\u001b[1;33m(\u001b[0m\u001b[0mlabels\u001b[0m\u001b[1;33m)\u001b[0m\u001b[1;33m\u001b[0m\u001b[1;33m\u001b[0m\u001b[0m\n\u001b[1;32m--> 564\u001b[1;33m         \u001b[0mself\u001b[0m\u001b[1;33m.\u001b[0m\u001b[0m_mgr\u001b[0m\u001b[1;33m.\u001b[0m\u001b[0mset_axis\u001b[0m\u001b[1;33m(\u001b[0m\u001b[0maxis\u001b[0m\u001b[1;33m,\u001b[0m \u001b[0mlabels\u001b[0m\u001b[1;33m)\u001b[0m\u001b[1;33m\u001b[0m\u001b[1;33m\u001b[0m\u001b[0m\n\u001b[0m\u001b[0;32m    565\u001b[0m         \u001b[0mself\u001b[0m\u001b[1;33m.\u001b[0m\u001b[0m_clear_item_cache\u001b[0m\u001b[1;33m(\u001b[0m\u001b[1;33m)\u001b[0m\u001b[1;33m\u001b[0m\u001b[1;33m\u001b[0m\u001b[0m\n\u001b[0;32m    566\u001b[0m \u001b[1;33m\u001b[0m\u001b[0m\n",
      "\u001b[1;32m~\\Python\\Python38-32\\lib\\site-packages\\pandas\\core\\internals\\managers.py\u001b[0m in \u001b[0;36mset_axis\u001b[1;34m(self, axis, new_labels)\u001b[0m\n\u001b[0;32m    214\u001b[0m \u001b[1;33m\u001b[0m\u001b[0m\n\u001b[0;32m    215\u001b[0m         \u001b[1;32mif\u001b[0m \u001b[0mnew_len\u001b[0m \u001b[1;33m!=\u001b[0m \u001b[0mold_len\u001b[0m\u001b[1;33m:\u001b[0m\u001b[1;33m\u001b[0m\u001b[1;33m\u001b[0m\u001b[0m\n\u001b[1;32m--> 216\u001b[1;33m             raise ValueError(\n\u001b[0m\u001b[0;32m    217\u001b[0m                 \u001b[1;34mf\"Length mismatch: Expected axis has {old_len} elements, new \"\u001b[0m\u001b[1;33m\u001b[0m\u001b[1;33m\u001b[0m\u001b[0m\n\u001b[0;32m    218\u001b[0m                 \u001b[1;34mf\"values have {new_len} elements\"\u001b[0m\u001b[1;33m\u001b[0m\u001b[1;33m\u001b[0m\u001b[0m\n",
      "\u001b[1;31mValueError\u001b[0m: Length mismatch: Expected axis has 6 elements, new values have 5 elements"
     ]
    }
   ],
   "source": [
    "newdf.columns=list('ABCDE')\n",
    "newdf.head(2)"
   ]
  },
  {
   "cell_type": "code",
   "execution_count": null,
   "metadata": {},
   "outputs": [],
   "source": [
    "newdf.loc[[1,2],['A','B']]"
   ]
  },
  {
   "cell_type": "code",
   "execution_count": null,
   "metadata": {},
   "outputs": [],
   "source": [
    "newdf.loc[1:5:2,:]"
   ]
  },
  {
   "cell_type": "code",
   "execution_count": null,
   "metadata": {},
   "outputs": [],
   "source": [
    "newdf.head(2)"
   ]
  },
  {
   "cell_type": "code",
   "execution_count": null,
   "metadata": {},
   "outputs": [],
   "source": [
    "newdf.loc[(newdf['A']<0.3)].head()"
   ]
  },
  {
   "cell_type": "code",
   "execution_count": null,
   "metadata": {},
   "outputs": [],
   "source": [
    "newdf.head(2)"
   ]
  },
  {
   "cell_type": "code",
   "execution_count": null,
   "metadata": {},
   "outputs": [],
   "source": [
    "newdf.iloc[0,4]"
   ]
  },
  {
   "cell_type": "code",
   "execution_count": null,
   "metadata": {},
   "outputs": [],
   "source": [
    "newdf.iloc[[1,0,5],[1,3]]"
   ]
  },
  {
   "cell_type": "code",
   "execution_count": null,
   "metadata": {},
   "outputs": [],
   "source": [
    "newdf.head(3)"
   ]
  },
  {
   "cell_type": "code",
   "execution_count": null,
   "metadata": {},
   "outputs": [],
   "source": [
    "newdf.drop([0])"
   ]
  },
  {
   "cell_type": "code",
   "execution_count": null,
   "metadata": {},
   "outputs": [],
   "source": [
    "newdf.drop(['B'], axis=1)"
   ]
  },
  {
   "cell_type": "code",
   "execution_count": null,
   "metadata": {},
   "outputs": [],
   "source": [
    "newdf.head()"
   ]
  },
  {
   "cell_type": "code",
   "execution_count": null,
   "metadata": {},
   "outputs": [],
   "source": [
    "newdf.drop(['E'],axis=1, inplace=True)\n",
    "newdf"
   ]
  },
  {
   "cell_type": "code",
   "execution_count": null,
   "metadata": {},
   "outputs": [],
   "source": [
    "newdf.reset_index(drop=True, inplace=True)"
   ]
  },
  {
   "cell_type": "code",
   "execution_count": null,
   "metadata": {},
   "outputs": [],
   "source": [
    "newdf"
   ]
  },
  {
   "cell_type": "code",
   "execution_count": null,
   "metadata": {},
   "outputs": [],
   "source": [
    "df = pd.DataFrame([[5, 2, np.nan, 1.0], [3, 4, np.nan, 1],\n",
    "                    [np.nan, np.nan, np.nan, np.nan]],\n",
    "                   columns=list('ABCD'))"
   ]
  },
  {
   "cell_type": "code",
   "execution_count": null,
   "metadata": {},
   "outputs": [],
   "source": [
    "df"
   ]
  },
  {
   "cell_type": "code",
   "execution_count": null,
   "metadata": {},
   "outputs": [],
   "source": [
    "df.dropna(how='all',axis=1)"
   ]
  },
  {
   "cell_type": "code",
   "execution_count": null,
   "metadata": {},
   "outputs": [],
   "source": [
    "df.drop_duplicates(subset=['D'])"
   ]
  },
  {
   "cell_type": "code",
   "execution_count": null,
   "metadata": {},
   "outputs": [],
   "source": [
    "df.isnull()"
   ]
  },
  {
   "cell_type": "code",
   "execution_count": null,
   "metadata": {},
   "outputs": [],
   "source": [
    "df.notnull()"
   ]
  },
  {
   "cell_type": "code",
   "execution_count": null,
   "metadata": {},
   "outputs": [],
   "source": [
    "new = pd.read_excel('p.xlsx')\n",
    "new"
   ]
  },
  {
   "cell_type": "code",
   "execution_count": null,
   "metadata": {},
   "outputs": [],
   "source": [
    "new.iloc[0,0]=50\n",
    "new"
   ]
  },
  {
   "cell_type": "code",
   "execution_count": null,
   "metadata": {},
   "outputs": [],
   "source": [
    "new.to_excel('p.xlsx')"
   ]
  },
  {
   "cell_type": "code",
   "execution_count": 25,
   "metadata": {},
   "outputs": [],
   "source": [
    "census_df = pd.read_csv('census.csv')"
   ]
  },
  {
   "cell_type": "code",
   "execution_count": null,
   "metadata": {},
   "outputs": [],
   "source": []
  }
 ],
 "metadata": {
  "kernelspec": {
   "display_name": "Python 3",
   "language": "python",
   "name": "python3"
  },
  "language_info": {
   "codemirror_mode": {
    "name": "ipython",
    "version": 3
   },
   "file_extension": ".py",
   "mimetype": "text/x-python",
   "name": "python",
   "nbconvert_exporter": "python",
   "pygments_lexer": "ipython3",
   "version": "3.8.3"
  }
 },
 "nbformat": 4,
 "nbformat_minor": 2
}
