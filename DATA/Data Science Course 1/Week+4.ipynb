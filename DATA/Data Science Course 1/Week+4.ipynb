{
 "cells": [
  {
   "cell_type": "markdown",
   "metadata": {},
   "source": [
    "---\n",
    "\n",
    "_You are currently looking at **version 1.0** of this notebook. To download notebooks and datafiles, as well as get help on Jupyter notebooks in the Coursera platform, visit the [Jupyter Notebook FAQ](https://www.coursera.org/learn/python-data-analysis/resources/0dhYG) course resource._\n",
    "\n",
    "---"
   ]
  },
  {
   "cell_type": "markdown",
   "metadata": {},
   "source": [
    "# Distributions in Pandas"
   ]
  },
  {
   "cell_type": "code",
   "execution_count": 3,
   "metadata": {},
   "outputs": [],
   "source": [
    "import pandas as pd\n",
    "import numpy as np"
   ]
  },
  {
   "cell_type": "code",
   "execution_count": 55,
   "metadata": {},
   "outputs": [
    {
     "output_type": "execute_result",
     "data": {
      "text/plain": "array([0, 0, 0, 0, 0, 0, 1, 1, 1, 0])"
     },
     "metadata": {},
     "execution_count": 55
    }
   ],
   "source": [
    "np.random.binomial(1, 0.2,10)"
   ]
  },
  {
   "cell_type": "code",
   "execution_count": 62,
   "metadata": {},
   "outputs": [
    {
     "output_type": "execute_result",
     "data": {
      "text/plain": "0.487"
     },
     "metadata": {},
     "execution_count": 62
    }
   ],
   "source": [
    "np.random.binomial(1000, 0.5)/1000"
   ]
  },
  {
   "cell_type": "code",
   "execution_count": 63,
   "metadata": {},
   "outputs": [
    {
     "output_type": "execute_result",
     "data": {
      "text/plain": "12"
     },
     "metadata": {},
     "execution_count": 63
    }
   ],
   "source": [
    "chance_of_tornado = 0.01/100\n",
    "np.random.binomial(100000, chance_of_tornado)"
   ]
  },
  {
   "cell_type": "code",
   "execution_count": 64,
   "metadata": {
    "tags": []
   },
   "outputs": [
    {
     "output_type": "stream",
     "name": "stdout",
     "text": "106 tornadoes back to back in 2739.72602739726 years\n"
    }
   ],
   "source": [
    "chance_of_tornado = 0.01\n",
    "\n",
    "tornado_events = np.random.binomial(1, chance_of_tornado, 1000000)\n",
    "    \n",
    "two_days_in_a_row = 0\n",
    "for j in range(1,len(tornado_events)-1):\n",
    "    if tornado_events[j]==1 and tornado_events[j-1]==1:\n",
    "        two_days_in_a_row+=1\n",
    "\n",
    "print('{} tornadoes back to back in {} years'.format(two_days_in_a_row, 1000000/365))"
   ]
  },
  {
   "cell_type": "code",
   "execution_count": null,
   "metadata": {},
   "outputs": [],
   "source": [
    "np.random.uniform(0, 1)"
   ]
  },
  {
   "cell_type": "code",
   "execution_count": null,
   "metadata": {},
   "outputs": [],
   "source": [
    "np.random.normal(0.75)"
   ]
  },
  {
   "cell_type": "markdown",
   "metadata": {},
   "source": [
    "Formula for standard deviation\n",
    "$$\\sqrt{\\frac{1}{N} \\sum_{i=1}^N (x_i - \\overline{x})^2}$$"
   ]
  },
  {
   "cell_type": "code",
   "execution_count": 65,
   "metadata": {},
   "outputs": [
    {
     "output_type": "execute_result",
     "data": {
      "text/plain": "1.0059990646645045"
     },
     "metadata": {},
     "execution_count": 65
    }
   ],
   "source": [
    "distribution = np.random.normal(0.75,size=1000)\n",
    "\n",
    "np.sqrt(np.sum((np.mean(distribution)-distribution)**2)/len(distribution))"
   ]
  },
  {
   "cell_type": "code",
   "execution_count": 67,
   "metadata": {
    "scrolled": true
   },
   "outputs": [
    {
     "output_type": "execute_result",
     "data": {
      "text/plain": "1.0059990646645045"
     },
     "metadata": {},
     "execution_count": 67
    }
   ],
   "source": [
    "np.std(distribution) "
   ]
  },
  {
   "cell_type": "code",
   "execution_count": 69,
   "metadata": {},
   "outputs": [
    {
     "output_type": "execute_result",
     "data": {
      "text/plain": "-0.00851946892507538"
     },
     "metadata": {},
     "execution_count": 69
    }
   ],
   "source": [
    "import scipy.stats as stats\n",
    "stats.kurtosis(distribution)"
   ]
  },
  {
   "cell_type": "code",
   "execution_count": 71,
   "metadata": {},
   "outputs": [
    {
     "output_type": "execute_result",
     "data": {
      "text/plain": "0.06720455734169317"
     },
     "metadata": {},
     "execution_count": 71
    }
   ],
   "source": [
    "stats.skew(distribution)"
   ]
  },
  {
   "cell_type": "code",
   "execution_count": 72,
   "metadata": {},
   "outputs": [
    {
     "output_type": "execute_result",
     "data": {
      "text/plain": "1.9861059233817533"
     },
     "metadata": {},
     "execution_count": 72
    }
   ],
   "source": [
    "chi_squared_df2 = np.random.chisquare(2, size=10000)\n",
    "stats.skew(chi_squared_df2)"
   ]
  },
  {
   "cell_type": "code",
   "execution_count": 73,
   "metadata": {},
   "outputs": [
    {
     "output_type": "execute_result",
     "data": {
      "text/plain": "1.1653110917468203"
     },
     "metadata": {},
     "execution_count": 73
    }
   ],
   "source": [
    "chi_squared_df5 = np.random.chisquare(5, size=10000)\n",
    "stats.skew(chi_squared_df5)"
   ]
  },
  {
   "cell_type": "code",
   "execution_count": 74,
   "metadata": {},
   "outputs": [
    {
     "output_type": "execute_result",
     "data": {
      "text/plain": "<matplotlib.legend.Legend at 0x11426f70>"
     },
     "metadata": {},
     "execution_count": 74
    },
    {
     "output_type": "display_data",
     "data": {
      "text/plain": "<Figure size 432x288 with 1 Axes>",
      "image/svg+xml": "<?xml version=\"1.0\" encoding=\"utf-8\" standalone=\"no\"?>\r\n<!DOCTYPE svg PUBLIC \"-//W3C//DTD SVG 1.1//EN\"\r\n  \"http://www.w3.org/Graphics/SVG/1.1/DTD/svg11.dtd\">\r\n<!-- Created with matplotlib (https://matplotlib.org/) -->\r\n<svg height=\"248.518125pt\" version=\"1.1\" viewBox=\"0 0 381.65 248.518125\" width=\"381.65pt\" xmlns=\"http://www.w3.org/2000/svg\" xmlns:xlink=\"http://www.w3.org/1999/xlink\">\r\n <defs>\r\n  <style type=\"text/css\">\r\n*{stroke-linecap:butt;stroke-linejoin:round;}\r\n  </style>\r\n </defs>\r\n <g id=\"figure_1\">\r\n  <g id=\"patch_1\">\r\n   <path d=\"M -0 248.518125 \r\nL 381.65 248.518125 \r\nL 381.65 0 \r\nL -0 0 \r\nz\r\n\" style=\"fill:none;\"/>\r\n  </g>\r\n  <g id=\"axes_1\">\r\n   <g id=\"patch_2\">\r\n    <path d=\"M 39.65 224.64 \r\nL 374.45 224.64 \r\nL 374.45 7.2 \r\nL 39.65 7.2 \r\nz\r\n\" style=\"fill:#ffffff;\"/>\r\n   </g>\r\n   <g id=\"patch_3\">\r\n    <path clip-path=\"url(#p7ebb59ea2d)\" d=\"M 54.868182 224.64 \r\nL 54.868182 217.256944 \r\nL 60.955455 217.256944 \r\nL 60.955455 196.098186 \r\nL 67.042727 196.098186 \r\nL 67.042727 180.071553 \r\nL 73.13 180.071553 \r\nL 73.13 165.755627 \r\nL 79.217273 165.755627 \r\nL 79.217273 155.13123 \r\nL 85.304545 155.13123 \r\nL 85.304545 156.031602 \r\nL 91.391818 156.031602 \r\nL 91.391818 152.880298 \r\nL 97.479091 152.880298 \r\nL 97.479091 159.453019 \r\nL 103.566364 159.453019 \r\nL 103.566364 162.244174 \r\nL 109.653636 162.244174 \r\nL 109.653636 167.016149 \r\nL 115.740909 167.016149 \r\nL 115.740909 175.839801 \r\nL 121.828182 175.839801 \r\nL 121.828182 179.711404 \r\nL 127.915455 179.711404 \r\nL 127.915455 181.242037 \r\nL 134.002727 181.242037 \r\nL 134.002727 185.473789 \r\nL 140.09 185.473789 \r\nL 140.09 192.946882 \r\nL 146.177273 192.946882 \r\nL 146.177273 199.969789 \r\nL 152.264545 199.969789 \r\nL 152.264545 201.500422 \r\nL 158.351818 201.500422 \r\nL 158.351818 206.18236 \r\nL 164.439091 206.18236 \r\nL 164.439091 209.693814 \r\nL 170.526364 209.693814 \r\nL 170.526364 210.144 \r\nL 176.613636 210.144 \r\nL 176.613636 215.366161 \r\nL 182.700909 215.366161 \r\nL 182.700909 214.285714 \r\nL 188.788182 214.285714 \r\nL 188.788182 215.996422 \r\nL 194.875455 215.996422 \r\nL 194.875455 218.69754 \r\nL 200.962727 218.69754 \r\nL 200.962727 219.507876 \r\nL 207.05 219.507876 \r\nL 207.05 220.858435 \r\nL 213.137273 220.858435 \r\nL 213.137273 220.67836 \r\nL 219.224545 220.67836 \r\nL 219.224545 221.488696 \r\nL 225.311818 221.488696 \r\nL 225.311818 222.299031 \r\nL 231.399091 222.299031 \r\nL 231.399091 221.66877 \r\nL 237.486364 221.66877 \r\nL 237.486364 223.199404 \r\nL 243.573636 223.199404 \r\nL 243.573636 223.379478 \r\nL 249.660909 223.379478 \r\nL 249.660909 223.64959 \r\nL 255.748182 223.64959 \r\nL 255.748182 224.099776 \r\nL 261.835455 224.099776 \r\nL 261.835455 224.099776 \r\nL 267.922727 224.099776 \r\nL 267.922727 224.369888 \r\nL 274.01 224.369888 \r\nL 274.01 224.279851 \r\nL 280.097273 224.279851 \r\nL 280.097273 224.369888 \r\nL 286.184545 224.369888 \r\nL 286.184545 224.64 \r\nL 292.271818 224.64 \r\nL 292.271818 224.369888 \r\nL 298.359091 224.369888 \r\nL 298.359091 224.369888 \r\nL 304.446364 224.369888 \r\nL 304.446364 224.369888 \r\nL 310.533636 224.369888 \r\nL 310.533636 224.549963 \r\nL 316.620909 224.549963 \r\nL 316.620909 224.64 \r\nL 322.708182 224.64 \r\nL 322.708182 224.64 \r\nL 328.795455 224.64 \r\nL 328.795455 224.64 \r\nL 334.882727 224.64 \r\nL 334.882727 224.64 \r\nL 340.97 224.64 \r\nL 340.97 224.64 \r\nL 347.057273 224.64 \r\nL 347.057273 224.64 \r\nL 353.144545 224.64 \r\nL 353.144545 224.549963 \r\nL 359.231818 224.549963 \r\nL 359.231818 224.64 \r\n\" style=\"fill:none;stroke:#ff7f0e;stroke-linejoin:miter;\"/>\r\n   </g>\r\n   <g id=\"patch_4\">\r\n    <path clip-path=\"url(#p7ebb59ea2d)\" d=\"M 54.868182 224.64 \r\nL 54.868182 17.554286 \r\nL 60.955455 17.554286 \r\nL 60.955455 67.705043 \r\nL 67.042727 67.705043 \r\nL 67.042727 104.890435 \r\nL 73.13 104.890435 \r\nL 73.13 135.593143 \r\nL 79.217273 135.593143 \r\nL 79.217273 151.16959 \r\nL 85.304545 151.16959 \r\nL 85.304545 168.276671 \r\nL 91.391818 168.276671 \r\nL 91.391818 180.251627 \r\nL 97.479091 180.251627 \r\nL 97.479091 191.236174 \r\nL 103.566364 191.236174 \r\nL 103.566364 196.908522 \r\nL 109.653636 196.908522 \r\nL 109.653636 205.281988 \r\nL 115.740909 205.281988 \r\nL 115.740909 208.703404 \r\nL 121.828182 208.703404 \r\nL 121.828182 214.195677 \r\nL 127.915455 214.195677 \r\nL 127.915455 212.935155 \r\nL 134.002727 212.935155 \r\nL 134.002727 216.626683 \r\nL 140.09 216.626683 \r\nL 140.09 217.977242 \r\nL 146.177273 217.977242 \r\nL 146.177273 220.048099 \r\nL 152.264545 220.048099 \r\nL 152.264545 220.498286 \r\nL 158.351818 220.498286 \r\nL 158.351818 221.848845 \r\nL 164.439091 221.848845 \r\nL 164.439091 222.929292 \r\nL 170.526364 222.929292 \r\nL 170.526364 223.109366 \r\nL 176.613636 223.109366 \r\nL 176.613636 224.189814 \r\nL 182.700909 224.189814 \r\nL 182.700909 223.289441 \r\nL 188.788182 223.289441 \r\nL 188.788182 223.919702 \r\nL 194.875455 223.919702 \r\nL 194.875455 224.099776 \r\nL 200.962727 224.099776 \r\nL 200.962727 224.279851 \r\nL 207.05 224.279851 \r\nL 207.05 224.369888 \r\nL 213.137273 224.369888 \r\nL 213.137273 223.829665 \r\nL 219.224545 223.829665 \r\nL 219.224545 224.459925 \r\nL 225.311818 224.459925 \r\nL 225.311818 224.549963 \r\nL 231.399091 224.549963 \r\nL 231.399091 224.279851 \r\nL 237.486364 224.279851 \r\nL 237.486364 224.64 \r\nL 243.573636 224.64 \r\nL 243.573636 224.64 \r\nL 249.660909 224.64 \r\nL 249.660909 224.64 \r\nL 255.748182 224.64 \r\nL 255.748182 224.549963 \r\nL 261.835455 224.549963 \r\nL 261.835455 224.64 \r\nL 267.922727 224.64 \r\nL 267.922727 224.64 \r\nL 274.01 224.64 \r\nL 274.01 224.64 \r\nL 280.097273 224.64 \r\nL 280.097273 224.64 \r\nL 286.184545 224.64 \r\nL 286.184545 224.64 \r\nL 292.271818 224.64 \r\nL 292.271818 224.64 \r\nL 298.359091 224.64 \r\nL 298.359091 224.64 \r\nL 304.446364 224.64 \r\nL 304.446364 224.64 \r\nL 310.533636 224.64 \r\nL 310.533636 224.64 \r\nL 316.620909 224.64 \r\nL 316.620909 224.64 \r\nL 322.708182 224.64 \r\nL 322.708182 224.64 \r\nL 328.795455 224.64 \r\nL 328.795455 224.549963 \r\nL 334.882727 224.549963 \r\nL 334.882727 224.64 \r\nL 340.97 224.64 \r\nL 340.97 224.64 \r\nL 347.057273 224.64 \r\nL 347.057273 224.64 \r\nL 353.144545 224.64 \r\nL 353.144545 224.64 \r\nL 359.231818 224.64 \r\nL 359.231818 224.64 \r\n\" style=\"fill:none;stroke:#1f77b4;stroke-linejoin:miter;\"/>\r\n   </g>\r\n   <g id=\"matplotlib.axis_1\">\r\n    <g id=\"xtick_1\">\r\n     <g id=\"line2d_1\">\r\n      <defs>\r\n       <path d=\"M 0 0 \r\nL 0 3.5 \r\n\" id=\"ma08c6e4d9e\" style=\"stroke:#000000;stroke-width:0.8;\"/>\r\n      </defs>\r\n      <g>\r\n       <use style=\"stroke:#000000;stroke-width:0.8;\" x=\"54.867031\" xlink:href=\"#ma08c6e4d9e\" y=\"224.64\"/>\r\n      </g>\r\n     </g>\r\n     <g id=\"text_1\">\r\n      <!-- 0 -->\r\n      <defs>\r\n       <path d=\"M 31.78125 66.40625 \r\nQ 24.171875 66.40625 20.328125 58.90625 \r\nQ 16.5 51.421875 16.5 36.375 \r\nQ 16.5 21.390625 20.328125 13.890625 \r\nQ 24.171875 6.390625 31.78125 6.390625 \r\nQ 39.453125 6.390625 43.28125 13.890625 \r\nQ 47.125 21.390625 47.125 36.375 \r\nQ 47.125 51.421875 43.28125 58.90625 \r\nQ 39.453125 66.40625 31.78125 66.40625 \r\nz\r\nM 31.78125 74.21875 \r\nQ 44.046875 74.21875 50.515625 64.515625 \r\nQ 56.984375 54.828125 56.984375 36.375 \r\nQ 56.984375 17.96875 50.515625 8.265625 \r\nQ 44.046875 -1.421875 31.78125 -1.421875 \r\nQ 19.53125 -1.421875 13.0625 8.265625 \r\nQ 6.59375 17.96875 6.59375 36.375 \r\nQ 6.59375 54.828125 13.0625 64.515625 \r\nQ 19.53125 74.21875 31.78125 74.21875 \r\nz\r\n\" id=\"DejaVuSans-48\"/>\r\n      </defs>\r\n      <g transform=\"translate(51.685781 239.238437)scale(0.1 -0.1)\">\r\n       <use xlink:href=\"#DejaVuSans-48\"/>\r\n      </g>\r\n     </g>\r\n    </g>\r\n    <g id=\"xtick_2\">\r\n     <g id=\"line2d_2\">\r\n      <g>\r\n       <use style=\"stroke:#000000;stroke-width:0.8;\" x=\"114.673097\" xlink:href=\"#ma08c6e4d9e\" y=\"224.64\"/>\r\n      </g>\r\n     </g>\r\n     <g id=\"text_2\">\r\n      <!-- 5 -->\r\n      <defs>\r\n       <path d=\"M 10.796875 72.90625 \r\nL 49.515625 72.90625 \r\nL 49.515625 64.59375 \r\nL 19.828125 64.59375 \r\nL 19.828125 46.734375 \r\nQ 21.96875 47.46875 24.109375 47.828125 \r\nQ 26.265625 48.1875 28.421875 48.1875 \r\nQ 40.625 48.1875 47.75 41.5 \r\nQ 54.890625 34.8125 54.890625 23.390625 \r\nQ 54.890625 11.625 47.5625 5.09375 \r\nQ 40.234375 -1.421875 26.90625 -1.421875 \r\nQ 22.3125 -1.421875 17.546875 -0.640625 \r\nQ 12.796875 0.140625 7.71875 1.703125 \r\nL 7.71875 11.625 \r\nQ 12.109375 9.234375 16.796875 8.0625 \r\nQ 21.484375 6.890625 26.703125 6.890625 \r\nQ 35.15625 6.890625 40.078125 11.328125 \r\nQ 45.015625 15.765625 45.015625 23.390625 \r\nQ 45.015625 31 40.078125 35.4375 \r\nQ 35.15625 39.890625 26.703125 39.890625 \r\nQ 22.75 39.890625 18.8125 39.015625 \r\nQ 14.890625 38.140625 10.796875 36.28125 \r\nz\r\n\" id=\"DejaVuSans-53\"/>\r\n      </defs>\r\n      <g transform=\"translate(111.491847 239.238437)scale(0.1 -0.1)\">\r\n       <use xlink:href=\"#DejaVuSans-53\"/>\r\n      </g>\r\n     </g>\r\n    </g>\r\n    <g id=\"xtick_3\">\r\n     <g id=\"line2d_3\">\r\n      <g>\r\n       <use style=\"stroke:#000000;stroke-width:0.8;\" x=\"174.479164\" xlink:href=\"#ma08c6e4d9e\" y=\"224.64\"/>\r\n      </g>\r\n     </g>\r\n     <g id=\"text_3\">\r\n      <!-- 10 -->\r\n      <defs>\r\n       <path d=\"M 12.40625 8.296875 \r\nL 28.515625 8.296875 \r\nL 28.515625 63.921875 \r\nL 10.984375 60.40625 \r\nL 10.984375 69.390625 \r\nL 28.421875 72.90625 \r\nL 38.28125 72.90625 \r\nL 38.28125 8.296875 \r\nL 54.390625 8.296875 \r\nL 54.390625 0 \r\nL 12.40625 0 \r\nz\r\n\" id=\"DejaVuSans-49\"/>\r\n      </defs>\r\n      <g transform=\"translate(168.116664 239.238437)scale(0.1 -0.1)\">\r\n       <use xlink:href=\"#DejaVuSans-49\"/>\r\n       <use x=\"63.623047\" xlink:href=\"#DejaVuSans-48\"/>\r\n      </g>\r\n     </g>\r\n    </g>\r\n    <g id=\"xtick_4\">\r\n     <g id=\"line2d_4\">\r\n      <g>\r\n       <use style=\"stroke:#000000;stroke-width:0.8;\" x=\"234.28523\" xlink:href=\"#ma08c6e4d9e\" y=\"224.64\"/>\r\n      </g>\r\n     </g>\r\n     <g id=\"text_4\">\r\n      <!-- 15 -->\r\n      <g transform=\"translate(227.92273 239.238437)scale(0.1 -0.1)\">\r\n       <use xlink:href=\"#DejaVuSans-49\"/>\r\n       <use x=\"63.623047\" xlink:href=\"#DejaVuSans-53\"/>\r\n      </g>\r\n     </g>\r\n    </g>\r\n    <g id=\"xtick_5\">\r\n     <g id=\"line2d_5\">\r\n      <g>\r\n       <use style=\"stroke:#000000;stroke-width:0.8;\" x=\"294.091297\" xlink:href=\"#ma08c6e4d9e\" y=\"224.64\"/>\r\n      </g>\r\n     </g>\r\n     <g id=\"text_5\">\r\n      <!-- 20 -->\r\n      <defs>\r\n       <path d=\"M 19.1875 8.296875 \r\nL 53.609375 8.296875 \r\nL 53.609375 0 \r\nL 7.328125 0 \r\nL 7.328125 8.296875 \r\nQ 12.9375 14.109375 22.625 23.890625 \r\nQ 32.328125 33.6875 34.8125 36.53125 \r\nQ 39.546875 41.84375 41.421875 45.53125 \r\nQ 43.3125 49.21875 43.3125 52.78125 \r\nQ 43.3125 58.59375 39.234375 62.25 \r\nQ 35.15625 65.921875 28.609375 65.921875 \r\nQ 23.96875 65.921875 18.8125 64.3125 \r\nQ 13.671875 62.703125 7.8125 59.421875 \r\nL 7.8125 69.390625 \r\nQ 13.765625 71.78125 18.9375 73 \r\nQ 24.125 74.21875 28.421875 74.21875 \r\nQ 39.75 74.21875 46.484375 68.546875 \r\nQ 53.21875 62.890625 53.21875 53.421875 \r\nQ 53.21875 48.921875 51.53125 44.890625 \r\nQ 49.859375 40.875 45.40625 35.40625 \r\nQ 44.1875 33.984375 37.640625 27.21875 \r\nQ 31.109375 20.453125 19.1875 8.296875 \r\nz\r\n\" id=\"DejaVuSans-50\"/>\r\n      </defs>\r\n      <g transform=\"translate(287.728797 239.238437)scale(0.1 -0.1)\">\r\n       <use xlink:href=\"#DejaVuSans-50\"/>\r\n       <use x=\"63.623047\" xlink:href=\"#DejaVuSans-48\"/>\r\n      </g>\r\n     </g>\r\n    </g>\r\n    <g id=\"xtick_6\">\r\n     <g id=\"line2d_6\">\r\n      <g>\r\n       <use style=\"stroke:#000000;stroke-width:0.8;\" x=\"353.897363\" xlink:href=\"#ma08c6e4d9e\" y=\"224.64\"/>\r\n      </g>\r\n     </g>\r\n     <g id=\"text_6\">\r\n      <!-- 25 -->\r\n      <g transform=\"translate(347.534863 239.238437)scale(0.1 -0.1)\">\r\n       <use xlink:href=\"#DejaVuSans-50\"/>\r\n       <use x=\"63.623047\" xlink:href=\"#DejaVuSans-53\"/>\r\n      </g>\r\n     </g>\r\n    </g>\r\n   </g>\r\n   <g id=\"matplotlib.axis_2\">\r\n    <g id=\"ytick_1\">\r\n     <g id=\"line2d_7\">\r\n      <defs>\r\n       <path d=\"M 0 0 \r\nL -3.5 0 \r\n\" id=\"m312a38fbad\" style=\"stroke:#000000;stroke-width:0.8;\"/>\r\n      </defs>\r\n      <g>\r\n       <use style=\"stroke:#000000;stroke-width:0.8;\" x=\"39.65\" xlink:href=\"#m312a38fbad\" y=\"224.64\"/>\r\n      </g>\r\n     </g>\r\n     <g id=\"text_7\">\r\n      <!-- 0 -->\r\n      <g transform=\"translate(26.2875 228.439219)scale(0.1 -0.1)\">\r\n       <use xlink:href=\"#DejaVuSans-48\"/>\r\n      </g>\r\n     </g>\r\n    </g>\r\n    <g id=\"ytick_2\">\r\n     <g id=\"line2d_8\">\r\n      <g>\r\n       <use style=\"stroke:#000000;stroke-width:0.8;\" x=\"39.65\" xlink:href=\"#m312a38fbad\" y=\"179.621366\"/>\r\n      </g>\r\n     </g>\r\n     <g id=\"text_8\">\r\n      <!-- 500 -->\r\n      <g transform=\"translate(13.5625 183.420585)scale(0.1 -0.1)\">\r\n       <use xlink:href=\"#DejaVuSans-53\"/>\r\n       <use x=\"63.623047\" xlink:href=\"#DejaVuSans-48\"/>\r\n       <use x=\"127.246094\" xlink:href=\"#DejaVuSans-48\"/>\r\n      </g>\r\n     </g>\r\n    </g>\r\n    <g id=\"ytick_3\">\r\n     <g id=\"line2d_9\">\r\n      <g>\r\n       <use style=\"stroke:#000000;stroke-width:0.8;\" x=\"39.65\" xlink:href=\"#m312a38fbad\" y=\"134.602733\"/>\r\n      </g>\r\n     </g>\r\n     <g id=\"text_9\">\r\n      <!-- 1000 -->\r\n      <g transform=\"translate(7.2 138.401952)scale(0.1 -0.1)\">\r\n       <use xlink:href=\"#DejaVuSans-49\"/>\r\n       <use x=\"63.623047\" xlink:href=\"#DejaVuSans-48\"/>\r\n       <use x=\"127.246094\" xlink:href=\"#DejaVuSans-48\"/>\r\n       <use x=\"190.869141\" xlink:href=\"#DejaVuSans-48\"/>\r\n      </g>\r\n     </g>\r\n    </g>\r\n    <g id=\"ytick_4\">\r\n     <g id=\"line2d_10\">\r\n      <g>\r\n       <use style=\"stroke:#000000;stroke-width:0.8;\" x=\"39.65\" xlink:href=\"#m312a38fbad\" y=\"89.584099\"/>\r\n      </g>\r\n     </g>\r\n     <g id=\"text_10\">\r\n      <!-- 1500 -->\r\n      <g transform=\"translate(7.2 93.383318)scale(0.1 -0.1)\">\r\n       <use xlink:href=\"#DejaVuSans-49\"/>\r\n       <use x=\"63.623047\" xlink:href=\"#DejaVuSans-53\"/>\r\n       <use x=\"127.246094\" xlink:href=\"#DejaVuSans-48\"/>\r\n       <use x=\"190.869141\" xlink:href=\"#DejaVuSans-48\"/>\r\n      </g>\r\n     </g>\r\n    </g>\r\n    <g id=\"ytick_5\">\r\n     <g id=\"line2d_11\">\r\n      <g>\r\n       <use style=\"stroke:#000000;stroke-width:0.8;\" x=\"39.65\" xlink:href=\"#m312a38fbad\" y=\"44.565466\"/>\r\n      </g>\r\n     </g>\r\n     <g id=\"text_11\">\r\n      <!-- 2000 -->\r\n      <g transform=\"translate(7.2 48.364685)scale(0.1 -0.1)\">\r\n       <use xlink:href=\"#DejaVuSans-50\"/>\r\n       <use x=\"63.623047\" xlink:href=\"#DejaVuSans-48\"/>\r\n       <use x=\"127.246094\" xlink:href=\"#DejaVuSans-48\"/>\r\n       <use x=\"190.869141\" xlink:href=\"#DejaVuSans-48\"/>\r\n      </g>\r\n     </g>\r\n    </g>\r\n   </g>\r\n   <g id=\"patch_5\">\r\n    <path d=\"M 39.65 224.64 \r\nL 39.65 7.2 \r\n\" style=\"fill:none;stroke:#000000;stroke-linecap:square;stroke-linejoin:miter;stroke-width:0.8;\"/>\r\n   </g>\r\n   <g id=\"patch_6\">\r\n    <path d=\"M 374.45 224.64 \r\nL 374.45 7.2 \r\n\" style=\"fill:none;stroke:#000000;stroke-linecap:square;stroke-linejoin:miter;stroke-width:0.8;\"/>\r\n   </g>\r\n   <g id=\"patch_7\">\r\n    <path d=\"M 39.65 224.64 \r\nL 374.45 224.64 \r\n\" style=\"fill:none;stroke:#000000;stroke-linecap:square;stroke-linejoin:miter;stroke-width:0.8;\"/>\r\n   </g>\r\n   <g id=\"patch_8\">\r\n    <path d=\"M 39.65 7.2 \r\nL 374.45 7.2 \r\n\" style=\"fill:none;stroke:#000000;stroke-linecap:square;stroke-linejoin:miter;stroke-width:0.8;\"/>\r\n   </g>\r\n   <g id=\"legend_1\">\r\n    <g id=\"patch_9\">\r\n     <path d=\"M 227.742188 44.55625 \r\nL 367.45 44.55625 \r\nQ 369.45 44.55625 369.45 42.55625 \r\nL 369.45 14.2 \r\nQ 369.45 12.2 367.45 12.2 \r\nL 227.742188 12.2 \r\nQ 225.742188 12.2 225.742188 14.2 \r\nL 225.742188 42.55625 \r\nQ 225.742188 44.55625 227.742188 44.55625 \r\nz\r\n\" style=\"fill:#ffffff;opacity:0.8;stroke:#cccccc;stroke-linejoin:miter;\"/>\r\n    </g>\r\n    <g id=\"patch_10\">\r\n     <path d=\"M 229.742188 23.798437 \r\nL 249.742188 23.798437 \r\nL 249.742188 16.798437 \r\nL 229.742188 16.798437 \r\nz\r\n\" style=\"fill:none;stroke:#ff7f0e;stroke-linejoin:miter;\"/>\r\n    </g>\r\n    <g id=\"text_12\">\r\n     <!-- 5 degrees of freedom -->\r\n     <defs>\r\n      <path id=\"DejaVuSans-32\"/>\r\n      <path d=\"M 45.40625 46.390625 \r\nL 45.40625 75.984375 \r\nL 54.390625 75.984375 \r\nL 54.390625 0 \r\nL 45.40625 0 \r\nL 45.40625 8.203125 \r\nQ 42.578125 3.328125 38.25 0.953125 \r\nQ 33.9375 -1.421875 27.875 -1.421875 \r\nQ 17.96875 -1.421875 11.734375 6.484375 \r\nQ 5.515625 14.40625 5.515625 27.296875 \r\nQ 5.515625 40.1875 11.734375 48.09375 \r\nQ 17.96875 56 27.875 56 \r\nQ 33.9375 56 38.25 53.625 \r\nQ 42.578125 51.265625 45.40625 46.390625 \r\nz\r\nM 14.796875 27.296875 \r\nQ 14.796875 17.390625 18.875 11.75 \r\nQ 22.953125 6.109375 30.078125 6.109375 \r\nQ 37.203125 6.109375 41.296875 11.75 \r\nQ 45.40625 17.390625 45.40625 27.296875 \r\nQ 45.40625 37.203125 41.296875 42.84375 \r\nQ 37.203125 48.484375 30.078125 48.484375 \r\nQ 22.953125 48.484375 18.875 42.84375 \r\nQ 14.796875 37.203125 14.796875 27.296875 \r\nz\r\n\" id=\"DejaVuSans-100\"/>\r\n      <path d=\"M 56.203125 29.59375 \r\nL 56.203125 25.203125 \r\nL 14.890625 25.203125 \r\nQ 15.484375 15.921875 20.484375 11.0625 \r\nQ 25.484375 6.203125 34.421875 6.203125 \r\nQ 39.59375 6.203125 44.453125 7.46875 \r\nQ 49.3125 8.734375 54.109375 11.28125 \r\nL 54.109375 2.78125 \r\nQ 49.265625 0.734375 44.1875 -0.34375 \r\nQ 39.109375 -1.421875 33.890625 -1.421875 \r\nQ 20.796875 -1.421875 13.15625 6.1875 \r\nQ 5.515625 13.8125 5.515625 26.8125 \r\nQ 5.515625 40.234375 12.765625 48.109375 \r\nQ 20.015625 56 32.328125 56 \r\nQ 43.359375 56 49.78125 48.890625 \r\nQ 56.203125 41.796875 56.203125 29.59375 \r\nz\r\nM 47.21875 32.234375 \r\nQ 47.125 39.59375 43.09375 43.984375 \r\nQ 39.0625 48.390625 32.421875 48.390625 \r\nQ 24.90625 48.390625 20.390625 44.140625 \r\nQ 15.875 39.890625 15.1875 32.171875 \r\nz\r\n\" id=\"DejaVuSans-101\"/>\r\n      <path d=\"M 45.40625 27.984375 \r\nQ 45.40625 37.75 41.375 43.109375 \r\nQ 37.359375 48.484375 30.078125 48.484375 \r\nQ 22.859375 48.484375 18.828125 43.109375 \r\nQ 14.796875 37.75 14.796875 27.984375 \r\nQ 14.796875 18.265625 18.828125 12.890625 \r\nQ 22.859375 7.515625 30.078125 7.515625 \r\nQ 37.359375 7.515625 41.375 12.890625 \r\nQ 45.40625 18.265625 45.40625 27.984375 \r\nz\r\nM 54.390625 6.78125 \r\nQ 54.390625 -7.171875 48.1875 -13.984375 \r\nQ 42 -20.796875 29.203125 -20.796875 \r\nQ 24.46875 -20.796875 20.265625 -20.09375 \r\nQ 16.0625 -19.390625 12.109375 -17.921875 \r\nL 12.109375 -9.1875 \r\nQ 16.0625 -11.328125 19.921875 -12.34375 \r\nQ 23.78125 -13.375 27.78125 -13.375 \r\nQ 36.625 -13.375 41.015625 -8.765625 \r\nQ 45.40625 -4.15625 45.40625 5.171875 \r\nL 45.40625 9.625 \r\nQ 42.625 4.78125 38.28125 2.390625 \r\nQ 33.9375 0 27.875 0 \r\nQ 17.828125 0 11.671875 7.65625 \r\nQ 5.515625 15.328125 5.515625 27.984375 \r\nQ 5.515625 40.671875 11.671875 48.328125 \r\nQ 17.828125 56 27.875 56 \r\nQ 33.9375 56 38.28125 53.609375 \r\nQ 42.625 51.21875 45.40625 46.390625 \r\nL 45.40625 54.6875 \r\nL 54.390625 54.6875 \r\nz\r\n\" id=\"DejaVuSans-103\"/>\r\n      <path d=\"M 41.109375 46.296875 \r\nQ 39.59375 47.171875 37.8125 47.578125 \r\nQ 36.03125 48 33.890625 48 \r\nQ 26.265625 48 22.1875 43.046875 \r\nQ 18.109375 38.09375 18.109375 28.8125 \r\nL 18.109375 0 \r\nL 9.078125 0 \r\nL 9.078125 54.6875 \r\nL 18.109375 54.6875 \r\nL 18.109375 46.1875 \r\nQ 20.953125 51.171875 25.484375 53.578125 \r\nQ 30.03125 56 36.53125 56 \r\nQ 37.453125 56 38.578125 55.875 \r\nQ 39.703125 55.765625 41.0625 55.515625 \r\nz\r\n\" id=\"DejaVuSans-114\"/>\r\n      <path d=\"M 44.28125 53.078125 \r\nL 44.28125 44.578125 \r\nQ 40.484375 46.53125 36.375 47.5 \r\nQ 32.28125 48.484375 27.875 48.484375 \r\nQ 21.1875 48.484375 17.84375 46.4375 \r\nQ 14.5 44.390625 14.5 40.28125 \r\nQ 14.5 37.15625 16.890625 35.375 \r\nQ 19.28125 33.59375 26.515625 31.984375 \r\nL 29.59375 31.296875 \r\nQ 39.15625 29.25 43.1875 25.515625 \r\nQ 47.21875 21.78125 47.21875 15.09375 \r\nQ 47.21875 7.46875 41.1875 3.015625 \r\nQ 35.15625 -1.421875 24.609375 -1.421875 \r\nQ 20.21875 -1.421875 15.453125 -0.5625 \r\nQ 10.6875 0.296875 5.421875 2 \r\nL 5.421875 11.28125 \r\nQ 10.40625 8.6875 15.234375 7.390625 \r\nQ 20.0625 6.109375 24.8125 6.109375 \r\nQ 31.15625 6.109375 34.5625 8.28125 \r\nQ 37.984375 10.453125 37.984375 14.40625 \r\nQ 37.984375 18.0625 35.515625 20.015625 \r\nQ 33.0625 21.96875 24.703125 23.78125 \r\nL 21.578125 24.515625 \r\nQ 13.234375 26.265625 9.515625 29.90625 \r\nQ 5.8125 33.546875 5.8125 39.890625 \r\nQ 5.8125 47.609375 11.28125 51.796875 \r\nQ 16.75 56 26.8125 56 \r\nQ 31.78125 56 36.171875 55.265625 \r\nQ 40.578125 54.546875 44.28125 53.078125 \r\nz\r\n\" id=\"DejaVuSans-115\"/>\r\n      <path d=\"M 30.609375 48.390625 \r\nQ 23.390625 48.390625 19.1875 42.75 \r\nQ 14.984375 37.109375 14.984375 27.296875 \r\nQ 14.984375 17.484375 19.15625 11.84375 \r\nQ 23.34375 6.203125 30.609375 6.203125 \r\nQ 37.796875 6.203125 41.984375 11.859375 \r\nQ 46.1875 17.53125 46.1875 27.296875 \r\nQ 46.1875 37.015625 41.984375 42.703125 \r\nQ 37.796875 48.390625 30.609375 48.390625 \r\nz\r\nM 30.609375 56 \r\nQ 42.328125 56 49.015625 48.375 \r\nQ 55.71875 40.765625 55.71875 27.296875 \r\nQ 55.71875 13.875 49.015625 6.21875 \r\nQ 42.328125 -1.421875 30.609375 -1.421875 \r\nQ 18.84375 -1.421875 12.171875 6.21875 \r\nQ 5.515625 13.875 5.515625 27.296875 \r\nQ 5.515625 40.765625 12.171875 48.375 \r\nQ 18.84375 56 30.609375 56 \r\nz\r\n\" id=\"DejaVuSans-111\"/>\r\n      <path d=\"M 37.109375 75.984375 \r\nL 37.109375 68.5 \r\nL 28.515625 68.5 \r\nQ 23.6875 68.5 21.796875 66.546875 \r\nQ 19.921875 64.59375 19.921875 59.515625 \r\nL 19.921875 54.6875 \r\nL 34.71875 54.6875 \r\nL 34.71875 47.703125 \r\nL 19.921875 47.703125 \r\nL 19.921875 0 \r\nL 10.890625 0 \r\nL 10.890625 47.703125 \r\nL 2.296875 47.703125 \r\nL 2.296875 54.6875 \r\nL 10.890625 54.6875 \r\nL 10.890625 58.5 \r\nQ 10.890625 67.625 15.140625 71.796875 \r\nQ 19.390625 75.984375 28.609375 75.984375 \r\nz\r\n\" id=\"DejaVuSans-102\"/>\r\n      <path d=\"M 52 44.1875 \r\nQ 55.375 50.25 60.0625 53.125 \r\nQ 64.75 56 71.09375 56 \r\nQ 79.640625 56 84.28125 50.015625 \r\nQ 88.921875 44.046875 88.921875 33.015625 \r\nL 88.921875 0 \r\nL 79.890625 0 \r\nL 79.890625 32.71875 \r\nQ 79.890625 40.578125 77.09375 44.375 \r\nQ 74.3125 48.1875 68.609375 48.1875 \r\nQ 61.625 48.1875 57.5625 43.546875 \r\nQ 53.515625 38.921875 53.515625 30.90625 \r\nL 53.515625 0 \r\nL 44.484375 0 \r\nL 44.484375 32.71875 \r\nQ 44.484375 40.625 41.703125 44.40625 \r\nQ 38.921875 48.1875 33.109375 48.1875 \r\nQ 26.21875 48.1875 22.15625 43.53125 \r\nQ 18.109375 38.875 18.109375 30.90625 \r\nL 18.109375 0 \r\nL 9.078125 0 \r\nL 9.078125 54.6875 \r\nL 18.109375 54.6875 \r\nL 18.109375 46.1875 \r\nQ 21.1875 51.21875 25.484375 53.609375 \r\nQ 29.78125 56 35.6875 56 \r\nQ 41.65625 56 45.828125 52.96875 \r\nQ 50 49.953125 52 44.1875 \r\nz\r\n\" id=\"DejaVuSans-109\"/>\r\n     </defs>\r\n     <g transform=\"translate(257.742188 23.798437)scale(0.1 -0.1)\">\r\n      <use xlink:href=\"#DejaVuSans-53\"/>\r\n      <use x=\"63.623047\" xlink:href=\"#DejaVuSans-32\"/>\r\n      <use x=\"95.410156\" xlink:href=\"#DejaVuSans-100\"/>\r\n      <use x=\"158.886719\" xlink:href=\"#DejaVuSans-101\"/>\r\n      <use x=\"220.410156\" xlink:href=\"#DejaVuSans-103\"/>\r\n      <use x=\"283.886719\" xlink:href=\"#DejaVuSans-114\"/>\r\n      <use x=\"322.75\" xlink:href=\"#DejaVuSans-101\"/>\r\n      <use x=\"384.273438\" xlink:href=\"#DejaVuSans-101\"/>\r\n      <use x=\"445.796875\" xlink:href=\"#DejaVuSans-115\"/>\r\n      <use x=\"497.896484\" xlink:href=\"#DejaVuSans-32\"/>\r\n      <use x=\"529.683594\" xlink:href=\"#DejaVuSans-111\"/>\r\n      <use x=\"590.865234\" xlink:href=\"#DejaVuSans-102\"/>\r\n      <use x=\"626.070312\" xlink:href=\"#DejaVuSans-32\"/>\r\n      <use x=\"657.857422\" xlink:href=\"#DejaVuSans-102\"/>\r\n      <use x=\"693.0625\" xlink:href=\"#DejaVuSans-114\"/>\r\n      <use x=\"731.925781\" xlink:href=\"#DejaVuSans-101\"/>\r\n      <use x=\"793.449219\" xlink:href=\"#DejaVuSans-101\"/>\r\n      <use x=\"854.972656\" xlink:href=\"#DejaVuSans-100\"/>\r\n      <use x=\"918.449219\" xlink:href=\"#DejaVuSans-111\"/>\r\n      <use x=\"979.630859\" xlink:href=\"#DejaVuSans-109\"/>\r\n     </g>\r\n    </g>\r\n    <g id=\"patch_11\">\r\n     <path d=\"M 229.742188 38.476562 \r\nL 249.742188 38.476562 \r\nL 249.742188 31.476562 \r\nL 229.742188 31.476562 \r\nz\r\n\" style=\"fill:none;stroke:#1f77b4;stroke-linejoin:miter;\"/>\r\n    </g>\r\n    <g id=\"text_13\">\r\n     <!-- 2 degrees of freedom -->\r\n     <g transform=\"translate(257.742188 38.476562)scale(0.1 -0.1)\">\r\n      <use xlink:href=\"#DejaVuSans-50\"/>\r\n      <use x=\"63.623047\" xlink:href=\"#DejaVuSans-32\"/>\r\n      <use x=\"95.410156\" xlink:href=\"#DejaVuSans-100\"/>\r\n      <use x=\"158.886719\" xlink:href=\"#DejaVuSans-101\"/>\r\n      <use x=\"220.410156\" xlink:href=\"#DejaVuSans-103\"/>\r\n      <use x=\"283.886719\" xlink:href=\"#DejaVuSans-114\"/>\r\n      <use x=\"322.75\" xlink:href=\"#DejaVuSans-101\"/>\r\n      <use x=\"384.273438\" xlink:href=\"#DejaVuSans-101\"/>\r\n      <use x=\"445.796875\" xlink:href=\"#DejaVuSans-115\"/>\r\n      <use x=\"497.896484\" xlink:href=\"#DejaVuSans-32\"/>\r\n      <use x=\"529.683594\" xlink:href=\"#DejaVuSans-111\"/>\r\n      <use x=\"590.865234\" xlink:href=\"#DejaVuSans-102\"/>\r\n      <use x=\"626.070312\" xlink:href=\"#DejaVuSans-32\"/>\r\n      <use x=\"657.857422\" xlink:href=\"#DejaVuSans-102\"/>\r\n      <use x=\"693.0625\" xlink:href=\"#DejaVuSans-114\"/>\r\n      <use x=\"731.925781\" xlink:href=\"#DejaVuSans-101\"/>\r\n      <use x=\"793.449219\" xlink:href=\"#DejaVuSans-101\"/>\r\n      <use x=\"854.972656\" xlink:href=\"#DejaVuSans-100\"/>\r\n      <use x=\"918.449219\" xlink:href=\"#DejaVuSans-111\"/>\r\n      <use x=\"979.630859\" xlink:href=\"#DejaVuSans-109\"/>\r\n     </g>\r\n    </g>\r\n   </g>\r\n  </g>\r\n </g>\r\n <defs>\r\n  <clipPath id=\"p7ebb59ea2d\">\r\n   <rect height=\"217.44\" width=\"334.8\" x=\"39.65\" y=\"7.2\"/>\r\n  </clipPath>\r\n </defs>\r\n</svg>\r\n",
      "image/png": "[encoded data removed]"
     },
     "metadata": {
      "needs_background": "light"
     }
    }
   ],
   "source": [
    "%matplotlib inline\n",
    "import matplotlib\n",
    "import matplotlib.pyplot as plt\n",
    "\n",
    "output = plt.hist([chi_squared_df2,chi_squared_df5], bins=50, histtype='step', \n",
    "                  label=['2 degrees of freedom','5 degrees of freedom'])\n",
    "plt.legend(loc='upper right')\n"
   ]
  },
  {
   "cell_type": "markdown",
   "metadata": {},
   "source": [
    "# Hypothesis Testing"
   ]
  },
  {
   "cell_type": "code",
   "execution_count": 75,
   "metadata": {},
   "outputs": [],
   "source": [
    "df = pd.read_csv('grades.csv')"
   ]
  },
  {
   "cell_type": "code",
   "execution_count": 76,
   "metadata": {},
   "outputs": [
    {
     "output_type": "execute_result",
     "data": {
      "text/plain": "                             student_id  assignment1_grade  \\\n0  B73F2C11-70F0-E37D-8B10-1D20AFED50B1          92.733946   \n1  98A0FAE0-A19A-13D2-4BB5-CFBFD94031D1          86.790821   \n2  D0F62040-CEB0-904C-F563-2F8620916C4E          85.512541   \n3  FFDF2B2C-F514-EF7F-6538-A6A53518E9DC          86.030665   \n4  5ECBEEB6-F1CE-80AE-3164-E45E99473FB4          64.813800   \n\n          assignment1_submission  assignment2_grade  \\\n0  2015-11-02 06:55:34.282000000          83.030552   \n1  2015-11-29 14:57:44.429000000          86.290821   \n2  2016-01-09 05:36:02.389000000          85.512541   \n3  2016-04-30 06:50:39.801000000          68.824532   \n4  2015-12-13 17:06:10.750000000          51.491040   \n\n          assignment2_submission  assignment3_grade  \\\n0  2015-11-09 02:22:58.938000000          67.164441   \n1  2015-12-06 17:41:18.449000000          69.772657   \n2  2016-01-09 06:39:44.416000000          68.410033   \n3  2016-04-30 17:20:38.727000000          61.942079   \n4  2015-12-14 12:25:12.056000000          41.932832   \n\n          assignment3_submission  assignment4_grade  \\\n0  2015-11-12 08:58:33.998000000          53.011553   \n1  2015-12-10 08:54:55.904000000          55.098125   \n2  2016-01-15 20:22:45.882000000          54.728026   \n3  2016-05-12 07:47:16.326000000          49.553663   \n4  2015-12-29 14:25:22.594000000          36.929549   \n\n          assignment4_submission  assignment5_grade  \\\n0  2015-11-16 01:21:24.663000000          47.710398   \n1  2015-12-13 17:32:30.941000000          49.588313   \n2  2016-01-11 12:41:50.749000000          49.255224   \n3  2016-05-07 16:09:20.485000000          49.553663   \n4  2015-12-28 01:29:55.901000000          33.236594   \n\n          assignment5_submission  assignment6_grade  \\\n0  2015-11-20 13:24:59.692000000          38.168318   \n1  2015-12-19 23:26:39.285000000          44.629482   \n2  2016-01-11 17:31:12.489000000          44.329701   \n3  2016-05-24 12:51:18.016000000          44.598297   \n4  2015-12-29 14:46:06.628000000          33.236594   \n\n          assignment6_submission  \n0  2015-11-22 18:31:15.934000000  \n1  2015-12-21 17:07:24.275000000  \n2  2016-01-17 16:24:42.765000000  \n3  2016-05-26 08:09:12.058000000  \n4  2016-01-05 01:06:59.546000000  ",
      "text/html": "<div>\n<style scoped>\n    .dataframe tbody tr th:only-of-type {\n        vertical-align: middle;\n    }\n\n    .dataframe tbody tr th {\n        vertical-align: top;\n    }\n\n    .dataframe thead th {\n        text-align: right;\n    }\n</style>\n<table border=\"1\" class=\"dataframe\">\n  <thead>\n    <tr style=\"text-align: right;\">\n      <th></th>\n      <th>student_id</th>\n      <th>assignment1_grade</th>\n      <th>assignment1_submission</th>\n      <th>assignment2_grade</th>\n      <th>assignment2_submission</th>\n      <th>assignment3_grade</th>\n      <th>assignment3_submission</th>\n      <th>assignment4_grade</th>\n      <th>assignment4_submission</th>\n      <th>assignment5_grade</th>\n      <th>assignment5_submission</th>\n      <th>assignment6_grade</th>\n      <th>assignment6_submission</th>\n    </tr>\n  </thead>\n  <tbody>\n    <tr>\n      <th>0</th>\n      <td>B73F2C11-70F0-E37D-8B10-1D20AFED50B1</td>\n      <td>92.733946</td>\n      <td>2015-11-02 06:55:34.282000000</td>\n      <td>83.030552</td>\n      <td>2015-11-09 02:22:58.938000000</td>\n      <td>67.164441</td>\n      <td>2015-11-12 08:58:33.998000000</td>\n      <td>53.011553</td>\n      <td>2015-11-16 01:21:24.663000000</td>\n      <td>47.710398</td>\n      <td>2015-11-20 13:24:59.692000000</td>\n      <td>38.168318</td>\n      <td>2015-11-22 18:31:15.934000000</td>\n    </tr>\n    <tr>\n      <th>1</th>\n      <td>98A0FAE0-A19A-13D2-4BB5-CFBFD94031D1</td>\n      <td>86.790821</td>\n      <td>2015-11-29 14:57:44.429000000</td>\n      <td>86.290821</td>\n      <td>2015-12-06 17:41:18.449000000</td>\n      <td>69.772657</td>\n      <td>2015-12-10 08:54:55.904000000</td>\n      <td>55.098125</td>\n      <td>2015-12-13 17:32:30.941000000</td>\n      <td>49.588313</td>\n      <td>2015-12-19 23:26:39.285000000</td>\n      <td>44.629482</td>\n      <td>2015-12-21 17:07:24.275000000</td>\n    </tr>\n    <tr>\n      <th>2</th>\n      <td>D0F62040-CEB0-904C-F563-2F8620916C4E</td>\n      <td>85.512541</td>\n      <td>2016-01-09 05:36:02.389000000</td>\n      <td>85.512541</td>\n      <td>2016-01-09 06:39:44.416000000</td>\n      <td>68.410033</td>\n      <td>2016-01-15 20:22:45.882000000</td>\n      <td>54.728026</td>\n      <td>2016-01-11 12:41:50.749000000</td>\n      <td>49.255224</td>\n      <td>2016-01-11 17:31:12.489000000</td>\n      <td>44.329701</td>\n      <td>2016-01-17 16:24:42.765000000</td>\n    </tr>\n    <tr>\n      <th>3</th>\n      <td>FFDF2B2C-F514-EF7F-6538-A6A53518E9DC</td>\n      <td>86.030665</td>\n      <td>2016-04-30 06:50:39.801000000</td>\n      <td>68.824532</td>\n      <td>2016-04-30 17:20:38.727000000</td>\n      <td>61.942079</td>\n      <td>2016-05-12 07:47:16.326000000</td>\n      <td>49.553663</td>\n      <td>2016-05-07 16:09:20.485000000</td>\n      <td>49.553663</td>\n      <td>2016-05-24 12:51:18.016000000</td>\n      <td>44.598297</td>\n      <td>2016-05-26 08:09:12.058000000</td>\n    </tr>\n    <tr>\n      <th>4</th>\n      <td>5ECBEEB6-F1CE-80AE-3164-E45E99473FB4</td>\n      <td>64.813800</td>\n      <td>2015-12-13 17:06:10.750000000</td>\n      <td>51.491040</td>\n      <td>2015-12-14 12:25:12.056000000</td>\n      <td>41.932832</td>\n      <td>2015-12-29 14:25:22.594000000</td>\n      <td>36.929549</td>\n      <td>2015-12-28 01:29:55.901000000</td>\n      <td>33.236594</td>\n      <td>2015-12-29 14:46:06.628000000</td>\n      <td>33.236594</td>\n      <td>2016-01-05 01:06:59.546000000</td>\n    </tr>\n  </tbody>\n</table>\n</div>"
     },
     "metadata": {},
     "execution_count": 76
    }
   ],
   "source": [
    "df.head()"
   ]
  },
  {
   "cell_type": "code",
   "execution_count": 77,
   "metadata": {},
   "outputs": [
    {
     "output_type": "execute_result",
     "data": {
      "text/plain": "2315"
     },
     "metadata": {},
     "execution_count": 77
    }
   ],
   "source": [
    "len(df)"
   ]
  },
  {
   "cell_type": "code",
   "execution_count": 78,
   "metadata": {},
   "outputs": [],
   "source": [
    "early = df[df['assignment1_submission'] <= '2015-12-31']\n",
    "late = df[df['assignment1_submission'] > '2015-12-31']"
   ]
  },
  {
   "cell_type": "code",
   "execution_count": 79,
   "metadata": {},
   "outputs": [
    {
     "output_type": "execute_result",
     "data": {
      "text/plain": "assignment1_grade    74.972741\nassignment2_grade    67.252190\nassignment3_grade    61.129050\nassignment4_grade    54.157620\nassignment5_grade    48.634643\nassignment6_grade    43.838980\ndtype: float64"
     },
     "metadata": {},
     "execution_count": 79
    }
   ],
   "source": [
    "early.mean()"
   ]
  },
  {
   "cell_type": "code",
   "execution_count": 80,
   "metadata": {},
   "outputs": [
    {
     "output_type": "execute_result",
     "data": {
      "text/plain": "assignment1_grade    74.017429\nassignment2_grade    66.370822\nassignment3_grade    60.023244\nassignment4_grade    54.058138\nassignment5_grade    48.599402\nassignment6_grade    43.844384\ndtype: float64"
     },
     "metadata": {},
     "execution_count": 80
    }
   ],
   "source": [
    "late.mean()"
   ]
  },
  {
   "cell_type": "code",
   "execution_count": 81,
   "metadata": {},
   "outputs": [
    {
     "output_type": "stream",
     "text": "\u001b[1;31mSignature:\u001b[0m \u001b[0mstats\u001b[0m\u001b[1;33m.\u001b[0m\u001b[0mttest_ind\u001b[0m\u001b[1;33m(\u001b[0m\u001b[0ma\u001b[0m\u001b[1;33m,\u001b[0m \u001b[0mb\u001b[0m\u001b[1;33m,\u001b[0m \u001b[0maxis\u001b[0m\u001b[1;33m=\u001b[0m\u001b[1;36m0\u001b[0m\u001b[1;33m,\u001b[0m \u001b[0mequal_var\u001b[0m\u001b[1;33m=\u001b[0m\u001b[1;32mTrue\u001b[0m\u001b[1;33m,\u001b[0m \u001b[0mnan_policy\u001b[0m\u001b[1;33m=\u001b[0m\u001b[1;34m'propagate'\u001b[0m\u001b[1;33m)\u001b[0m\u001b[1;33m\u001b[0m\u001b[1;33m\u001b[0m\u001b[0m\n\u001b[1;31mDocstring:\u001b[0m\nCalculate the T-test for the means of *two independent* samples of scores.\n\nThis is a two-sided test for the null hypothesis that 2 independent samples\nhave identical average (expected) values. This test assumes that the\npopulations have identical variances by default.\n\nParameters\n----------\na, b : array_like\n    The arrays must have the same shape, except in the dimension\n    corresponding to `axis` (the first, by default).\naxis : int or None, optional\n    Axis along which to compute test. If None, compute over the whole\n    arrays, `a`, and `b`.\nequal_var : bool, optional\n    If True (default), perform a standard independent 2 sample test\n    that assumes equal population variances [1]_.\n    If False, perform Welch's t-test, which does not assume equal\n    population variance [2]_.\n\n    .. versionadded:: 0.11.0\nnan_policy : {'propagate', 'raise', 'omit'}, optional\n    Defines how to handle when input contains nan.\n    The following options are available (default is 'propagate'):\n\n      * 'propagate': returns nan\n      * 'raise': throws an error\n      * 'omit': performs the calculations ignoring nan values\n\nReturns\n-------\nstatistic : float or array\n    The calculated t-statistic.\npvalue : float or array\n    The two-tailed p-value.\n\nNotes\n-----\nWe can use this test, if we observe two independent samples from\nthe same or different population, e.g. exam scores of boys and\ngirls or of two ethnic groups. The test measures whether the\naverage (expected) value differs significantly across samples. If\nwe observe a large p-value, for example larger than 0.05 or 0.1,\nthen we cannot reject the null hypothesis of identical average scores.\nIf the p-value is smaller than the threshold, e.g. 1%, 5% or 10%,\nthen we reject the null hypothesis of equal averages.\n\nReferences\n----------\n.. [1] https://en.wikipedia.org/wiki/T-test#Independent_two-sample_t-test\n\n.. [2] https://en.wikipedia.org/wiki/Welch%27s_t-test\n\nExamples\n--------\n>>> from scipy import stats\n>>> np.random.seed(12345678)\n\nTest with sample with identical means:\n\n>>> rvs1 = stats.norm.rvs(loc=5,scale=10,size=500)\n>>> rvs2 = stats.norm.rvs(loc=5,scale=10,size=500)\n>>> stats.ttest_ind(rvs1,rvs2)\n(0.26833823296239279, 0.78849443369564776)\n>>> stats.ttest_ind(rvs1,rvs2, equal_var = False)\n(0.26833823296239279, 0.78849452749500748)\n\n`ttest_ind` underestimates p for unequal variances:\n\n>>> rvs3 = stats.norm.rvs(loc=5, scale=20, size=500)\n>>> stats.ttest_ind(rvs1, rvs3)\n(-0.46580283298287162, 0.64145827413436174)\n>>> stats.ttest_ind(rvs1, rvs3, equal_var = False)\n(-0.46580283298287162, 0.64149646246569292)\n\nWhen n1 != n2, the equal variance t-statistic is no longer equal to the\nunequal variance t-statistic:\n\n>>> rvs4 = stats.norm.rvs(loc=5, scale=20, size=100)\n>>> stats.ttest_ind(rvs1, rvs4)\n(-0.99882539442782481, 0.3182832709103896)\n>>> stats.ttest_ind(rvs1, rvs4, equal_var = False)\n(-0.69712570584654099, 0.48716927725402048)\n\nT-test with different means, variance, and n:\n\n>>> rvs5 = stats.norm.rvs(loc=8, scale=20, size=100)\n>>> stats.ttest_ind(rvs1, rvs5)\n(-1.4679669854490653, 0.14263895620529152)\n>>> stats.ttest_ind(rvs1, rvs5, equal_var = False)\n(-0.94365973617132992, 0.34744170334794122)\n\u001b[1;31mFile:\u001b[0m      c:\\users\\ip330s\\python\\python38-32\\lib\\site-packages\\scipy\\stats\\stats.py\n\u001b[1;31mType:\u001b[0m      function\n"
    }
   ],
   "source": [
    "from scipy import stats\n",
    "stats.ttest_ind?"
   ]
  },
  {
   "cell_type": "code",
   "execution_count": 82,
   "metadata": {},
   "outputs": [
    {
     "output_type": "execute_result",
     "data": {
      "text/plain": "Ttest_indResult(statistic=1.400549944897566, pvalue=0.16148283016060577)"
     },
     "metadata": {},
     "execution_count": 82
    }
   ],
   "source": [
    "stats.ttest_ind(early['assignment1_grade'], late['assignment1_grade'])"
   ]
  },
  {
   "cell_type": "code",
   "execution_count": 83,
   "metadata": {},
   "outputs": [
    {
     "output_type": "execute_result",
     "data": {
      "text/plain": "Ttest_indResult(statistic=1.3239868220912567, pvalue=0.18563824610067964)"
     },
     "metadata": {},
     "execution_count": 83
    }
   ],
   "source": [
    "stats.ttest_ind(early['assignment2_grade'], late['assignment2_grade'])"
   ]
  },
  {
   "cell_type": "code",
   "execution_count": 84,
   "metadata": {},
   "outputs": [
    {
     "output_type": "execute_result",
     "data": {
      "text/plain": "Ttest_indResult(statistic=1.7116160037010733, pvalue=0.08710151634155668)"
     },
     "metadata": {},
     "execution_count": 84
    }
   ],
   "source": [
    "stats.ttest_ind(early['assignment3_grade'], late['assignment3_grade'])"
   ]
  },
  {
   "cell_type": "code",
   "execution_count": null,
   "metadata": {},
   "outputs": [],
   "source": []
  }
 ],
 "metadata": {
  "kernelspec": {
   "display_name": "Python 3.8.3 32-bit",
   "language": "python",
   "name": "python_defaultSpec_1597214242483"
  },
  "language_info": {
   "codemirror_mode": {
    "name": "ipython",
    "version": 3
   },
   "file_extension": ".py",
   "mimetype": "text/x-python",
   "name": "python",
   "nbconvert_exporter": "python",
   "pygments_lexer": "ipython3",
   "version": "3.6.2"
  }
 },
 "nbformat": 4,
 "nbformat_minor": 1
}