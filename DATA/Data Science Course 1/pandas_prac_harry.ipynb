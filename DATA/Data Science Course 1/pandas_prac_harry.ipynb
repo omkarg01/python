{
 "cells": [
  {
   "cell_type": "code",
   "execution_count": 129,
   "metadata": {},
   "outputs": [],
   "source": [
    "import numpy as np\n",
    "import pandas as pd"
   ]
  },
  {
   "cell_type": "code",
   "execution_count": 130,
   "metadata": {},
   "outputs": [],
   "source": [
    "ser = pd.Series(np.random.rand(34))"
   ]
  },
  {
   "cell_type": "code",
   "execution_count": 131,
   "metadata": {},
   "outputs": [
    {
     "output_type": "execute_result",
     "data": {
      "text/plain": "0    0.796357\n1    0.087756\n2    0.026236\n3    0.827808\n4    0.740165\ndtype: float64"
     },
     "metadata": {},
     "execution_count": 131
    }
   ],
   "source": [
    "ser.head()"
   ]
  },
  {
   "cell_type": "code",
   "execution_count": 132,
   "metadata": {},
   "outputs": [
    {
     "output_type": "execute_result",
     "data": {
      "text/plain": "          0         1         2         3         4\n0  0.233434  0.032187  0.237333  0.865332  0.244665\n1  0.981610  0.622183  0.135317  0.712306  0.322084\n2  0.915347  0.529004  0.309749  0.490038  0.303686\n3  0.200385  0.443946  0.766609  0.088075  0.822005\n4  0.913429  0.274154  0.890240  0.730085  0.788109",
      "text/html": "<div>\n<style scoped>\n    .dataframe tbody tr th:only-of-type {\n        vertical-align: middle;\n    }\n\n    .dataframe tbody tr th {\n        vertical-align: top;\n    }\n\n    .dataframe thead th {\n        text-align: right;\n    }\n</style>\n<table border=\"1\" class=\"dataframe\">\n  <thead>\n    <tr style=\"text-align: right;\">\n      <th></th>\n      <th>0</th>\n      <th>1</th>\n      <th>2</th>\n      <th>3</th>\n      <th>4</th>\n    </tr>\n  </thead>\n  <tbody>\n    <tr>\n      <th>0</th>\n      <td>0.233434</td>\n      <td>0.032187</td>\n      <td>0.237333</td>\n      <td>0.865332</td>\n      <td>0.244665</td>\n    </tr>\n    <tr>\n      <th>1</th>\n      <td>0.981610</td>\n      <td>0.622183</td>\n      <td>0.135317</td>\n      <td>0.712306</td>\n      <td>0.322084</td>\n    </tr>\n    <tr>\n      <th>2</th>\n      <td>0.915347</td>\n      <td>0.529004</td>\n      <td>0.309749</td>\n      <td>0.490038</td>\n      <td>0.303686</td>\n    </tr>\n    <tr>\n      <th>3</th>\n      <td>0.200385</td>\n      <td>0.443946</td>\n      <td>0.766609</td>\n      <td>0.088075</td>\n      <td>0.822005</td>\n    </tr>\n    <tr>\n      <th>4</th>\n      <td>0.913429</td>\n      <td>0.274154</td>\n      <td>0.890240</td>\n      <td>0.730085</td>\n      <td>0.788109</td>\n    </tr>\n  </tbody>\n</table>\n</div>"
     },
     "metadata": {},
     "execution_count": 132
    }
   ],
   "source": [
    "newdf= pd.DataFrame(np.random.rand(334, 5), index=np.arange(334))\n",
    "newdf.head()"
   ]
  },
  {
   "cell_type": "code",
   "execution_count": 133,
   "metadata": {},
   "outputs": [
    {
     "output_type": "execute_result",
     "data": {
      "text/plain": "                0           1           2           3           4\ncount  334.000000  334.000000  334.000000  334.000000  334.000000\nmean     0.508022    0.506255    0.494188    0.513777    0.517511\nstd      0.295274    0.286933    0.294323    0.275283    0.281703\nmin      0.001471    0.001393    0.003091    0.000737    0.005343\n25%      0.243681    0.255708    0.248014    0.280179    0.290676\n50%      0.505937    0.510552    0.480499    0.526203    0.494571\n75%      0.764585    0.728452    0.763269    0.744784    0.766815\nmax      0.999587    0.998064    0.999950    0.993596    0.999805",
      "text/html": "<div>\n<style scoped>\n    .dataframe tbody tr th:only-of-type {\n        vertical-align: middle;\n    }\n\n    .dataframe tbody tr th {\n        vertical-align: top;\n    }\n\n    .dataframe thead th {\n        text-align: right;\n    }\n</style>\n<table border=\"1\" class=\"dataframe\">\n  <thead>\n    <tr style=\"text-align: right;\">\n      <th></th>\n      <th>0</th>\n      <th>1</th>\n      <th>2</th>\n      <th>3</th>\n      <th>4</th>\n    </tr>\n  </thead>\n  <tbody>\n    <tr>\n      <th>count</th>\n      <td>334.000000</td>\n      <td>334.000000</td>\n      <td>334.000000</td>\n      <td>334.000000</td>\n      <td>334.000000</td>\n    </tr>\n    <tr>\n      <th>mean</th>\n      <td>0.508022</td>\n      <td>0.506255</td>\n      <td>0.494188</td>\n      <td>0.513777</td>\n      <td>0.517511</td>\n    </tr>\n    <tr>\n      <th>std</th>\n      <td>0.295274</td>\n      <td>0.286933</td>\n      <td>0.294323</td>\n      <td>0.275283</td>\n      <td>0.281703</td>\n    </tr>\n    <tr>\n      <th>min</th>\n      <td>0.001471</td>\n      <td>0.001393</td>\n      <td>0.003091</td>\n      <td>0.000737</td>\n      <td>0.005343</td>\n    </tr>\n    <tr>\n      <th>25%</th>\n      <td>0.243681</td>\n      <td>0.255708</td>\n      <td>0.248014</td>\n      <td>0.280179</td>\n      <td>0.290676</td>\n    </tr>\n    <tr>\n      <th>50%</th>\n      <td>0.505937</td>\n      <td>0.510552</td>\n      <td>0.480499</td>\n      <td>0.526203</td>\n      <td>0.494571</td>\n    </tr>\n    <tr>\n      <th>75%</th>\n      <td>0.764585</td>\n      <td>0.728452</td>\n      <td>0.763269</td>\n      <td>0.744784</td>\n      <td>0.766815</td>\n    </tr>\n    <tr>\n      <th>max</th>\n      <td>0.999587</td>\n      <td>0.998064</td>\n      <td>0.999950</td>\n      <td>0.993596</td>\n      <td>0.999805</td>\n    </tr>\n  </tbody>\n</table>\n</div>"
     },
     "metadata": {},
     "execution_count": 133
    }
   ],
   "source": [
    "newdf.describe()"
   ]
  },
  {
   "cell_type": "code",
   "execution_count": 134,
   "metadata": {},
   "outputs": [
    {
     "output_type": "execute_result",
     "data": {
      "text/plain": "0    float64\n1    float64\n2    float64\n3    float64\n4    float64\ndtype: object"
     },
     "metadata": {},
     "execution_count": 134
    }
   ],
   "source": [
    "newdf.dtypes"
   ]
  },
  {
   "cell_type": "code",
   "execution_count": 135,
   "metadata": {},
   "outputs": [
    {
     "output_type": "execute_result",
     "data": {
      "text/plain": "          0         1         2         3         4\n0     omkar  0.032187  0.237333  0.865332  0.244665\n1   0.98161  0.622183  0.135317  0.712306  0.322084\n2  0.915347  0.529004  0.309749  0.490038  0.303686\n3  0.200385  0.443946  0.766609  0.088075  0.822005\n4  0.913429  0.274154  0.890240  0.730085  0.788109",
      "text/html": "<div>\n<style scoped>\n    .dataframe tbody tr th:only-of-type {\n        vertical-align: middle;\n    }\n\n    .dataframe tbody tr th {\n        vertical-align: top;\n    }\n\n    .dataframe thead th {\n        text-align: right;\n    }\n</style>\n<table border=\"1\" class=\"dataframe\">\n  <thead>\n    <tr style=\"text-align: right;\">\n      <th></th>\n      <th>0</th>\n      <th>1</th>\n      <th>2</th>\n      <th>3</th>\n      <th>4</th>\n    </tr>\n  </thead>\n  <tbody>\n    <tr>\n      <th>0</th>\n      <td>omkar</td>\n      <td>0.032187</td>\n      <td>0.237333</td>\n      <td>0.865332</td>\n      <td>0.244665</td>\n    </tr>\n    <tr>\n      <th>1</th>\n      <td>0.98161</td>\n      <td>0.622183</td>\n      <td>0.135317</td>\n      <td>0.712306</td>\n      <td>0.322084</td>\n    </tr>\n    <tr>\n      <th>2</th>\n      <td>0.915347</td>\n      <td>0.529004</td>\n      <td>0.309749</td>\n      <td>0.490038</td>\n      <td>0.303686</td>\n    </tr>\n    <tr>\n      <th>3</th>\n      <td>0.200385</td>\n      <td>0.443946</td>\n      <td>0.766609</td>\n      <td>0.088075</td>\n      <td>0.822005</td>\n    </tr>\n    <tr>\n      <th>4</th>\n      <td>0.913429</td>\n      <td>0.274154</td>\n      <td>0.890240</td>\n      <td>0.730085</td>\n      <td>0.788109</td>\n    </tr>\n  </tbody>\n</table>\n</div>"
     },
     "metadata": {},
     "execution_count": 135
    }
   ],
   "source": [
    "newdf[0][0]='omkar'\n",
    "newdf.head()"
   ]
  },
  {
   "cell_type": "code",
   "execution_count": 136,
   "metadata": {},
   "outputs": [
    {
     "output_type": "execute_result",
     "data": {
      "text/plain": "Int64Index([  0,   1,   2,   3,   4,   5,   6,   7,   8,   9,\n            ...\n            324, 325, 326, 327, 328, 329, 330, 331, 332, 333],\n           dtype='int64', length=334)"
     },
     "metadata": {},
     "execution_count": 136
    }
   ],
   "source": [
    "newdf.index"
   ]
  },
  {
   "cell_type": "code",
   "execution_count": 137,
   "metadata": {},
   "outputs": [
    {
     "output_type": "execute_result",
     "data": {
      "text/plain": "RangeIndex(start=0, stop=5, step=1)"
     },
     "metadata": {},
     "execution_count": 137
    }
   ],
   "source": [
    "newdf.columns"
   ]
  },
  {
   "cell_type": "code",
   "execution_count": 138,
   "metadata": {},
   "outputs": [
    {
     "output_type": "execute_result",
     "data": {
      "text/plain": "array([['omkar', 0.03218687834230394, 0.2373327062241546,\n        0.8653319877261301, 0.2446648680474791],\n       [0.9816103108091321, 0.6221829576842041, 0.13531681684819086,\n        0.7123059702939092, 0.322083914542064],\n       [0.9153470619091038, 0.5290037721802184, 0.3097487802816826,\n        0.49003785311830805, 0.3036864632865789],\n       ...,\n       [0.921194585869089, 0.5079703980389337, 0.4772292342918415,\n        0.5349737176710226, 0.5038243051581671],\n       [0.9280879023034538, 0.8382825147436004, 0.16316414212596586,\n        0.8420759931401656, 0.4797723416740972],\n       [0.5733482342492985, 0.7228780519026766, 0.31233335919474314,\n        0.5105076066161343, 0.46951505797956683]], dtype=object)"
     },
     "metadata": {},
     "execution_count": 138
    }
   ],
   "source": [
    "newdf.to_numpy(\n",
    ")"
   ]
  },
  {
   "cell_type": "code",
   "execution_count": 139,
   "metadata": {},
   "outputs": [
    {
     "output_type": "execute_result",
     "data": {
      "text/plain": "array([[0.3, 0.03218687834230394, 0.2373327062241546, 0.8653319877261301,\n        0.2446648680474791],\n       [0.9816103108091321, 0.6221829576842041, 0.13531681684819086,\n        0.7123059702939092, 0.322083914542064],\n       [0.9153470619091038, 0.5290037721802184, 0.3097487802816826,\n        0.49003785311830805, 0.3036864632865789],\n       ...,\n       [0.921194585869089, 0.5079703980389337, 0.4772292342918415,\n        0.5349737176710226, 0.5038243051581671],\n       [0.9280879023034538, 0.8382825147436004, 0.16316414212596586,\n        0.8420759931401656, 0.4797723416740972],\n       [0.5733482342492985, 0.7228780519026766, 0.31233335919474314,\n        0.5105076066161343, 0.46951505797956683]], dtype=object)"
     },
     "metadata": {},
     "execution_count": 139
    }
   ],
   "source": [
    "newdf[0][0]=0.3\n",
    "newdf.to_numpy()"
   ]
  },
  {
   "cell_type": "code",
   "execution_count": 140,
   "metadata": {},
   "outputs": [
    {
     "output_type": "execute_result",
     "data": {
      "text/plain": "          0         1         2         3         4\n0       0.3  0.032187  0.237333  0.865332  0.244665\n1   0.98161  0.622183  0.135317  0.712306  0.322084\n2  0.915347  0.529004  0.309749  0.490038  0.303686\n3  0.200385  0.443946  0.766609  0.088075  0.822005\n4  0.913429  0.274154  0.890240  0.730085  0.788109",
      "text/html": "<div>\n<style scoped>\n    .dataframe tbody tr th:only-of-type {\n        vertical-align: middle;\n    }\n\n    .dataframe tbody tr th {\n        vertical-align: top;\n    }\n\n    .dataframe thead th {\n        text-align: right;\n    }\n</style>\n<table border=\"1\" class=\"dataframe\">\n  <thead>\n    <tr style=\"text-align: right;\">\n      <th></th>\n      <th>0</th>\n      <th>1</th>\n      <th>2</th>\n      <th>3</th>\n      <th>4</th>\n    </tr>\n  </thead>\n  <tbody>\n    <tr>\n      <th>0</th>\n      <td>0.3</td>\n      <td>0.032187</td>\n      <td>0.237333</td>\n      <td>0.865332</td>\n      <td>0.244665</td>\n    </tr>\n    <tr>\n      <th>1</th>\n      <td>0.98161</td>\n      <td>0.622183</td>\n      <td>0.135317</td>\n      <td>0.712306</td>\n      <td>0.322084</td>\n    </tr>\n    <tr>\n      <th>2</th>\n      <td>0.915347</td>\n      <td>0.529004</td>\n      <td>0.309749</td>\n      <td>0.490038</td>\n      <td>0.303686</td>\n    </tr>\n    <tr>\n      <th>3</th>\n      <td>0.200385</td>\n      <td>0.443946</td>\n      <td>0.766609</td>\n      <td>0.088075</td>\n      <td>0.822005</td>\n    </tr>\n    <tr>\n      <th>4</th>\n      <td>0.913429</td>\n      <td>0.274154</td>\n      <td>0.890240</td>\n      <td>0.730085</td>\n      <td>0.788109</td>\n    </tr>\n  </tbody>\n</table>\n</div>"
     },
     "metadata": {},
     "execution_count": 140
    }
   ],
   "source": [
    "newdf.head()"
   ]
  },
  {
   "cell_type": "code",
   "execution_count": 141,
   "metadata": {},
   "outputs": [
    {
     "output_type": "execute_result",
     "data": {
      "text/plain": "         0         1         2          3         4          5          6    \\\n0        0.3   0.98161  0.915347   0.200385  0.913429   0.589007   0.501138   \n1  0.0321869  0.622183  0.529004   0.443946  0.274154    0.73876   0.927407   \n2   0.237333  0.135317  0.309749   0.766609   0.89024   0.658472  0.0764624   \n3   0.865332  0.712306  0.490038  0.0880754  0.730085  0.0369304   0.249531   \n4   0.244665  0.322084  0.303686   0.822005  0.788109  0.0150596  0.0301274   \n\n         7          8          9         10        11        12        13   \\\n0  0.0221329   0.611552  0.0122717   0.84464  0.953673   0.08771  0.746393   \n1   0.798084   0.983897   0.831157  0.196453  0.530297  0.486216  0.885271   \n2   0.320915  0.0406582   0.339842  0.416301  0.870866  0.482651  0.926554   \n3   0.351029    0.79626   0.216633   0.71329  0.469996  0.838765  0.132843   \n4   0.766403  0.0141133     0.7232   0.91142  0.671723  0.448592  0.309448   \n\n         14         15        16          17        18        19        20   \\\n0  0.0338905   0.908521  0.729693    0.123489  0.463645  0.644333  0.771472   \n1   0.305192   0.119897  0.197003  0.00381921  0.813577  0.906338  0.937752   \n2   0.508468  0.0997091  0.285881    0.917453  0.542303  0.205002  0.283851   \n3    0.83697    0.98161  0.537929    0.840586  0.671749  0.489567  0.353683   \n4   0.687066   0.685287  0.170247    0.113792  0.194473  0.289216  0.790699   \n\n        21         22        23        24        25        26        27   \\\n0  0.833741  0.0509355  0.164459  0.506499   0.31803  0.693752  0.651541   \n1  0.240936      0.232    0.7038  0.323594  0.960233  0.046356    0.4985   \n2  0.477751   0.692617  0.745074  0.275041  0.754887  0.297456   0.30876   \n3  0.247092   0.286297  0.159811  0.763029  0.365525  0.883798  0.640838   \n4  0.420838   0.729867  0.815968  0.108184  0.465304  0.813065  0.979673   \n\n        28        29          30         31        32         33        34   \\\n0  0.473269   0.26905    0.674506    0.50147  0.428525   0.124278  0.890752   \n1  0.444681  0.465161  0.00139317   0.667493  0.625685    0.62696  0.511642   \n2  0.706673  0.297356    0.729218  0.0977031  0.498281  0.0829995  0.133179   \n3  0.114057  0.698926    0.224254   0.357006  0.197014   0.820076  0.599776   \n4   0.70899  0.160021    0.614269   0.168534   0.54577   0.288691  0.320366   \n\n        35        36        37         38        39        40        41   ...  \\\n0   0.96302  0.067656  0.927024   0.198485   0.58892  0.462523  0.491416  ...   \n1  0.257278  0.656175  0.337484   0.259189  0.217827   0.14391  0.986053  ...   \n2  0.149855  0.409836  0.303456  0.0383637  0.946866  0.344806  0.125736  ...   \n3  0.761475  0.333774  0.845076   0.462355  0.427075  0.733615  0.206755  ...   \n4  0.489294  0.726415  0.317568  0.0883659  0.278178  0.809961  0.858274  ...   \n\n        292       293        294       295       296        297       298  \\\n0  0.536634  0.537017   0.748611  0.334673  0.456218   0.108422  0.514244   \n1  0.482514  0.997867    0.17452  0.568392  0.460244   0.677626  0.161353   \n2  0.101423  0.898113   0.480967  0.510766  0.168778  0.0294939  0.551782   \n3  0.474683  0.238769  0.0459307  0.817242  0.268885   0.614697  0.517206   \n4    0.9094   0.90109   0.151691  0.315199  0.713449   0.936408  0.271674   \n\n         299       300        301        302       303        304       305  \\\n0   0.951802  0.635838   0.868651    0.26658  0.966187   0.291078  0.884022   \n1    0.30359  0.628516   0.689303   0.554935  0.889389   0.180991  0.442232   \n2   0.355137  0.900035   0.134017   0.102633  0.722872   0.511736  0.791619   \n3  0.0254558  0.465651    0.96471  0.0364988  0.353171   0.958412   0.60023   \n4   0.177331  0.923626  0.0108152   0.357559  0.225942  0.0192579  0.387026   \n\n        306       307        308       309        310       311       312  \\\n0   0.18389  0.108993  0.0230049  0.373954  0.0826204  0.899795  0.255978   \n1   0.20257  0.895116    0.88613  0.175439  0.0737247  0.621207  0.883631   \n2  0.900521  0.185386   0.395745  0.649542  0.0459195   0.99995  0.922796   \n3  0.449726  0.775574   0.121712  0.686371   0.327945  0.252793  0.853562   \n4  0.859565  0.275865   0.742275  0.671452   0.625459  0.386341  0.891122   \n\n        313        314        315        316       317        318       319  \\\n0  0.442054   0.267861   0.802779    0.13055  0.592144   0.226011  0.302531   \n1  0.585318   0.246077   0.158626  0.0310169  0.709598  0.0881384  0.884753   \n2  0.161412    0.95615   0.447248   0.330973  0.676149   0.313805  0.343378   \n3  0.624697  0.0759732   0.790953   0.647157  0.156226   0.553737    0.4585   \n4  0.333567   0.495034  0.0877074   0.155185  0.363466   0.621753   0.99568   \n\n        320       321       322        323        324       325       326  \\\n0  0.142826  0.146097  0.879783   0.626735   0.626411  0.346132  0.841666   \n1  0.722976  0.490961  0.387237   0.737105  0.0365015  0.664716  0.195087   \n2  0.772244  0.134486  0.505082   0.601308  0.0259444   0.80788  0.269195   \n3   0.85563   0.36133  0.540487  0.0609037   0.858748  0.185964  0.372059   \n4  0.709477  0.240456  0.680128   0.288174   0.475489  0.999805  0.204323   \n\n        327       328       329       330       331       332       333  \n0  0.555311   0.47201  0.289072  0.659761  0.921195  0.928088  0.573348  \n1  0.963237  0.878843  0.880175  0.546782   0.50797  0.838283  0.722878  \n2  0.385047  0.925511  0.502028  0.902834  0.477229  0.163164  0.312333  \n3  0.810396  0.595951  0.865707  0.262034  0.534974  0.842076  0.510508  \n4  0.816319   0.14227  0.804007  0.788406  0.503824  0.479772  0.469515  \n\n[5 rows x 334 columns]",
      "text/html": "<div>\n<style scoped>\n    .dataframe tbody tr th:only-of-type {\n        vertical-align: middle;\n    }\n\n    .dataframe tbody tr th {\n        vertical-align: top;\n    }\n\n    .dataframe thead th {\n        text-align: right;\n    }\n</style>\n<table border=\"1\" class=\"dataframe\">\n  <thead>\n    <tr style=\"text-align: right;\">\n      <th></th>\n      <th>0</th>\n      <th>1</th>\n      <th>2</th>\n      <th>3</th>\n      <th>4</th>\n      <th>5</th>\n      <th>6</th>\n      <th>7</th>\n      <th>8</th>\n      <th>9</th>\n      <th>10</th>\n      <th>11</th>\n      <th>12</th>\n      <th>13</th>\n      <th>14</th>\n      <th>15</th>\n      <th>16</th>\n      <th>17</th>\n      <th>18</th>\n      <th>19</th>\n      <th>20</th>\n      <th>21</th>\n      <th>22</th>\n      <th>23</th>\n      <th>24</th>\n      <th>25</th>\n      <th>26</th>\n      <th>27</th>\n      <th>28</th>\n      <th>29</th>\n      <th>30</th>\n      <th>31</th>\n      <th>32</th>\n      <th>33</th>\n      <th>34</th>\n      <th>35</th>\n      <th>36</th>\n      <th>37</th>\n      <th>38</th>\n      <th>39</th>\n      <th>40</th>\n      <th>41</th>\n      <th>...</th>\n      <th>292</th>\n      <th>293</th>\n      <th>294</th>\n      <th>295</th>\n      <th>296</th>\n      <th>297</th>\n      <th>298</th>\n      <th>299</th>\n      <th>300</th>\n      <th>301</th>\n      <th>302</th>\n      <th>303</th>\n      <th>304</th>\n      <th>305</th>\n      <th>306</th>\n      <th>307</th>\n      <th>308</th>\n      <th>309</th>\n      <th>310</th>\n      <th>311</th>\n      <th>312</th>\n      <th>313</th>\n      <th>314</th>\n      <th>315</th>\n      <th>316</th>\n      <th>317</th>\n      <th>318</th>\n      <th>319</th>\n      <th>320</th>\n      <th>321</th>\n      <th>322</th>\n      <th>323</th>\n      <th>324</th>\n      <th>325</th>\n      <th>326</th>\n      <th>327</th>\n      <th>328</th>\n      <th>329</th>\n      <th>330</th>\n      <th>331</th>\n      <th>332</th>\n      <th>333</th>\n    </tr>\n  </thead>\n  <tbody>\n    <tr>\n      <th>0</th>\n      <td>0.3</td>\n      <td>0.98161</td>\n      <td>0.915347</td>\n      <td>0.200385</td>\n      <td>0.913429</td>\n      <td>0.589007</td>\n      <td>0.501138</td>\n      <td>0.0221329</td>\n      <td>0.611552</td>\n      <td>0.0122717</td>\n      <td>0.84464</td>\n      <td>0.953673</td>\n      <td>0.08771</td>\n      <td>0.746393</td>\n      <td>0.0338905</td>\n      <td>0.908521</td>\n      <td>0.729693</td>\n      <td>0.123489</td>\n      <td>0.463645</td>\n      <td>0.644333</td>\n      <td>0.771472</td>\n      <td>0.833741</td>\n      <td>0.0509355</td>\n      <td>0.164459</td>\n      <td>0.506499</td>\n      <td>0.31803</td>\n      <td>0.693752</td>\n      <td>0.651541</td>\n      <td>0.473269</td>\n      <td>0.26905</td>\n      <td>0.674506</td>\n      <td>0.50147</td>\n      <td>0.428525</td>\n      <td>0.124278</td>\n      <td>0.890752</td>\n      <td>0.96302</td>\n      <td>0.067656</td>\n      <td>0.927024</td>\n      <td>0.198485</td>\n      <td>0.58892</td>\n      <td>0.462523</td>\n      <td>0.491416</td>\n      <td>...</td>\n      <td>0.536634</td>\n      <td>0.537017</td>\n      <td>0.748611</td>\n      <td>0.334673</td>\n      <td>0.456218</td>\n      <td>0.108422</td>\n      <td>0.514244</td>\n      <td>0.951802</td>\n      <td>0.635838</td>\n      <td>0.868651</td>\n      <td>0.26658</td>\n      <td>0.966187</td>\n      <td>0.291078</td>\n      <td>0.884022</td>\n      <td>0.18389</td>\n      <td>0.108993</td>\n      <td>0.0230049</td>\n      <td>0.373954</td>\n      <td>0.0826204</td>\n      <td>0.899795</td>\n      <td>0.255978</td>\n      <td>0.442054</td>\n      <td>0.267861</td>\n      <td>0.802779</td>\n      <td>0.13055</td>\n      <td>0.592144</td>\n      <td>0.226011</td>\n      <td>0.302531</td>\n      <td>0.142826</td>\n      <td>0.146097</td>\n      <td>0.879783</td>\n      <td>0.626735</td>\n      <td>0.626411</td>\n      <td>0.346132</td>\n      <td>0.841666</td>\n      <td>0.555311</td>\n      <td>0.47201</td>\n      <td>0.289072</td>\n      <td>0.659761</td>\n      <td>0.921195</td>\n      <td>0.928088</td>\n      <td>0.573348</td>\n    </tr>\n    <tr>\n      <th>1</th>\n      <td>0.0321869</td>\n      <td>0.622183</td>\n      <td>0.529004</td>\n      <td>0.443946</td>\n      <td>0.274154</td>\n      <td>0.73876</td>\n      <td>0.927407</td>\n      <td>0.798084</td>\n      <td>0.983897</td>\n      <td>0.831157</td>\n      <td>0.196453</td>\n      <td>0.530297</td>\n      <td>0.486216</td>\n      <td>0.885271</td>\n      <td>0.305192</td>\n      <td>0.119897</td>\n      <td>0.197003</td>\n      <td>0.00381921</td>\n      <td>0.813577</td>\n      <td>0.906338</td>\n      <td>0.937752</td>\n      <td>0.240936</td>\n      <td>0.232</td>\n      <td>0.7038</td>\n      <td>0.323594</td>\n      <td>0.960233</td>\n      <td>0.046356</td>\n      <td>0.4985</td>\n      <td>0.444681</td>\n      <td>0.465161</td>\n      <td>0.00139317</td>\n      <td>0.667493</td>\n      <td>0.625685</td>\n      <td>0.62696</td>\n      <td>0.511642</td>\n      <td>0.257278</td>\n      <td>0.656175</td>\n      <td>0.337484</td>\n      <td>0.259189</td>\n      <td>0.217827</td>\n      <td>0.14391</td>\n      <td>0.986053</td>\n      <td>...</td>\n      <td>0.482514</td>\n      <td>0.997867</td>\n      <td>0.17452</td>\n      <td>0.568392</td>\n      <td>0.460244</td>\n      <td>0.677626</td>\n      <td>0.161353</td>\n      <td>0.30359</td>\n      <td>0.628516</td>\n      <td>0.689303</td>\n      <td>0.554935</td>\n      <td>0.889389</td>\n      <td>0.180991</td>\n      <td>0.442232</td>\n      <td>0.20257</td>\n      <td>0.895116</td>\n      <td>0.88613</td>\n      <td>0.175439</td>\n      <td>0.0737247</td>\n      <td>0.621207</td>\n      <td>0.883631</td>\n      <td>0.585318</td>\n      <td>0.246077</td>\n      <td>0.158626</td>\n      <td>0.0310169</td>\n      <td>0.709598</td>\n      <td>0.0881384</td>\n      <td>0.884753</td>\n      <td>0.722976</td>\n      <td>0.490961</td>\n      <td>0.387237</td>\n      <td>0.737105</td>\n      <td>0.0365015</td>\n      <td>0.664716</td>\n      <td>0.195087</td>\n      <td>0.963237</td>\n      <td>0.878843</td>\n      <td>0.880175</td>\n      <td>0.546782</td>\n      <td>0.50797</td>\n      <td>0.838283</td>\n      <td>0.722878</td>\n    </tr>\n    <tr>\n      <th>2</th>\n      <td>0.237333</td>\n      <td>0.135317</td>\n      <td>0.309749</td>\n      <td>0.766609</td>\n      <td>0.89024</td>\n      <td>0.658472</td>\n      <td>0.0764624</td>\n      <td>0.320915</td>\n      <td>0.0406582</td>\n      <td>0.339842</td>\n      <td>0.416301</td>\n      <td>0.870866</td>\n      <td>0.482651</td>\n      <td>0.926554</td>\n      <td>0.508468</td>\n      <td>0.0997091</td>\n      <td>0.285881</td>\n      <td>0.917453</td>\n      <td>0.542303</td>\n      <td>0.205002</td>\n      <td>0.283851</td>\n      <td>0.477751</td>\n      <td>0.692617</td>\n      <td>0.745074</td>\n      <td>0.275041</td>\n      <td>0.754887</td>\n      <td>0.297456</td>\n      <td>0.30876</td>\n      <td>0.706673</td>\n      <td>0.297356</td>\n      <td>0.729218</td>\n      <td>0.0977031</td>\n      <td>0.498281</td>\n      <td>0.0829995</td>\n      <td>0.133179</td>\n      <td>0.149855</td>\n      <td>0.409836</td>\n      <td>0.303456</td>\n      <td>0.0383637</td>\n      <td>0.946866</td>\n      <td>0.344806</td>\n      <td>0.125736</td>\n      <td>...</td>\n      <td>0.101423</td>\n      <td>0.898113</td>\n      <td>0.480967</td>\n      <td>0.510766</td>\n      <td>0.168778</td>\n      <td>0.0294939</td>\n      <td>0.551782</td>\n      <td>0.355137</td>\n      <td>0.900035</td>\n      <td>0.134017</td>\n      <td>0.102633</td>\n      <td>0.722872</td>\n      <td>0.511736</td>\n      <td>0.791619</td>\n      <td>0.900521</td>\n      <td>0.185386</td>\n      <td>0.395745</td>\n      <td>0.649542</td>\n      <td>0.0459195</td>\n      <td>0.99995</td>\n      <td>0.922796</td>\n      <td>0.161412</td>\n      <td>0.95615</td>\n      <td>0.447248</td>\n      <td>0.330973</td>\n      <td>0.676149</td>\n      <td>0.313805</td>\n      <td>0.343378</td>\n      <td>0.772244</td>\n      <td>0.134486</td>\n      <td>0.505082</td>\n      <td>0.601308</td>\n      <td>0.0259444</td>\n      <td>0.80788</td>\n      <td>0.269195</td>\n      <td>0.385047</td>\n      <td>0.925511</td>\n      <td>0.502028</td>\n      <td>0.902834</td>\n      <td>0.477229</td>\n      <td>0.163164</td>\n      <td>0.312333</td>\n    </tr>\n    <tr>\n      <th>3</th>\n      <td>0.865332</td>\n      <td>0.712306</td>\n      <td>0.490038</td>\n      <td>0.0880754</td>\n      <td>0.730085</td>\n      <td>0.0369304</td>\n      <td>0.249531</td>\n      <td>0.351029</td>\n      <td>0.79626</td>\n      <td>0.216633</td>\n      <td>0.71329</td>\n      <td>0.469996</td>\n      <td>0.838765</td>\n      <td>0.132843</td>\n      <td>0.83697</td>\n      <td>0.98161</td>\n      <td>0.537929</td>\n      <td>0.840586</td>\n      <td>0.671749</td>\n      <td>0.489567</td>\n      <td>0.353683</td>\n      <td>0.247092</td>\n      <td>0.286297</td>\n      <td>0.159811</td>\n      <td>0.763029</td>\n      <td>0.365525</td>\n      <td>0.883798</td>\n      <td>0.640838</td>\n      <td>0.114057</td>\n      <td>0.698926</td>\n      <td>0.224254</td>\n      <td>0.357006</td>\n      <td>0.197014</td>\n      <td>0.820076</td>\n      <td>0.599776</td>\n      <td>0.761475</td>\n      <td>0.333774</td>\n      <td>0.845076</td>\n      <td>0.462355</td>\n      <td>0.427075</td>\n      <td>0.733615</td>\n      <td>0.206755</td>\n      <td>...</td>\n      <td>0.474683</td>\n      <td>0.238769</td>\n      <td>0.0459307</td>\n      <td>0.817242</td>\n      <td>0.268885</td>\n      <td>0.614697</td>\n      <td>0.517206</td>\n      <td>0.0254558</td>\n      <td>0.465651</td>\n      <td>0.96471</td>\n      <td>0.0364988</td>\n      <td>0.353171</td>\n      <td>0.958412</td>\n      <td>0.60023</td>\n      <td>0.449726</td>\n      <td>0.775574</td>\n      <td>0.121712</td>\n      <td>0.686371</td>\n      <td>0.327945</td>\n      <td>0.252793</td>\n      <td>0.853562</td>\n      <td>0.624697</td>\n      <td>0.0759732</td>\n      <td>0.790953</td>\n      <td>0.647157</td>\n      <td>0.156226</td>\n      <td>0.553737</td>\n      <td>0.4585</td>\n      <td>0.85563</td>\n      <td>0.36133</td>\n      <td>0.540487</td>\n      <td>0.0609037</td>\n      <td>0.858748</td>\n      <td>0.185964</td>\n      <td>0.372059</td>\n      <td>0.810396</td>\n      <td>0.595951</td>\n      <td>0.865707</td>\n      <td>0.262034</td>\n      <td>0.534974</td>\n      <td>0.842076</td>\n      <td>0.510508</td>\n    </tr>\n    <tr>\n      <th>4</th>\n      <td>0.244665</td>\n      <td>0.322084</td>\n      <td>0.303686</td>\n      <td>0.822005</td>\n      <td>0.788109</td>\n      <td>0.0150596</td>\n      <td>0.0301274</td>\n      <td>0.766403</td>\n      <td>0.0141133</td>\n      <td>0.7232</td>\n      <td>0.91142</td>\n      <td>0.671723</td>\n      <td>0.448592</td>\n      <td>0.309448</td>\n      <td>0.687066</td>\n      <td>0.685287</td>\n      <td>0.170247</td>\n      <td>0.113792</td>\n      <td>0.194473</td>\n      <td>0.289216</td>\n      <td>0.790699</td>\n      <td>0.420838</td>\n      <td>0.729867</td>\n      <td>0.815968</td>\n      <td>0.108184</td>\n      <td>0.465304</td>\n      <td>0.813065</td>\n      <td>0.979673</td>\n      <td>0.70899</td>\n      <td>0.160021</td>\n      <td>0.614269</td>\n      <td>0.168534</td>\n      <td>0.54577</td>\n      <td>0.288691</td>\n      <td>0.320366</td>\n      <td>0.489294</td>\n      <td>0.726415</td>\n      <td>0.317568</td>\n      <td>0.0883659</td>\n      <td>0.278178</td>\n      <td>0.809961</td>\n      <td>0.858274</td>\n      <td>...</td>\n      <td>0.9094</td>\n      <td>0.90109</td>\n      <td>0.151691</td>\n      <td>0.315199</td>\n      <td>0.713449</td>\n      <td>0.936408</td>\n      <td>0.271674</td>\n      <td>0.177331</td>\n      <td>0.923626</td>\n      <td>0.0108152</td>\n      <td>0.357559</td>\n      <td>0.225942</td>\n      <td>0.0192579</td>\n      <td>0.387026</td>\n      <td>0.859565</td>\n      <td>0.275865</td>\n      <td>0.742275</td>\n      <td>0.671452</td>\n      <td>0.625459</td>\n      <td>0.386341</td>\n      <td>0.891122</td>\n      <td>0.333567</td>\n      <td>0.495034</td>\n      <td>0.0877074</td>\n      <td>0.155185</td>\n      <td>0.363466</td>\n      <td>0.621753</td>\n      <td>0.99568</td>\n      <td>0.709477</td>\n      <td>0.240456</td>\n      <td>0.680128</td>\n      <td>0.288174</td>\n      <td>0.475489</td>\n      <td>0.999805</td>\n      <td>0.204323</td>\n      <td>0.816319</td>\n      <td>0.14227</td>\n      <td>0.804007</td>\n      <td>0.788406</td>\n      <td>0.503824</td>\n      <td>0.479772</td>\n      <td>0.469515</td>\n    </tr>\n  </tbody>\n</table>\n<p>5 rows × 334 columns</p>\n</div>"
     },
     "metadata": {},
     "execution_count": 141
    }
   ],
   "source": [
    "newdf.T"
   ]
  },
  {
   "cell_type": "code",
   "execution_count": 142,
   "metadata": {},
   "outputs": [
    {
     "output_type": "execute_result",
     "data": {
      "text/plain": "            4         3         2         1         0\n0    0.244665  0.865332  0.237333  0.032187       0.3\n1    0.322084  0.712306  0.135317  0.622183   0.98161\n2    0.303686  0.490038  0.309749  0.529004  0.915347\n3    0.822005  0.088075  0.766609  0.443946  0.200385\n4    0.788109  0.730085  0.890240  0.274154  0.913429\n..        ...       ...       ...       ...       ...\n329  0.804007  0.865707  0.502028  0.880175  0.289072\n330  0.788406  0.262034  0.902834  0.546782  0.659761\n331  0.503824  0.534974  0.477229  0.507970  0.921195\n332  0.479772  0.842076  0.163164  0.838283  0.928088\n333  0.469515  0.510508  0.312333  0.722878  0.573348\n\n[334 rows x 5 columns]",
      "text/html": "<div>\n<style scoped>\n    .dataframe tbody tr th:only-of-type {\n        vertical-align: middle;\n    }\n\n    .dataframe tbody tr th {\n        vertical-align: top;\n    }\n\n    .dataframe thead th {\n        text-align: right;\n    }\n</style>\n<table border=\"1\" class=\"dataframe\">\n  <thead>\n    <tr style=\"text-align: right;\">\n      <th></th>\n      <th>4</th>\n      <th>3</th>\n      <th>2</th>\n      <th>1</th>\n      <th>0</th>\n    </tr>\n  </thead>\n  <tbody>\n    <tr>\n      <th>0</th>\n      <td>0.244665</td>\n      <td>0.865332</td>\n      <td>0.237333</td>\n      <td>0.032187</td>\n      <td>0.3</td>\n    </tr>\n    <tr>\n      <th>1</th>\n      <td>0.322084</td>\n      <td>0.712306</td>\n      <td>0.135317</td>\n      <td>0.622183</td>\n      <td>0.98161</td>\n    </tr>\n    <tr>\n      <th>2</th>\n      <td>0.303686</td>\n      <td>0.490038</td>\n      <td>0.309749</td>\n      <td>0.529004</td>\n      <td>0.915347</td>\n    </tr>\n    <tr>\n      <th>3</th>\n      <td>0.822005</td>\n      <td>0.088075</td>\n      <td>0.766609</td>\n      <td>0.443946</td>\n      <td>0.200385</td>\n    </tr>\n    <tr>\n      <th>4</th>\n      <td>0.788109</td>\n      <td>0.730085</td>\n      <td>0.890240</td>\n      <td>0.274154</td>\n      <td>0.913429</td>\n    </tr>\n    <tr>\n      <th>...</th>\n      <td>...</td>\n      <td>...</td>\n      <td>...</td>\n      <td>...</td>\n      <td>...</td>\n    </tr>\n    <tr>\n      <th>329</th>\n      <td>0.804007</td>\n      <td>0.865707</td>\n      <td>0.502028</td>\n      <td>0.880175</td>\n      <td>0.289072</td>\n    </tr>\n    <tr>\n      <th>330</th>\n      <td>0.788406</td>\n      <td>0.262034</td>\n      <td>0.902834</td>\n      <td>0.546782</td>\n      <td>0.659761</td>\n    </tr>\n    <tr>\n      <th>331</th>\n      <td>0.503824</td>\n      <td>0.534974</td>\n      <td>0.477229</td>\n      <td>0.507970</td>\n      <td>0.921195</td>\n    </tr>\n    <tr>\n      <th>332</th>\n      <td>0.479772</td>\n      <td>0.842076</td>\n      <td>0.163164</td>\n      <td>0.838283</td>\n      <td>0.928088</td>\n    </tr>\n    <tr>\n      <th>333</th>\n      <td>0.469515</td>\n      <td>0.510508</td>\n      <td>0.312333</td>\n      <td>0.722878</td>\n      <td>0.573348</td>\n    </tr>\n  </tbody>\n</table>\n<p>334 rows × 5 columns</p>\n</div>"
     },
     "metadata": {},
     "execution_count": 142
    }
   ],
   "source": [
    "newdf.sort_index(axis=1, ascending=False)"
   ]
  },
  {
   "cell_type": "code",
   "execution_count": 143,
   "metadata": {},
   "outputs": [
    {
     "output_type": "execute_result",
     "data": {
      "text/plain": "          0         1         2         3         4\n0       0.3  0.032187  0.237333  0.865332  0.244665\n1   0.98161  0.622183  0.135317  0.712306  0.322084\n2  0.915347  0.529004  0.309749  0.490038  0.303686\n3  0.200385  0.443946  0.766609  0.088075  0.822005\n4  0.913429  0.274154  0.890240  0.730085  0.788109",
      "text/html": "<div>\n<style scoped>\n    .dataframe tbody tr th:only-of-type {\n        vertical-align: middle;\n    }\n\n    .dataframe tbody tr th {\n        vertical-align: top;\n    }\n\n    .dataframe thead th {\n        text-align: right;\n    }\n</style>\n<table border=\"1\" class=\"dataframe\">\n  <thead>\n    <tr style=\"text-align: right;\">\n      <th></th>\n      <th>0</th>\n      <th>1</th>\n      <th>2</th>\n      <th>3</th>\n      <th>4</th>\n    </tr>\n  </thead>\n  <tbody>\n    <tr>\n      <th>0</th>\n      <td>0.3</td>\n      <td>0.032187</td>\n      <td>0.237333</td>\n      <td>0.865332</td>\n      <td>0.244665</td>\n    </tr>\n    <tr>\n      <th>1</th>\n      <td>0.98161</td>\n      <td>0.622183</td>\n      <td>0.135317</td>\n      <td>0.712306</td>\n      <td>0.322084</td>\n    </tr>\n    <tr>\n      <th>2</th>\n      <td>0.915347</td>\n      <td>0.529004</td>\n      <td>0.309749</td>\n      <td>0.490038</td>\n      <td>0.303686</td>\n    </tr>\n    <tr>\n      <th>3</th>\n      <td>0.200385</td>\n      <td>0.443946</td>\n      <td>0.766609</td>\n      <td>0.088075</td>\n      <td>0.822005</td>\n    </tr>\n    <tr>\n      <th>4</th>\n      <td>0.913429</td>\n      <td>0.274154</td>\n      <td>0.890240</td>\n      <td>0.730085</td>\n      <td>0.788109</td>\n    </tr>\n  </tbody>\n</table>\n</div>"
     },
     "metadata": {},
     "execution_count": 143
    }
   ],
   "source": [
    "newdf.head()"
   ]
  },
  {
   "cell_type": "code",
   "execution_count": 144,
   "metadata": {},
   "outputs": [
    {
     "output_type": "execute_result",
     "data": {
      "text/plain": "0         0.3\n1     0.98161\n2    0.915347\n3    0.200385\n4    0.913429\nName: 0, dtype: object"
     },
     "metadata": {},
     "execution_count": 144
    }
   ],
   "source": [
    "newdf[0].head()"
   ]
  },
  {
   "cell_type": "code",
   "execution_count": 145,
   "metadata": {},
   "outputs": [],
   "source": [
    "newdf.loc[0,0]=654"
   ]
  },
  {
   "cell_type": "code",
   "execution_count": 146,
   "metadata": {},
   "outputs": [
    {
     "output_type": "execute_result",
     "data": {
      "text/plain": "         0         1         2         3         4\n0      654  0.032187  0.237333  0.865332  0.244665\n1  0.98161  0.622183  0.135317  0.712306  0.322084",
      "text/html": "<div>\n<style scoped>\n    .dataframe tbody tr th:only-of-type {\n        vertical-align: middle;\n    }\n\n    .dataframe tbody tr th {\n        vertical-align: top;\n    }\n\n    .dataframe thead th {\n        text-align: right;\n    }\n</style>\n<table border=\"1\" class=\"dataframe\">\n  <thead>\n    <tr style=\"text-align: right;\">\n      <th></th>\n      <th>0</th>\n      <th>1</th>\n      <th>2</th>\n      <th>3</th>\n      <th>4</th>\n    </tr>\n  </thead>\n  <tbody>\n    <tr>\n      <th>0</th>\n      <td>654</td>\n      <td>0.032187</td>\n      <td>0.237333</td>\n      <td>0.865332</td>\n      <td>0.244665</td>\n    </tr>\n    <tr>\n      <th>1</th>\n      <td>0.98161</td>\n      <td>0.622183</td>\n      <td>0.135317</td>\n      <td>0.712306</td>\n      <td>0.322084</td>\n    </tr>\n  </tbody>\n</table>\n</div>"
     },
     "metadata": {},
     "execution_count": 146
    }
   ],
   "source": [
    "newdf.head(2)"
   ]
  },
  {
   "cell_type": "code",
   "execution_count": 147,
   "metadata": {},
   "outputs": [
    {
     "output_type": "execute_result",
     "data": {
      "text/plain": "         A         b         c         d         e\n0      654  0.032187  0.237333  0.865332  0.244665\n1  0.98161  0.622183  0.135317  0.712306  0.322084",
      "text/html": "<div>\n<style scoped>\n    .dataframe tbody tr th:only-of-type {\n        vertical-align: middle;\n    }\n\n    .dataframe tbody tr th {\n        vertical-align: top;\n    }\n\n    .dataframe thead th {\n        text-align: right;\n    }\n</style>\n<table border=\"1\" class=\"dataframe\">\n  <thead>\n    <tr style=\"text-align: right;\">\n      <th></th>\n      <th>A</th>\n      <th>b</th>\n      <th>c</th>\n      <th>d</th>\n      <th>e</th>\n    </tr>\n  </thead>\n  <tbody>\n    <tr>\n      <th>0</th>\n      <td>654</td>\n      <td>0.032187</td>\n      <td>0.237333</td>\n      <td>0.865332</td>\n      <td>0.244665</td>\n    </tr>\n    <tr>\n      <th>1</th>\n      <td>0.98161</td>\n      <td>0.622183</td>\n      <td>0.135317</td>\n      <td>0.712306</td>\n      <td>0.322084</td>\n    </tr>\n  </tbody>\n</table>\n</div>"
     },
     "metadata": {},
     "execution_count": 147
    }
   ],
   "source": [
    "newdf.columns = list('Abcde')\n",
    "newdf.head(2)"
   ]
  },
  {
   "cell_type": "code",
   "execution_count": 148,
   "metadata": {},
   "outputs": [
    {
     "output_type": "execute_result",
     "data": {
      "text/plain": "         A         b         c         d         e\n0    65462  0.032187  0.237333  0.865332  0.244665\n1  0.98161  0.622183  0.135317  0.712306  0.322084",
      "text/html": "<div>\n<style scoped>\n    .dataframe tbody tr th:only-of-type {\n        vertical-align: middle;\n    }\n\n    .dataframe tbody tr th {\n        vertical-align: top;\n    }\n\n    .dataframe thead th {\n        text-align: right;\n    }\n</style>\n<table border=\"1\" class=\"dataframe\">\n  <thead>\n    <tr style=\"text-align: right;\">\n      <th></th>\n      <th>A</th>\n      <th>b</th>\n      <th>c</th>\n      <th>d</th>\n      <th>e</th>\n    </tr>\n  </thead>\n  <tbody>\n    <tr>\n      <th>0</th>\n      <td>65462</td>\n      <td>0.032187</td>\n      <td>0.237333</td>\n      <td>0.865332</td>\n      <td>0.244665</td>\n    </tr>\n    <tr>\n      <th>1</th>\n      <td>0.98161</td>\n      <td>0.622183</td>\n      <td>0.135317</td>\n      <td>0.712306</td>\n      <td>0.322084</td>\n    </tr>\n  </tbody>\n</table>\n</div>"
     },
     "metadata": {},
     "execution_count": 148
    }
   ],
   "source": [
    "newdf.loc[0,'A']=65462\n",
    "newdf.head(2)"
   ]
  },
  {
   "cell_type": "code",
   "execution_count": 149,
   "metadata": {},
   "outputs": [
    {
     "output_type": "execute_result",
     "data": {
      "text/plain": "         A         b         c         d         e        0\n0    65462  0.032187  0.237333  0.865332  0.244665  65554.0\n1  0.98161  0.622183  0.135317  0.712306  0.322084      NaN",
      "text/html": "<div>\n<style scoped>\n    .dataframe tbody tr th:only-of-type {\n        vertical-align: middle;\n    }\n\n    .dataframe tbody tr th {\n        vertical-align: top;\n    }\n\n    .dataframe thead th {\n        text-align: right;\n    }\n</style>\n<table border=\"1\" class=\"dataframe\">\n  <thead>\n    <tr style=\"text-align: right;\">\n      <th></th>\n      <th>A</th>\n      <th>b</th>\n      <th>c</th>\n      <th>d</th>\n      <th>e</th>\n      <th>0</th>\n    </tr>\n  </thead>\n  <tbody>\n    <tr>\n      <th>0</th>\n      <td>65462</td>\n      <td>0.032187</td>\n      <td>0.237333</td>\n      <td>0.865332</td>\n      <td>0.244665</td>\n      <td>65554.0</td>\n    </tr>\n    <tr>\n      <th>1</th>\n      <td>0.98161</td>\n      <td>0.622183</td>\n      <td>0.135317</td>\n      <td>0.712306</td>\n      <td>0.322084</td>\n      <td>NaN</td>\n    </tr>\n  </tbody>\n</table>\n</div>"
     },
     "metadata": {},
     "execution_count": 149
    }
   ],
   "source": [
    "newdf.loc[0,0]= 65554\n",
    "newdf.head(2)"
   ]
  },
  {
   "cell_type": "code",
   "execution_count": 150,
   "metadata": {},
   "outputs": [
    {
     "output_type": "execute_result",
     "data": {
      "text/plain": "          A         b         c         d         e        0\n0     65462  0.032187  0.237333  0.865332  0.244665  65554.0\n1   0.98161  0.622183  0.135317  0.712306  0.322084      NaN\n3  0.200385  0.443946  0.766609  0.088075  0.822005      NaN\n4  0.913429  0.274154  0.890240  0.730085  0.788109      NaN\n5  0.589007  0.738760  0.658472  0.036930  0.015060      NaN",
      "text/html": "<div>\n<style scoped>\n    .dataframe tbody tr th:only-of-type {\n        vertical-align: middle;\n    }\n\n    .dataframe tbody tr th {\n        vertical-align: top;\n    }\n\n    .dataframe thead th {\n        text-align: right;\n    }\n</style>\n<table border=\"1\" class=\"dataframe\">\n  <thead>\n    <tr style=\"text-align: right;\">\n      <th></th>\n      <th>A</th>\n      <th>b</th>\n      <th>c</th>\n      <th>d</th>\n      <th>e</th>\n      <th>0</th>\n    </tr>\n  </thead>\n  <tbody>\n    <tr>\n      <th>0</th>\n      <td>65462</td>\n      <td>0.032187</td>\n      <td>0.237333</td>\n      <td>0.865332</td>\n      <td>0.244665</td>\n      <td>65554.0</td>\n    </tr>\n    <tr>\n      <th>1</th>\n      <td>0.98161</td>\n      <td>0.622183</td>\n      <td>0.135317</td>\n      <td>0.712306</td>\n      <td>0.322084</td>\n      <td>NaN</td>\n    </tr>\n    <tr>\n      <th>3</th>\n      <td>0.200385</td>\n      <td>0.443946</td>\n      <td>0.766609</td>\n      <td>0.088075</td>\n      <td>0.822005</td>\n      <td>NaN</td>\n    </tr>\n    <tr>\n      <th>4</th>\n      <td>0.913429</td>\n      <td>0.274154</td>\n      <td>0.890240</td>\n      <td>0.730085</td>\n      <td>0.788109</td>\n      <td>NaN</td>\n    </tr>\n    <tr>\n      <th>5</th>\n      <td>0.589007</td>\n      <td>0.738760</td>\n      <td>0.658472</td>\n      <td>0.036930</td>\n      <td>0.015060</td>\n      <td>NaN</td>\n    </tr>\n  </tbody>\n</table>\n</div>"
     },
     "metadata": {},
     "execution_count": 150
    }
   ],
   "source": [
    "newdf=newdf.drop(2, axis=0)\n",
    "newdf.head()"
   ]
  },
  {
   "cell_type": "code",
   "execution_count": 151,
   "metadata": {},
   "outputs": [
    {
     "output_type": "error",
     "ename": "ValueError",
     "evalue": "Length mismatch: Expected axis has 6 elements, new values have 5 elements",
     "traceback": [
      "\u001b[1;31m---------------------------------------------------------------------------\u001b[0m",
      "\u001b[1;31mValueError\u001b[0m                                Traceback (most recent call last)",
      "\u001b[1;32m<ipython-input-151-f8a0ca90b17c>\u001b[0m in \u001b[0;36m<module>\u001b[1;34m\u001b[0m\n\u001b[1;32m----> 1\u001b[1;33m \u001b[0mnewdf\u001b[0m\u001b[1;33m.\u001b[0m\u001b[0mcolumns\u001b[0m\u001b[1;33m=\u001b[0m\u001b[0mlist\u001b[0m\u001b[1;33m(\u001b[0m\u001b[1;34m'ABCDE'\u001b[0m\u001b[1;33m)\u001b[0m\u001b[1;33m\u001b[0m\u001b[1;33m\u001b[0m\u001b[0m\n\u001b[0m\u001b[0;32m      2\u001b[0m \u001b[0mnewdf\u001b[0m\u001b[1;33m.\u001b[0m\u001b[0mhead\u001b[0m\u001b[1;33m(\u001b[0m\u001b[1;36m2\u001b[0m\u001b[1;33m)\u001b[0m\u001b[1;33m\u001b[0m\u001b[1;33m\u001b[0m\u001b[0m\n",
      "\u001b[1;32m~\\Python\\Python38-32\\lib\\site-packages\\pandas\\core\\generic.py\u001b[0m in \u001b[0;36m__setattr__\u001b[1;34m(self, name, value)\u001b[0m\n\u001b[0;32m   5141\u001b[0m         \u001b[1;32mtry\u001b[0m\u001b[1;33m:\u001b[0m\u001b[1;33m\u001b[0m\u001b[1;33m\u001b[0m\u001b[0m\n\u001b[0;32m   5142\u001b[0m             \u001b[0mobject\u001b[0m\u001b[1;33m.\u001b[0m\u001b[0m__getattribute__\u001b[0m\u001b[1;33m(\u001b[0m\u001b[0mself\u001b[0m\u001b[1;33m,\u001b[0m \u001b[0mname\u001b[0m\u001b[1;33m)\u001b[0m\u001b[1;33m\u001b[0m\u001b[1;33m\u001b[0m\u001b[0m\n\u001b[1;32m-> 5143\u001b[1;33m             \u001b[1;32mreturn\u001b[0m \u001b[0mobject\u001b[0m\u001b[1;33m.\u001b[0m\u001b[0m__setattr__\u001b[0m\u001b[1;33m(\u001b[0m\u001b[0mself\u001b[0m\u001b[1;33m,\u001b[0m \u001b[0mname\u001b[0m\u001b[1;33m,\u001b[0m \u001b[0mvalue\u001b[0m\u001b[1;33m)\u001b[0m\u001b[1;33m\u001b[0m\u001b[1;33m\u001b[0m\u001b[0m\n\u001b[0m\u001b[0;32m   5144\u001b[0m         \u001b[1;32mexcept\u001b[0m \u001b[0mAttributeError\u001b[0m\u001b[1;33m:\u001b[0m\u001b[1;33m\u001b[0m\u001b[1;33m\u001b[0m\u001b[0m\n\u001b[0;32m   5145\u001b[0m             \u001b[1;32mpass\u001b[0m\u001b[1;33m\u001b[0m\u001b[1;33m\u001b[0m\u001b[0m\n",
      "\u001b[1;32mpandas\\_libs\\properties.pyx\u001b[0m in \u001b[0;36mpandas._libs.properties.AxisProperty.__set__\u001b[1;34m()\u001b[0m\n",
      "\u001b[1;32m~\\Python\\Python38-32\\lib\\site-packages\\pandas\\core\\generic.py\u001b[0m in \u001b[0;36m_set_axis\u001b[1;34m(self, axis, labels)\u001b[0m\n\u001b[0;32m    562\u001b[0m     \u001b[1;32mdef\u001b[0m \u001b[0m_set_axis\u001b[0m\u001b[1;33m(\u001b[0m\u001b[0mself\u001b[0m\u001b[1;33m,\u001b[0m \u001b[0maxis\u001b[0m\u001b[1;33m:\u001b[0m \u001b[0mint\u001b[0m\u001b[1;33m,\u001b[0m \u001b[0mlabels\u001b[0m\u001b[1;33m:\u001b[0m \u001b[0mIndex\u001b[0m\u001b[1;33m)\u001b[0m \u001b[1;33m->\u001b[0m \u001b[1;32mNone\u001b[0m\u001b[1;33m:\u001b[0m\u001b[1;33m\u001b[0m\u001b[1;33m\u001b[0m\u001b[0m\n\u001b[0;32m    563\u001b[0m         \u001b[0mlabels\u001b[0m \u001b[1;33m=\u001b[0m \u001b[0mensure_index\u001b[0m\u001b[1;33m(\u001b[0m\u001b[0mlabels\u001b[0m\u001b[1;33m)\u001b[0m\u001b[1;33m\u001b[0m\u001b[1;33m\u001b[0m\u001b[0m\n\u001b[1;32m--> 564\u001b[1;33m         \u001b[0mself\u001b[0m\u001b[1;33m.\u001b[0m\u001b[0m_mgr\u001b[0m\u001b[1;33m.\u001b[0m\u001b[0mset_axis\u001b[0m\u001b[1;33m(\u001b[0m\u001b[0maxis\u001b[0m\u001b[1;33m,\u001b[0m \u001b[0mlabels\u001b[0m\u001b[1;33m)\u001b[0m\u001b[1;33m\u001b[0m\u001b[1;33m\u001b[0m\u001b[0m\n\u001b[0m\u001b[0;32m    565\u001b[0m         \u001b[0mself\u001b[0m\u001b[1;33m.\u001b[0m\u001b[0m_clear_item_cache\u001b[0m\u001b[1;33m(\u001b[0m\u001b[1;33m)\u001b[0m\u001b[1;33m\u001b[0m\u001b[1;33m\u001b[0m\u001b[0m\n\u001b[0;32m    566\u001b[0m \u001b[1;33m\u001b[0m\u001b[0m\n",
      "\u001b[1;32m~\\Python\\Python38-32\\lib\\site-packages\\pandas\\core\\internals\\managers.py\u001b[0m in \u001b[0;36mset_axis\u001b[1;34m(self, axis, new_labels)\u001b[0m\n\u001b[0;32m    214\u001b[0m \u001b[1;33m\u001b[0m\u001b[0m\n\u001b[0;32m    215\u001b[0m         \u001b[1;32mif\u001b[0m \u001b[0mnew_len\u001b[0m \u001b[1;33m!=\u001b[0m \u001b[0mold_len\u001b[0m\u001b[1;33m:\u001b[0m\u001b[1;33m\u001b[0m\u001b[1;33m\u001b[0m\u001b[0m\n\u001b[1;32m--> 216\u001b[1;33m             raise ValueError(\n\u001b[0m\u001b[0;32m    217\u001b[0m                 \u001b[1;34mf\"Length mismatch: Expected axis has {old_len} elements, new \"\u001b[0m\u001b[1;33m\u001b[0m\u001b[1;33m\u001b[0m\u001b[0m\n\u001b[0;32m    218\u001b[0m                 \u001b[1;34mf\"values have {new_len} elements\"\u001b[0m\u001b[1;33m\u001b[0m\u001b[1;33m\u001b[0m\u001b[0m\n",
      "\u001b[1;31mValueError\u001b[0m: Length mismatch: Expected axis has 6 elements, new values have 5 elements"
     ]
    }
   ],
   "source": [
    "newdf.columns=list('ABCDE')\n",
    "newdf.head(2)"
   ]
  },
  {
   "cell_type": "code",
   "execution_count": 152,
   "metadata": {},
   "outputs": [
    {
     "output_type": "error",
     "ename": "KeyError",
     "evalue": "\"Passing list-likes to .loc or [] with any missing labels is no longer supported. The following labels were missing: Int64Index([2], dtype='int64'). See https://pandas.pydata.org/pandas-docs/stable/user_guide/indexing.html#deprecate-loc-reindex-listlike\"",
     "traceback": [
      "\u001b[1;31m---------------------------------------------------------------------------\u001b[0m",
      "\u001b[1;31mKeyError\u001b[0m                                  Traceback (most recent call last)",
      "\u001b[1;32m<ipython-input-152-c5e16633352c>\u001b[0m in \u001b[0;36m<module>\u001b[1;34m\u001b[0m\n\u001b[1;32m----> 1\u001b[1;33m \u001b[0mnewdf\u001b[0m\u001b[1;33m.\u001b[0m\u001b[0mloc\u001b[0m\u001b[1;33m[\u001b[0m\u001b[1;33m[\u001b[0m\u001b[1;36m1\u001b[0m\u001b[1;33m,\u001b[0m\u001b[1;36m2\u001b[0m\u001b[1;33m]\u001b[0m\u001b[1;33m,\u001b[0m\u001b[1;33m[\u001b[0m\u001b[1;34m'A'\u001b[0m\u001b[1;33m,\u001b[0m\u001b[1;34m'B'\u001b[0m\u001b[1;33m]\u001b[0m\u001b[1;33m]\u001b[0m\u001b[1;33m\u001b[0m\u001b[1;33m\u001b[0m\u001b[0m\n\u001b[0m",
      "\u001b[1;32m~\\Python\\Python38-32\\lib\\site-packages\\pandas\\core\\indexing.py\u001b[0m in \u001b[0;36m__getitem__\u001b[1;34m(self, key)\u001b[0m\n\u001b[0;32m    871\u001b[0m                     \u001b[1;31m# AttributeError for IntervalTree get_value\u001b[0m\u001b[1;33m\u001b[0m\u001b[1;33m\u001b[0m\u001b[1;33m\u001b[0m\u001b[0m\n\u001b[0;32m    872\u001b[0m                     \u001b[1;32mpass\u001b[0m\u001b[1;33m\u001b[0m\u001b[1;33m\u001b[0m\u001b[0m\n\u001b[1;32m--> 873\u001b[1;33m             \u001b[1;32mreturn\u001b[0m \u001b[0mself\u001b[0m\u001b[1;33m.\u001b[0m\u001b[0m_getitem_tuple\u001b[0m\u001b[1;33m(\u001b[0m\u001b[0mkey\u001b[0m\u001b[1;33m)\u001b[0m\u001b[1;33m\u001b[0m\u001b[1;33m\u001b[0m\u001b[0m\n\u001b[0m\u001b[0;32m    874\u001b[0m         \u001b[1;32melse\u001b[0m\u001b[1;33m:\u001b[0m\u001b[1;33m\u001b[0m\u001b[1;33m\u001b[0m\u001b[0m\n\u001b[0;32m    875\u001b[0m             \u001b[1;31m# we by definition only have the 0th axis\u001b[0m\u001b[1;33m\u001b[0m\u001b[1;33m\u001b[0m\u001b[1;33m\u001b[0m\u001b[0m\n",
      "\u001b[1;32m~\\Python\\Python38-32\\lib\\site-packages\\pandas\\core\\indexing.py\u001b[0m in \u001b[0;36m_getitem_tuple\u001b[1;34m(self, tup)\u001b[0m\n\u001b[0;32m   1051\u001b[0m         \u001b[1;31m# ugly hack for GH #836\u001b[0m\u001b[1;33m\u001b[0m\u001b[1;33m\u001b[0m\u001b[1;33m\u001b[0m\u001b[0m\n\u001b[0;32m   1052\u001b[0m         \u001b[1;32mif\u001b[0m \u001b[0mself\u001b[0m\u001b[1;33m.\u001b[0m\u001b[0m_multi_take_opportunity\u001b[0m\u001b[1;33m(\u001b[0m\u001b[0mtup\u001b[0m\u001b[1;33m)\u001b[0m\u001b[1;33m:\u001b[0m\u001b[1;33m\u001b[0m\u001b[1;33m\u001b[0m\u001b[0m\n\u001b[1;32m-> 1053\u001b[1;33m             \u001b[1;32mreturn\u001b[0m \u001b[0mself\u001b[0m\u001b[1;33m.\u001b[0m\u001b[0m_multi_take\u001b[0m\u001b[1;33m(\u001b[0m\u001b[0mtup\u001b[0m\u001b[1;33m)\u001b[0m\u001b[1;33m\u001b[0m\u001b[1;33m\u001b[0m\u001b[0m\n\u001b[0m\u001b[0;32m   1054\u001b[0m \u001b[1;33m\u001b[0m\u001b[0m\n\u001b[0;32m   1055\u001b[0m         \u001b[1;32mreturn\u001b[0m \u001b[0mself\u001b[0m\u001b[1;33m.\u001b[0m\u001b[0m_getitem_tuple_same_dim\u001b[0m\u001b[1;33m(\u001b[0m\u001b[0mtup\u001b[0m\u001b[1;33m)\u001b[0m\u001b[1;33m\u001b[0m\u001b[1;33m\u001b[0m\u001b[0m\n",
      "\u001b[1;32m~\\Python\\Python38-32\\lib\\site-packages\\pandas\\core\\indexing.py\u001b[0m in \u001b[0;36m_multi_take\u001b[1;34m(self, tup)\u001b[0m\n\u001b[0;32m   1001\u001b[0m         \"\"\"\n\u001b[0;32m   1002\u001b[0m         \u001b[1;31m# GH 836\u001b[0m\u001b[1;33m\u001b[0m\u001b[1;33m\u001b[0m\u001b[1;33m\u001b[0m\u001b[0m\n\u001b[1;32m-> 1003\u001b[1;33m         d = {\n\u001b[0m\u001b[0;32m   1004\u001b[0m             \u001b[0maxis\u001b[0m\u001b[1;33m:\u001b[0m \u001b[0mself\u001b[0m\u001b[1;33m.\u001b[0m\u001b[0m_get_listlike_indexer\u001b[0m\u001b[1;33m(\u001b[0m\u001b[0mkey\u001b[0m\u001b[1;33m,\u001b[0m \u001b[0maxis\u001b[0m\u001b[1;33m)\u001b[0m\u001b[1;33m\u001b[0m\u001b[1;33m\u001b[0m\u001b[0m\n\u001b[0;32m   1005\u001b[0m             \u001b[1;32mfor\u001b[0m \u001b[1;33m(\u001b[0m\u001b[0mkey\u001b[0m\u001b[1;33m,\u001b[0m \u001b[0maxis\u001b[0m\u001b[1;33m)\u001b[0m \u001b[1;32min\u001b[0m \u001b[0mzip\u001b[0m\u001b[1;33m(\u001b[0m\u001b[0mtup\u001b[0m\u001b[1;33m,\u001b[0m \u001b[0mself\u001b[0m\u001b[1;33m.\u001b[0m\u001b[0mobj\u001b[0m\u001b[1;33m.\u001b[0m\u001b[0m_AXIS_ORDERS\u001b[0m\u001b[1;33m)\u001b[0m\u001b[1;33m\u001b[0m\u001b[1;33m\u001b[0m\u001b[0m\n",
      "\u001b[1;32m~\\Python\\Python38-32\\lib\\site-packages\\pandas\\core\\indexing.py\u001b[0m in \u001b[0;36m<dictcomp>\u001b[1;34m(.0)\u001b[0m\n\u001b[0;32m   1002\u001b[0m         \u001b[1;31m# GH 836\u001b[0m\u001b[1;33m\u001b[0m\u001b[1;33m\u001b[0m\u001b[1;33m\u001b[0m\u001b[0m\n\u001b[0;32m   1003\u001b[0m         d = {\n\u001b[1;32m-> 1004\u001b[1;33m             \u001b[0maxis\u001b[0m\u001b[1;33m:\u001b[0m \u001b[0mself\u001b[0m\u001b[1;33m.\u001b[0m\u001b[0m_get_listlike_indexer\u001b[0m\u001b[1;33m(\u001b[0m\u001b[0mkey\u001b[0m\u001b[1;33m,\u001b[0m \u001b[0maxis\u001b[0m\u001b[1;33m)\u001b[0m\u001b[1;33m\u001b[0m\u001b[1;33m\u001b[0m\u001b[0m\n\u001b[0m\u001b[0;32m   1005\u001b[0m             \u001b[1;32mfor\u001b[0m \u001b[1;33m(\u001b[0m\u001b[0mkey\u001b[0m\u001b[1;33m,\u001b[0m \u001b[0maxis\u001b[0m\u001b[1;33m)\u001b[0m \u001b[1;32min\u001b[0m \u001b[0mzip\u001b[0m\u001b[1;33m(\u001b[0m\u001b[0mtup\u001b[0m\u001b[1;33m,\u001b[0m \u001b[0mself\u001b[0m\u001b[1;33m.\u001b[0m\u001b[0mobj\u001b[0m\u001b[1;33m.\u001b[0m\u001b[0m_AXIS_ORDERS\u001b[0m\u001b[1;33m)\u001b[0m\u001b[1;33m\u001b[0m\u001b[1;33m\u001b[0m\u001b[0m\n\u001b[0;32m   1006\u001b[0m         }\n",
      "\u001b[1;32m~\\Python\\Python38-32\\lib\\site-packages\\pandas\\core\\indexing.py\u001b[0m in \u001b[0;36m_get_listlike_indexer\u001b[1;34m(self, key, axis, raise_missing)\u001b[0m\n\u001b[0;32m   1252\u001b[0m             \u001b[0mkeyarr\u001b[0m\u001b[1;33m,\u001b[0m \u001b[0mindexer\u001b[0m\u001b[1;33m,\u001b[0m \u001b[0mnew_indexer\u001b[0m \u001b[1;33m=\u001b[0m \u001b[0max\u001b[0m\u001b[1;33m.\u001b[0m\u001b[0m_reindex_non_unique\u001b[0m\u001b[1;33m(\u001b[0m\u001b[0mkeyarr\u001b[0m\u001b[1;33m)\u001b[0m\u001b[1;33m\u001b[0m\u001b[1;33m\u001b[0m\u001b[0m\n\u001b[0;32m   1253\u001b[0m \u001b[1;33m\u001b[0m\u001b[0m\n\u001b[1;32m-> 1254\u001b[1;33m         \u001b[0mself\u001b[0m\u001b[1;33m.\u001b[0m\u001b[0m_validate_read_indexer\u001b[0m\u001b[1;33m(\u001b[0m\u001b[0mkeyarr\u001b[0m\u001b[1;33m,\u001b[0m \u001b[0mindexer\u001b[0m\u001b[1;33m,\u001b[0m \u001b[0maxis\u001b[0m\u001b[1;33m,\u001b[0m \u001b[0mraise_missing\u001b[0m\u001b[1;33m=\u001b[0m\u001b[0mraise_missing\u001b[0m\u001b[1;33m)\u001b[0m\u001b[1;33m\u001b[0m\u001b[1;33m\u001b[0m\u001b[0m\n\u001b[0m\u001b[0;32m   1255\u001b[0m         \u001b[1;32mreturn\u001b[0m \u001b[0mkeyarr\u001b[0m\u001b[1;33m,\u001b[0m \u001b[0mindexer\u001b[0m\u001b[1;33m\u001b[0m\u001b[1;33m\u001b[0m\u001b[0m\n\u001b[0;32m   1256\u001b[0m \u001b[1;33m\u001b[0m\u001b[0m\n",
      "\u001b[1;32m~\\Python\\Python38-32\\lib\\site-packages\\pandas\\core\\indexing.py\u001b[0m in \u001b[0;36m_validate_read_indexer\u001b[1;34m(self, key, indexer, axis, raise_missing)\u001b[0m\n\u001b[0;32m   1313\u001b[0m \u001b[1;33m\u001b[0m\u001b[0m\n\u001b[0;32m   1314\u001b[0m                 \u001b[1;32mwith\u001b[0m \u001b[0moption_context\u001b[0m\u001b[1;33m(\u001b[0m\u001b[1;34m\"display.max_seq_items\"\u001b[0m\u001b[1;33m,\u001b[0m \u001b[1;36m10\u001b[0m\u001b[1;33m,\u001b[0m \u001b[1;34m\"display.width\"\u001b[0m\u001b[1;33m,\u001b[0m \u001b[1;36m80\u001b[0m\u001b[1;33m)\u001b[0m\u001b[1;33m:\u001b[0m\u001b[1;33m\u001b[0m\u001b[1;33m\u001b[0m\u001b[0m\n\u001b[1;32m-> 1315\u001b[1;33m                     raise KeyError(\n\u001b[0m\u001b[0;32m   1316\u001b[0m                         \u001b[1;34m\"Passing list-likes to .loc or [] with any missing labels \"\u001b[0m\u001b[1;33m\u001b[0m\u001b[1;33m\u001b[0m\u001b[0m\n\u001b[0;32m   1317\u001b[0m                         \u001b[1;34m\"is no longer supported. \"\u001b[0m\u001b[1;33m\u001b[0m\u001b[1;33m\u001b[0m\u001b[0m\n",
      "\u001b[1;31mKeyError\u001b[0m: \"Passing list-likes to .loc or [] with any missing labels is no longer supported. The following labels were missing: Int64Index([2], dtype='int64'). See https://pandas.pydata.org/pandas-docs/stable/user_guide/indexing.html#deprecate-loc-reindex-listlike\""
     ]
    }
   ],
   "source": [
    "newdf.loc[[1,2],['A','B']]"
   ]
  },
  {
   "cell_type": "code",
   "execution_count": 153,
   "metadata": {},
   "outputs": [
    {
     "output_type": "execute_result",
     "data": {
      "text/plain": "          A         b         c         d         e   0\n1   0.98161  0.622183  0.135317  0.712306  0.322084 NaN\n4  0.913429  0.274154  0.890240  0.730085  0.788109 NaN",
      "text/html": "<div>\n<style scoped>\n    .dataframe tbody tr th:only-of-type {\n        vertical-align: middle;\n    }\n\n    .dataframe tbody tr th {\n        vertical-align: top;\n    }\n\n    .dataframe thead th {\n        text-align: right;\n    }\n</style>\n<table border=\"1\" class=\"dataframe\">\n  <thead>\n    <tr style=\"text-align: right;\">\n      <th></th>\n      <th>A</th>\n      <th>b</th>\n      <th>c</th>\n      <th>d</th>\n      <th>e</th>\n      <th>0</th>\n    </tr>\n  </thead>\n  <tbody>\n    <tr>\n      <th>1</th>\n      <td>0.98161</td>\n      <td>0.622183</td>\n      <td>0.135317</td>\n      <td>0.712306</td>\n      <td>0.322084</td>\n      <td>NaN</td>\n    </tr>\n    <tr>\n      <th>4</th>\n      <td>0.913429</td>\n      <td>0.274154</td>\n      <td>0.890240</td>\n      <td>0.730085</td>\n      <td>0.788109</td>\n      <td>NaN</td>\n    </tr>\n  </tbody>\n</table>\n</div>"
     },
     "metadata": {},
     "execution_count": 153
    }
   ],
   "source": [
    "newdf.loc[1:5:2,:]"
   ]
  },
  {
   "cell_type": "code",
   "execution_count": 154,
   "metadata": {},
   "outputs": [
    {
     "output_type": "execute_result",
     "data": {
      "text/plain": "         A         b         c         d         e        0\n0    65462  0.032187  0.237333  0.865332  0.244665  65554.0\n1  0.98161  0.622183  0.135317  0.712306  0.322084      NaN",
      "text/html": "<div>\n<style scoped>\n    .dataframe tbody tr th:only-of-type {\n        vertical-align: middle;\n    }\n\n    .dataframe tbody tr th {\n        vertical-align: top;\n    }\n\n    .dataframe thead th {\n        text-align: right;\n    }\n</style>\n<table border=\"1\" class=\"dataframe\">\n  <thead>\n    <tr style=\"text-align: right;\">\n      <th></th>\n      <th>A</th>\n      <th>b</th>\n      <th>c</th>\n      <th>d</th>\n      <th>e</th>\n      <th>0</th>\n    </tr>\n  </thead>\n  <tbody>\n    <tr>\n      <th>0</th>\n      <td>65462</td>\n      <td>0.032187</td>\n      <td>0.237333</td>\n      <td>0.865332</td>\n      <td>0.244665</td>\n      <td>65554.0</td>\n    </tr>\n    <tr>\n      <th>1</th>\n      <td>0.98161</td>\n      <td>0.622183</td>\n      <td>0.135317</td>\n      <td>0.712306</td>\n      <td>0.322084</td>\n      <td>NaN</td>\n    </tr>\n  </tbody>\n</table>\n</div>"
     },
     "metadata": {},
     "execution_count": 154
    }
   ],
   "source": [
    "newdf.head(2)"
   ]
  },
  {
   "cell_type": "code",
   "execution_count": 155,
   "metadata": {},
   "outputs": [
    {
     "output_type": "execute_result",
     "data": {
      "text/plain": "            A         b         c         d         e   0\n3    0.200385  0.443946  0.766609  0.088075  0.822005 NaN\n7   0.0221329  0.798084  0.320915  0.351029  0.766403 NaN\n9   0.0122717  0.831157  0.339842  0.216633  0.723200 NaN\n12    0.08771  0.486216  0.482651  0.838765  0.448592 NaN\n14  0.0338905  0.305192  0.508468  0.836970  0.687066 NaN",
      "text/html": "<div>\n<style scoped>\n    .dataframe tbody tr th:only-of-type {\n        vertical-align: middle;\n    }\n\n    .dataframe tbody tr th {\n        vertical-align: top;\n    }\n\n    .dataframe thead th {\n        text-align: right;\n    }\n</style>\n<table border=\"1\" class=\"dataframe\">\n  <thead>\n    <tr style=\"text-align: right;\">\n      <th></th>\n      <th>A</th>\n      <th>b</th>\n      <th>c</th>\n      <th>d</th>\n      <th>e</th>\n      <th>0</th>\n    </tr>\n  </thead>\n  <tbody>\n    <tr>\n      <th>3</th>\n      <td>0.200385</td>\n      <td>0.443946</td>\n      <td>0.766609</td>\n      <td>0.088075</td>\n      <td>0.822005</td>\n      <td>NaN</td>\n    </tr>\n    <tr>\n      <th>7</th>\n      <td>0.0221329</td>\n      <td>0.798084</td>\n      <td>0.320915</td>\n      <td>0.351029</td>\n      <td>0.766403</td>\n      <td>NaN</td>\n    </tr>\n    <tr>\n      <th>9</th>\n      <td>0.0122717</td>\n      <td>0.831157</td>\n      <td>0.339842</td>\n      <td>0.216633</td>\n      <td>0.723200</td>\n      <td>NaN</td>\n    </tr>\n    <tr>\n      <th>12</th>\n      <td>0.08771</td>\n      <td>0.486216</td>\n      <td>0.482651</td>\n      <td>0.838765</td>\n      <td>0.448592</td>\n      <td>NaN</td>\n    </tr>\n    <tr>\n      <th>14</th>\n      <td>0.0338905</td>\n      <td>0.305192</td>\n      <td>0.508468</td>\n      <td>0.836970</td>\n      <td>0.687066</td>\n      <td>NaN</td>\n    </tr>\n  </tbody>\n</table>\n</div>"
     },
     "metadata": {},
     "execution_count": 155
    }
   ],
   "source": [
    "newdf.loc[(newdf['A']<0.3)].head()"
   ]
  },
  {
   "cell_type": "code",
   "execution_count": 156,
   "metadata": {},
   "outputs": [
    {
     "output_type": "execute_result",
     "data": {
      "text/plain": "         A         b         c         d         e        0\n0    65462  0.032187  0.237333  0.865332  0.244665  65554.0\n1  0.98161  0.622183  0.135317  0.712306  0.322084      NaN",
      "text/html": "<div>\n<style scoped>\n    .dataframe tbody tr th:only-of-type {\n        vertical-align: middle;\n    }\n\n    .dataframe tbody tr th {\n        vertical-align: top;\n    }\n\n    .dataframe thead th {\n        text-align: right;\n    }\n</style>\n<table border=\"1\" class=\"dataframe\">\n  <thead>\n    <tr style=\"text-align: right;\">\n      <th></th>\n      <th>A</th>\n      <th>b</th>\n      <th>c</th>\n      <th>d</th>\n      <th>e</th>\n      <th>0</th>\n    </tr>\n  </thead>\n  <tbody>\n    <tr>\n      <th>0</th>\n      <td>65462</td>\n      <td>0.032187</td>\n      <td>0.237333</td>\n      <td>0.865332</td>\n      <td>0.244665</td>\n      <td>65554.0</td>\n    </tr>\n    <tr>\n      <th>1</th>\n      <td>0.98161</td>\n      <td>0.622183</td>\n      <td>0.135317</td>\n      <td>0.712306</td>\n      <td>0.322084</td>\n      <td>NaN</td>\n    </tr>\n  </tbody>\n</table>\n</div>"
     },
     "metadata": {},
     "execution_count": 156
    }
   ],
   "source": [
    "newdf.head(2)"
   ]
  },
  {
   "cell_type": "code",
   "execution_count": 157,
   "metadata": {},
   "outputs": [
    {
     "output_type": "execute_result",
     "data": {
      "text/plain": "0.2446648680474791"
     },
     "metadata": {},
     "execution_count": 157
    }
   ],
   "source": [
    "newdf.iloc[0,4]"
   ]
  },
  {
   "cell_type": "code",
   "execution_count": 158,
   "metadata": {},
   "outputs": [
    {
     "output_type": "execute_result",
     "data": {
      "text/plain": "          b         d\n1  0.622183  0.712306\n0  0.032187  0.865332\n6  0.927407  0.249531",
      "text/html": "<div>\n<style scoped>\n    .dataframe tbody tr th:only-of-type {\n        vertical-align: middle;\n    }\n\n    .dataframe tbody tr th {\n        vertical-align: top;\n    }\n\n    .dataframe thead th {\n        text-align: right;\n    }\n</style>\n<table border=\"1\" class=\"dataframe\">\n  <thead>\n    <tr style=\"text-align: right;\">\n      <th></th>\n      <th>b</th>\n      <th>d</th>\n    </tr>\n  </thead>\n  <tbody>\n    <tr>\n      <th>1</th>\n      <td>0.622183</td>\n      <td>0.712306</td>\n    </tr>\n    <tr>\n      <th>0</th>\n      <td>0.032187</td>\n      <td>0.865332</td>\n    </tr>\n    <tr>\n      <th>6</th>\n      <td>0.927407</td>\n      <td>0.249531</td>\n    </tr>\n  </tbody>\n</table>\n</div>"
     },
     "metadata": {},
     "execution_count": 158
    }
   ],
   "source": [
    "newdf.iloc[[1,0,5],[1,3]]"
   ]
  },
  {
   "cell_type": "code",
   "execution_count": 159,
   "metadata": {},
   "outputs": [
    {
     "output_type": "execute_result",
     "data": {
      "text/plain": "          A         b         c         d         e        0\n0     65462  0.032187  0.237333  0.865332  0.244665  65554.0\n1   0.98161  0.622183  0.135317  0.712306  0.322084      NaN\n3  0.200385  0.443946  0.766609  0.088075  0.822005      NaN",
      "text/html": "<div>\n<style scoped>\n    .dataframe tbody tr th:only-of-type {\n        vertical-align: middle;\n    }\n\n    .dataframe tbody tr th {\n        vertical-align: top;\n    }\n\n    .dataframe thead th {\n        text-align: right;\n    }\n</style>\n<table border=\"1\" class=\"dataframe\">\n  <thead>\n    <tr style=\"text-align: right;\">\n      <th></th>\n      <th>A</th>\n      <th>b</th>\n      <th>c</th>\n      <th>d</th>\n      <th>e</th>\n      <th>0</th>\n    </tr>\n  </thead>\n  <tbody>\n    <tr>\n      <th>0</th>\n      <td>65462</td>\n      <td>0.032187</td>\n      <td>0.237333</td>\n      <td>0.865332</td>\n      <td>0.244665</td>\n      <td>65554.0</td>\n    </tr>\n    <tr>\n      <th>1</th>\n      <td>0.98161</td>\n      <td>0.622183</td>\n      <td>0.135317</td>\n      <td>0.712306</td>\n      <td>0.322084</td>\n      <td>NaN</td>\n    </tr>\n    <tr>\n      <th>3</th>\n      <td>0.200385</td>\n      <td>0.443946</td>\n      <td>0.766609</td>\n      <td>0.088075</td>\n      <td>0.822005</td>\n      <td>NaN</td>\n    </tr>\n  </tbody>\n</table>\n</div>"
     },
     "metadata": {},
     "execution_count": 159
    }
   ],
   "source": [
    "newdf.head(3)"
   ]
  },
  {
   "cell_type": "code",
   "execution_count": 160,
   "metadata": {},
   "outputs": [
    {
     "output_type": "execute_result",
     "data": {
      "text/plain": "            A         b         c         d         e   0\n1     0.98161  0.622183  0.135317  0.712306  0.322084 NaN\n3    0.200385  0.443946  0.766609  0.088075  0.822005 NaN\n4    0.913429  0.274154  0.890240  0.730085  0.788109 NaN\n5    0.589007  0.738760  0.658472  0.036930  0.015060 NaN\n6    0.501138  0.927407  0.076462  0.249531  0.030127 NaN\n..        ...       ...       ...       ...       ...  ..\n329  0.289072  0.880175  0.502028  0.865707  0.804007 NaN\n330  0.659761  0.546782  0.902834  0.262034  0.788406 NaN\n331  0.921195  0.507970  0.477229  0.534974  0.503824 NaN\n332  0.928088  0.838283  0.163164  0.842076  0.479772 NaN\n333  0.573348  0.722878  0.312333  0.510508  0.469515 NaN\n\n[332 rows x 6 columns]",
      "text/html": "<div>\n<style scoped>\n    .dataframe tbody tr th:only-of-type {\n        vertical-align: middle;\n    }\n\n    .dataframe tbody tr th {\n        vertical-align: top;\n    }\n\n    .dataframe thead th {\n        text-align: right;\n    }\n</style>\n<table border=\"1\" class=\"dataframe\">\n  <thead>\n    <tr style=\"text-align: right;\">\n      <th></th>\n      <th>A</th>\n      <th>b</th>\n      <th>c</th>\n      <th>d</th>\n      <th>e</th>\n      <th>0</th>\n    </tr>\n  </thead>\n  <tbody>\n    <tr>\n      <th>1</th>\n      <td>0.98161</td>\n      <td>0.622183</td>\n      <td>0.135317</td>\n      <td>0.712306</td>\n      <td>0.322084</td>\n      <td>NaN</td>\n    </tr>\n    <tr>\n      <th>3</th>\n      <td>0.200385</td>\n      <td>0.443946</td>\n      <td>0.766609</td>\n      <td>0.088075</td>\n      <td>0.822005</td>\n      <td>NaN</td>\n    </tr>\n    <tr>\n      <th>4</th>\n      <td>0.913429</td>\n      <td>0.274154</td>\n      <td>0.890240</td>\n      <td>0.730085</td>\n      <td>0.788109</td>\n      <td>NaN</td>\n    </tr>\n    <tr>\n      <th>5</th>\n      <td>0.589007</td>\n      <td>0.738760</td>\n      <td>0.658472</td>\n      <td>0.036930</td>\n      <td>0.015060</td>\n      <td>NaN</td>\n    </tr>\n    <tr>\n      <th>6</th>\n      <td>0.501138</td>\n      <td>0.927407</td>\n      <td>0.076462</td>\n      <td>0.249531</td>\n      <td>0.030127</td>\n      <td>NaN</td>\n    </tr>\n    <tr>\n      <th>...</th>\n      <td>...</td>\n      <td>...</td>\n      <td>...</td>\n      <td>...</td>\n      <td>...</td>\n      <td>...</td>\n    </tr>\n    <tr>\n      <th>329</th>\n      <td>0.289072</td>\n      <td>0.880175</td>\n      <td>0.502028</td>\n      <td>0.865707</td>\n      <td>0.804007</td>\n      <td>NaN</td>\n    </tr>\n    <tr>\n      <th>330</th>\n      <td>0.659761</td>\n      <td>0.546782</td>\n      <td>0.902834</td>\n      <td>0.262034</td>\n      <td>0.788406</td>\n      <td>NaN</td>\n    </tr>\n    <tr>\n      <th>331</th>\n      <td>0.921195</td>\n      <td>0.507970</td>\n      <td>0.477229</td>\n      <td>0.534974</td>\n      <td>0.503824</td>\n      <td>NaN</td>\n    </tr>\n    <tr>\n      <th>332</th>\n      <td>0.928088</td>\n      <td>0.838283</td>\n      <td>0.163164</td>\n      <td>0.842076</td>\n      <td>0.479772</td>\n      <td>NaN</td>\n    </tr>\n    <tr>\n      <th>333</th>\n      <td>0.573348</td>\n      <td>0.722878</td>\n      <td>0.312333</td>\n      <td>0.510508</td>\n      <td>0.469515</td>\n      <td>NaN</td>\n    </tr>\n  </tbody>\n</table>\n<p>332 rows × 6 columns</p>\n</div>"
     },
     "metadata": {},
     "execution_count": 160
    }
   ],
   "source": [
    "newdf.drop([0])"
   ]
  },
  {
   "cell_type": "code",
   "execution_count": 161,
   "metadata": {},
   "outputs": [
    {
     "output_type": "error",
     "ename": "KeyError",
     "evalue": "\"['B'] not found in axis\"",
     "traceback": [
      "\u001b[1;31m---------------------------------------------------------------------------\u001b[0m",
      "\u001b[1;31mKeyError\u001b[0m                                  Traceback (most recent call last)",
      "\u001b[1;32m<ipython-input-161-9209e09cf850>\u001b[0m in \u001b[0;36m<module>\u001b[1;34m\u001b[0m\n\u001b[1;32m----> 1\u001b[1;33m \u001b[0mnewdf\u001b[0m\u001b[1;33m.\u001b[0m\u001b[0mdrop\u001b[0m\u001b[1;33m(\u001b[0m\u001b[1;33m[\u001b[0m\u001b[1;34m'B'\u001b[0m\u001b[1;33m]\u001b[0m\u001b[1;33m,\u001b[0m \u001b[0maxis\u001b[0m\u001b[1;33m=\u001b[0m\u001b[1;36m1\u001b[0m\u001b[1;33m)\u001b[0m\u001b[1;33m\u001b[0m\u001b[1;33m\u001b[0m\u001b[0m\n\u001b[0m",
      "\u001b[1;32m~\\Python\\Python38-32\\lib\\site-packages\\pandas\\core\\frame.py\u001b[0m in \u001b[0;36mdrop\u001b[1;34m(self, labels, axis, index, columns, level, inplace, errors)\u001b[0m\n\u001b[0;32m   4155\u001b[0m                 \u001b[0mweight\u001b[0m  \u001b[1;36m1.0\u001b[0m     \u001b[1;36m0.8\u001b[0m\u001b[1;33m\u001b[0m\u001b[1;33m\u001b[0m\u001b[0m\n\u001b[0;32m   4156\u001b[0m         \"\"\"\n\u001b[1;32m-> 4157\u001b[1;33m         return super().drop(\n\u001b[0m\u001b[0;32m   4158\u001b[0m             \u001b[0mlabels\u001b[0m\u001b[1;33m=\u001b[0m\u001b[0mlabels\u001b[0m\u001b[1;33m,\u001b[0m\u001b[1;33m\u001b[0m\u001b[1;33m\u001b[0m\u001b[0m\n\u001b[0;32m   4159\u001b[0m             \u001b[0maxis\u001b[0m\u001b[1;33m=\u001b[0m\u001b[0maxis\u001b[0m\u001b[1;33m,\u001b[0m\u001b[1;33m\u001b[0m\u001b[1;33m\u001b[0m\u001b[0m\n",
      "\u001b[1;32m~\\Python\\Python38-32\\lib\\site-packages\\pandas\\core\\generic.py\u001b[0m in \u001b[0;36mdrop\u001b[1;34m(self, labels, axis, index, columns, level, inplace, errors)\u001b[0m\n\u001b[0;32m   3876\u001b[0m         \u001b[1;32mfor\u001b[0m \u001b[0maxis\u001b[0m\u001b[1;33m,\u001b[0m \u001b[0mlabels\u001b[0m \u001b[1;32min\u001b[0m \u001b[0maxes\u001b[0m\u001b[1;33m.\u001b[0m\u001b[0mitems\u001b[0m\u001b[1;33m(\u001b[0m\u001b[1;33m)\u001b[0m\u001b[1;33m:\u001b[0m\u001b[1;33m\u001b[0m\u001b[1;33m\u001b[0m\u001b[0m\n\u001b[0;32m   3877\u001b[0m             \u001b[1;32mif\u001b[0m \u001b[0mlabels\u001b[0m \u001b[1;32mis\u001b[0m \u001b[1;32mnot\u001b[0m \u001b[1;32mNone\u001b[0m\u001b[1;33m:\u001b[0m\u001b[1;33m\u001b[0m\u001b[1;33m\u001b[0m\u001b[0m\n\u001b[1;32m-> 3878\u001b[1;33m                 \u001b[0mobj\u001b[0m \u001b[1;33m=\u001b[0m \u001b[0mobj\u001b[0m\u001b[1;33m.\u001b[0m\u001b[0m_drop_axis\u001b[0m\u001b[1;33m(\u001b[0m\u001b[0mlabels\u001b[0m\u001b[1;33m,\u001b[0m \u001b[0maxis\u001b[0m\u001b[1;33m,\u001b[0m \u001b[0mlevel\u001b[0m\u001b[1;33m=\u001b[0m\u001b[0mlevel\u001b[0m\u001b[1;33m,\u001b[0m \u001b[0merrors\u001b[0m\u001b[1;33m=\u001b[0m\u001b[0merrors\u001b[0m\u001b[1;33m)\u001b[0m\u001b[1;33m\u001b[0m\u001b[1;33m\u001b[0m\u001b[0m\n\u001b[0m\u001b[0;32m   3879\u001b[0m \u001b[1;33m\u001b[0m\u001b[0m\n\u001b[0;32m   3880\u001b[0m         \u001b[1;32mif\u001b[0m \u001b[0minplace\u001b[0m\u001b[1;33m:\u001b[0m\u001b[1;33m\u001b[0m\u001b[1;33m\u001b[0m\u001b[0m\n",
      "\u001b[1;32m~\\Python\\Python38-32\\lib\\site-packages\\pandas\\core\\generic.py\u001b[0m in \u001b[0;36m_drop_axis\u001b[1;34m(self, labels, axis, level, errors)\u001b[0m\n\u001b[0;32m   3910\u001b[0m                 \u001b[0mnew_axis\u001b[0m \u001b[1;33m=\u001b[0m \u001b[0maxis\u001b[0m\u001b[1;33m.\u001b[0m\u001b[0mdrop\u001b[0m\u001b[1;33m(\u001b[0m\u001b[0mlabels\u001b[0m\u001b[1;33m,\u001b[0m \u001b[0mlevel\u001b[0m\u001b[1;33m=\u001b[0m\u001b[0mlevel\u001b[0m\u001b[1;33m,\u001b[0m \u001b[0merrors\u001b[0m\u001b[1;33m=\u001b[0m\u001b[0merrors\u001b[0m\u001b[1;33m)\u001b[0m\u001b[1;33m\u001b[0m\u001b[1;33m\u001b[0m\u001b[0m\n\u001b[0;32m   3911\u001b[0m             \u001b[1;32melse\u001b[0m\u001b[1;33m:\u001b[0m\u001b[1;33m\u001b[0m\u001b[1;33m\u001b[0m\u001b[0m\n\u001b[1;32m-> 3912\u001b[1;33m                 \u001b[0mnew_axis\u001b[0m \u001b[1;33m=\u001b[0m \u001b[0maxis\u001b[0m\u001b[1;33m.\u001b[0m\u001b[0mdrop\u001b[0m\u001b[1;33m(\u001b[0m\u001b[0mlabels\u001b[0m\u001b[1;33m,\u001b[0m \u001b[0merrors\u001b[0m\u001b[1;33m=\u001b[0m\u001b[0merrors\u001b[0m\u001b[1;33m)\u001b[0m\u001b[1;33m\u001b[0m\u001b[1;33m\u001b[0m\u001b[0m\n\u001b[0m\u001b[0;32m   3913\u001b[0m             \u001b[0mresult\u001b[0m \u001b[1;33m=\u001b[0m \u001b[0mself\u001b[0m\u001b[1;33m.\u001b[0m\u001b[0mreindex\u001b[0m\u001b[1;33m(\u001b[0m\u001b[1;33m**\u001b[0m\u001b[1;33m{\u001b[0m\u001b[0maxis_name\u001b[0m\u001b[1;33m:\u001b[0m \u001b[0mnew_axis\u001b[0m\u001b[1;33m}\u001b[0m\u001b[1;33m)\u001b[0m\u001b[1;33m\u001b[0m\u001b[1;33m\u001b[0m\u001b[0m\n\u001b[0;32m   3914\u001b[0m \u001b[1;33m\u001b[0m\u001b[0m\n",
      "\u001b[1;32m~\\Python\\Python38-32\\lib\\site-packages\\pandas\\core\\indexes\\base.py\u001b[0m in \u001b[0;36mdrop\u001b[1;34m(self, labels, errors)\u001b[0m\n\u001b[0;32m   5274\u001b[0m         \u001b[1;32mif\u001b[0m \u001b[0mmask\u001b[0m\u001b[1;33m.\u001b[0m\u001b[0many\u001b[0m\u001b[1;33m(\u001b[0m\u001b[1;33m)\u001b[0m\u001b[1;33m:\u001b[0m\u001b[1;33m\u001b[0m\u001b[1;33m\u001b[0m\u001b[0m\n\u001b[0;32m   5275\u001b[0m             \u001b[1;32mif\u001b[0m \u001b[0merrors\u001b[0m \u001b[1;33m!=\u001b[0m \u001b[1;34m\"ignore\"\u001b[0m\u001b[1;33m:\u001b[0m\u001b[1;33m\u001b[0m\u001b[1;33m\u001b[0m\u001b[0m\n\u001b[1;32m-> 5276\u001b[1;33m                 \u001b[1;32mraise\u001b[0m \u001b[0mKeyError\u001b[0m\u001b[1;33m(\u001b[0m\u001b[1;34mf\"{labels[mask]} not found in axis\"\u001b[0m\u001b[1;33m)\u001b[0m\u001b[1;33m\u001b[0m\u001b[1;33m\u001b[0m\u001b[0m\n\u001b[0m\u001b[0;32m   5277\u001b[0m             \u001b[0mindexer\u001b[0m \u001b[1;33m=\u001b[0m \u001b[0mindexer\u001b[0m\u001b[1;33m[\u001b[0m\u001b[1;33m~\u001b[0m\u001b[0mmask\u001b[0m\u001b[1;33m]\u001b[0m\u001b[1;33m\u001b[0m\u001b[1;33m\u001b[0m\u001b[0m\n\u001b[0;32m   5278\u001b[0m         \u001b[1;32mreturn\u001b[0m \u001b[0mself\u001b[0m\u001b[1;33m.\u001b[0m\u001b[0mdelete\u001b[0m\u001b[1;33m(\u001b[0m\u001b[0mindexer\u001b[0m\u001b[1;33m)\u001b[0m\u001b[1;33m\u001b[0m\u001b[1;33m\u001b[0m\u001b[0m\n",
      "\u001b[1;31mKeyError\u001b[0m: \"['B'] not found in axis\""
     ]
    }
   ],
   "source": [
    "newdf.drop(['B'], axis=1)"
   ]
  },
  {
   "cell_type": "code",
   "execution_count": 162,
   "metadata": {},
   "outputs": [
    {
     "output_type": "execute_result",
     "data": {
      "text/plain": "          A         b         c         d         e        0\n0     65462  0.032187  0.237333  0.865332  0.244665  65554.0\n1   0.98161  0.622183  0.135317  0.712306  0.322084      NaN\n3  0.200385  0.443946  0.766609  0.088075  0.822005      NaN\n4  0.913429  0.274154  0.890240  0.730085  0.788109      NaN\n5  0.589007  0.738760  0.658472  0.036930  0.015060      NaN",
      "text/html": "<div>\n<style scoped>\n    .dataframe tbody tr th:only-of-type {\n        vertical-align: middle;\n    }\n\n    .dataframe tbody tr th {\n        vertical-align: top;\n    }\n\n    .dataframe thead th {\n        text-align: right;\n    }\n</style>\n<table border=\"1\" class=\"dataframe\">\n  <thead>\n    <tr style=\"text-align: right;\">\n      <th></th>\n      <th>A</th>\n      <th>b</th>\n      <th>c</th>\n      <th>d</th>\n      <th>e</th>\n      <th>0</th>\n    </tr>\n  </thead>\n  <tbody>\n    <tr>\n      <th>0</th>\n      <td>65462</td>\n      <td>0.032187</td>\n      <td>0.237333</td>\n      <td>0.865332</td>\n      <td>0.244665</td>\n      <td>65554.0</td>\n    </tr>\n    <tr>\n      <th>1</th>\n      <td>0.98161</td>\n      <td>0.622183</td>\n      <td>0.135317</td>\n      <td>0.712306</td>\n      <td>0.322084</td>\n      <td>NaN</td>\n    </tr>\n    <tr>\n      <th>3</th>\n      <td>0.200385</td>\n      <td>0.443946</td>\n      <td>0.766609</td>\n      <td>0.088075</td>\n      <td>0.822005</td>\n      <td>NaN</td>\n    </tr>\n    <tr>\n      <th>4</th>\n      <td>0.913429</td>\n      <td>0.274154</td>\n      <td>0.890240</td>\n      <td>0.730085</td>\n      <td>0.788109</td>\n      <td>NaN</td>\n    </tr>\n    <tr>\n      <th>5</th>\n      <td>0.589007</td>\n      <td>0.738760</td>\n      <td>0.658472</td>\n      <td>0.036930</td>\n      <td>0.015060</td>\n      <td>NaN</td>\n    </tr>\n  </tbody>\n</table>\n</div>"
     },
     "metadata": {},
     "execution_count": 162
    }
   ],
   "source": [
    "newdf.head()"
   ]
  },
  {
   "cell_type": "code",
   "execution_count": 163,
   "metadata": {},
   "outputs": [
    {
     "output_type": "error",
     "ename": "KeyError",
     "evalue": "\"['E'] not found in axis\"",
     "traceback": [
      "\u001b[1;31m---------------------------------------------------------------------------\u001b[0m",
      "\u001b[1;31mKeyError\u001b[0m                                  Traceback (most recent call last)",
      "\u001b[1;32m<ipython-input-163-cae3eafee91e>\u001b[0m in \u001b[0;36m<module>\u001b[1;34m\u001b[0m\n\u001b[1;32m----> 1\u001b[1;33m \u001b[0mnewdf\u001b[0m\u001b[1;33m.\u001b[0m\u001b[0mdrop\u001b[0m\u001b[1;33m(\u001b[0m\u001b[1;33m[\u001b[0m\u001b[1;34m'E'\u001b[0m\u001b[1;33m]\u001b[0m\u001b[1;33m,\u001b[0m\u001b[0maxis\u001b[0m\u001b[1;33m=\u001b[0m\u001b[1;36m1\u001b[0m\u001b[1;33m,\u001b[0m \u001b[0minplace\u001b[0m\u001b[1;33m=\u001b[0m\u001b[1;32mTrue\u001b[0m\u001b[1;33m)\u001b[0m\u001b[1;33m\u001b[0m\u001b[1;33m\u001b[0m\u001b[0m\n\u001b[0m\u001b[0;32m      2\u001b[0m \u001b[0mnewdf\u001b[0m\u001b[1;33m\u001b[0m\u001b[1;33m\u001b[0m\u001b[0m\n",
      "\u001b[1;32m~\\Python\\Python38-32\\lib\\site-packages\\pandas\\core\\frame.py\u001b[0m in \u001b[0;36mdrop\u001b[1;34m(self, labels, axis, index, columns, level, inplace, errors)\u001b[0m\n\u001b[0;32m   4155\u001b[0m                 \u001b[0mweight\u001b[0m  \u001b[1;36m1.0\u001b[0m     \u001b[1;36m0.8\u001b[0m\u001b[1;33m\u001b[0m\u001b[1;33m\u001b[0m\u001b[0m\n\u001b[0;32m   4156\u001b[0m         \"\"\"\n\u001b[1;32m-> 4157\u001b[1;33m         return super().drop(\n\u001b[0m\u001b[0;32m   4158\u001b[0m             \u001b[0mlabels\u001b[0m\u001b[1;33m=\u001b[0m\u001b[0mlabels\u001b[0m\u001b[1;33m,\u001b[0m\u001b[1;33m\u001b[0m\u001b[1;33m\u001b[0m\u001b[0m\n\u001b[0;32m   4159\u001b[0m             \u001b[0maxis\u001b[0m\u001b[1;33m=\u001b[0m\u001b[0maxis\u001b[0m\u001b[1;33m,\u001b[0m\u001b[1;33m\u001b[0m\u001b[1;33m\u001b[0m\u001b[0m\n",
      "\u001b[1;32m~\\Python\\Python38-32\\lib\\site-packages\\pandas\\core\\generic.py\u001b[0m in \u001b[0;36mdrop\u001b[1;34m(self, labels, axis, index, columns, level, inplace, errors)\u001b[0m\n\u001b[0;32m   3876\u001b[0m         \u001b[1;32mfor\u001b[0m \u001b[0maxis\u001b[0m\u001b[1;33m,\u001b[0m \u001b[0mlabels\u001b[0m \u001b[1;32min\u001b[0m \u001b[0maxes\u001b[0m\u001b[1;33m.\u001b[0m\u001b[0mitems\u001b[0m\u001b[1;33m(\u001b[0m\u001b[1;33m)\u001b[0m\u001b[1;33m:\u001b[0m\u001b[1;33m\u001b[0m\u001b[1;33m\u001b[0m\u001b[0m\n\u001b[0;32m   3877\u001b[0m             \u001b[1;32mif\u001b[0m \u001b[0mlabels\u001b[0m \u001b[1;32mis\u001b[0m \u001b[1;32mnot\u001b[0m \u001b[1;32mNone\u001b[0m\u001b[1;33m:\u001b[0m\u001b[1;33m\u001b[0m\u001b[1;33m\u001b[0m\u001b[0m\n\u001b[1;32m-> 3878\u001b[1;33m                 \u001b[0mobj\u001b[0m \u001b[1;33m=\u001b[0m \u001b[0mobj\u001b[0m\u001b[1;33m.\u001b[0m\u001b[0m_drop_axis\u001b[0m\u001b[1;33m(\u001b[0m\u001b[0mlabels\u001b[0m\u001b[1;33m,\u001b[0m \u001b[0maxis\u001b[0m\u001b[1;33m,\u001b[0m \u001b[0mlevel\u001b[0m\u001b[1;33m=\u001b[0m\u001b[0mlevel\u001b[0m\u001b[1;33m,\u001b[0m \u001b[0merrors\u001b[0m\u001b[1;33m=\u001b[0m\u001b[0merrors\u001b[0m\u001b[1;33m)\u001b[0m\u001b[1;33m\u001b[0m\u001b[1;33m\u001b[0m\u001b[0m\n\u001b[0m\u001b[0;32m   3879\u001b[0m \u001b[1;33m\u001b[0m\u001b[0m\n\u001b[0;32m   3880\u001b[0m         \u001b[1;32mif\u001b[0m \u001b[0minplace\u001b[0m\u001b[1;33m:\u001b[0m\u001b[1;33m\u001b[0m\u001b[1;33m\u001b[0m\u001b[0m\n",
      "\u001b[1;32m~\\Python\\Python38-32\\lib\\site-packages\\pandas\\core\\generic.py\u001b[0m in \u001b[0;36m_drop_axis\u001b[1;34m(self, labels, axis, level, errors)\u001b[0m\n\u001b[0;32m   3910\u001b[0m                 \u001b[0mnew_axis\u001b[0m \u001b[1;33m=\u001b[0m \u001b[0maxis\u001b[0m\u001b[1;33m.\u001b[0m\u001b[0mdrop\u001b[0m\u001b[1;33m(\u001b[0m\u001b[0mlabels\u001b[0m\u001b[1;33m,\u001b[0m \u001b[0mlevel\u001b[0m\u001b[1;33m=\u001b[0m\u001b[0mlevel\u001b[0m\u001b[1;33m,\u001b[0m \u001b[0merrors\u001b[0m\u001b[1;33m=\u001b[0m\u001b[0merrors\u001b[0m\u001b[1;33m)\u001b[0m\u001b[1;33m\u001b[0m\u001b[1;33m\u001b[0m\u001b[0m\n\u001b[0;32m   3911\u001b[0m             \u001b[1;32melse\u001b[0m\u001b[1;33m:\u001b[0m\u001b[1;33m\u001b[0m\u001b[1;33m\u001b[0m\u001b[0m\n\u001b[1;32m-> 3912\u001b[1;33m                 \u001b[0mnew_axis\u001b[0m \u001b[1;33m=\u001b[0m \u001b[0maxis\u001b[0m\u001b[1;33m.\u001b[0m\u001b[0mdrop\u001b[0m\u001b[1;33m(\u001b[0m\u001b[0mlabels\u001b[0m\u001b[1;33m,\u001b[0m \u001b[0merrors\u001b[0m\u001b[1;33m=\u001b[0m\u001b[0merrors\u001b[0m\u001b[1;33m)\u001b[0m\u001b[1;33m\u001b[0m\u001b[1;33m\u001b[0m\u001b[0m\n\u001b[0m\u001b[0;32m   3913\u001b[0m             \u001b[0mresult\u001b[0m \u001b[1;33m=\u001b[0m \u001b[0mself\u001b[0m\u001b[1;33m.\u001b[0m\u001b[0mreindex\u001b[0m\u001b[1;33m(\u001b[0m\u001b[1;33m**\u001b[0m\u001b[1;33m{\u001b[0m\u001b[0maxis_name\u001b[0m\u001b[1;33m:\u001b[0m \u001b[0mnew_axis\u001b[0m\u001b[1;33m}\u001b[0m\u001b[1;33m)\u001b[0m\u001b[1;33m\u001b[0m\u001b[1;33m\u001b[0m\u001b[0m\n\u001b[0;32m   3914\u001b[0m \u001b[1;33m\u001b[0m\u001b[0m\n",
      "\u001b[1;32m~\\Python\\Python38-32\\lib\\site-packages\\pandas\\core\\indexes\\base.py\u001b[0m in \u001b[0;36mdrop\u001b[1;34m(self, labels, errors)\u001b[0m\n\u001b[0;32m   5274\u001b[0m         \u001b[1;32mif\u001b[0m \u001b[0mmask\u001b[0m\u001b[1;33m.\u001b[0m\u001b[0many\u001b[0m\u001b[1;33m(\u001b[0m\u001b[1;33m)\u001b[0m\u001b[1;33m:\u001b[0m\u001b[1;33m\u001b[0m\u001b[1;33m\u001b[0m\u001b[0m\n\u001b[0;32m   5275\u001b[0m             \u001b[1;32mif\u001b[0m \u001b[0merrors\u001b[0m \u001b[1;33m!=\u001b[0m \u001b[1;34m\"ignore\"\u001b[0m\u001b[1;33m:\u001b[0m\u001b[1;33m\u001b[0m\u001b[1;33m\u001b[0m\u001b[0m\n\u001b[1;32m-> 5276\u001b[1;33m                 \u001b[1;32mraise\u001b[0m \u001b[0mKeyError\u001b[0m\u001b[1;33m(\u001b[0m\u001b[1;34mf\"{labels[mask]} not found in axis\"\u001b[0m\u001b[1;33m)\u001b[0m\u001b[1;33m\u001b[0m\u001b[1;33m\u001b[0m\u001b[0m\n\u001b[0m\u001b[0;32m   5277\u001b[0m             \u001b[0mindexer\u001b[0m \u001b[1;33m=\u001b[0m \u001b[0mindexer\u001b[0m\u001b[1;33m[\u001b[0m\u001b[1;33m~\u001b[0m\u001b[0mmask\u001b[0m\u001b[1;33m]\u001b[0m\u001b[1;33m\u001b[0m\u001b[1;33m\u001b[0m\u001b[0m\n\u001b[0;32m   5278\u001b[0m         \u001b[1;32mreturn\u001b[0m \u001b[0mself\u001b[0m\u001b[1;33m.\u001b[0m\u001b[0mdelete\u001b[0m\u001b[1;33m(\u001b[0m\u001b[0mindexer\u001b[0m\u001b[1;33m)\u001b[0m\u001b[1;33m\u001b[0m\u001b[1;33m\u001b[0m\u001b[0m\n",
      "\u001b[1;31mKeyError\u001b[0m: \"['E'] not found in axis\""
     ]
    }
   ],
   "source": [
    "newdf.drop(['E'],axis=1, inplace=True)\n",
    "newdf"
   ]
  },
  {
   "cell_type": "code",
   "execution_count": 164,
   "metadata": {},
   "outputs": [],
   "source": [
    "newdf.reset_index(drop=True, inplace=True)"
   ]
  },
  {
   "cell_type": "code",
   "execution_count": 165,
   "metadata": {},
   "outputs": [
    {
     "output_type": "execute_result",
     "data": {
      "text/plain": "            A         b         c         d         e        0\n0       65462  0.032187  0.237333  0.865332  0.244665  65554.0\n1     0.98161  0.622183  0.135317  0.712306  0.322084      NaN\n2    0.200385  0.443946  0.766609  0.088075  0.822005      NaN\n3    0.913429  0.274154  0.890240  0.730085  0.788109      NaN\n4    0.589007  0.738760  0.658472  0.036930  0.015060      NaN\n..        ...       ...       ...       ...       ...      ...\n328  0.289072  0.880175  0.502028  0.865707  0.804007      NaN\n329  0.659761  0.546782  0.902834  0.262034  0.788406      NaN\n330  0.921195  0.507970  0.477229  0.534974  0.503824      NaN\n331  0.928088  0.838283  0.163164  0.842076  0.479772      NaN\n332  0.573348  0.722878  0.312333  0.510508  0.469515      NaN\n\n[333 rows x 6 columns]",
      "text/html": "<div>\n<style scoped>\n    .dataframe tbody tr th:only-of-type {\n        vertical-align: middle;\n    }\n\n    .dataframe tbody tr th {\n        vertical-align: top;\n    }\n\n    .dataframe thead th {\n        text-align: right;\n    }\n</style>\n<table border=\"1\" class=\"dataframe\">\n  <thead>\n    <tr style=\"text-align: right;\">\n      <th></th>\n      <th>A</th>\n      <th>b</th>\n      <th>c</th>\n      <th>d</th>\n      <th>e</th>\n      <th>0</th>\n    </tr>\n  </thead>\n  <tbody>\n    <tr>\n      <th>0</th>\n      <td>65462</td>\n      <td>0.032187</td>\n      <td>0.237333</td>\n      <td>0.865332</td>\n      <td>0.244665</td>\n      <td>65554.0</td>\n    </tr>\n    <tr>\n      <th>1</th>\n      <td>0.98161</td>\n      <td>0.622183</td>\n      <td>0.135317</td>\n      <td>0.712306</td>\n      <td>0.322084</td>\n      <td>NaN</td>\n    </tr>\n    <tr>\n      <th>2</th>\n      <td>0.200385</td>\n      <td>0.443946</td>\n      <td>0.766609</td>\n      <td>0.088075</td>\n      <td>0.822005</td>\n      <td>NaN</td>\n    </tr>\n    <tr>\n      <th>3</th>\n      <td>0.913429</td>\n      <td>0.274154</td>\n      <td>0.890240</td>\n      <td>0.730085</td>\n      <td>0.788109</td>\n      <td>NaN</td>\n    </tr>\n    <tr>\n      <th>4</th>\n      <td>0.589007</td>\n      <td>0.738760</td>\n      <td>0.658472</td>\n      <td>0.036930</td>\n      <td>0.015060</td>\n      <td>NaN</td>\n    </tr>\n    <tr>\n      <th>...</th>\n      <td>...</td>\n      <td>...</td>\n      <td>...</td>\n      <td>...</td>\n      <td>...</td>\n      <td>...</td>\n    </tr>\n    <tr>\n      <th>328</th>\n      <td>0.289072</td>\n      <td>0.880175</td>\n      <td>0.502028</td>\n      <td>0.865707</td>\n      <td>0.804007</td>\n      <td>NaN</td>\n    </tr>\n    <tr>\n      <th>329</th>\n      <td>0.659761</td>\n      <td>0.546782</td>\n      <td>0.902834</td>\n      <td>0.262034</td>\n      <td>0.788406</td>\n      <td>NaN</td>\n    </tr>\n    <tr>\n      <th>330</th>\n      <td>0.921195</td>\n      <td>0.507970</td>\n      <td>0.477229</td>\n      <td>0.534974</td>\n      <td>0.503824</td>\n      <td>NaN</td>\n    </tr>\n    <tr>\n      <th>331</th>\n      <td>0.928088</td>\n      <td>0.838283</td>\n      <td>0.163164</td>\n      <td>0.842076</td>\n      <td>0.479772</td>\n      <td>NaN</td>\n    </tr>\n    <tr>\n      <th>332</th>\n      <td>0.573348</td>\n      <td>0.722878</td>\n      <td>0.312333</td>\n      <td>0.510508</td>\n      <td>0.469515</td>\n      <td>NaN</td>\n    </tr>\n  </tbody>\n</table>\n<p>333 rows × 6 columns</p>\n</div>"
     },
     "metadata": {},
     "execution_count": 165
    }
   ],
   "source": [
    "newdf"
   ]
  },
  {
   "cell_type": "code",
   "execution_count": 166,
   "metadata": {},
   "outputs": [],
   "source": [
    "df = pd.DataFrame([[5, 2, np.nan, 1.0], [3, 4, np.nan, 1],\n",
    "                    [np.nan, np.nan, np.nan, np.nan]],\n",
    "                   columns=list('ABCD'))"
   ]
  },
  {
   "cell_type": "code",
   "execution_count": 167,
   "metadata": {},
   "outputs": [
    {
     "output_type": "execute_result",
     "data": {
      "text/plain": "     A    B   C    D\n0  5.0  2.0 NaN  1.0\n1  3.0  4.0 NaN  1.0\n2  NaN  NaN NaN  NaN",
      "text/html": "<div>\n<style scoped>\n    .dataframe tbody tr th:only-of-type {\n        vertical-align: middle;\n    }\n\n    .dataframe tbody tr th {\n        vertical-align: top;\n    }\n\n    .dataframe thead th {\n        text-align: right;\n    }\n</style>\n<table border=\"1\" class=\"dataframe\">\n  <thead>\n    <tr style=\"text-align: right;\">\n      <th></th>\n      <th>A</th>\n      <th>B</th>\n      <th>C</th>\n      <th>D</th>\n    </tr>\n  </thead>\n  <tbody>\n    <tr>\n      <th>0</th>\n      <td>5.0</td>\n      <td>2.0</td>\n      <td>NaN</td>\n      <td>1.0</td>\n    </tr>\n    <tr>\n      <th>1</th>\n      <td>3.0</td>\n      <td>4.0</td>\n      <td>NaN</td>\n      <td>1.0</td>\n    </tr>\n    <tr>\n      <th>2</th>\n      <td>NaN</td>\n      <td>NaN</td>\n      <td>NaN</td>\n      <td>NaN</td>\n    </tr>\n  </tbody>\n</table>\n</div>"
     },
     "metadata": {},
     "execution_count": 167
    }
   ],
   "source": [
    "df"
   ]
  },
  {
   "cell_type": "code",
   "execution_count": 168,
   "metadata": {},
   "outputs": [
    {
     "output_type": "execute_result",
     "data": {
      "text/plain": "     A    B    D\n0  5.0  2.0  1.0\n1  3.0  4.0  1.0\n2  NaN  NaN  NaN",
      "text/html": "<div>\n<style scoped>\n    .dataframe tbody tr th:only-of-type {\n        vertical-align: middle;\n    }\n\n    .dataframe tbody tr th {\n        vertical-align: top;\n    }\n\n    .dataframe thead th {\n        text-align: right;\n    }\n</style>\n<table border=\"1\" class=\"dataframe\">\n  <thead>\n    <tr style=\"text-align: right;\">\n      <th></th>\n      <th>A</th>\n      <th>B</th>\n      <th>D</th>\n    </tr>\n  </thead>\n  <tbody>\n    <tr>\n      <th>0</th>\n      <td>5.0</td>\n      <td>2.0</td>\n      <td>1.0</td>\n    </tr>\n    <tr>\n      <th>1</th>\n      <td>3.0</td>\n      <td>4.0</td>\n      <td>1.0</td>\n    </tr>\n    <tr>\n      <th>2</th>\n      <td>NaN</td>\n      <td>NaN</td>\n      <td>NaN</td>\n    </tr>\n  </tbody>\n</table>\n</div>"
     },
     "metadata": {},
     "execution_count": 168
    }
   ],
   "source": [
    "df.dropna(how='all',axis=1)"
   ]
  },
  {
   "cell_type": "code",
   "execution_count": 169,
   "metadata": {},
   "outputs": [
    {
     "output_type": "execute_result",
     "data": {
      "text/plain": "     A    B   C    D\n0  5.0  2.0 NaN  1.0\n2  NaN  NaN NaN  NaN",
      "text/html": "<div>\n<style scoped>\n    .dataframe tbody tr th:only-of-type {\n        vertical-align: middle;\n    }\n\n    .dataframe tbody tr th {\n        vertical-align: top;\n    }\n\n    .dataframe thead th {\n        text-align: right;\n    }\n</style>\n<table border=\"1\" class=\"dataframe\">\n  <thead>\n    <tr style=\"text-align: right;\">\n      <th></th>\n      <th>A</th>\n      <th>B</th>\n      <th>C</th>\n      <th>D</th>\n    </tr>\n  </thead>\n  <tbody>\n    <tr>\n      <th>0</th>\n      <td>5.0</td>\n      <td>2.0</td>\n      <td>NaN</td>\n      <td>1.0</td>\n    </tr>\n    <tr>\n      <th>2</th>\n      <td>NaN</td>\n      <td>NaN</td>\n      <td>NaN</td>\n      <td>NaN</td>\n    </tr>\n  </tbody>\n</table>\n</div>"
     },
     "metadata": {},
     "execution_count": 169
    }
   ],
   "source": [
    "df.drop_duplicates(subset=['D'])"
   ]
  },
  {
   "cell_type": "code",
   "execution_count": 170,
   "metadata": {},
   "outputs": [
    {
     "output_type": "execute_result",
     "data": {
      "text/plain": "       A      B     C      D\n0  False  False  True  False\n1  False  False  True  False\n2   True   True  True   True",
      "text/html": "<div>\n<style scoped>\n    .dataframe tbody tr th:only-of-type {\n        vertical-align: middle;\n    }\n\n    .dataframe tbody tr th {\n        vertical-align: top;\n    }\n\n    .dataframe thead th {\n        text-align: right;\n    }\n</style>\n<table border=\"1\" class=\"dataframe\">\n  <thead>\n    <tr style=\"text-align: right;\">\n      <th></th>\n      <th>A</th>\n      <th>B</th>\n      <th>C</th>\n      <th>D</th>\n    </tr>\n  </thead>\n  <tbody>\n    <tr>\n      <th>0</th>\n      <td>False</td>\n      <td>False</td>\n      <td>True</td>\n      <td>False</td>\n    </tr>\n    <tr>\n      <th>1</th>\n      <td>False</td>\n      <td>False</td>\n      <td>True</td>\n      <td>False</td>\n    </tr>\n    <tr>\n      <th>2</th>\n      <td>True</td>\n      <td>True</td>\n      <td>True</td>\n      <td>True</td>\n    </tr>\n  </tbody>\n</table>\n</div>"
     },
     "metadata": {},
     "execution_count": 170
    }
   ],
   "source": [
    "df.isnull()"
   ]
  },
  {
   "cell_type": "code",
   "execution_count": 171,
   "metadata": {},
   "outputs": [
    {
     "output_type": "execute_result",
     "data": {
      "text/plain": "       A      B      C      D\n0   True   True  False   True\n1   True   True  False   True\n2  False  False  False  False",
      "text/html": "<div>\n<style scoped>\n    .dataframe tbody tr th:only-of-type {\n        vertical-align: middle;\n    }\n\n    .dataframe tbody tr th {\n        vertical-align: top;\n    }\n\n    .dataframe thead th {\n        text-align: right;\n    }\n</style>\n<table border=\"1\" class=\"dataframe\">\n  <thead>\n    <tr style=\"text-align: right;\">\n      <th></th>\n      <th>A</th>\n      <th>B</th>\n      <th>C</th>\n      <th>D</th>\n    </tr>\n  </thead>\n  <tbody>\n    <tr>\n      <th>0</th>\n      <td>True</td>\n      <td>True</td>\n      <td>False</td>\n      <td>True</td>\n    </tr>\n    <tr>\n      <th>1</th>\n      <td>True</td>\n      <td>True</td>\n      <td>False</td>\n      <td>True</td>\n    </tr>\n    <tr>\n      <th>2</th>\n      <td>False</td>\n      <td>False</td>\n      <td>False</td>\n      <td>False</td>\n    </tr>\n  </tbody>\n</table>\n</div>"
     },
     "metadata": {},
     "execution_count": 171
    }
   ],
   "source": [
    "df.notnull()"
   ]
  },
  {
   "cell_type": "code",
   "execution_count": 172,
   "metadata": {},
   "outputs": [
    {
     "output_type": "execute_result",
     "data": {
      "text/plain": "   Unnamed: 0  Unnamed: 0.1  Unnamed: 0.1.1  Unnamed: 0.1.1.1  \\\n0           0            50              50                50   \n1           1             1               1                 1   \n2           2             2               2                 2   \n3           3             3               3                 3   \n4           4             4               4                 4   \n\n   Unnamed: 0.1.1.1.1  Unnamed: 0.1.1.1.1.1  Unnamed: 0.1.1.1.1.1.1  646416  \\\n0                  50                    50                      50      50   \n1                   1                     1                       1     313   \n2                   2                     2                       2       3   \n3                   3                     3                       3    1855   \n4                   4                     4                       4       6   \n\n   516  \n0    5  \n1    5  \n2    5  \n3    6  \n4  654  ",
      "text/html": "<div>\n<style scoped>\n    .dataframe tbody tr th:only-of-type {\n        vertical-align: middle;\n    }\n\n    .dataframe tbody tr th {\n        vertical-align: top;\n    }\n\n    .dataframe thead th {\n        text-align: right;\n    }\n</style>\n<table border=\"1\" class=\"dataframe\">\n  <thead>\n    <tr style=\"text-align: right;\">\n      <th></th>\n      <th>Unnamed: 0</th>\n      <th>Unnamed: 0.1</th>\n      <th>Unnamed: 0.1.1</th>\n      <th>Unnamed: 0.1.1.1</th>\n      <th>Unnamed: 0.1.1.1.1</th>\n      <th>Unnamed: 0.1.1.1.1.1</th>\n      <th>Unnamed: 0.1.1.1.1.1.1</th>\n      <th>646416</th>\n      <th>516</th>\n    </tr>\n  </thead>\n  <tbody>\n    <tr>\n      <th>0</th>\n      <td>0</td>\n      <td>50</td>\n      <td>50</td>\n      <td>50</td>\n      <td>50</td>\n      <td>50</td>\n      <td>50</td>\n      <td>50</td>\n      <td>5</td>\n    </tr>\n    <tr>\n      <th>1</th>\n      <td>1</td>\n      <td>1</td>\n      <td>1</td>\n      <td>1</td>\n      <td>1</td>\n      <td>1</td>\n      <td>1</td>\n      <td>313</td>\n      <td>5</td>\n    </tr>\n    <tr>\n      <th>2</th>\n      <td>2</td>\n      <td>2</td>\n      <td>2</td>\n      <td>2</td>\n      <td>2</td>\n      <td>2</td>\n      <td>2</td>\n      <td>3</td>\n      <td>5</td>\n    </tr>\n    <tr>\n      <th>3</th>\n      <td>3</td>\n      <td>3</td>\n      <td>3</td>\n      <td>3</td>\n      <td>3</td>\n      <td>3</td>\n      <td>3</td>\n      <td>1855</td>\n      <td>6</td>\n    </tr>\n    <tr>\n      <th>4</th>\n      <td>4</td>\n      <td>4</td>\n      <td>4</td>\n      <td>4</td>\n      <td>4</td>\n      <td>4</td>\n      <td>4</td>\n      <td>6</td>\n      <td>654</td>\n    </tr>\n  </tbody>\n</table>\n</div>"
     },
     "metadata": {},
     "execution_count": 172
    }
   ],
   "source": [
    "new = pd.read_excel('p.xlsx')\n",
    "new"
   ]
  },
  {
   "cell_type": "code",
   "execution_count": 173,
   "metadata": {},
   "outputs": [
    {
     "output_type": "execute_result",
     "data": {
      "text/plain": "   Unnamed: 0  Unnamed: 0.1  Unnamed: 0.1.1  Unnamed: 0.1.1.1  \\\n0          50            50              50                50   \n1           1             1               1                 1   \n2           2             2               2                 2   \n3           3             3               3                 3   \n4           4             4               4                 4   \n\n   Unnamed: 0.1.1.1.1  Unnamed: 0.1.1.1.1.1  Unnamed: 0.1.1.1.1.1.1  646416  \\\n0                  50                    50                      50      50   \n1                   1                     1                       1     313   \n2                   2                     2                       2       3   \n3                   3                     3                       3    1855   \n4                   4                     4                       4       6   \n\n   516  \n0    5  \n1    5  \n2    5  \n3    6  \n4  654  ",
      "text/html": "<div>\n<style scoped>\n    .dataframe tbody tr th:only-of-type {\n        vertical-align: middle;\n    }\n\n    .dataframe tbody tr th {\n        vertical-align: top;\n    }\n\n    .dataframe thead th {\n        text-align: right;\n    }\n</style>\n<table border=\"1\" class=\"dataframe\">\n  <thead>\n    <tr style=\"text-align: right;\">\n      <th></th>\n      <th>Unnamed: 0</th>\n      <th>Unnamed: 0.1</th>\n      <th>Unnamed: 0.1.1</th>\n      <th>Unnamed: 0.1.1.1</th>\n      <th>Unnamed: 0.1.1.1.1</th>\n      <th>Unnamed: 0.1.1.1.1.1</th>\n      <th>Unnamed: 0.1.1.1.1.1.1</th>\n      <th>646416</th>\n      <th>516</th>\n    </tr>\n  </thead>\n  <tbody>\n    <tr>\n      <th>0</th>\n      <td>50</td>\n      <td>50</td>\n      <td>50</td>\n      <td>50</td>\n      <td>50</td>\n      <td>50</td>\n      <td>50</td>\n      <td>50</td>\n      <td>5</td>\n    </tr>\n    <tr>\n      <th>1</th>\n      <td>1</td>\n      <td>1</td>\n      <td>1</td>\n      <td>1</td>\n      <td>1</td>\n      <td>1</td>\n      <td>1</td>\n      <td>313</td>\n      <td>5</td>\n    </tr>\n    <tr>\n      <th>2</th>\n      <td>2</td>\n      <td>2</td>\n      <td>2</td>\n      <td>2</td>\n      <td>2</td>\n      <td>2</td>\n      <td>2</td>\n      <td>3</td>\n      <td>5</td>\n    </tr>\n    <tr>\n      <th>3</th>\n      <td>3</td>\n      <td>3</td>\n      <td>3</td>\n      <td>3</td>\n      <td>3</td>\n      <td>3</td>\n      <td>3</td>\n      <td>1855</td>\n      <td>6</td>\n    </tr>\n    <tr>\n      <th>4</th>\n      <td>4</td>\n      <td>4</td>\n      <td>4</td>\n      <td>4</td>\n      <td>4</td>\n      <td>4</td>\n      <td>4</td>\n      <td>6</td>\n      <td>654</td>\n    </tr>\n  </tbody>\n</table>\n</div>"
     },
     "metadata": {},
     "execution_count": 173
    }
   ],
   "source": [
    "new.iloc[0,0]=50\n",
    "new"
   ]
  },
  {
   "cell_type": "code",
   "execution_count": 174,
   "metadata": {},
   "outputs": [],
   "source": [
    "new.to_excel('p.xlsx')"
   ]
  },
  {
   "cell_type": "code",
   "execution_count": 175,
   "metadata": {},
   "outputs": [],
   "source": [
    "census_df = pd.read_csv('census.csv',)"
   ]
  },
  {
   "cell_type": "code",
   "execution_count": 176,
   "metadata": {},
   "outputs": [
    {
     "output_type": "execute_result",
     "data": {
      "text/plain": "   SUMLEV  REGION  DIVISION  STATE  COUNTY   STNAME         CTYNAME  \\\n0      40       3         6      1       0  Alabama         Alabama   \n1      50       3         6      1       1  Alabama  Autauga County   \n2      50       3         6      1       3  Alabama  Baldwin County   \n3      50       3         6      1       5  Alabama  Barbour County   \n4      50       3         6      1       7  Alabama     Bibb County   \n\n   CENSUS2010POP  ESTIMATESBASE2010  POPESTIMATE2010  POPESTIMATE2011  \\\n0        4779736            4780127          4785161          4801108   \n1          54571              54571            54660            55253   \n2         182265             182265           183193           186659   \n3          27457              27457            27341            27226   \n4          22915              22919            22861            22733   \n\n   POPESTIMATE2012  POPESTIMATE2013  POPESTIMATE2014  POPESTIMATE2015  \\\n0          4816089          4830533          4846411          4858979   \n1            55175            55038            55290            55347   \n2           190396           195126           199713           203709   \n3            27159            26973            26815            26489   \n4            22642            22512            22549            22583   \n\n   NPOPCHG_2010  NPOPCHG_2011  NPOPCHG_2012  NPOPCHG_2013  NPOPCHG_2014  \\\n0          5034         15947         14981         14444         15878   \n1            89           593           -78          -137           252   \n2           928          3466          3737          4730          4587   \n3          -116          -115           -67          -186          -158   \n4           -58          -128           -91          -130            37   \n\n   NPOPCHG_2015  BIRTHS2010  BIRTHS2011  BIRTHS2012  BIRTHS2013  BIRTHS2014  \\\n0         12568       14226       59689       59062       57938       58334   \n1            57         151         636         615         574         623   \n2          3996         517        2187        2092        2160        2186   \n3          -326          70         335         300         283         260   \n4            34          44         266         245         259         247   \n\n   BIRTHS2015  DEATHS2010  DEATHS2011  DEATHS2012  DEATHS2013  DEATHS2014  \\\n0       58305       11089       48811       48357       50843       50228   \n1         600         152         507         558         583         504   \n2        2240         532        1825        1879        1902        2044   \n3         269         128         319         291         294         310   \n4         253          34         278         237         281         211   \n\n   DEATHS2015  NATURALINC2010  NATURALINC2011  NATURALINC2012  NATURALINC2013  \\\n0       50330            3137           10878           10705            7095   \n1         467              -1             129              57              -9   \n2        1992             -15             362             213             258   \n3         309             -58              16               9             -11   \n4         223              10             -12               8             -22   \n\n   NATURALINC2014  NATURALINC2015  INTERNATIONALMIG2010  INTERNATIONALMIG2011  \\\n0            8106            7975                  1357                  4926   \n1             119             133                    33                    20   \n2             142             248                    69                   187   \n3             -50             -40                     2                    -4   \n4              36              30                     2                    10   \n\n   INTERNATIONALMIG2012  ...  RESIDUAL2011  RESIDUAL2012  RESIDUAL2013  \\\n0                  4904  ...           132           301           677   \n1                    16  ...            46            10            22   \n2                   172  ...           174            25            91   \n3                    -7  ...             2            -1            19   \n4                    16  ...             0             0            14   \n\n   RESIDUAL2014  RESIDUAL2015  GQESTIMATESBASE2010  GQESTIMATES2010  \\\n0          -573          1135               116185           116212   \n1           -10            45                  455              455   \n2           434            58                 2307             2307   \n3            -1            -5                 3193             3193   \n4           -16           -21                 2224             2224   \n\n   GQESTIMATES2011  GQESTIMATES2012  GQESTIMATES2013  GQESTIMATES2014  \\\n0           115560           115666           116963           119088   \n1              455              455              455              455   \n2             2307             2249             2304             2308   \n3             3382             3388             3389             3353   \n4             2224             2224             2224             2233   \n\n   GQESTIMATES2015  RBIRTH2011  RBIRTH2012  RBIRTH2013  RBIRTH2014  \\\n0           119599   12.453020   12.282581   12.012080   12.056286   \n1              455   11.572789   11.138479   10.416194   11.293597   \n2             2309   11.826352   11.096524   11.205586   11.072868   \n3             3352   12.278483   11.032454   10.455923    9.667584   \n4             2236   11.668202   10.798898   11.471852   10.962917   \n\n   RBIRTH2015  RDEATH2011  RDEATH2012  RDEATH2013  RDEATH2014  RDEATH2015  \\\n0   12.014973   10.183524   10.056360   10.541099   10.380963   10.371556   \n1   10.846281    9.225478   10.106133   10.579514    9.136393    8.442022   \n2   11.104997    9.868812    9.966716    9.867141   10.353587    9.875515   \n3   10.093051   11.692048   10.701480   10.862337   11.526735   11.593877   \n4   11.211557   12.194587   10.446281   12.446295    9.365083    9.882124   \n\n   RNATURALINC2011  RNATURALINC2012  RNATURALINC2013  RNATURALINC2014  \\\n0         2.269496         2.226220         1.470981         1.675322   \n1         2.347311         1.032347        -0.163320         2.157204   \n2         1.957540         1.129809         1.338445         0.719281   \n3         0.586435         0.330974        -0.406414        -1.859151   \n4        -0.526385         0.352617        -0.974443         1.597834   \n\n   RNATURALINC2015  RINTERNATIONALMIG2011  RINTERNATIONALMIG2012  \\\n0         1.643417               1.027720               1.019840   \n1         2.404259               0.363924               0.289782   \n2         1.229482               1.011215               0.912334   \n3        -1.500825              -0.146609              -0.257424   \n4         1.329434               0.438654               0.705234   \n\n   RINTERNATIONALMIG2013  RINTERNATIONALMIG2014  RINTERNATIONALMIG2015  \\\n0               1.002216               1.142716               1.179963   \n1               0.290347               0.326300               0.343466   \n2               0.881921               1.073855               1.095627   \n3              -0.110840              -0.074366               0.000000   \n4               0.797272               0.932070               0.930604   \n\n   RDOMESTICMIG2011  RDOMESTICMIG2012  RDOMESTICMIG2013  RDOMESTICMIG2014  \\\n0          0.002295         -0.193196          0.381066          0.582002   \n1          7.242091         -2.915927         -3.012349          2.265971   \n2         14.832960         17.647293         21.845705         19.243287   \n3         -4.728132         -2.500690         -7.056824         -3.904217   \n4         -5.527043         -5.068871         -6.201001         -0.177537   \n\n   RDOMESTICMIG2015  RNETMIG2011  RNETMIG2012  RNETMIG2013  RNETMIG2014  \\\n0         -0.467369     1.030015     0.826644     1.383282     1.724718   \n1         -2.530799     7.606016    -2.626146    -2.722002     2.592270   \n2         17.197872    15.844176    18.559627    22.727626    20.317142   \n3        -10.543299    -4.874741    -2.758113    -7.167664    -3.978583   \n4          0.177258    -5.088389    -4.363636    -5.403729     0.754533   \n\n   RNETMIG2015  \n0     0.712594  \n1    -2.187333  \n2    18.293499  \n3   -10.543299  \n4     1.107861  \n\n[5 rows x 100 columns]",
      "text/html": "<div>\n<style scoped>\n    .dataframe tbody tr th:only-of-type {\n        vertical-align: middle;\n    }\n\n    .dataframe tbody tr th {\n        vertical-align: top;\n    }\n\n    .dataframe thead th {\n        text-align: right;\n    }\n</style>\n<table border=\"1\" class=\"dataframe\">\n  <thead>\n    <tr style=\"text-align: right;\">\n      <th></th>\n      <th>SUMLEV</th>\n      <th>REGION</th>\n      <th>DIVISION</th>\n      <th>STATE</th>\n      <th>COUNTY</th>\n      <th>STNAME</th>\n      <th>CTYNAME</th>\n      <th>CENSUS2010POP</th>\n      <th>ESTIMATESBASE2010</th>\n      <th>POPESTIMATE2010</th>\n      <th>POPESTIMATE2011</th>\n      <th>POPESTIMATE2012</th>\n      <th>POPESTIMATE2013</th>\n      <th>POPESTIMATE2014</th>\n      <th>POPESTIMATE2015</th>\n      <th>NPOPCHG_2010</th>\n      <th>NPOPCHG_2011</th>\n      <th>NPOPCHG_2012</th>\n      <th>NPOPCHG_2013</th>\n      <th>NPOPCHG_2014</th>\n      <th>NPOPCHG_2015</th>\n      <th>BIRTHS2010</th>\n      <th>BIRTHS2011</th>\n      <th>BIRTHS2012</th>\n      <th>BIRTHS2013</th>\n      <th>BIRTHS2014</th>\n      <th>BIRTHS2015</th>\n      <th>DEATHS2010</th>\n      <th>DEATHS2011</th>\n      <th>DEATHS2012</th>\n      <th>DEATHS2013</th>\n      <th>DEATHS2014</th>\n      <th>DEATHS2015</th>\n      <th>NATURALINC2010</th>\n      <th>NATURALINC2011</th>\n      <th>NATURALINC2012</th>\n      <th>NATURALINC2013</th>\n      <th>NATURALINC2014</th>\n      <th>NATURALINC2015</th>\n      <th>INTERNATIONALMIG2010</th>\n      <th>INTERNATIONALMIG2011</th>\n      <th>INTERNATIONALMIG2012</th>\n      <th>...</th>\n      <th>RESIDUAL2011</th>\n      <th>RESIDUAL2012</th>\n      <th>RESIDUAL2013</th>\n      <th>RESIDUAL2014</th>\n      <th>RESIDUAL2015</th>\n      <th>GQESTIMATESBASE2010</th>\n      <th>GQESTIMATES2010</th>\n      <th>GQESTIMATES2011</th>\n      <th>GQESTIMATES2012</th>\n      <th>GQESTIMATES2013</th>\n      <th>GQESTIMATES2014</th>\n      <th>GQESTIMATES2015</th>\n      <th>RBIRTH2011</th>\n      <th>RBIRTH2012</th>\n      <th>RBIRTH2013</th>\n      <th>RBIRTH2014</th>\n      <th>RBIRTH2015</th>\n      <th>RDEATH2011</th>\n      <th>RDEATH2012</th>\n      <th>RDEATH2013</th>\n      <th>RDEATH2014</th>\n      <th>RDEATH2015</th>\n      <th>RNATURALINC2011</th>\n      <th>RNATURALINC2012</th>\n      <th>RNATURALINC2013</th>\n      <th>RNATURALINC2014</th>\n      <th>RNATURALINC2015</th>\n      <th>RINTERNATIONALMIG2011</th>\n      <th>RINTERNATIONALMIG2012</th>\n      <th>RINTERNATIONALMIG2013</th>\n      <th>RINTERNATIONALMIG2014</th>\n      <th>RINTERNATIONALMIG2015</th>\n      <th>RDOMESTICMIG2011</th>\n      <th>RDOMESTICMIG2012</th>\n      <th>RDOMESTICMIG2013</th>\n      <th>RDOMESTICMIG2014</th>\n      <th>RDOMESTICMIG2015</th>\n      <th>RNETMIG2011</th>\n      <th>RNETMIG2012</th>\n      <th>RNETMIG2013</th>\n      <th>RNETMIG2014</th>\n      <th>RNETMIG2015</th>\n    </tr>\n  </thead>\n  <tbody>\n    <tr>\n      <th>0</th>\n      <td>40</td>\n      <td>3</td>\n      <td>6</td>\n      <td>1</td>\n      <td>0</td>\n      <td>Alabama</td>\n      <td>Alabama</td>\n      <td>4779736</td>\n      <td>4780127</td>\n      <td>4785161</td>\n      <td>4801108</td>\n      <td>4816089</td>\n      <td>4830533</td>\n      <td>4846411</td>\n      <td>4858979</td>\n      <td>5034</td>\n      <td>15947</td>\n      <td>14981</td>\n      <td>14444</td>\n      <td>15878</td>\n      <td>12568</td>\n      <td>14226</td>\n      <td>59689</td>\n      <td>59062</td>\n      <td>57938</td>\n      <td>58334</td>\n      <td>58305</td>\n      <td>11089</td>\n      <td>48811</td>\n      <td>48357</td>\n      <td>50843</td>\n      <td>50228</td>\n      <td>50330</td>\n      <td>3137</td>\n      <td>10878</td>\n      <td>10705</td>\n      <td>7095</td>\n      <td>8106</td>\n      <td>7975</td>\n      <td>1357</td>\n      <td>4926</td>\n      <td>4904</td>\n      <td>...</td>\n      <td>132</td>\n      <td>301</td>\n      <td>677</td>\n      <td>-573</td>\n      <td>1135</td>\n      <td>116185</td>\n      <td>116212</td>\n      <td>115560</td>\n      <td>115666</td>\n      <td>116963</td>\n      <td>119088</td>\n      <td>119599</td>\n      <td>12.453020</td>\n      <td>12.282581</td>\n      <td>12.012080</td>\n      <td>12.056286</td>\n      <td>12.014973</td>\n      <td>10.183524</td>\n      <td>10.056360</td>\n      <td>10.541099</td>\n      <td>10.380963</td>\n      <td>10.371556</td>\n      <td>2.269496</td>\n      <td>2.226220</td>\n      <td>1.470981</td>\n      <td>1.675322</td>\n      <td>1.643417</td>\n      <td>1.027720</td>\n      <td>1.019840</td>\n      <td>1.002216</td>\n      <td>1.142716</td>\n      <td>1.179963</td>\n      <td>0.002295</td>\n      <td>-0.193196</td>\n      <td>0.381066</td>\n      <td>0.582002</td>\n      <td>-0.467369</td>\n      <td>1.030015</td>\n      <td>0.826644</td>\n      <td>1.383282</td>\n      <td>1.724718</td>\n      <td>0.712594</td>\n    </tr>\n    <tr>\n      <th>1</th>\n      <td>50</td>\n      <td>3</td>\n      <td>6</td>\n      <td>1</td>\n      <td>1</td>\n      <td>Alabama</td>\n      <td>Autauga County</td>\n      <td>54571</td>\n      <td>54571</td>\n      <td>54660</td>\n      <td>55253</td>\n      <td>55175</td>\n      <td>55038</td>\n      <td>55290</td>\n      <td>55347</td>\n      <td>89</td>\n      <td>593</td>\n      <td>-78</td>\n      <td>-137</td>\n      <td>252</td>\n      <td>57</td>\n      <td>151</td>\n      <td>636</td>\n      <td>615</td>\n      <td>574</td>\n      <td>623</td>\n      <td>600</td>\n      <td>152</td>\n      <td>507</td>\n      <td>558</td>\n      <td>583</td>\n      <td>504</td>\n      <td>467</td>\n      <td>-1</td>\n      <td>129</td>\n      <td>57</td>\n      <td>-9</td>\n      <td>119</td>\n      <td>133</td>\n      <td>33</td>\n      <td>20</td>\n      <td>16</td>\n      <td>...</td>\n      <td>46</td>\n      <td>10</td>\n      <td>22</td>\n      <td>-10</td>\n      <td>45</td>\n      <td>455</td>\n      <td>455</td>\n      <td>455</td>\n      <td>455</td>\n      <td>455</td>\n      <td>455</td>\n      <td>455</td>\n      <td>11.572789</td>\n      <td>11.138479</td>\n      <td>10.416194</td>\n      <td>11.293597</td>\n      <td>10.846281</td>\n      <td>9.225478</td>\n      <td>10.106133</td>\n      <td>10.579514</td>\n      <td>9.136393</td>\n      <td>8.442022</td>\n      <td>2.347311</td>\n      <td>1.032347</td>\n      <td>-0.163320</td>\n      <td>2.157204</td>\n      <td>2.404259</td>\n      <td>0.363924</td>\n      <td>0.289782</td>\n      <td>0.290347</td>\n      <td>0.326300</td>\n      <td>0.343466</td>\n      <td>7.242091</td>\n      <td>-2.915927</td>\n      <td>-3.012349</td>\n      <td>2.265971</td>\n      <td>-2.530799</td>\n      <td>7.606016</td>\n      <td>-2.626146</td>\n      <td>-2.722002</td>\n      <td>2.592270</td>\n      <td>-2.187333</td>\n    </tr>\n    <tr>\n      <th>2</th>\n      <td>50</td>\n      <td>3</td>\n      <td>6</td>\n      <td>1</td>\n      <td>3</td>\n      <td>Alabama</td>\n      <td>Baldwin County</td>\n      <td>182265</td>\n      <td>182265</td>\n      <td>183193</td>\n      <td>186659</td>\n      <td>190396</td>\n      <td>195126</td>\n      <td>199713</td>\n      <td>203709</td>\n      <td>928</td>\n      <td>3466</td>\n      <td>3737</td>\n      <td>4730</td>\n      <td>4587</td>\n      <td>3996</td>\n      <td>517</td>\n      <td>2187</td>\n      <td>2092</td>\n      <td>2160</td>\n      <td>2186</td>\n      <td>2240</td>\n      <td>532</td>\n      <td>1825</td>\n      <td>1879</td>\n      <td>1902</td>\n      <td>2044</td>\n      <td>1992</td>\n      <td>-15</td>\n      <td>362</td>\n      <td>213</td>\n      <td>258</td>\n      <td>142</td>\n      <td>248</td>\n      <td>69</td>\n      <td>187</td>\n      <td>172</td>\n      <td>...</td>\n      <td>174</td>\n      <td>25</td>\n      <td>91</td>\n      <td>434</td>\n      <td>58</td>\n      <td>2307</td>\n      <td>2307</td>\n      <td>2307</td>\n      <td>2249</td>\n      <td>2304</td>\n      <td>2308</td>\n      <td>2309</td>\n      <td>11.826352</td>\n      <td>11.096524</td>\n      <td>11.205586</td>\n      <td>11.072868</td>\n      <td>11.104997</td>\n      <td>9.868812</td>\n      <td>9.966716</td>\n      <td>9.867141</td>\n      <td>10.353587</td>\n      <td>9.875515</td>\n      <td>1.957540</td>\n      <td>1.129809</td>\n      <td>1.338445</td>\n      <td>0.719281</td>\n      <td>1.229482</td>\n      <td>1.011215</td>\n      <td>0.912334</td>\n      <td>0.881921</td>\n      <td>1.073855</td>\n      <td>1.095627</td>\n      <td>14.832960</td>\n      <td>17.647293</td>\n      <td>21.845705</td>\n      <td>19.243287</td>\n      <td>17.197872</td>\n      <td>15.844176</td>\n      <td>18.559627</td>\n      <td>22.727626</td>\n      <td>20.317142</td>\n      <td>18.293499</td>\n    </tr>\n    <tr>\n      <th>3</th>\n      <td>50</td>\n      <td>3</td>\n      <td>6</td>\n      <td>1</td>\n      <td>5</td>\n      <td>Alabama</td>\n      <td>Barbour County</td>\n      <td>27457</td>\n      <td>27457</td>\n      <td>27341</td>\n      <td>27226</td>\n      <td>27159</td>\n      <td>26973</td>\n      <td>26815</td>\n      <td>26489</td>\n      <td>-116</td>\n      <td>-115</td>\n      <td>-67</td>\n      <td>-186</td>\n      <td>-158</td>\n      <td>-326</td>\n      <td>70</td>\n      <td>335</td>\n      <td>300</td>\n      <td>283</td>\n      <td>260</td>\n      <td>269</td>\n      <td>128</td>\n      <td>319</td>\n      <td>291</td>\n      <td>294</td>\n      <td>310</td>\n      <td>309</td>\n      <td>-58</td>\n      <td>16</td>\n      <td>9</td>\n      <td>-11</td>\n      <td>-50</td>\n      <td>-40</td>\n      <td>2</td>\n      <td>-4</td>\n      <td>-7</td>\n      <td>...</td>\n      <td>2</td>\n      <td>-1</td>\n      <td>19</td>\n      <td>-1</td>\n      <td>-5</td>\n      <td>3193</td>\n      <td>3193</td>\n      <td>3382</td>\n      <td>3388</td>\n      <td>3389</td>\n      <td>3353</td>\n      <td>3352</td>\n      <td>12.278483</td>\n      <td>11.032454</td>\n      <td>10.455923</td>\n      <td>9.667584</td>\n      <td>10.093051</td>\n      <td>11.692048</td>\n      <td>10.701480</td>\n      <td>10.862337</td>\n      <td>11.526735</td>\n      <td>11.593877</td>\n      <td>0.586435</td>\n      <td>0.330974</td>\n      <td>-0.406414</td>\n      <td>-1.859151</td>\n      <td>-1.500825</td>\n      <td>-0.146609</td>\n      <td>-0.257424</td>\n      <td>-0.110840</td>\n      <td>-0.074366</td>\n      <td>0.000000</td>\n      <td>-4.728132</td>\n      <td>-2.500690</td>\n      <td>-7.056824</td>\n      <td>-3.904217</td>\n      <td>-10.543299</td>\n      <td>-4.874741</td>\n      <td>-2.758113</td>\n      <td>-7.167664</td>\n      <td>-3.978583</td>\n      <td>-10.543299</td>\n    </tr>\n    <tr>\n      <th>4</th>\n      <td>50</td>\n      <td>3</td>\n      <td>6</td>\n      <td>1</td>\n      <td>7</td>\n      <td>Alabama</td>\n      <td>Bibb County</td>\n      <td>22915</td>\n      <td>22919</td>\n      <td>22861</td>\n      <td>22733</td>\n      <td>22642</td>\n      <td>22512</td>\n      <td>22549</td>\n      <td>22583</td>\n      <td>-58</td>\n      <td>-128</td>\n      <td>-91</td>\n      <td>-130</td>\n      <td>37</td>\n      <td>34</td>\n      <td>44</td>\n      <td>266</td>\n      <td>245</td>\n      <td>259</td>\n      <td>247</td>\n      <td>253</td>\n      <td>34</td>\n      <td>278</td>\n      <td>237</td>\n      <td>281</td>\n      <td>211</td>\n      <td>223</td>\n      <td>10</td>\n      <td>-12</td>\n      <td>8</td>\n      <td>-22</td>\n      <td>36</td>\n      <td>30</td>\n      <td>2</td>\n      <td>10</td>\n      <td>16</td>\n      <td>...</td>\n      <td>0</td>\n      <td>0</td>\n      <td>14</td>\n      <td>-16</td>\n      <td>-21</td>\n      <td>2224</td>\n      <td>2224</td>\n      <td>2224</td>\n      <td>2224</td>\n      <td>2224</td>\n      <td>2233</td>\n      <td>2236</td>\n      <td>11.668202</td>\n      <td>10.798898</td>\n      <td>11.471852</td>\n      <td>10.962917</td>\n      <td>11.211557</td>\n      <td>12.194587</td>\n      <td>10.446281</td>\n      <td>12.446295</td>\n      <td>9.365083</td>\n      <td>9.882124</td>\n      <td>-0.526385</td>\n      <td>0.352617</td>\n      <td>-0.974443</td>\n      <td>1.597834</td>\n      <td>1.329434</td>\n      <td>0.438654</td>\n      <td>0.705234</td>\n      <td>0.797272</td>\n      <td>0.932070</td>\n      <td>0.930604</td>\n      <td>-5.527043</td>\n      <td>-5.068871</td>\n      <td>-6.201001</td>\n      <td>-0.177537</td>\n      <td>0.177258</td>\n      <td>-5.088389</td>\n      <td>-4.363636</td>\n      <td>-5.403729</td>\n      <td>0.754533</td>\n      <td>1.107861</td>\n    </tr>\n  </tbody>\n</table>\n<p>5 rows × 100 columns</p>\n</div>"
     },
     "metadata": {},
     "execution_count": 176
    }
   ],
   "source": [
    "census_df.head()"
   ]
  },
  {
   "cell_type": "code",
   "execution_count": 211,
   "metadata": {},
   "outputs": [],
   "source": [
    "trial_df = {\n",
    "    'first':['omkar','arya','chaitanya'],\n",
    "    'last':['gujja','vannam','domala'],\n",
    "    'email':['omkargujja@gamil.com','aryavannam@gamil.com','chaitanyadomala@gamil.com']\n",
    "}\n",
    "df = pd.DataFrame(trial_df)"
   ]
  },
  {
   "cell_type": "code",
   "execution_count": 199,
   "metadata": {},
   "outputs": [
    {
     "output_type": "execute_result",
     "data": {
      "text/plain": "       first    last                      email\n0      omkar   gujja       omkargujja@gamil.com\n1       arya  vannam       aryavannam@gamil.com\n2  chaitanya  domala  chaitanyadomala@gamil.com",
      "text/html": "<div>\n<style scoped>\n    .dataframe tbody tr th:only-of-type {\n        vertical-align: middle;\n    }\n\n    .dataframe tbody tr th {\n        vertical-align: top;\n    }\n\n    .dataframe thead th {\n        text-align: right;\n    }\n</style>\n<table border=\"1\" class=\"dataframe\">\n  <thead>\n    <tr style=\"text-align: right;\">\n      <th></th>\n      <th>first</th>\n      <th>last</th>\n      <th>email</th>\n    </tr>\n  </thead>\n  <tbody>\n    <tr>\n      <th>0</th>\n      <td>omkar</td>\n      <td>gujja</td>\n      <td>omkargujja@gamil.com</td>\n    </tr>\n    <tr>\n      <th>1</th>\n      <td>arya</td>\n      <td>vannam</td>\n      <td>aryavannam@gamil.com</td>\n    </tr>\n    <tr>\n      <th>2</th>\n      <td>chaitanya</td>\n      <td>domala</td>\n      <td>chaitanyadomala@gamil.com</td>\n    </tr>\n  </tbody>\n</table>\n</div>"
     },
     "metadata": {},
     "execution_count": 199
    }
   ],
   "source": [
    "df"
   ]
  },
  {
   "cell_type": "code",
   "execution_count": 212,
   "metadata": {},
   "outputs": [
    {
     "output_type": "execute_result",
     "data": {
      "text/plain": "           0\n0      omkar\n1       arya\n2  chaitanya",
      "text/html": "<div>\n<style scoped>\n    .dataframe tbody tr th:only-of-type {\n        vertical-align: middle;\n    }\n\n    .dataframe tbody tr th {\n        vertical-align: top;\n    }\n\n    .dataframe thead th {\n        text-align: right;\n    }\n</style>\n<table border=\"1\" class=\"dataframe\">\n  <thead>\n    <tr style=\"text-align: right;\">\n      <th></th>\n      <th>0</th>\n    </tr>\n  </thead>\n  <tbody>\n    <tr>\n      <th>0</th>\n      <td>omkar</td>\n    </tr>\n    <tr>\n      <th>1</th>\n      <td>arya</td>\n    </tr>\n    <tr>\n      <th>2</th>\n      <td>chaitanya</td>\n    </tr>\n  </tbody>\n</table>\n</div>"
     },
     "metadata": {},
     "execution_count": 212
    }
   ],
   "source": [
    "df = df[['first']]\n",
    "df.columns = [0]\n",
    "df"
   ]
  },
  {
   "cell_type": "code",
   "execution_count": 179,
   "metadata": {},
   "outputs": [],
   "source": [
    "  filt = (df['first'] == 'omkar')"
   ]
  },
  {
   "cell_type": "code",
   "execution_count": 180,
   "metadata": {},
   "outputs": [
    {
     "output_type": "execute_result",
     "data": {
      "text/plain": "0    omkargujja@gamil.com\nName: email, dtype: object"
     },
     "metadata": {},
     "execution_count": 180
    }
   ],
   "source": [
    "df.loc[filt, 'email']"
   ]
  },
  {
   "cell_type": "code",
   "execution_count": 181,
   "metadata": {},
   "outputs": [
    {
     "output_type": "execute_result",
     "data": {
      "text/plain": "pandas.core.series.Series"
     },
     "metadata": {},
     "execution_count": 181
    }
   ],
   "source": [
    "type(df.loc[1])"
   ]
  },
  {
   "cell_type": "code",
   "execution_count": 182,
   "metadata": {},
   "outputs": [
    {
     "output_type": "execute_result",
     "data": {
      "text/plain": "pandas.core.frame.DataFrame"
     },
     "metadata": {},
     "execution_count": 182
    }
   ],
   "source": [
    "type(df.loc[[1]])"
   ]
  },
  {
   "cell_type": "code",
   "execution_count": 183,
   "metadata": {},
   "outputs": [
    {
     "output_type": "execute_result",
     "data": {
      "text/plain": "'omkargujja@gamil.com'"
     },
     "metadata": {},
     "execution_count": 183
    }
   ],
   "source": [
    "df.loc[0,'email']"
   ]
  },
  {
   "cell_type": "code",
   "execution_count": 184,
   "metadata": {},
   "outputs": [
    {
     "output_type": "execute_result",
     "data": {
      "text/plain": "       first    last                      email\n0      omkar   gujja       omkargujja@gamil.com\n1       arya  vannam       aryavannam@gamil.com\n2  chaitanya  domala  chaitanyadomala@gamil.com",
      "text/html": "<div>\n<style scoped>\n    .dataframe tbody tr th:only-of-type {\n        vertical-align: middle;\n    }\n\n    .dataframe tbody tr th {\n        vertical-align: top;\n    }\n\n    .dataframe thead th {\n        text-align: right;\n    }\n</style>\n<table border=\"1\" class=\"dataframe\">\n  <thead>\n    <tr style=\"text-align: right;\">\n      <th></th>\n      <th>first</th>\n      <th>last</th>\n      <th>email</th>\n    </tr>\n  </thead>\n  <tbody>\n    <tr>\n      <th>0</th>\n      <td>omkar</td>\n      <td>gujja</td>\n      <td>omkargujja@gamil.com</td>\n    </tr>\n    <tr>\n      <th>1</th>\n      <td>arya</td>\n      <td>vannam</td>\n      <td>aryavannam@gamil.com</td>\n    </tr>\n    <tr>\n      <th>2</th>\n      <td>chaitanya</td>\n      <td>domala</td>\n      <td>chaitanyadomala@gamil.com</td>\n    </tr>\n  </tbody>\n</table>\n</div>"
     },
     "metadata": {},
     "execution_count": 184
    }
   ],
   "source": [
    "df.loc[0:,'first':'email']"
   ]
  },
  {
   "cell_type": "code",
   "execution_count": 185,
   "metadata": {},
   "outputs": [
    {
     "output_type": "execute_result",
     "data": {
      "text/plain": "first                    chaitanya\nlast                        domala\nemail    chaitanyadomala@gamil.com\nName: 2, dtype: object"
     },
     "metadata": {},
     "execution_count": 185
    }
   ],
   "source": [
    "df.loc[2]"
   ]
  },
  {
   "cell_type": "code",
   "execution_count": 196,
   "metadata": {},
   "outputs": [
    {
     "output_type": "error",
     "ename": "TypeError",
     "evalue": "list indices must be integers or slices, not list",
     "traceback": [
      "\u001b[1;31m---------------------------------------------------------------------------\u001b[0m",
      "\u001b[1;31mTypeError\u001b[0m                                 Traceback (most recent call last)",
      "\u001b[1;32m<ipython-input-196-4285512113d4>\u001b[0m in \u001b[0;36m<module>\u001b[1;34m\u001b[0m\n\u001b[1;32m----> 1\u001b[1;33m \u001b[0mdf\u001b[0m \u001b[1;33m=\u001b[0m \u001b[0mdf\u001b[0m\u001b[1;33m[\u001b[0m\u001b[1;33m[\u001b[0m\u001b[1;36m0\u001b[0m\u001b[1;33m,\u001b[0m\u001b[1;36m1\u001b[0m\u001b[1;33m]\u001b[0m\u001b[1;33m]\u001b[0m\u001b[1;33m\u001b[0m\u001b[1;33m\u001b[0m\u001b[0m\n\u001b[0m\u001b[0;32m      2\u001b[0m \u001b[0mdf\u001b[0m\u001b[1;33m.\u001b[0m\u001b[0mcolumns\u001b[0m \u001b[1;33m=\u001b[0m \u001b[1;33m[\u001b[0m\u001b[1;34m'hello'\u001b[0m\u001b[1;33m,\u001b[0m\u001b[1;34m'hd'\u001b[0m\u001b[1;33m]\u001b[0m\u001b[1;33m\u001b[0m\u001b[1;33m\u001b[0m\u001b[0m\n",
      "\u001b[1;31mTypeError\u001b[0m: list indices must be integers or slices, not list"
     ]
    }
   ],
   "source": [
    "df = df[[0,1]]\n",
    "df.columns = ['hello','hd']"
   ]
  },
  {
   "cell_type": "code",
   "execution_count": 197,
   "metadata": {},
   "outputs": [],
   "source": [
    "# df.rename(columns={'first':0,'last':1,'email':2},inplace=True)\n",
    "# # df.loc[0,1]"
   ]
  },
  {
   "cell_type": "code",
   "execution_count": 122,
   "metadata": {},
   "outputs": [
    {
     "output_type": "execute_result",
     "data": {
      "text/plain": "   first   last                 email\n0  omkar  gujja  omkargujja@gamil.com",
      "text/html": "<div>\n<style scoped>\n    .dataframe tbody tr th:only-of-type {\n        vertical-align: middle;\n    }\n\n    .dataframe tbody tr th {\n        vertical-align: top;\n    }\n\n    .dataframe thead th {\n        text-align: right;\n    }\n</style>\n<table border=\"1\" class=\"dataframe\">\n  <thead>\n    <tr style=\"text-align: right;\">\n      <th></th>\n      <th>first</th>\n      <th>last</th>\n      <th>email</th>\n    </tr>\n  </thead>\n  <tbody>\n    <tr>\n      <th>0</th>\n      <td>omkar</td>\n      <td>gujja</td>\n      <td>omkargujja@gamil.com</td>\n    </tr>\n  </tbody>\n</table>\n</div>"
     },
     "metadata": {},
     "execution_count": 122
    }
   ],
   "source": [
    "condition = df['first']=='omkar'\n",
    "df.loc[condition]"
   ]
  },
  {
   "cell_type": "code",
   "execution_count": 123,
   "metadata": {},
   "outputs": [
    {
     "output_type": "execute_result",
     "data": {
      "text/plain": "       first                      email\n0      omkar       omkargujja@gamil.com\n1       arya       aryavannam@gamil.com\n2  chaitanya  chaitanyadomala@gamil.com",
      "text/html": "<div>\n<style scoped>\n    .dataframe tbody tr th:only-of-type {\n        vertical-align: middle;\n    }\n\n    .dataframe tbody tr th {\n        vertical-align: top;\n    }\n\n    .dataframe thead th {\n        text-align: right;\n    }\n</style>\n<table border=\"1\" class=\"dataframe\">\n  <thead>\n    <tr style=\"text-align: right;\">\n      <th></th>\n      <th>first</th>\n      <th>email</th>\n    </tr>\n  </thead>\n  <tbody>\n    <tr>\n      <th>0</th>\n      <td>omkar</td>\n      <td>omkargujja@gamil.com</td>\n    </tr>\n    <tr>\n      <th>1</th>\n      <td>arya</td>\n      <td>aryavannam@gamil.com</td>\n    </tr>\n    <tr>\n      <th>2</th>\n      <td>chaitanya</td>\n      <td>chaitanyadomala@gamil.com</td>\n    </tr>\n  </tbody>\n</table>\n</div>"
     },
     "metadata": {},
     "execution_count": 123
    }
   ],
   "source": [
    "df.loc[:2,['first','email']]"
   ]
  },
  {
   "cell_type": "code",
   "execution_count": 124,
   "metadata": {},
   "outputs": [],
   "source": [
    "df = pd.read_csv('survey_results_public.csv',index_col='Respondent')\n",
    "schema_df = pd.read_csv('survey_results_schema.csv')"
   ]
  },
  {
   "cell_type": "code",
   "execution_count": 125,
   "metadata": {},
   "outputs": [],
   "source": [
    "pd.set_option('display.max_columns',85)\n",
    "pd.set_option('display.max_rows',85)"
   ]
  },
  {
   "cell_type": "code",
   "execution_count": 126,
   "metadata": {},
   "outputs": [
    {
     "output_type": "execute_result",
     "data": {
      "text/plain": "                                MainBranch Hobbyist  Age Age1stCode CompFreq  \\\nRespondent                                                                     \n1           I am a developer by profession      Yes  NaN         13  Monthly   \n2           I am a developer by profession       No  NaN         19      NaN   \n\n            CompTotal  ConvertedComp         Country    CurrencyDesc  \\\nRespondent                                                             \n1                 NaN            NaN         Germany   European Euro   \n2                 NaN            NaN  United Kingdom  Pound sterling   \n\n           CurrencySymbol DatabaseDesireNextYear  \\\nRespondent                                         \n1                     EUR   Microsoft SQL Server   \n2                     GBP                    NaN   \n\n                                   DatabaseWorkedWith  \\\nRespondent                                              \n1           Elasticsearch;Microsoft SQL Server;Oracle   \n2                                                 NaN   \n\n                                                      DevType  \\\nRespondent                                                      \n1           Developer, desktop or enterprise applications;...   \n2                     Developer, full-stack;Developer, mobile   \n\n                                                    EdLevel  \\\nRespondent                                                    \n1           Master’s degree (M.A., M.S., M.Eng., MBA, etc.)   \n2              Bachelor’s degree (B.A., B.S., B.Eng., etc.)   \n\n                                                   Employment  \\\nRespondent                                                      \n1           Independent contractor, freelancer, or self-em...   \n2                                          Employed full-time   \n\n                               Ethnicity Gender  \\\nRespondent                                        \n1           White or of European descent    Man   \n2                                    NaN    NaN   \n\n                                                   JobFactors  \\\nRespondent                                                      \n1           Languages, frameworks, and other technologies ...   \n2                                                         NaN   \n\n                        JobSat                                       JobSeek  \\\nRespondent                                                                     \n1           Slightly satisfied  I am not interested in new job opportunities   \n2            Very dissatisfied  I am not interested in new job opportunities   \n\n            LanguageDesireNextYear      LanguageWorkedWith  \\\nRespondent                                                   \n1           C#;HTML/CSS;JavaScript  C#;HTML/CSS;JavaScript   \n2                     Python;Swift        JavaScript;Swift   \n\n                      MiscTechDesireNextYear MiscTechWorkedWith  \\\nRespondent                                                        \n1                          .NET Core;Xamarin     .NET;.NET Core   \n2           React Native;TensorFlow;Unity 3D       React Native   \n\n                      NEWCollabToolsDesireNextYear  \\\nRespondent                                           \n1           Microsoft Teams;Microsoft Azure;Trello   \n2                                     Github;Slack   \n\n                                NEWCollabToolsWorkedWith NEWDevOps  \\\nRespondent                                                           \n1           Confluence;Jira;Slack;Microsoft Azure;Trello        No   \n2                    Confluence;Jira;Github;Gitlab;Slack       NaN   \n\n                 NEWDevOpsImpt         NEWEdImpt NEWJobHunt  \\\nRespondent                                                    \n1           Somewhat important  Fairly important        NaN   \n2                          NaN  Fairly important        NaN   \n\n           NEWJobHuntResearch     NEWLearn NEWOffTopic NEWOnboardGood  \\\nRespondent                                                              \n1                         NaN  Once a year    Not sure            NaN   \n2                         NaN  Once a year    Not sure            NaN   \n\n           NEWOtherComms                       NEWOvertime  \\\nRespondent                                                   \n1                     No  Often: 1-2 days per week or more   \n2                     No                               NaN   \n\n                                          NEWPurchaseResearch NEWPurpleLink  \\\nRespondent                                                                    \n1           Start a free trial;Ask developers I know/work ...        Amused   \n2                                                         NaN        Amused   \n\n                                                   NEWSOSites  \\\nRespondent                                                      \n1            Stack Overflow (public Q&A for anyone who codes)   \n2           Stack Overflow (public Q&A for anyone who code...   \n\n                                                     NEWStuck    OpSys  \\\nRespondent                                                               \n1           Visit Stack Overflow;Go for a walk or other ph...  Windows   \n2           Visit Stack Overflow;Go for a walk or other ph...    MacOS   \n\n                             OrgSize  \\\nRespondent                             \n1                   2 to 9 employees   \n2           1,000 to 4,999 employees   \n\n                                    PlatformDesireNextYear PlatformWorkedWith  \\\nRespondent                                                                      \n1           Android;iOS;Kubernetes;Microsoft Azure;Windows            Windows   \n2                               iOS;Kubernetes;Linux;MacOS                iOS   \n\n                             PurchaseWhat                Sexuality SOAccount  \\\nRespondent                                                                     \n1                                     NaN  Straight / Heterosexual        No   \n2           I have little or no influence                      NaN       Yes   \n\n                     SOComm                           SOPartFreq  \\\nRespondent                                                         \n1            No, not at all                                  NaN   \n2           Yes, definitely  Less than once per month or monthly   \n\n                       SOVisitFreq                  SurveyEase  \\\nRespondent                                                       \n1           Multiple times per day  Neither easy nor difficult   \n2           Multiple times per day                         NaN   \n\n                     SurveyLength Trans  \\\nRespondent                                \n1           Appropriate in length    No   \n2                             NaN   NaN   \n\n                                               UndergradMajor  \\\nRespondent                                                      \n1           Computer science, computer engineering, or sof...   \n2           Computer science, computer engineering, or sof...   \n\n           WebframeDesireNextYear    WebframeWorkedWith  \\\nRespondent                                                \n1                    ASP.NET Core  ASP.NET;ASP.NET Core   \n2                             NaN                   NaN   \n\n                                       WelcomeChange  WorkWeekHrs YearsCode  \\\nRespondent                                                                    \n1            Just as welcome now as I felt last year         50.0        36   \n2           Somewhat more welcome now than last year          NaN         7   \n\n           YearsCodePro  \nRespondent               \n1                    27  \n2                     4  ",
      "text/html": "<div>\n<style scoped>\n    .dataframe tbody tr th:only-of-type {\n        vertical-align: middle;\n    }\n\n    .dataframe tbody tr th {\n        vertical-align: top;\n    }\n\n    .dataframe thead th {\n        text-align: right;\n    }\n</style>\n<table border=\"1\" class=\"dataframe\">\n  <thead>\n    <tr style=\"text-align: right;\">\n      <th></th>\n      <th>MainBranch</th>\n      <th>Hobbyist</th>\n      <th>Age</th>\n      <th>Age1stCode</th>\n      <th>CompFreq</th>\n      <th>CompTotal</th>\n      <th>ConvertedComp</th>\n      <th>Country</th>\n      <th>CurrencyDesc</th>\n      <th>CurrencySymbol</th>\n      <th>DatabaseDesireNextYear</th>\n      <th>DatabaseWorkedWith</th>\n      <th>DevType</th>\n      <th>EdLevel</th>\n      <th>Employment</th>\n      <th>Ethnicity</th>\n      <th>Gender</th>\n      <th>JobFactors</th>\n      <th>JobSat</th>\n      <th>JobSeek</th>\n      <th>LanguageDesireNextYear</th>\n      <th>LanguageWorkedWith</th>\n      <th>MiscTechDesireNextYear</th>\n      <th>MiscTechWorkedWith</th>\n      <th>NEWCollabToolsDesireNextYear</th>\n      <th>NEWCollabToolsWorkedWith</th>\n      <th>NEWDevOps</th>\n      <th>NEWDevOpsImpt</th>\n      <th>NEWEdImpt</th>\n      <th>NEWJobHunt</th>\n      <th>NEWJobHuntResearch</th>\n      <th>NEWLearn</th>\n      <th>NEWOffTopic</th>\n      <th>NEWOnboardGood</th>\n      <th>NEWOtherComms</th>\n      <th>NEWOvertime</th>\n      <th>NEWPurchaseResearch</th>\n      <th>NEWPurpleLink</th>\n      <th>NEWSOSites</th>\n      <th>NEWStuck</th>\n      <th>OpSys</th>\n      <th>OrgSize</th>\n      <th>PlatformDesireNextYear</th>\n      <th>PlatformWorkedWith</th>\n      <th>PurchaseWhat</th>\n      <th>Sexuality</th>\n      <th>SOAccount</th>\n      <th>SOComm</th>\n      <th>SOPartFreq</th>\n      <th>SOVisitFreq</th>\n      <th>SurveyEase</th>\n      <th>SurveyLength</th>\n      <th>Trans</th>\n      <th>UndergradMajor</th>\n      <th>WebframeDesireNextYear</th>\n      <th>WebframeWorkedWith</th>\n      <th>WelcomeChange</th>\n      <th>WorkWeekHrs</th>\n      <th>YearsCode</th>\n      <th>YearsCodePro</th>\n    </tr>\n    <tr>\n      <th>Respondent</th>\n      <th></th>\n      <th></th>\n      <th></th>\n      <th></th>\n      <th></th>\n      <th></th>\n      <th></th>\n      <th></th>\n      <th></th>\n      <th></th>\n      <th></th>\n      <th></th>\n      <th></th>\n      <th></th>\n      <th></th>\n      <th></th>\n      <th></th>\n      <th></th>\n      <th></th>\n      <th></th>\n      <th></th>\n      <th></th>\n      <th></th>\n      <th></th>\n      <th></th>\n      <th></th>\n      <th></th>\n      <th></th>\n      <th></th>\n      <th></th>\n      <th></th>\n      <th></th>\n      <th></th>\n      <th></th>\n      <th></th>\n      <th></th>\n      <th></th>\n      <th></th>\n      <th></th>\n      <th></th>\n      <th></th>\n      <th></th>\n      <th></th>\n      <th></th>\n      <th></th>\n      <th></th>\n      <th></th>\n      <th></th>\n      <th></th>\n      <th></th>\n      <th></th>\n      <th></th>\n      <th></th>\n      <th></th>\n      <th></th>\n      <th></th>\n      <th></th>\n      <th></th>\n      <th></th>\n      <th></th>\n    </tr>\n  </thead>\n  <tbody>\n    <tr>\n      <th>1</th>\n      <td>I am a developer by profession</td>\n      <td>Yes</td>\n      <td>NaN</td>\n      <td>13</td>\n      <td>Monthly</td>\n      <td>NaN</td>\n      <td>NaN</td>\n      <td>Germany</td>\n      <td>European Euro</td>\n      <td>EUR</td>\n      <td>Microsoft SQL Server</td>\n      <td>Elasticsearch;Microsoft SQL Server;Oracle</td>\n      <td>Developer, desktop or enterprise applications;...</td>\n      <td>Master’s degree (M.A., M.S., M.Eng., MBA, etc.)</td>\n      <td>Independent contractor, freelancer, or self-em...</td>\n      <td>White or of European descent</td>\n      <td>Man</td>\n      <td>Languages, frameworks, and other technologies ...</td>\n      <td>Slightly satisfied</td>\n      <td>I am not interested in new job opportunities</td>\n      <td>C#;HTML/CSS;JavaScript</td>\n      <td>C#;HTML/CSS;JavaScript</td>\n      <td>.NET Core;Xamarin</td>\n      <td>.NET;.NET Core</td>\n      <td>Microsoft Teams;Microsoft Azure;Trello</td>\n      <td>Confluence;Jira;Slack;Microsoft Azure;Trello</td>\n      <td>No</td>\n      <td>Somewhat important</td>\n      <td>Fairly important</td>\n      <td>NaN</td>\n      <td>NaN</td>\n      <td>Once a year</td>\n      <td>Not sure</td>\n      <td>NaN</td>\n      <td>No</td>\n      <td>Often: 1-2 days per week or more</td>\n      <td>Start a free trial;Ask developers I know/work ...</td>\n      <td>Amused</td>\n      <td>Stack Overflow (public Q&amp;A for anyone who codes)</td>\n      <td>Visit Stack Overflow;Go for a walk or other ph...</td>\n      <td>Windows</td>\n      <td>2 to 9 employees</td>\n      <td>Android;iOS;Kubernetes;Microsoft Azure;Windows</td>\n      <td>Windows</td>\n      <td>NaN</td>\n      <td>Straight / Heterosexual</td>\n      <td>No</td>\n      <td>No, not at all</td>\n      <td>NaN</td>\n      <td>Multiple times per day</td>\n      <td>Neither easy nor difficult</td>\n      <td>Appropriate in length</td>\n      <td>No</td>\n      <td>Computer science, computer engineering, or sof...</td>\n      <td>ASP.NET Core</td>\n      <td>ASP.NET;ASP.NET Core</td>\n      <td>Just as welcome now as I felt last year</td>\n      <td>50.0</td>\n      <td>36</td>\n      <td>27</td>\n    </tr>\n    <tr>\n      <th>2</th>\n      <td>I am a developer by profession</td>\n      <td>No</td>\n      <td>NaN</td>\n      <td>19</td>\n      <td>NaN</td>\n      <td>NaN</td>\n      <td>NaN</td>\n      <td>United Kingdom</td>\n      <td>Pound sterling</td>\n      <td>GBP</td>\n      <td>NaN</td>\n      <td>NaN</td>\n      <td>Developer, full-stack;Developer, mobile</td>\n      <td>Bachelor’s degree (B.A., B.S., B.Eng., etc.)</td>\n      <td>Employed full-time</td>\n      <td>NaN</td>\n      <td>NaN</td>\n      <td>NaN</td>\n      <td>Very dissatisfied</td>\n      <td>I am not interested in new job opportunities</td>\n      <td>Python;Swift</td>\n      <td>JavaScript;Swift</td>\n      <td>React Native;TensorFlow;Unity 3D</td>\n      <td>React Native</td>\n      <td>Github;Slack</td>\n      <td>Confluence;Jira;Github;Gitlab;Slack</td>\n      <td>NaN</td>\n      <td>NaN</td>\n      <td>Fairly important</td>\n      <td>NaN</td>\n      <td>NaN</td>\n      <td>Once a year</td>\n      <td>Not sure</td>\n      <td>NaN</td>\n      <td>No</td>\n      <td>NaN</td>\n      <td>NaN</td>\n      <td>Amused</td>\n      <td>Stack Overflow (public Q&amp;A for anyone who code...</td>\n      <td>Visit Stack Overflow;Go for a walk or other ph...</td>\n      <td>MacOS</td>\n      <td>1,000 to 4,999 employees</td>\n      <td>iOS;Kubernetes;Linux;MacOS</td>\n      <td>iOS</td>\n      <td>I have little or no influence</td>\n      <td>NaN</td>\n      <td>Yes</td>\n      <td>Yes, definitely</td>\n      <td>Less than once per month or monthly</td>\n      <td>Multiple times per day</td>\n      <td>NaN</td>\n      <td>NaN</td>\n      <td>NaN</td>\n      <td>Computer science, computer engineering, or sof...</td>\n      <td>NaN</td>\n      <td>NaN</td>\n      <td>Somewhat more welcome now than last year</td>\n      <td>NaN</td>\n      <td>7</td>\n      <td>4</td>\n    </tr>\n  </tbody>\n</table>\n</div>"
     },
     "metadata": {},
     "execution_count": 126
    }
   ],
   "source": [
    "df.head(2)"
   ]
  },
  {
   "cell_type": "code",
   "execution_count": 127,
   "metadata": {},
   "outputs": [
    {
     "output_type": "error",
     "ename": "KeyError",
     "evalue": "\"None of [Index(['Converted Comp'], dtype='object')] are in the [columns]\"",
     "traceback": [
      "\u001b[1;31m---------------------------------------------------------------------------\u001b[0m",
      "\u001b[1;31mKeyError\u001b[0m                                  Traceback (most recent call last)",
      "\u001b[1;32m<ipython-input-127-a4469bed6eb7>\u001b[0m in \u001b[0;36m<module>\u001b[1;34m\u001b[0m\n\u001b[1;32m----> 1\u001b[1;33m \u001b[0mdf\u001b[0m \u001b[1;33m=\u001b[0m \u001b[0mdf\u001b[0m\u001b[1;33m[\u001b[0m\u001b[1;33m[\u001b[0m\u001b[1;34m'Converted Comp'\u001b[0m\u001b[1;33m]\u001b[0m\u001b[1;33m]\u001b[0m\u001b[1;33m\u001b[0m\u001b[1;33m\u001b[0m\u001b[0m\n\u001b[0m",
      "\u001b[1;32m~\\Python\\Python38-32\\lib\\site-packages\\pandas\\core\\frame.py\u001b[0m in \u001b[0;36m__getitem__\u001b[1;34m(self, key)\u001b[0m\n\u001b[0;32m   2903\u001b[0m             \u001b[1;32mif\u001b[0m \u001b[0mis_iterator\u001b[0m\u001b[1;33m(\u001b[0m\u001b[0mkey\u001b[0m\u001b[1;33m)\u001b[0m\u001b[1;33m:\u001b[0m\u001b[1;33m\u001b[0m\u001b[1;33m\u001b[0m\u001b[0m\n\u001b[0;32m   2904\u001b[0m                 \u001b[0mkey\u001b[0m \u001b[1;33m=\u001b[0m \u001b[0mlist\u001b[0m\u001b[1;33m(\u001b[0m\u001b[0mkey\u001b[0m\u001b[1;33m)\u001b[0m\u001b[1;33m\u001b[0m\u001b[1;33m\u001b[0m\u001b[0m\n\u001b[1;32m-> 2905\u001b[1;33m             \u001b[0mindexer\u001b[0m \u001b[1;33m=\u001b[0m \u001b[0mself\u001b[0m\u001b[1;33m.\u001b[0m\u001b[0mloc\u001b[0m\u001b[1;33m.\u001b[0m\u001b[0m_get_listlike_indexer\u001b[0m\u001b[1;33m(\u001b[0m\u001b[0mkey\u001b[0m\u001b[1;33m,\u001b[0m \u001b[0maxis\u001b[0m\u001b[1;33m=\u001b[0m\u001b[1;36m1\u001b[0m\u001b[1;33m,\u001b[0m \u001b[0mraise_missing\u001b[0m\u001b[1;33m=\u001b[0m\u001b[1;32mTrue\u001b[0m\u001b[1;33m)\u001b[0m\u001b[1;33m[\u001b[0m\u001b[1;36m1\u001b[0m\u001b[1;33m]\u001b[0m\u001b[1;33m\u001b[0m\u001b[1;33m\u001b[0m\u001b[0m\n\u001b[0m\u001b[0;32m   2906\u001b[0m \u001b[1;33m\u001b[0m\u001b[0m\n\u001b[0;32m   2907\u001b[0m         \u001b[1;31m# take() does not accept boolean indexers\u001b[0m\u001b[1;33m\u001b[0m\u001b[1;33m\u001b[0m\u001b[1;33m\u001b[0m\u001b[0m\n",
      "\u001b[1;32m~\\Python\\Python38-32\\lib\\site-packages\\pandas\\core\\indexing.py\u001b[0m in \u001b[0;36m_get_listlike_indexer\u001b[1;34m(self, key, axis, raise_missing)\u001b[0m\n\u001b[0;32m   1252\u001b[0m             \u001b[0mkeyarr\u001b[0m\u001b[1;33m,\u001b[0m \u001b[0mindexer\u001b[0m\u001b[1;33m,\u001b[0m \u001b[0mnew_indexer\u001b[0m \u001b[1;33m=\u001b[0m \u001b[0max\u001b[0m\u001b[1;33m.\u001b[0m\u001b[0m_reindex_non_unique\u001b[0m\u001b[1;33m(\u001b[0m\u001b[0mkeyarr\u001b[0m\u001b[1;33m)\u001b[0m\u001b[1;33m\u001b[0m\u001b[1;33m\u001b[0m\u001b[0m\n\u001b[0;32m   1253\u001b[0m \u001b[1;33m\u001b[0m\u001b[0m\n\u001b[1;32m-> 1254\u001b[1;33m         \u001b[0mself\u001b[0m\u001b[1;33m.\u001b[0m\u001b[0m_validate_read_indexer\u001b[0m\u001b[1;33m(\u001b[0m\u001b[0mkeyarr\u001b[0m\u001b[1;33m,\u001b[0m \u001b[0mindexer\u001b[0m\u001b[1;33m,\u001b[0m \u001b[0maxis\u001b[0m\u001b[1;33m,\u001b[0m \u001b[0mraise_missing\u001b[0m\u001b[1;33m=\u001b[0m\u001b[0mraise_missing\u001b[0m\u001b[1;33m)\u001b[0m\u001b[1;33m\u001b[0m\u001b[1;33m\u001b[0m\u001b[0m\n\u001b[0m\u001b[0;32m   1255\u001b[0m         \u001b[1;32mreturn\u001b[0m \u001b[0mkeyarr\u001b[0m\u001b[1;33m,\u001b[0m \u001b[0mindexer\u001b[0m\u001b[1;33m\u001b[0m\u001b[1;33m\u001b[0m\u001b[0m\n\u001b[0;32m   1256\u001b[0m \u001b[1;33m\u001b[0m\u001b[0m\n",
      "\u001b[1;32m~\\Python\\Python38-32\\lib\\site-packages\\pandas\\core\\indexing.py\u001b[0m in \u001b[0;36m_validate_read_indexer\u001b[1;34m(self, key, indexer, axis, raise_missing)\u001b[0m\n\u001b[0;32m   1296\u001b[0m             \u001b[1;32mif\u001b[0m \u001b[0mmissing\u001b[0m \u001b[1;33m==\u001b[0m \u001b[0mlen\u001b[0m\u001b[1;33m(\u001b[0m\u001b[0mindexer\u001b[0m\u001b[1;33m)\u001b[0m\u001b[1;33m:\u001b[0m\u001b[1;33m\u001b[0m\u001b[1;33m\u001b[0m\u001b[0m\n\u001b[0;32m   1297\u001b[0m                 \u001b[0maxis_name\u001b[0m \u001b[1;33m=\u001b[0m \u001b[0mself\u001b[0m\u001b[1;33m.\u001b[0m\u001b[0mobj\u001b[0m\u001b[1;33m.\u001b[0m\u001b[0m_get_axis_name\u001b[0m\u001b[1;33m(\u001b[0m\u001b[0maxis\u001b[0m\u001b[1;33m)\u001b[0m\u001b[1;33m\u001b[0m\u001b[1;33m\u001b[0m\u001b[0m\n\u001b[1;32m-> 1298\u001b[1;33m                 \u001b[1;32mraise\u001b[0m \u001b[0mKeyError\u001b[0m\u001b[1;33m(\u001b[0m\u001b[1;34mf\"None of [{key}] are in the [{axis_name}]\"\u001b[0m\u001b[1;33m)\u001b[0m\u001b[1;33m\u001b[0m\u001b[1;33m\u001b[0m\u001b[0m\n\u001b[0m\u001b[0;32m   1299\u001b[0m \u001b[1;33m\u001b[0m\u001b[0m\n\u001b[0;32m   1300\u001b[0m             \u001b[1;31m# We (temporarily) allow for some missing keys with .loc, except in\u001b[0m\u001b[1;33m\u001b[0m\u001b[1;33m\u001b[0m\u001b[1;33m\u001b[0m\u001b[0m\n",
      "\u001b[1;31mKeyError\u001b[0m: \"None of [Index(['Converted Comp'], dtype='object')] are in the [columns]\""
     ]
    }
   ],
   "source": [
    "df = df[['Converted Comp']]"
   ]
  },
  {
   "cell_type": "code",
   "execution_count": 210,
   "metadata": {},
   "outputs": [
    {
     "output_type": "execute_result",
     "data": {
      "text/plain": "                   Country                                 LanguageWorkedWith  \\\nRespondent                                                                      \n8            United States                                         Python;SQL   \n16          United Kingdom  Bash/Shell/PowerShell;HTML/CSS;Java;JavaScript...   \n17           United States              C#;HTML/CSS;JavaScript;Python;SQL;VBA   \n18           United States                Bash/Shell/PowerShell;HTML/CSS;Perl   \n19           United States  Bash/Shell/PowerShell;C#;HTML/CSS;JavaScript;S...   \n...                    ...                                                ...   \n65586        United States                                                NaN   \n65589        United States                                                NaN   \n65602        United States                                                NaN   \n65604        United States                                                NaN   \n65617              Germany                                                NaN   \n\n            ConvertedComp  \nRespondent                 \n8                116000.0  \n16               108576.0  \n17                79000.0  \n18              1260000.0  \n19                83400.0  \n...                   ...  \n65586            225000.0  \n65589            150000.0  \n65602            140000.0  \n65604            150000.0  \n65617            129718.0  \n\n[13178 rows x 3 columns]",
      "text/html": "<div>\n<style scoped>\n    .dataframe tbody tr th:only-of-type {\n        vertical-align: middle;\n    }\n\n    .dataframe tbody tr th {\n        vertical-align: top;\n    }\n\n    .dataframe thead th {\n        text-align: right;\n    }\n</style>\n<table border=\"1\" class=\"dataframe\">\n  <thead>\n    <tr style=\"text-align: right;\">\n      <th></th>\n      <th>Country</th>\n      <th>LanguageWorkedWith</th>\n      <th>ConvertedComp</th>\n    </tr>\n    <tr>\n      <th>Respondent</th>\n      <th></th>\n      <th></th>\n      <th></th>\n    </tr>\n  </thead>\n  <tbody>\n    <tr>\n      <th>8</th>\n      <td>United States</td>\n      <td>Python;SQL</td>\n      <td>116000.0</td>\n    </tr>\n    <tr>\n      <th>16</th>\n      <td>United Kingdom</td>\n      <td>Bash/Shell/PowerShell;HTML/CSS;Java;JavaScript...</td>\n      <td>108576.0</td>\n    </tr>\n    <tr>\n      <th>17</th>\n      <td>United States</td>\n      <td>C#;HTML/CSS;JavaScript;Python;SQL;VBA</td>\n      <td>79000.0</td>\n    </tr>\n    <tr>\n      <th>18</th>\n      <td>United States</td>\n      <td>Bash/Shell/PowerShell;HTML/CSS;Perl</td>\n      <td>1260000.0</td>\n    </tr>\n    <tr>\n      <th>19</th>\n      <td>United States</td>\n      <td>Bash/Shell/PowerShell;C#;HTML/CSS;JavaScript;S...</td>\n      <td>83400.0</td>\n    </tr>\n    <tr>\n      <th>...</th>\n      <td>...</td>\n      <td>...</td>\n      <td>...</td>\n    </tr>\n    <tr>\n      <th>65586</th>\n      <td>United States</td>\n      <td>NaN</td>\n      <td>225000.0</td>\n    </tr>\n    <tr>\n      <th>65589</th>\n      <td>United States</td>\n      <td>NaN</td>\n      <td>150000.0</td>\n    </tr>\n    <tr>\n      <th>65602</th>\n      <td>United States</td>\n      <td>NaN</td>\n      <td>140000.0</td>\n    </tr>\n    <tr>\n      <th>65604</th>\n      <td>United States</td>\n      <td>NaN</td>\n      <td>150000.0</td>\n    </tr>\n    <tr>\n      <th>65617</th>\n      <td>Germany</td>\n      <td>NaN</td>\n      <td>129718.0</td>\n    </tr>\n  </tbody>\n</table>\n<p>13178 rows × 3 columns</p>\n</div>"
     },
     "metadata": {},
     "execution_count": 210
    }
   ],
   "source": [
    "high_salary = (df['ConvertedComp']>70000)\n",
    "df.loc[high_salary,['Country','LanguageWorkedWith','ConvertedComp']]"
   ]
  },
  {
   "cell_type": "code",
   "execution_count": 222,
   "metadata": {},
   "outputs": [],
   "source": [
    "countries = ['United States','India','United Kingdom','Canada']\n",
    "filt = df['Country'].isin(countries)"
   ]
  },
  {
   "cell_type": "code",
   "execution_count": 223,
   "metadata": {},
   "outputs": [
    {
     "output_type": "execute_result",
     "data": {
      "text/plain": "Respondent\n2        United Kingdom\n5         United States\n7                 India\n8         United States\n10       United Kingdom\n              ...      \n62834            Canada\n62954             India\n63077     United States\n64236             India\n64858     United States\nName: Country, Length: 26959, dtype: object"
     },
     "metadata": {},
     "execution_count": 223
    }
   ],
   "source": [
    "df.loc[filt,'Country']"
   ]
  },
  {
   "cell_type": "code",
   "execution_count": 227,
   "metadata": {},
   "outputs": [],
   "source": [
    "filt = df['LanguageWorkedWith'].str.contains('Python',na=False)"
   ]
  },
  {
   "cell_type": "code",
   "execution_count": 228,
   "metadata": {},
   "outputs": [
    {
     "output_type": "execute_result",
     "data": {
      "text/plain": "Respondent\n3                                 Objective-C;Python;Swift\n8                                               Python;SQL\n10                     HTML/CSS;Java;JavaScript;Python;SQL\n13                                     C;JavaScript;Python\n15        Bash/Shell/PowerShell;C;HTML/CSS;Java;Python;SQL\n                               ...                        \n61561    Bash/Shell/PowerShell;HTML/CSS;JavaScript;Perl...\n62391       C++;HTML/CSS;JavaScript;Python;Ruby;TypeScript\n63077              C++;HTML/CSS;Java;JavaScript;Python;SQL\n63640    Bash/Shell/PowerShell;C;C#;C++;HTML/CSS;Java;J...\n64867    Assembly;Bash/Shell/PowerShell;C;C#;C++;Dart;G...\nName: LanguageWorkedWith, Length: 25287, dtype: object"
     },
     "metadata": {},
     "execution_count": 228
    }
   ],
   "source": [
    "df.loc[filt,'LanguageWorkedWith']"
   ]
  },
  {
   "cell_type": "code",
   "execution_count": null,
   "metadata": {},
   "outputs": [],
   "source": []
  }
 ],
 "metadata": {
  "kernelspec": {
   "display_name": "Python 3.8.3 32-bit",
   "language": "python",
   "name": "python_defaultSpec_1597244640324"
  },
  "language_info": {
   "codemirror_mode": {
    "name": "ipython",
    "version": 3
   },
   "file_extension": ".py",
   "mimetype": "text/x-python",
   "name": "python",
   "nbconvert_exporter": "python",
   "pygments_lexer": "ipython3",
   "version": "3.8.3"
  }
 },
 "nbformat": 4,
 "nbformat_minor": 2
}