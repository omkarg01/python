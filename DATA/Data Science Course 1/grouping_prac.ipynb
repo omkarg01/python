{
 "metadata": {
  "language_info": {
   "codemirror_mode": {
    "name": "ipython",
    "version": 3
   },
   "file_extension": ".py",
   "mimetype": "text/x-python",
   "name": "python",
   "nbconvert_exporter": "python",
   "pygments_lexer": "ipython3",
   "version": "3.8.3-final"
  },
  "orig_nbformat": 2,
  "kernelspec": {
   "name": "python_defaultSpec_1597930627696",
   "display_name": "Python 3.8.3 32-bit"
  }
 },
 "nbformat": 4,
 "nbformat_minor": 2,
 "cells": [
  {
   "cell_type": "code",
   "execution_count": 2,
   "metadata": {},
   "outputs": [],
   "source": [
    "import pandas as pd"
   ]
  },
  {
   "cell_type": "code",
   "execution_count": 12,
   "metadata": {},
   "outputs": [],
   "source": [
    "df = pd.read_csv('survey_results_public.csv',index_col='Respondent')\n",
    "schema_df = pd.read_csv('survey_results_schema.csv')"
   ]
  },
  {
   "cell_type": "code",
   "execution_count": 13,
   "metadata": {},
   "outputs": [],
   "source": [
    "pd.set_option('display.max_columns',85)\n",
    "pd.set_option('display.max_rows',85)"
   ]
  },
  {
   "cell_type": "code",
   "execution_count": 15,
   "metadata": {},
   "outputs": [
    {
     "output_type": "execute_result",
     "data": {
      "text/plain": "MainBranch                                         I am a developer by profession\nHobbyist                                                                      Yes\nAge                                                                           NaN\nAge1stCode                                                                     13\nCompFreq                                                                  Monthly\nCompTotal                                                                     NaN\nConvertedComp                                                                 NaN\nCountry                                                                   Germany\nCurrencyDesc                                                        European Euro\nCurrencySymbol                                                                EUR\nDatabaseDesireNextYear                                       Microsoft SQL Server\nDatabaseWorkedWith                      Elasticsearch;Microsoft SQL Server;Oracle\nDevType                         Developer, desktop or enterprise applications;...\nEdLevel                           Master’s degree (M.A., M.S., M.Eng., MBA, etc.)\nEmployment                      Independent contractor, freelancer, or self-em...\nEthnicity                                            White or of European descent\nGender                                                                        Man\nJobFactors                      Languages, frameworks, and other technologies ...\nJobSat                                                         Slightly satisfied\nJobSeek                              I am not interested in new job opportunities\nLanguageDesireNextYear                                     C#;HTML/CSS;JavaScript\nLanguageWorkedWith                                         C#;HTML/CSS;JavaScript\nMiscTechDesireNextYear                                          .NET Core;Xamarin\nMiscTechWorkedWith                                                 .NET;.NET Core\nNEWCollabToolsDesireNextYear               Microsoft Teams;Microsoft Azure;Trello\nNEWCollabToolsWorkedWith             Confluence;Jira;Slack;Microsoft Azure;Trello\nNEWDevOps                                                                      No\nNEWDevOpsImpt                                                  Somewhat important\nNEWEdImpt                                                        Fairly important\nNEWJobHunt                                                                    NaN\nNEWJobHuntResearch                                                            NaN\nNEWLearn                                                              Once a year\nNEWOffTopic                                                              Not sure\nNEWOnboardGood                                                                NaN\nNEWOtherComms                                                                  No\nNEWOvertime                                      Often: 1-2 days per week or more\nNEWPurchaseResearch             Start a free trial;Ask developers I know/work ...\nNEWPurpleLink                                                              Amused\nNEWSOSites                       Stack Overflow (public Q&A for anyone who codes)\nNEWStuck                        Visit Stack Overflow;Go for a walk or other ph...\nOpSys                                                                     Windows\nOrgSize                                                          2 to 9 employees\nPlatformDesireNextYear             Android;iOS;Kubernetes;Microsoft Azure;Windows\nPlatformWorkedWith                                                        Windows\nPurchaseWhat                                                                  NaN\nSexuality                                                 Straight / Heterosexual\nSOAccount                                                                      No\nSOComm                                                             No, not at all\nSOPartFreq                                                                    NaN\nSOVisitFreq                                                Multiple times per day\nSurveyEase                                             Neither easy nor difficult\nSurveyLength                                                Appropriate in length\nTrans                                                                          No\nUndergradMajor                  Computer science, computer engineering, or sof...\nWebframeDesireNextYear                                               ASP.NET Core\nWebframeWorkedWith                                           ASP.NET;ASP.NET Core\nWelcomeChange                             Just as welcome now as I felt last year\nWorkWeekHrs                                                                    50\nYearsCode                                                                      36\nYearsCodePro                                                                   27\nName: 1, dtype: object"
     },
     "metadata": {},
     "execution_count": 15
    }
   ],
   "source": [
    "df.loc[1]"
   ]
  },
  {
   "cell_type": "code",
   "execution_count": 8,
   "metadata": {},
   "outputs": [
    {
     "output_type": "execute_result",
     "data": {
      "text/plain": "United States         12469\nIndia                  8403\nUnited Kingdom         3896\nGermany                3890\nCanada                 2191\nFrance                 1898\nBrazil                 1818\nNetherlands            1343\nPoland                 1278\nAustralia              1208\nSpain                  1161\nItaly                  1117\nRussian Federation     1092\nSweden                  886\nPakistan                809\nTurkey                  777\nIsrael                  653\nSwitzerland             629\nBangladesh              609\nRomania                 604\nName: Country, dtype: int64"
     },
     "metadata": {},
     "execution_count": 8
    }
   ],
   "source": [
    "df['Country'].value_counts().head(20)"
   ]
  },
  {
   "cell_type": "code",
   "execution_count": 9,
   "metadata": {},
   "outputs": [
    {
     "output_type": "error",
     "ename": "NameError",
     "evalue": "name 'country_grp' is not defined",
     "traceback": [
      "\u001b[1;31m---------------------------------------------------------------------------\u001b[0m",
      "\u001b[1;31mNameError\u001b[0m                                 Traceback (most recent call last)",
      "\u001b[1;32m<ipython-input-9-8a5823ddd2a1>\u001b[0m in \u001b[0;36m<module>\u001b[1;34m\u001b[0m\n\u001b[1;32m----> 1\u001b[1;33m \u001b[0mcountry_grp\u001b[0m\u001b[1;33m.\u001b[0m\u001b[0mget_group\u001b[0m\u001b[1;33m(\u001b[0m\u001b[1;34m'India'\u001b[0m\u001b[1;33m)\u001b[0m\u001b[1;33m.\u001b[0m\u001b[0mhead\u001b[0m\u001b[1;33m(\u001b[0m\u001b[1;36m1\u001b[0m\u001b[1;33m)\u001b[0m\u001b[1;33m\u001b[0m\u001b[1;33m\u001b[0m\u001b[0m\n\u001b[0m",
      "\u001b[1;31mNameError\u001b[0m: name 'country_grp' is not defined"
     ]
    }
   ],
   "source": [
    "country_grp.get_group('India').head(1)"
   ]
  },
  {
   "cell_type": "code",
   "execution_count": 10,
   "metadata": {},
   "outputs": [
    {
     "output_type": "execute_result",
     "data": {
      "text/plain": "HTML/CSS;JavaScript;PHP;SQL                           180\nHTML/CSS;JavaScript                                   149\nJava                                                  149\nHTML/CSS;JavaScript;TypeScript                        121\nPython                                                103\n                                                     ... \nC;Java;Kotlin                                           1\nC;C#;C++;JavaScript                                     1\nC#;PHP;Python;SQL                                       1\nBash/Shell/PowerShell;C;C++;JavaScript;Python;Rust      1\nC#;HTML/CSS;Java;JavaScript;Kotlin;Python;SQL           1\nName: LanguageWorkedWith, Length: 2280, dtype: int64"
     },
     "metadata": {},
     "execution_count": 10
    }
   ],
   "source": [
    "filt = df['Country']=='India'\n",
    "df.loc[filt,'LanguageWorkedWith'].value_counts()"
   ]
  },
  {
   "cell_type": "code",
   "execution_count": 11,
   "metadata": {},
   "outputs": [],
   "source": [
    "country_grp = df.groupby(['Country'])"
   ]
  },
  {
   "cell_type": "code",
   "execution_count": 12,
   "metadata": {},
   "outputs": [
    {
     "output_type": "execute_result",
     "data": {
      "text/plain": "LanguageWorkedWith\nJava                                  0.030612\nC++                                   0.027211\nHTML/CSS;JavaScript                   0.020408\nC                                     0.017007\nJava;JavaScript                       0.017007\n                                        ...   \nJava;Python;R                         0.003401\nJava;VBA                              0.003401\nJavaScript;Kotlin;Python;Rust;SQL     0.003401\nJavaScript;PHP;Ruby;SQL;TypeScript    0.003401\nSQL                                   0.003401\nName: LanguageWorkedWith, Length: 228, dtype: float64"
     },
     "metadata": {},
     "execution_count": 12
    }
   ],
   "source": [
    "country_grp['LanguageWorkedWith'].value_counts(normalize=True).loc['China']"
   ]
  },
  {
   "cell_type": "code",
   "execution_count": 13,
   "metadata": {},
   "outputs": [
    {
     "output_type": "execute_result",
     "data": {
      "text/plain": "10056.0"
     },
     "metadata": {},
     "execution_count": 13
    }
   ],
   "source": [
    "country_grp['ConvertedComp'].median().loc['India']"
   ]
  },
  {
   "cell_type": "code",
   "execution_count": 14,
   "metadata": {},
   "outputs": [
    {
     "output_type": "execute_result",
     "data": {
      "text/plain": "                                               mean   median\nCountry                                                     \nAfghanistan                           148290.125000  15163.5\nAlbania                                25611.000000  15900.0\nAlgeria                                10362.812500   9432.0\nAndorra                                88640.000000  88640.0\nAngola                                  5292.000000   5292.0\n...                                             ...      ...\nVenezuela, Bolivarian Republic of...    6280.611111   3600.0\nViet Nam                               28342.605769  10344.0\nYemen                                  36000.000000  36000.0\nZambia                                 17506.400000   5452.0\nZimbabwe                               26338.181818   7200.0\n\n[183 rows x 2 columns]",
      "text/html": "<div>\n<style scoped>\n    .dataframe tbody tr th:only-of-type {\n        vertical-align: middle;\n    }\n\n    .dataframe tbody tr th {\n        vertical-align: top;\n    }\n\n    .dataframe thead th {\n        text-align: right;\n    }\n</style>\n<table border=\"1\" class=\"dataframe\">\n  <thead>\n    <tr style=\"text-align: right;\">\n      <th></th>\n      <th>mean</th>\n      <th>median</th>\n    </tr>\n    <tr>\n      <th>Country</th>\n      <th></th>\n      <th></th>\n    </tr>\n  </thead>\n  <tbody>\n    <tr>\n      <th>Afghanistan</th>\n      <td>148290.125000</td>\n      <td>15163.5</td>\n    </tr>\n    <tr>\n      <th>Albania</th>\n      <td>25611.000000</td>\n      <td>15900.0</td>\n    </tr>\n    <tr>\n      <th>Algeria</th>\n      <td>10362.812500</td>\n      <td>9432.0</td>\n    </tr>\n    <tr>\n      <th>Andorra</th>\n      <td>88640.000000</td>\n      <td>88640.0</td>\n    </tr>\n    <tr>\n      <th>Angola</th>\n      <td>5292.000000</td>\n      <td>5292.0</td>\n    </tr>\n    <tr>\n      <th>...</th>\n      <td>...</td>\n      <td>...</td>\n    </tr>\n    <tr>\n      <th>Venezuela, Bolivarian Republic of...</th>\n      <td>6280.611111</td>\n      <td>3600.0</td>\n    </tr>\n    <tr>\n      <th>Viet Nam</th>\n      <td>28342.605769</td>\n      <td>10344.0</td>\n    </tr>\n    <tr>\n      <th>Yemen</th>\n      <td>36000.000000</td>\n      <td>36000.0</td>\n    </tr>\n    <tr>\n      <th>Zambia</th>\n      <td>17506.400000</td>\n      <td>5452.0</td>\n    </tr>\n    <tr>\n      <th>Zimbabwe</th>\n      <td>26338.181818</td>\n      <td>7200.0</td>\n    </tr>\n  </tbody>\n</table>\n<p>183 rows × 2 columns</p>\n</div>"
     },
     "metadata": {},
     "execution_count": 14
    }
   ],
   "source": [
    "import numpy as np\n",
    "country_grp['ConvertedComp'].agg(['mean','median'])"
   ]
  },
  {
   "cell_type": "code",
   "execution_count": 28,
   "metadata": {},
   "outputs": [
    {
     "output_type": "execute_result",
     "data": {
      "text/plain": "<pandas.core.groupby.generic.SeriesGroupBy object at 0x1641E3B8>"
     },
     "metadata": {},
     "execution_count": 28
    }
   ],
   "source": [
    "country_grp['ConvertedComp']"
   ]
  },
  {
   "cell_type": "code",
   "execution_count": 15,
   "metadata": {},
   "outputs": [
    {
     "output_type": "execute_result",
     "data": {
      "text/plain": "                                      ConvertedComp\nCountry                                            \nAfghanistan                           148290.125000\nAlbania                                25611.000000\nAlgeria                                10362.812500\nAndorra                                88640.000000\nAngola                                  5292.000000\n...                                             ...\nVenezuela, Bolivarian Republic of...    6280.611111\nViet Nam                               28342.605769\nYemen                                  36000.000000\nZambia                                 17506.400000\nZimbabwe                               26338.181818\n\n[183 rows x 1 columns]",
      "text/html": "<div>\n<style scoped>\n    .dataframe tbody tr th:only-of-type {\n        vertical-align: middle;\n    }\n\n    .dataframe tbody tr th {\n        vertical-align: top;\n    }\n\n    .dataframe thead th {\n        text-align: right;\n    }\n</style>\n<table border=\"1\" class=\"dataframe\">\n  <thead>\n    <tr style=\"text-align: right;\">\n      <th></th>\n      <th>ConvertedComp</th>\n    </tr>\n    <tr>\n      <th>Country</th>\n      <th></th>\n    </tr>\n  </thead>\n  <tbody>\n    <tr>\n      <th>Afghanistan</th>\n      <td>148290.125000</td>\n    </tr>\n    <tr>\n      <th>Albania</th>\n      <td>25611.000000</td>\n    </tr>\n    <tr>\n      <th>Algeria</th>\n      <td>10362.812500</td>\n    </tr>\n    <tr>\n      <th>Andorra</th>\n      <td>88640.000000</td>\n    </tr>\n    <tr>\n      <th>Angola</th>\n      <td>5292.000000</td>\n    </tr>\n    <tr>\n      <th>...</th>\n      <td>...</td>\n    </tr>\n    <tr>\n      <th>Venezuela, Bolivarian Republic of...</th>\n      <td>6280.611111</td>\n    </tr>\n    <tr>\n      <th>Viet Nam</th>\n      <td>28342.605769</td>\n    </tr>\n    <tr>\n      <th>Yemen</th>\n      <td>36000.000000</td>\n    </tr>\n    <tr>\n      <th>Zambia</th>\n      <td>17506.400000</td>\n    </tr>\n    <tr>\n      <th>Zimbabwe</th>\n      <td>26338.181818</td>\n    </tr>\n  </tbody>\n</table>\n<p>183 rows × 1 columns</p>\n</div>"
     },
     "metadata": {},
     "execution_count": 15
    }
   ],
   "source": [
    "df.groupby('Country').agg({'ConvertedComp':np.mean})"
   ]
  },
  {
   "cell_type": "code",
   "execution_count": 21,
   "metadata": {},
   "outputs": [
    {
     "output_type": "execute_result",
     "data": {
      "text/plain": "                                      ConvertedComp\nCountry                                            \nAfghanistan                               3558963.0\nAlbania                                    512220.0\nAlgeria                                    165805.0\nAndorra                                    177280.0\nAngola                                      10584.0\n...                                             ...\nVenezuela, Bolivarian Republic of...       226102.0\nViet Nam                                  2947631.0\nYemen                                       36000.0\nZambia                                      87532.0\nZimbabwe                                   289720.0\n\n[183 rows x 1 columns]",
      "text/html": "<div>\n<style scoped>\n    .dataframe tbody tr th:only-of-type {\n        vertical-align: middle;\n    }\n\n    .dataframe tbody tr th {\n        vertical-align: top;\n    }\n\n    .dataframe thead th {\n        text-align: right;\n    }\n</style>\n<table border=\"1\" class=\"dataframe\">\n  <thead>\n    <tr style=\"text-align: right;\">\n      <th></th>\n      <th>ConvertedComp</th>\n    </tr>\n    <tr>\n      <th>Country</th>\n      <th></th>\n    </tr>\n  </thead>\n  <tbody>\n    <tr>\n      <th>Afghanistan</th>\n      <td>3558963.0</td>\n    </tr>\n    <tr>\n      <th>Albania</th>\n      <td>512220.0</td>\n    </tr>\n    <tr>\n      <th>Algeria</th>\n      <td>165805.0</td>\n    </tr>\n    <tr>\n      <th>Andorra</th>\n      <td>177280.0</td>\n    </tr>\n    <tr>\n      <th>Angola</th>\n      <td>10584.0</td>\n    </tr>\n    <tr>\n      <th>...</th>\n      <td>...</td>\n    </tr>\n    <tr>\n      <th>Venezuela, Bolivarian Republic of...</th>\n      <td>226102.0</td>\n    </tr>\n    <tr>\n      <th>Viet Nam</th>\n      <td>2947631.0</td>\n    </tr>\n    <tr>\n      <th>Yemen</th>\n      <td>36000.0</td>\n    </tr>\n    <tr>\n      <th>Zambia</th>\n      <td>87532.0</td>\n    </tr>\n    <tr>\n      <th>Zimbabwe</th>\n      <td>289720.0</td>\n    </tr>\n  </tbody>\n</table>\n<p>183 rows × 1 columns</p>\n</div>"
     },
     "metadata": {},
     "execution_count": 21
    }
   ],
   "source": [
    "df.groupby('Country').agg({'ConvertedComp':np.sum})"
   ]
  },
  {
   "cell_type": "code",
   "execution_count": 44,
   "metadata": {},
   "outputs": [],
   "source": [
    "# df = df.groupby('Country')\n",
    "# df.get_group('United States')"
   ]
  },
  {
   "cell_type": "code",
   "execution_count": 49,
   "metadata": {},
   "outputs": [
    {
     "output_type": "execute_result",
     "data": {
      "text/plain": "                                      ConvertedComp\nCountry                                            \nAfghanistan                           148290.125000\nAlbania                                25611.000000\nAlgeria                                10362.812500\nAndorra                                88640.000000\nAngola                                  5292.000000\n...                                             ...\nVenezuela, Bolivarian Republic of...    6280.611111\nViet Nam                               28342.605769\nYemen                                  36000.000000\nZambia                                 17506.400000\nZimbabwe                               26338.181818\n\n[183 rows x 1 columns]",
      "text/html": "<div>\n<style scoped>\n    .dataframe tbody tr th:only-of-type {\n        vertical-align: middle;\n    }\n\n    .dataframe tbody tr th {\n        vertical-align: top;\n    }\n\n    .dataframe thead th {\n        text-align: right;\n    }\n</style>\n<table border=\"1\" class=\"dataframe\">\n  <thead>\n    <tr style=\"text-align: right;\">\n      <th></th>\n      <th>ConvertedComp</th>\n    </tr>\n    <tr>\n      <th>Country</th>\n      <th></th>\n    </tr>\n  </thead>\n  <tbody>\n    <tr>\n      <th>Afghanistan</th>\n      <td>148290.125000</td>\n    </tr>\n    <tr>\n      <th>Albania</th>\n      <td>25611.000000</td>\n    </tr>\n    <tr>\n      <th>Algeria</th>\n      <td>10362.812500</td>\n    </tr>\n    <tr>\n      <th>Andorra</th>\n      <td>88640.000000</td>\n    </tr>\n    <tr>\n      <th>Angola</th>\n      <td>5292.000000</td>\n    </tr>\n    <tr>\n      <th>...</th>\n      <td>...</td>\n    </tr>\n    <tr>\n      <th>Venezuela, Bolivarian Republic of...</th>\n      <td>6280.611111</td>\n    </tr>\n    <tr>\n      <th>Viet Nam</th>\n      <td>28342.605769</td>\n    </tr>\n    <tr>\n      <th>Yemen</th>\n      <td>36000.000000</td>\n    </tr>\n    <tr>\n      <th>Zambia</th>\n      <td>17506.400000</td>\n    </tr>\n    <tr>\n      <th>Zimbabwe</th>\n      <td>26338.181818</td>\n    </tr>\n  </tbody>\n</table>\n<p>183 rows × 1 columns</p>\n</div>"
     },
     "metadata": {},
     "execution_count": 49
    }
   ],
   "source": [
    "df.groupby('Country').agg({'ConvertedComp':np.sum,'ConvertedComp':np.mean})"
   ]
  },
  {
   "cell_type": "code",
   "execution_count": 50,
   "metadata": {},
   "outputs": [
    {
     "output_type": "execute_result",
     "data": {
      "text/plain": "                                      ConvertedComp\nCountry                                            \nAfghanistan                               3558963.0\nAlbania                                    512220.0\nAlgeria                                    165805.0\nAndorra                                    177280.0\nAngola                                      10584.0\n...                                             ...\nVenezuela, Bolivarian Republic of...       226102.0\nViet Nam                                  2947631.0\nYemen                                       36000.0\nZambia                                      87532.0\nZimbabwe                                   289720.0\n\n[183 rows x 1 columns]",
      "text/html": "<div>\n<style scoped>\n    .dataframe tbody tr th:only-of-type {\n        vertical-align: middle;\n    }\n\n    .dataframe tbody tr th {\n        vertical-align: top;\n    }\n\n    .dataframe thead th {\n        text-align: right;\n    }\n</style>\n<table border=\"1\" class=\"dataframe\">\n  <thead>\n    <tr style=\"text-align: right;\">\n      <th></th>\n      <th>ConvertedComp</th>\n    </tr>\n    <tr>\n      <th>Country</th>\n      <th></th>\n    </tr>\n  </thead>\n  <tbody>\n    <tr>\n      <th>Afghanistan</th>\n      <td>3558963.0</td>\n    </tr>\n    <tr>\n      <th>Albania</th>\n      <td>512220.0</td>\n    </tr>\n    <tr>\n      <th>Algeria</th>\n      <td>165805.0</td>\n    </tr>\n    <tr>\n      <th>Andorra</th>\n      <td>177280.0</td>\n    </tr>\n    <tr>\n      <th>Angola</th>\n      <td>10584.0</td>\n    </tr>\n    <tr>\n      <th>...</th>\n      <td>...</td>\n    </tr>\n    <tr>\n      <th>Venezuela, Bolivarian Republic of...</th>\n      <td>226102.0</td>\n    </tr>\n    <tr>\n      <th>Viet Nam</th>\n      <td>2947631.0</td>\n    </tr>\n    <tr>\n      <th>Yemen</th>\n      <td>36000.0</td>\n    </tr>\n    <tr>\n      <th>Zambia</th>\n      <td>87532.0</td>\n    </tr>\n    <tr>\n      <th>Zimbabwe</th>\n      <td>289720.0</td>\n    </tr>\n  </tbody>\n</table>\n<p>183 rows × 1 columns</p>\n</div>"
     },
     "metadata": {},
     "execution_count": 50
    }
   ],
   "source": [
    "df.groupby('Country').agg({'ConvertedComp':np.sum},{'ConvertedComp':np.mean})"
   ]
  },
  {
   "cell_type": "code",
   "execution_count": 49,
   "metadata": {},
   "outputs": [
    {
     "output_type": "execute_result",
     "data": {
      "text/plain": "2670"
     },
     "metadata": {},
     "execution_count": 49
    }
   ],
   "source": [
    "filt = df['Country']=='India'\n",
    "df.loc[filt]['LanguageWorkedWith'].str.contains('Python').sum()"
   ]
  },
  {
   "cell_type": "code",
   "execution_count": 50,
   "metadata": {},
   "outputs": [
    {
     "output_type": "error",
     "ename": "AttributeError",
     "evalue": "'SeriesGroupBy' object has no attribute 'str'",
     "traceback": [
      "\u001b[1;31m---------------------------------------------------------------------------\u001b[0m",
      "\u001b[1;31mAttributeError\u001b[0m                            Traceback (most recent call last)",
      "\u001b[1;32m<ipython-input-50-cda55dd00399>\u001b[0m in \u001b[0;36m<module>\u001b[1;34m\u001b[0m\n\u001b[1;32m----> 1\u001b[1;33m \u001b[0mcountry_grp\u001b[0m\u001b[1;33m[\u001b[0m\u001b[1;34m'LanguageWorkedWith'\u001b[0m\u001b[1;33m]\u001b[0m\u001b[1;33m.\u001b[0m\u001b[0mstr\u001b[0m\u001b[1;33m.\u001b[0m\u001b[0mcontains\u001b[0m\u001b[1;33m(\u001b[0m\u001b[1;34m'Python'\u001b[0m\u001b[1;33m)\u001b[0m\u001b[1;33m.\u001b[0m\u001b[0msum\u001b[0m\u001b[1;33m(\u001b[0m\u001b[1;33m)\u001b[0m\u001b[1;33m\u001b[0m\u001b[1;33m\u001b[0m\u001b[0m\n\u001b[0m",
      "\u001b[1;32m~\\Python\\Python38-32\\lib\\site-packages\\pandas\\core\\groupby\\groupby.py\u001b[0m in \u001b[0;36m__getattr__\u001b[1;34m(self, attr)\u001b[0m\n\u001b[0;32m    701\u001b[0m             \u001b[1;32mreturn\u001b[0m \u001b[0mself\u001b[0m\u001b[1;33m[\u001b[0m\u001b[0mattr\u001b[0m\u001b[1;33m]\u001b[0m\u001b[1;33m\u001b[0m\u001b[1;33m\u001b[0m\u001b[0m\n\u001b[0;32m    702\u001b[0m \u001b[1;33m\u001b[0m\u001b[0m\n\u001b[1;32m--> 703\u001b[1;33m         raise AttributeError(\n\u001b[0m\u001b[0;32m    704\u001b[0m             \u001b[1;34mf\"'{type(self).__name__}' object has no attribute '{attr}'\"\u001b[0m\u001b[1;33m\u001b[0m\u001b[1;33m\u001b[0m\u001b[0m\n\u001b[0;32m    705\u001b[0m         )\n",
      "\u001b[1;31mAttributeError\u001b[0m: 'SeriesGroupBy' object has no attribute 'str'"
     ]
    }
   ],
   "source": [
    "country_grp['LanguageWorkedWith'].str.contains('Python').sum()"
   ]
  },
  {
   "cell_type": "code",
   "execution_count": 53,
   "metadata": {},
   "outputs": [
    {
     "output_type": "execute_result",
     "data": {
      "text/plain": "Country\nAfghanistan                              11\nAlbania                                  13\nAlgeria                                  40\nAndorra                                   3\nAngola                                    1\n                                       ... \nVenezuela, Bolivarian Republic of...     29\nViet Nam                                102\nYemen                                     1\nZambia                                    4\nZimbabwe                                 13\nName: LanguageWorkedWith, Length: 183, dtype: int64"
     },
     "metadata": {},
     "execution_count": 53
    }
   ],
   "source": [
    "country_grp['LanguageWorkedWith'].apply(lambda x: x.str.contains('Python').sum())"
   ]
  },
  {
   "cell_type": "code",
   "execution_count": 54,
   "metadata": {},
   "outputs": [],
   "source": [
    "country_respondants = df['Country'].value_counts()"
   ]
  },
  {
   "cell_type": "code",
   "execution_count": 55,
   "metadata": {},
   "outputs": [
    {
     "output_type": "execute_result",
     "data": {
      "text/plain": "United States       12469\nIndia                8403\nUnited Kingdom       3896\nGermany              3890\nCanada               2191\n                    ...  \nMarshall Islands        1\nSaint Lucia             1\nChad                    1\nFiji                    1\nGrenada                 1\nName: Country, Length: 183, dtype: int64"
     },
     "metadata": {},
     "execution_count": 55
    }
   ],
   "source": [
    "country_respondants"
   ]
  },
  {
   "cell_type": "code",
   "execution_count": 56,
   "metadata": {},
   "outputs": [
    {
     "output_type": "execute_result",
     "data": {
      "text/plain": "Country\nAfghanistan                              11\nAlbania                                  13\nAlgeria                                  40\nAndorra                                   3\nAngola                                    1\n                                       ... \nVenezuela, Bolivarian Republic of...     29\nViet Nam                                102\nYemen                                     1\nZambia                                    4\nZimbabwe                                 13\nName: LanguageWorkedWith, Length: 183, dtype: int64"
     },
     "metadata": {},
     "execution_count": 56
    }
   ],
   "source": [
    "country_uses_python = country_grp['LanguageWorkedWith'].apply(lambda x: x.str.contains('Python').sum())\n",
    "country_uses_python"
   ]
  },
  {
   "cell_type": "code",
   "execution_count": 71,
   "metadata": {},
   "outputs": [
    {
     "output_type": "execute_result",
     "data": {
      "text/plain": "                  NumRespondents  NumKnowPython\nUnited States              12469           5964\nIndia                       8403           2670\nUnited Kingdom              3896           1621\nGermany                     3890           1712\nCanada                      2191           1011\n...                          ...            ...\nMarshall Islands               1              0\nSaint Lucia                    1              1\nChad                           1              0\nFiji                           1              0\nGrenada                        1              0\n\n[183 rows x 2 columns]",
      "text/html": "<div>\n<style scoped>\n    .dataframe tbody tr th:only-of-type {\n        vertical-align: middle;\n    }\n\n    .dataframe tbody tr th {\n        vertical-align: top;\n    }\n\n    .dataframe thead th {\n        text-align: right;\n    }\n</style>\n<table border=\"1\" class=\"dataframe\">\n  <thead>\n    <tr style=\"text-align: right;\">\n      <th></th>\n      <th>NumRespondents</th>\n      <th>NumKnowPython</th>\n    </tr>\n  </thead>\n  <tbody>\n    <tr>\n      <th>United States</th>\n      <td>12469</td>\n      <td>5964</td>\n    </tr>\n    <tr>\n      <th>India</th>\n      <td>8403</td>\n      <td>2670</td>\n    </tr>\n    <tr>\n      <th>United Kingdom</th>\n      <td>3896</td>\n      <td>1621</td>\n    </tr>\n    <tr>\n      <th>Germany</th>\n      <td>3890</td>\n      <td>1712</td>\n    </tr>\n    <tr>\n      <th>Canada</th>\n      <td>2191</td>\n      <td>1011</td>\n    </tr>\n    <tr>\n      <th>...</th>\n      <td>...</td>\n      <td>...</td>\n    </tr>\n    <tr>\n      <th>Marshall Islands</th>\n      <td>1</td>\n      <td>0</td>\n    </tr>\n    <tr>\n      <th>Saint Lucia</th>\n      <td>1</td>\n      <td>1</td>\n    </tr>\n    <tr>\n      <th>Chad</th>\n      <td>1</td>\n      <td>0</td>\n    </tr>\n    <tr>\n      <th>Fiji</th>\n      <td>1</td>\n      <td>0</td>\n    </tr>\n    <tr>\n      <th>Grenada</th>\n      <td>1</td>\n      <td>0</td>\n    </tr>\n  </tbody>\n</table>\n<p>183 rows × 2 columns</p>\n</div>"
     },
     "metadata": {},
     "execution_count": 71
    }
   ],
   "source": [
    "python_df = pd.concat([country_respondants,country_uses_python],axis='columns',sort=False)\n",
    "python_df\n",
    "python_df.rename(columns={'Country':'NumRespondents','LanguageWorkedWith':'NumKnowPython'},inplace=True)\n",
    "python_df"
   ]
  },
  {
   "cell_type": "code",
   "execution_count": 72,
   "metadata": {},
   "outputs": [
    {
     "output_type": "execute_result",
     "data": {
      "text/plain": "                  NumRespondents  NumKnowPython  PctKnowPyhton\nUnited States              12469           5964      47.830620\nIndia                       8403           2670      31.774366\nUnited Kingdom              3896           1621      41.606776\nGermany                     3890           1712      44.010283\nCanada                      2191           1011      46.143314\n...                          ...            ...            ...\nMarshall Islands               1              0       0.000000\nSaint Lucia                    1              1     100.000000\nChad                           1              0       0.000000\nFiji                           1              0       0.000000\nGrenada                        1              0       0.000000\n\n[183 rows x 3 columns]",
      "text/html": "<div>\n<style scoped>\n    .dataframe tbody tr th:only-of-type {\n        vertical-align: middle;\n    }\n\n    .dataframe tbody tr th {\n        vertical-align: top;\n    }\n\n    .dataframe thead th {\n        text-align: right;\n    }\n</style>\n<table border=\"1\" class=\"dataframe\">\n  <thead>\n    <tr style=\"text-align: right;\">\n      <th></th>\n      <th>NumRespondents</th>\n      <th>NumKnowPython</th>\n      <th>PctKnowPyhton</th>\n    </tr>\n  </thead>\n  <tbody>\n    <tr>\n      <th>United States</th>\n      <td>12469</td>\n      <td>5964</td>\n      <td>47.830620</td>\n    </tr>\n    <tr>\n      <th>India</th>\n      <td>8403</td>\n      <td>2670</td>\n      <td>31.774366</td>\n    </tr>\n    <tr>\n      <th>United Kingdom</th>\n      <td>3896</td>\n      <td>1621</td>\n      <td>41.606776</td>\n    </tr>\n    <tr>\n      <th>Germany</th>\n      <td>3890</td>\n      <td>1712</td>\n      <td>44.010283</td>\n    </tr>\n    <tr>\n      <th>Canada</th>\n      <td>2191</td>\n      <td>1011</td>\n      <td>46.143314</td>\n    </tr>\n    <tr>\n      <th>...</th>\n      <td>...</td>\n      <td>...</td>\n      <td>...</td>\n    </tr>\n    <tr>\n      <th>Marshall Islands</th>\n      <td>1</td>\n      <td>0</td>\n      <td>0.000000</td>\n    </tr>\n    <tr>\n      <th>Saint Lucia</th>\n      <td>1</td>\n      <td>1</td>\n      <td>100.000000</td>\n    </tr>\n    <tr>\n      <th>Chad</th>\n      <td>1</td>\n      <td>0</td>\n      <td>0.000000</td>\n    </tr>\n    <tr>\n      <th>Fiji</th>\n      <td>1</td>\n      <td>0</td>\n      <td>0.000000</td>\n    </tr>\n    <tr>\n      <th>Grenada</th>\n      <td>1</td>\n      <td>0</td>\n      <td>0.000000</td>\n    </tr>\n  </tbody>\n</table>\n<p>183 rows × 3 columns</p>\n</div>"
     },
     "metadata": {},
     "execution_count": 72
    }
   ],
   "source": [
    "python_df['PctKnowPyhton'] = (python_df['NumKnowPython']/python_df['NumRespondents']) * 100\n",
    "python_df"
   ]
  },
  {
   "cell_type": "code",
   "execution_count": 75,
   "metadata": {},
   "outputs": [],
   "source": [
    "python_df.sort_values(by='PctKnowPyhton',ascending=False,inplace=True)"
   ]
  },
  {
   "cell_type": "code",
   "execution_count": 76,
   "metadata": {},
   "outputs": [
    {
     "output_type": "execute_result",
     "data": {
      "text/plain": "                                    NumRespondents  NumKnowPython  \\\nSaint Lucia                                      1              1   \nMicronesia, Federated States of...               1              1   \nGabon                                            1              1   \nMontenegro                                      13              9   \nBrunei Darussalam                                3              2   \n...                                            ...            ...   \nCape Verde                                       2              0   \nDjibouti                                         2              0   \nSan Marino                                       2              0   \nMonaco                                           2              0   \nGrenada                                          1              0   \n\n                                    PctKnowPyhton  \nSaint Lucia                            100.000000  \nMicronesia, Federated States of...     100.000000  \nGabon                                  100.000000  \nMontenegro                              69.230769  \nBrunei Darussalam                       66.666667  \n...                                           ...  \nCape Verde                               0.000000  \nDjibouti                                 0.000000  \nSan Marino                               0.000000  \nMonaco                                   0.000000  \nGrenada                                  0.000000  \n\n[183 rows x 3 columns]",
      "text/html": "<div>\n<style scoped>\n    .dataframe tbody tr th:only-of-type {\n        vertical-align: middle;\n    }\n\n    .dataframe tbody tr th {\n        vertical-align: top;\n    }\n\n    .dataframe thead th {\n        text-align: right;\n    }\n</style>\n<table border=\"1\" class=\"dataframe\">\n  <thead>\n    <tr style=\"text-align: right;\">\n      <th></th>\n      <th>NumRespondents</th>\n      <th>NumKnowPython</th>\n      <th>PctKnowPyhton</th>\n    </tr>\n  </thead>\n  <tbody>\n    <tr>\n      <th>Saint Lucia</th>\n      <td>1</td>\n      <td>1</td>\n      <td>100.000000</td>\n    </tr>\n    <tr>\n      <th>Micronesia, Federated States of...</th>\n      <td>1</td>\n      <td>1</td>\n      <td>100.000000</td>\n    </tr>\n    <tr>\n      <th>Gabon</th>\n      <td>1</td>\n      <td>1</td>\n      <td>100.000000</td>\n    </tr>\n    <tr>\n      <th>Montenegro</th>\n      <td>13</td>\n      <td>9</td>\n      <td>69.230769</td>\n    </tr>\n    <tr>\n      <th>Brunei Darussalam</th>\n      <td>3</td>\n      <td>2</td>\n      <td>66.666667</td>\n    </tr>\n    <tr>\n      <th>...</th>\n      <td>...</td>\n      <td>...</td>\n      <td>...</td>\n    </tr>\n    <tr>\n      <th>Cape Verde</th>\n      <td>2</td>\n      <td>0</td>\n      <td>0.000000</td>\n    </tr>\n    <tr>\n      <th>Djibouti</th>\n      <td>2</td>\n      <td>0</td>\n      <td>0.000000</td>\n    </tr>\n    <tr>\n      <th>San Marino</th>\n      <td>2</td>\n      <td>0</td>\n      <td>0.000000</td>\n    </tr>\n    <tr>\n      <th>Monaco</th>\n      <td>2</td>\n      <td>0</td>\n      <td>0.000000</td>\n    </tr>\n    <tr>\n      <th>Grenada</th>\n      <td>1</td>\n      <td>0</td>\n      <td>0.000000</td>\n    </tr>\n  </tbody>\n</table>\n<p>183 rows × 3 columns</p>\n</div>"
     },
     "metadata": {},
     "execution_count": 76
    }
   ],
   "source": [
    "python_df"
   ]
  },
  {
   "cell_type": "code",
   "execution_count": 77,
   "metadata": {},
   "outputs": [
    {
     "output_type": "execute_result",
     "data": {
      "text/plain": "NumRespondents    297.000000\nNumKnowPython     132.000000\nPctKnowPyhton      44.444444\nName: Japan, dtype: float64"
     },
     "metadata": {},
     "execution_count": 77
    }
   ],
   "source": [
    "python_df.loc['Japan']"
   ]
  },
  {
   "cell_type": "code",
   "execution_count": 83,
   "metadata": {},
   "outputs": [
    {
     "output_type": "error",
     "ename": "TypeError",
     "evalue": "'tuple' object is not callable",
     "traceback": [
      "\u001b[1;31m---------------------------------------------------------------------------\u001b[0m",
      "\u001b[1;31mTypeError\u001b[0m                                 Traceback (most recent call last)",
      "\u001b[1;32m<ipython-input-83-0e566b70f572>\u001b[0m in \u001b[0;36m<module>\u001b[1;34m\u001b[0m\n\u001b[1;32m----> 1\u001b[1;33m \u001b[0mdf\u001b[0m\u001b[1;33m.\u001b[0m\u001b[0mshape\u001b[0m\u001b[1;33m(\u001b[0m\u001b[1;33m)\u001b[0m\u001b[1;33m\u001b[0m\u001b[1;33m\u001b[0m\u001b[0m\n\u001b[0m",
      "\u001b[1;31mTypeError\u001b[0m: 'tuple' object is not callable"
     ]
    }
   ],
   "source": []
  },
  {
   "cell_type": "code",
   "execution_count": 4,
   "metadata": {},
   "outputs": [
    {
     "output_type": "execute_result",
     "data": {
      "text/plain": "   col1  col2  col3\nA     1     6    11\nB     2     7    12\nC     3     8    13\nD     4     9    14\nE     5    10    15",
      "text/html": "<div>\n<style scoped>\n    .dataframe tbody tr th:only-of-type {\n        vertical-align: middle;\n    }\n\n    .dataframe tbody tr th {\n        vertical-align: top;\n    }\n\n    .dataframe thead th {\n        text-align: right;\n    }\n</style>\n<table border=\"1\" class=\"dataframe\">\n  <thead>\n    <tr style=\"text-align: right;\">\n      <th></th>\n      <th>col1</th>\n      <th>col2</th>\n      <th>col3</th>\n    </tr>\n  </thead>\n  <tbody>\n    <tr>\n      <th>A</th>\n      <td>1</td>\n      <td>6</td>\n      <td>11</td>\n    </tr>\n    <tr>\n      <th>B</th>\n      <td>2</td>\n      <td>7</td>\n      <td>12</td>\n    </tr>\n    <tr>\n      <th>C</th>\n      <td>3</td>\n      <td>8</td>\n      <td>13</td>\n    </tr>\n    <tr>\n      <th>D</th>\n      <td>4</td>\n      <td>9</td>\n      <td>14</td>\n    </tr>\n    <tr>\n      <th>E</th>\n      <td>5</td>\n      <td>10</td>\n      <td>15</td>\n    </tr>\n  </tbody>\n</table>\n</div>"
     },
     "metadata": {},
     "execution_count": 4
    }
   ],
   "source": [
    "d = {'col1': [1, 2,3,4,5], 'col2': [6,7,8,9,10],'col3': [11,12,13,14,15]}\n",
    "df = pd.DataFrame(data=d,index=['A','B','C','D','E'])\n",
    "df"
   ]
  },
  {
   "cell_type": "code",
   "execution_count": 10,
   "metadata": {},
   "outputs": [
    {
     "output_type": "execute_result",
     "data": {
      "text/plain": "   col1  col2  col3\n0     1     6    11\n1     2     7    12\n2     3     8    13\n3     4     9    14\n4     5    10    15\n5     5     6     7",
      "text/html": "<div>\n<style scoped>\n    .dataframe tbody tr th:only-of-type {\n        vertical-align: middle;\n    }\n\n    .dataframe tbody tr th {\n        vertical-align: top;\n    }\n\n    .dataframe thead th {\n        text-align: right;\n    }\n</style>\n<table border=\"1\" class=\"dataframe\">\n  <thead>\n    <tr style=\"text-align: right;\">\n      <th></th>\n      <th>col1</th>\n      <th>col2</th>\n      <th>col3</th>\n    </tr>\n  </thead>\n  <tbody>\n    <tr>\n      <th>0</th>\n      <td>1</td>\n      <td>6</td>\n      <td>11</td>\n    </tr>\n    <tr>\n      <th>1</th>\n      <td>2</td>\n      <td>7</td>\n      <td>12</td>\n    </tr>\n    <tr>\n      <th>2</th>\n      <td>3</td>\n      <td>8</td>\n      <td>13</td>\n    </tr>\n    <tr>\n      <th>3</th>\n      <td>4</td>\n      <td>9</td>\n      <td>14</td>\n    </tr>\n    <tr>\n      <th>4</th>\n      <td>5</td>\n      <td>10</td>\n      <td>15</td>\n    </tr>\n    <tr>\n      <th>5</th>\n      <td>5</td>\n      <td>6</td>\n      <td>7</td>\n    </tr>\n  </tbody>\n</table>\n</div>"
     },
     "metadata": {},
     "execution_count": 10
    }
   ],
   "source": [
    "df2 = {'col1':5,'col2':6,'col3':7}\n",
    "df.append(df2,ignore_index=True)"
   ]
  },
  {
   "cell_type": "code",
   "execution_count": 38,
   "metadata": {},
   "outputs": [
    {
     "output_type": "execute_result",
     "data": {
      "text/plain": "    col1   col2   col3\nA      1      6     11\nB      2      7     12\nC  hello  hello  hello\nD      4      9     14\nE      5     10     15",
      "text/html": "<div>\n<style scoped>\n    .dataframe tbody tr th:only-of-type {\n        vertical-align: middle;\n    }\n\n    .dataframe tbody tr th {\n        vertical-align: top;\n    }\n\n    .dataframe thead th {\n        text-align: right;\n    }\n</style>\n<table border=\"1\" class=\"dataframe\">\n  <thead>\n    <tr style=\"text-align: right;\">\n      <th></th>\n      <th>col1</th>\n      <th>col2</th>\n      <th>col3</th>\n    </tr>\n  </thead>\n  <tbody>\n    <tr>\n      <th>A</th>\n      <td>1</td>\n      <td>6</td>\n      <td>11</td>\n    </tr>\n    <tr>\n      <th>B</th>\n      <td>2</td>\n      <td>7</td>\n      <td>12</td>\n    </tr>\n    <tr>\n      <th>C</th>\n      <td>hello</td>\n      <td>hello</td>\n      <td>hello</td>\n    </tr>\n    <tr>\n      <th>D</th>\n      <td>4</td>\n      <td>9</td>\n      <td>14</td>\n    </tr>\n    <tr>\n      <th>E</th>\n      <td>5</td>\n      <td>10</td>\n      <td>15</td>\n    </tr>\n  </tbody>\n</table>\n</div>"
     },
     "metadata": {},
     "execution_count": 38
    }
   ],
   "source": [
    "df.where(df['col1'] != 3, 'hello')\n"
   ]
  },
  {
   "cell_type": "code",
   "execution_count": 72,
   "metadata": {},
   "outputs": [],
   "source": [
    "x = pd.ExcelFile('Energy+Indicators.xls')\n",
    "energy = x.parse(skiprows=17,skipfooter=38)\n",
    "energy = energy.drop(['Unnamed: 0','Unnamed: 1'],axis=1)\n",
    "energy.rename(columns={'Unnamed: 2':'Country','Petajoules':'Energy Supply','Gigajoules':'Energy Supply per Capita','%':'% Renewable'},inplace=True)\n",
    "energy[['Energy Supply', 'Energy Supply per Capita', '% Renewable']] =  energy[['Energy Supply', 'Energy Supply per Capita', '% Renewable']].replace('...',np.NaN)\n",
    "\n",
    "energy['Country'].replace(regex=r'\\(.*\\)',value='',inplace=True)    \n",
    "energy['Country'].replace(regex=r'\\d',value='',inplace=True)\n",
    "\n",
    "energy['Country'] = energy['Country'].replace({'Iran ':'Iran','United States of America':'United States','United Kingdom of Great Britain and Northern Ireland':'United Kingdom','China, Hong Kong Special Administrative Region':'Hong Kong'})\n",
    "energy['Energy Supply'] = (energy['Energy Supply'])*1000000\n",
    "# energy = energy.groupby('Country')"
   ]
  },
  {
   "cell_type": "code",
   "execution_count": 74,
   "metadata": {},
   "outputs": [
    {
     "output_type": "execute_result",
     "data": {
      "text/plain": "                           Energy Supply  Energy Supply per Capita  \\\nCountry                                                              \nAfghanistan                 3.210000e+08                      10.0   \nAlbania                     1.020000e+08                      35.0   \nAlgeria                     1.959000e+09                      51.0   \nAmerican Samoa                       NaN                       NaN   \nAndorra                     9.000000e+06                     121.0   \n...                                  ...                       ...   \nViet Nam                    2.554000e+09                      28.0   \nWallis and Futuna Islands   0.000000e+00                      26.0   \nYemen                       3.440000e+08                      13.0   \nZambia                      4.000000e+08                      26.0   \nZimbabwe                    4.800000e+08                      32.0   \n\n                           % Renewable  \nCountry                                 \nAfghanistan                  78.669280  \nAlbania                     100.000000  \nAlgeria                       0.551010  \nAmerican Samoa                0.641026  \nAndorra                      88.695650  \n...                                ...  \nViet Nam                     45.321520  \nWallis and Futuna Islands     0.000000  \nYemen                         0.000000  \nZambia                       99.714670  \nZimbabwe                     52.536120  \n\n[227 rows x 3 columns]",
      "text/html": "<div>\n<style scoped>\n    .dataframe tbody tr th:only-of-type {\n        vertical-align: middle;\n    }\n\n    .dataframe tbody tr th {\n        vertical-align: top;\n    }\n\n    .dataframe thead th {\n        text-align: right;\n    }\n</style>\n<table border=\"1\" class=\"dataframe\">\n  <thead>\n    <tr style=\"text-align: right;\">\n      <th></th>\n      <th>Energy Supply</th>\n      <th>Energy Supply per Capita</th>\n      <th>% Renewable</th>\n    </tr>\n    <tr>\n      <th>Country</th>\n      <th></th>\n      <th></th>\n      <th></th>\n    </tr>\n  </thead>\n  <tbody>\n    <tr>\n      <th>Afghanistan</th>\n      <td>3.210000e+08</td>\n      <td>10.0</td>\n      <td>78.669280</td>\n    </tr>\n    <tr>\n      <th>Albania</th>\n      <td>1.020000e+08</td>\n      <td>35.0</td>\n      <td>100.000000</td>\n    </tr>\n    <tr>\n      <th>Algeria</th>\n      <td>1.959000e+09</td>\n      <td>51.0</td>\n      <td>0.551010</td>\n    </tr>\n    <tr>\n      <th>American Samoa</th>\n      <td>NaN</td>\n      <td>NaN</td>\n      <td>0.641026</td>\n    </tr>\n    <tr>\n      <th>Andorra</th>\n      <td>9.000000e+06</td>\n      <td>121.0</td>\n      <td>88.695650</td>\n    </tr>\n    <tr>\n      <th>...</th>\n      <td>...</td>\n      <td>...</td>\n      <td>...</td>\n    </tr>\n    <tr>\n      <th>Viet Nam</th>\n      <td>2.554000e+09</td>\n      <td>28.0</td>\n      <td>45.321520</td>\n    </tr>\n    <tr>\n      <th>Wallis and Futuna Islands</th>\n      <td>0.000000e+00</td>\n      <td>26.0</td>\n      <td>0.000000</td>\n    </tr>\n    <tr>\n      <th>Yemen</th>\n      <td>3.440000e+08</td>\n      <td>13.0</td>\n      <td>0.000000</td>\n    </tr>\n    <tr>\n      <th>Zambia</th>\n      <td>4.000000e+08</td>\n      <td>26.0</td>\n      <td>99.714670</td>\n    </tr>\n    <tr>\n      <th>Zimbabwe</th>\n      <td>4.800000e+08</td>\n      <td>32.0</td>\n      <td>52.536120</td>\n    </tr>\n  </tbody>\n</table>\n<p>227 rows × 3 columns</p>\n</div>"
     },
     "metadata": {},
     "execution_count": 74
    }
   ],
   "source": [
    "# energy.first()"
   ]
  },
  {
   "cell_type": "code",
   "execution_count": 1,
   "metadata": {},
   "outputs": [],
   "source": [
    "import pandas as pd\n",
    "import numpy as np\n",
    "from scipy.stats import ttest_ind"
   ]
  },
  {
   "cell_type": "code",
   "execution_count": 2,
   "metadata": {},
   "outputs": [],
   "source": [
    "# Use this dictionary to map state names to two letter acronyms\n",
    "states = {'OH': 'Ohio', 'KY': 'Kentucky', 'AS': 'American Samoa', 'NV': 'Nevada', 'WY': 'Wyoming', 'NA': 'National', 'AL': 'Alabama', 'MD': 'Maryland', 'AK': 'Alaska', 'UT': 'Utah', 'OR': 'Oregon', 'MT': 'Montana', 'IL': 'Illinois', 'TN': 'Tennessee', 'DC': 'District of Columbia', 'VT': 'Vermont', 'ID': 'Idaho', 'AR': 'Arkansas', 'ME': 'Maine', 'WA': 'Washington', 'HI': 'Hawaii', 'WI': 'Wisconsin', 'MI': 'Michigan', 'IN': 'Indiana', 'NJ': 'New Jersey', 'AZ': 'Arizona', 'GU': 'Guam', 'MS': 'Mississippi', 'PR': 'Puerto Rico', 'NC': 'North Carolina', 'TX': 'Texas', 'SD': 'South Dakota', 'MP': 'Northern Mariana Islands', 'IA': 'Iowa', 'MO': 'Missouri', 'CT': 'Connecticut', 'WV': 'West Virginia', 'SC': 'South Carolina', 'LA': 'Louisiana', 'KS': 'Kansas', 'NY': 'New York', 'NE': 'Nebraska', 'OK': 'Oklahoma', 'FL': 'Florida', 'CA': 'California', 'CO': 'Colorado', 'PA': 'Pennsylvania', 'DE': 'Delaware', 'NM': 'New Mexico', 'RI': 'Rhode Island', 'MN': 'Minnesota', 'VI': 'Virgin Islands', 'NH': 'New Hampshire', 'MA': 'Massachusetts', 'GA': 'Georgia', 'ND': 'North Dakota', 'VA': 'Virginia'}"
   ]
  },
  {
   "cell_type": "code",
   "execution_count": 27,
   "metadata": {},
   "outputs": [
    {
     "output_type": "execute_result",
     "data": {
      "text/plain": "                                            RegionName\n0                                        Alabama[edit]\n1                        Auburn (Auburn University)[1]\n2               Florence (University of North Alabama)\n3      Jacksonville (Jacksonville State University)[2]\n4           Livingston (University of West Alabama)[2]\n..                                                 ...\n562  Stevens Point (University of Wisconsin–Stevens...\n563                      Waukesha (Carroll University)\n564  Whitewater (University of Wisconsin–Whitewater...\n565                                      Wyoming[edit]\n566                 Laramie (University of Wyoming)[5]\n\n[567 rows x 1 columns]",
      "text/html": "<div>\n<style scoped>\n    .dataframe tbody tr th:only-of-type {\n        vertical-align: middle;\n    }\n\n    .dataframe tbody tr th {\n        vertical-align: top;\n    }\n\n    .dataframe thead th {\n        text-align: right;\n    }\n</style>\n<table border=\"1\" class=\"dataframe\">\n  <thead>\n    <tr style=\"text-align: right;\">\n      <th></th>\n      <th>RegionName</th>\n    </tr>\n  </thead>\n  <tbody>\n    <tr>\n      <th>0</th>\n      <td>Alabama[edit]</td>\n    </tr>\n    <tr>\n      <th>1</th>\n      <td>Auburn (Auburn University)[1]</td>\n    </tr>\n    <tr>\n      <th>2</th>\n      <td>Florence (University of North Alabama)</td>\n    </tr>\n    <tr>\n      <th>3</th>\n      <td>Jacksonville (Jacksonville State University)[2]</td>\n    </tr>\n    <tr>\n      <th>4</th>\n      <td>Livingston (University of West Alabama)[2]</td>\n    </tr>\n    <tr>\n      <th>...</th>\n      <td>...</td>\n    </tr>\n    <tr>\n      <th>562</th>\n      <td>Stevens Point (University of Wisconsin–Stevens...</td>\n    </tr>\n    <tr>\n      <th>563</th>\n      <td>Waukesha (Carroll University)</td>\n    </tr>\n    <tr>\n      <th>564</th>\n      <td>Whitewater (University of Wisconsin–Whitewater...</td>\n    </tr>\n    <tr>\n      <th>565</th>\n      <td>Wyoming[edit]</td>\n    </tr>\n    <tr>\n      <th>566</th>\n      <td>Laramie (University of Wyoming)[5]</td>\n    </tr>\n  </tbody>\n</table>\n<p>567 rows × 1 columns</p>\n</div>"
     },
     "metadata": {},
     "execution_count": 27
    }
   ],
   "source": [
    "# Have to specify entries are separated by new line. Setting header = None stops the first row entry from becoming the column name.\n",
    "uni_towns = pd.read_csv('university_towns.txt',sep='\\n', header=None, names=['RegionName'])\n",
    "    \n",
    "# Enter state name in column 'State' in the same row as 'RegionName'. Set everything else to NaN.\n",
    "# uni_towns['State'] = np.where(uni_towns['RegionName'].str.contains('edit'),uni_towns['RegionName'],np.NaN)\n",
    "    \n",
    "# uni_towns['State'].fillna(method='ffill',inplace=True) # Forward fill state names to replace NaN values.\n",
    "\n",
    "# uni_towns = uni_towns[['State','RegionName']] # Rearrange columns to required order\n",
    "\n",
    "# Use '(' and '[' split for both columns even though it doesn't ask you to! That's the main bug.\n",
    "# expand = True splits the string into different columns.\n",
    "# for col in uni_towns:\n",
    "    # uni_towns[col] = uni_towns[col].str.split('(',expand=True)[0].str.split('[', expand=True)[0].str.rstrip()\n",
    "    \n",
    "# Remove rows where State and RegionName have the same entry:\n",
    "# uni_towns = uni_towns[uni_towns['State'] != uni_towns['RegionName']]\n",
    "\n",
    "uni_towns"
   ]
  },
  {
   "cell_type": "code",
   "execution_count": 50,
   "metadata": {},
   "outputs": [
    {
     "output_type": "execute_result",
     "data": {
      "text/plain": "         State     RegionName\n1      Alabama         Auburn\n2      Alabama       Florence\n3      Alabama   Jacksonville\n4      Alabama     Livingston\n5      Alabama     Montevallo\n..         ...            ...\n561  Wisconsin    River Falls\n562  Wisconsin  Stevens Point\n563  Wisconsin       Waukesha\n564  Wisconsin     Whitewater\n566    Wyoming        Laramie\n\n[517 rows x 2 columns]",
      "text/html": "<div>\n<style scoped>\n    .dataframe tbody tr th:only-of-type {\n        vertical-align: middle;\n    }\n\n    .dataframe tbody tr th {\n        vertical-align: top;\n    }\n\n    .dataframe thead th {\n        text-align: right;\n    }\n</style>\n<table border=\"1\" class=\"dataframe\">\n  <thead>\n    <tr style=\"text-align: right;\">\n      <th></th>\n      <th>State</th>\n      <th>RegionName</th>\n    </tr>\n  </thead>\n  <tbody>\n    <tr>\n      <th>1</th>\n      <td>Alabama</td>\n      <td>Auburn</td>\n    </tr>\n    <tr>\n      <th>2</th>\n      <td>Alabama</td>\n      <td>Florence</td>\n    </tr>\n    <tr>\n      <th>3</th>\n      <td>Alabama</td>\n      <td>Jacksonville</td>\n    </tr>\n    <tr>\n      <th>4</th>\n      <td>Alabama</td>\n      <td>Livingston</td>\n    </tr>\n    <tr>\n      <th>5</th>\n      <td>Alabama</td>\n      <td>Montevallo</td>\n    </tr>\n    <tr>\n      <th>...</th>\n      <td>...</td>\n      <td>...</td>\n    </tr>\n    <tr>\n      <th>561</th>\n      <td>Wisconsin</td>\n      <td>River Falls</td>\n    </tr>\n    <tr>\n      <th>562</th>\n      <td>Wisconsin</td>\n      <td>Stevens Point</td>\n    </tr>\n    <tr>\n      <th>563</th>\n      <td>Wisconsin</td>\n      <td>Waukesha</td>\n    </tr>\n    <tr>\n      <th>564</th>\n      <td>Wisconsin</td>\n      <td>Whitewater</td>\n    </tr>\n    <tr>\n      <th>566</th>\n      <td>Wyoming</td>\n      <td>Laramie</td>\n    </tr>\n  </tbody>\n</table>\n<p>517 rows × 2 columns</p>\n</div>"
     },
     "metadata": {},
     "execution_count": 50
    }
   ],
   "source": [
    "state_town_df = pd.read_csv('university_towns.txt',header=None,sep='\\n',names=['RegionName'])\n",
    "state_town_df['State'] = np.where(state_town_df['RegionName'].str.contains('edit'),uni_towns['RegionName'],np.NaN)\n",
    "state_town_df['State'].fillna(method='ffill',inplace=True)\n",
    "state_town_df = state_town_df[['State','RegionName']] \n",
    "for col in state_town_df:\n",
    "    state_town_df[col] = state_town_df[col].str.split('(',expand=True)[0].str.split('[', expand=True)[0].str.rstrip()\n",
    "state_town_df = state_town_df[state_town_df['State'] != state_town_df['RegionName']]    \n",
    "\n",
    "state_town_df"
   ]
  },
  {
   "cell_type": "code",
   "execution_count": 55,
   "metadata": {},
   "outputs": [
    {
     "output_type": "execute_result",
     "data": {
      "text/plain": "0           sentence\n1    docs.python.org\n2                NaN\nName: 2, dtype: object"
     },
     "metadata": {},
     "execution_count": 55
    }
   ],
   "source": [
    "s = pd.Series(\n",
    "    [\n",
    "        \"this is a / regular / sentence\",\n",
    "        \"https://docs.python.org/3/tutorial/index.html\",\n",
    "        np.nan\n",
    "    ]\n",
    ")\n",
    "s.str.split('/',expand=True)[2].str.rstrip()"
   ]
  },
  {
   "cell_type": "code",
   "execution_count": 69,
   "metadata": {
    "tags": []
   },
   "outputs": [],
   "source": [
    "str = 'hello'\n",
    "if str[:-1] == 'hello':\n",
    "    print('sahi hai')"
   ]
  },
  {
   "cell_type": "code",
   "execution_count": 90,
   "metadata": {},
   "outputs": [
    {
     "output_type": "execute_result",
     "data": {
      "text/plain": "   Quarter      GDP GDP Diff\n0   2000q1  12359.1      NaN\n1   2000q2  12592.5    233.4\n2   2000q3  12607.7     15.2\n3   2000q4  12679.3     71.6\n4   2001q1  12643.3      -36\n..     ...      ...      ...\n61  2015q2  16374.2    105.2\n62  2015q3  16454.9     80.7\n63  2015q4  16490.7     35.8\n64  2016q1    16525     34.3\n65  2016q2  16583.1     58.1\n\n[66 rows x 3 columns]",
      "text/html": "<div>\n<style scoped>\n    .dataframe tbody tr th:only-of-type {\n        vertical-align: middle;\n    }\n\n    .dataframe tbody tr th {\n        vertical-align: top;\n    }\n\n    .dataframe thead th {\n        text-align: right;\n    }\n</style>\n<table border=\"1\" class=\"dataframe\">\n  <thead>\n    <tr style=\"text-align: right;\">\n      <th></th>\n      <th>Quarter</th>\n      <th>GDP</th>\n      <th>GDP Diff</th>\n    </tr>\n  </thead>\n  <tbody>\n    <tr>\n      <th>0</th>\n      <td>2000q1</td>\n      <td>12359.1</td>\n      <td>NaN</td>\n    </tr>\n    <tr>\n      <th>1</th>\n      <td>2000q2</td>\n      <td>12592.5</td>\n      <td>233.4</td>\n    </tr>\n    <tr>\n      <th>2</th>\n      <td>2000q3</td>\n      <td>12607.7</td>\n      <td>15.2</td>\n    </tr>\n    <tr>\n      <th>3</th>\n      <td>2000q4</td>\n      <td>12679.3</td>\n      <td>71.6</td>\n    </tr>\n    <tr>\n      <th>4</th>\n      <td>2001q1</td>\n      <td>12643.3</td>\n      <td>-36</td>\n    </tr>\n    <tr>\n      <th>...</th>\n      <td>...</td>\n      <td>...</td>\n      <td>...</td>\n    </tr>\n    <tr>\n      <th>61</th>\n      <td>2015q2</td>\n      <td>16374.2</td>\n      <td>105.2</td>\n    </tr>\n    <tr>\n      <th>62</th>\n      <td>2015q3</td>\n      <td>16454.9</td>\n      <td>80.7</td>\n    </tr>\n    <tr>\n      <th>63</th>\n      <td>2015q4</td>\n      <td>16490.7</td>\n      <td>35.8</td>\n    </tr>\n    <tr>\n      <th>64</th>\n      <td>2016q1</td>\n      <td>16525</td>\n      <td>34.3</td>\n    </tr>\n    <tr>\n      <th>65</th>\n      <td>2016q2</td>\n      <td>16583.1</td>\n      <td>58.1</td>\n    </tr>\n  </tbody>\n</table>\n<p>66 rows × 3 columns</p>\n</div>"
     },
     "metadata": {},
     "execution_count": 90
    }
   ],
   "source": [
    "\n",
    "# Make it easy to call for multiple questions:\n",
    "\n",
    "def read_gdp():\n",
    "    \n",
    "    GDP = pd.read_excel('gdplev.xls', skiprows=4) # Drop irrelevant rows.\n",
    "    \n",
    "    GDP = GDP.drop(GDP.columns[[0,1,2,3,5,7]],axis=1) # Remove unnecessary data.\n",
    "    \n",
    "    # Setting the first row to header:\n",
    "    new_header = GDP.iloc[0]\n",
    "    GDP = GDP[3:]\n",
    "    GDP.columns = new_header\n",
    "    \n",
    "    # More cleaning:\n",
    "    GDP = GDP.reset_index(drop=True)\n",
    "    GDP.columns = ['Quarter','GDP']\n",
    "    \n",
    "    # Remove data before 2000 Q1:\n",
    "    GDP = GDP.drop(GDP.index[0:212])\n",
    "    GDP.index[GDP['Quarter'] == '2000q1'] # Returns index = 212 for 2000q1.\n",
    "    \n",
    "    GDP = GDP.reset_index(drop=True)\n",
    "    \n",
    "    GDP['GDP Diff'] = GDP['GDP'].diff() # Finds the difference between successive row entries in the column 'GDP'.\n",
    "    \n",
    "    return GDP\n",
    "read_gdp()"
   ]
  },
  {
   "cell_type": "code",
   "execution_count": 212,
   "metadata": {
    "tags": []
   },
   "outputs": [
    {
     "output_type": "execute_result",
     "data": {
      "text/plain": "   Quarter      GDP\n0   2000q1  10031.0\n1   2000q2  10278.3\n2   2000q3  10357.4\n3   2000q4  10472.3\n4   2001q1  10508.1\n..     ...      ...\n61  2015q2  17998.3\n62  2015q3  18141.9\n63  2015q4  18222.8\n64  2016q1  18281.6\n65  2016q2  18450.1\n\n[66 rows x 2 columns]",
      "text/html": "<div>\n<style scoped>\n    .dataframe tbody tr th:only-of-type {\n        vertical-align: middle;\n    }\n\n    .dataframe tbody tr th {\n        vertical-align: top;\n    }\n\n    .dataframe thead th {\n        text-align: right;\n    }\n</style>\n<table border=\"1\" class=\"dataframe\">\n  <thead>\n    <tr style=\"text-align: right;\">\n      <th></th>\n      <th>Quarter</th>\n      <th>GDP</th>\n    </tr>\n  </thead>\n  <tbody>\n    <tr>\n      <th>0</th>\n      <td>2000q1</td>\n      <td>10031.0</td>\n    </tr>\n    <tr>\n      <th>1</th>\n      <td>2000q2</td>\n      <td>10278.3</td>\n    </tr>\n    <tr>\n      <th>2</th>\n      <td>2000q3</td>\n      <td>10357.4</td>\n    </tr>\n    <tr>\n      <th>3</th>\n      <td>2000q4</td>\n      <td>10472.3</td>\n    </tr>\n    <tr>\n      <th>4</th>\n      <td>2001q1</td>\n      <td>10508.1</td>\n    </tr>\n    <tr>\n      <th>...</th>\n      <td>...</td>\n      <td>...</td>\n    </tr>\n    <tr>\n      <th>61</th>\n      <td>2015q2</td>\n      <td>17998.3</td>\n    </tr>\n    <tr>\n      <th>62</th>\n      <td>2015q3</td>\n      <td>18141.9</td>\n    </tr>\n    <tr>\n      <th>63</th>\n      <td>2015q4</td>\n      <td>18222.8</td>\n    </tr>\n    <tr>\n      <th>64</th>\n      <td>2016q1</td>\n      <td>18281.6</td>\n    </tr>\n    <tr>\n      <th>65</th>\n      <td>2016q2</td>\n      <td>18450.1</td>\n    </tr>\n  </tbody>\n</table>\n<p>66 rows × 2 columns</p>\n</div>"
     },
     "metadata": {},
     "execution_count": 212
    }
   ],
   "source": [
    "gdp = pd.read_excel('gdplev.xls',skiprows=5)\n",
    "gdp.drop(gdp.columns[[0,1,2,3,6,7]],axis=1,inplace=True)\n",
    "gdp.drop(gdp.index[[0,1]],axis=0,inplace=True)\n",
    "gdp.reset_index(drop=True,inplace=True)\n",
    "gdp.rename(columns={'Unnamed: 4':'Quarter','GDP in billions of current dollars.1':'GDP'}, inplace=True)\n",
    "gdp.drop(gdp.index[:212],inplace=True)\n",
    "gdp.reset_index(drop=True,inplace=True)\n",
    "# gdp['GDP Diff'] = gdp['GDP'].diff()\n",
    "# for i in range(2, len(gdp)):\n",
    "#     if (gdp.iloc[i-2][1] < gdp.iloc[i-1][1]) and (gdp.iloc[i-1][1] < gdp.iloc[i][1]):\n",
    "#         print(gdp.iloc[i][0])\n",
    "gdp"
   ]
  },
  {
   "cell_type": "code",
   "execution_count": 104,
   "metadata": {},
   "outputs": [
    {
     "output_type": "execute_result",
     "data": {
      "text/plain": "Index(['Unnamed: 0'], dtype='object')"
     },
     "metadata": {},
     "execution_count": 104
    }
   ],
   "source": [
    "gdp.columns[[0]]"
   ]
  },
  {
   "cell_type": "code",
   "execution_count": 145,
   "metadata": {},
   "outputs": [
    {
     "output_type": "execute_result",
     "data": {
      "text/plain": "'2008q3'"
     },
     "metadata": {},
     "execution_count": 145
    }
   ],
   "source": [
    "def get_recession_start():\n",
    "    '''Returns the year and quarter of the recession start time as a \n",
    "    string value in a format such as 2005q3'''\n",
    "    \n",
    "    GDP = gdp\n",
    "    \n",
    "    # Finds all the quarters where there is a decline:\n",
    "    GDP_dec = GDP.where(GDP['GDP Diff']<0)\n",
    "    GDP_dec = GDP_dec.dropna()\n",
    "    \n",
    "    # # Find the first quarter with a successive decline:\n",
    "    GDP_dec['Index'] = GDP_dec.index # Get index values into a column to use diff().\n",
    "    GDP_dec['Index Diff'] = GDP_dec['Index'].diff() # Find the difference for index values.\n",
    "    min_index = GDP_dec['Index Diff'].idxmin() # Find the FIRST quarter where index difference is 1. idxmin() gives the first occurence of the minimum value.\n",
    "    \n",
    "    return GDP['Quarter'].iloc[min_index-1] # You want the first quarter of the 2 successive quarters with a decline.\n",
    "    return GDP_dec\n",
    "get_recession_start()"
   ]
  },
  {
   "cell_type": "code",
   "execution_count": 210,
   "metadata": {},
   "outputs": [
    {
     "output_type": "execute_result",
     "data": {
      "text/plain": "   Quarter      GDP\n0   2000q1  10031.0\n1   2000q2  10278.3\n2   2000q3  10357.4\n3   2000q4  10472.3\n4   2001q1  10508.1\n..     ...      ...\n61  2015q2  17998.3\n62  2015q3  18141.9\n63  2015q4  18222.8\n64  2016q1  18281.6\n65  2016q2  18450.1\n\n[66 rows x 2 columns]",
      "text/html": "<div>\n<style scoped>\n    .dataframe tbody tr th:only-of-type {\n        vertical-align: middle;\n    }\n\n    .dataframe tbody tr th {\n        vertical-align: top;\n    }\n\n    .dataframe thead th {\n        text-align: right;\n    }\n</style>\n<table border=\"1\" class=\"dataframe\">\n  <thead>\n    <tr style=\"text-align: right;\">\n      <th></th>\n      <th>Quarter</th>\n      <th>GDP</th>\n    </tr>\n  </thead>\n  <tbody>\n    <tr>\n      <th>0</th>\n      <td>2000q1</td>\n      <td>10031.0</td>\n    </tr>\n    <tr>\n      <th>1</th>\n      <td>2000q2</td>\n      <td>10278.3</td>\n    </tr>\n    <tr>\n      <th>2</th>\n      <td>2000q3</td>\n      <td>10357.4</td>\n    </tr>\n    <tr>\n      <th>3</th>\n      <td>2000q4</td>\n      <td>10472.3</td>\n    </tr>\n    <tr>\n      <th>4</th>\n      <td>2001q1</td>\n      <td>10508.1</td>\n    </tr>\n    <tr>\n      <th>...</th>\n      <td>...</td>\n      <td>...</td>\n    </tr>\n    <tr>\n      <th>61</th>\n      <td>2015q2</td>\n      <td>17998.3</td>\n    </tr>\n    <tr>\n      <th>62</th>\n      <td>2015q3</td>\n      <td>18141.9</td>\n    </tr>\n    <tr>\n      <th>63</th>\n      <td>2015q4</td>\n      <td>18222.8</td>\n    </tr>\n    <tr>\n      <th>64</th>\n      <td>2016q1</td>\n      <td>18281.6</td>\n    </tr>\n    <tr>\n      <th>65</th>\n      <td>2016q2</td>\n      <td>18450.1</td>\n    </tr>\n  </tbody>\n</table>\n<p>66 rows × 2 columns</p>\n</div>"
     },
     "metadata": {},
     "execution_count": 210
    }
   ],
   "source": [
    "\n",
    "def get_recession_start():\n",
    "    '''Returns the year and quarter of the recession start time as a \n",
    "    string value in a format such as 2005q3'''\n",
    "    gdplev = pd.ExcelFile('gdplev.xls')\n",
    "    gdplev = gdplev.parse(\"Sheet1\", skiprows=219)\n",
    "    gdplev = gdplev[['1999q4', 9926.1]]\n",
    "    gdplev.columns = ['Quarter','GDP']\n",
    "    # for i in range(2, len(gdplev)):\n",
    "    #     if (gdplev.iloc[i-2,1] > gdplev.iloc[i-1,1]) and (gdplev.iloc[i-1,1] > gdplev.iloc[i,1]):\n",
    "    #         return gdplev.iloc[i-2][0]\n",
    "    # # a = []\n",
    "    # for i in range(2,len(gdplev)):\n",
    "    #     a.append(i)\n",
    "    return gdplev\n",
    "get_recession_start()"
   ]
  },
  {
   "cell_type": "code",
   "execution_count": 178,
   "metadata": {},
   "outputs": [
    {
     "output_type": "execute_result",
     "data": {
      "text/plain": "'2009q4'"
     },
     "metadata": {},
     "execution_count": 178
    }
   ],
   "source": [
    "def get_recession_end():\n",
    "    '''Returns the year and quarter of the recession end time as a \n",
    "    string value in a format such as 2005q3'''\n",
    "    gdplev = pd.ExcelFile('gdplev.xls')\n",
    "    gdplev = gdplev.parse(\"Sheet1\", skiprows=219)\n",
    "    gdplev = gdplev[['1999q4', 9926.1]]\n",
    "    gdplev.columns = ['Quarter','GDP']\n",
    "    start = get_recession_start()\n",
    "    start_index = gdplev[gdplev['Quarter'] == start].index.tolist()[0]\n",
    "    gdplev=gdplev.iloc[start_index:]\n",
    "    for i in range(2, len(gdplev)):\n",
    "        if (gdplev.iloc[i-2][1] < gdplev.iloc[i-1][1]) and (gdplev.iloc[i-1][1] < gdplev.iloc[i][1]):\n",
    "            return gdplev.iloc[i][0]\n",
    "\n",
    "get_recession_end()"
   ]
  },
  {
   "cell_type": "code",
   "execution_count": 183,
   "metadata": {},
   "outputs": [
    {
     "output_type": "execute_result",
     "data": {
      "text/plain": "'2009q2'"
     },
     "metadata": {},
     "execution_count": 183
    }
   ],
   "source": [
    "def get_recession_bottom():\n",
    "    '''Returns the year and quarter of the recession bottom time as a \n",
    "    string value in a format such as 2005q3'''\n",
    "    gdplev = pd.ExcelFile('gdplev.xls')\n",
    "    gdplev = gdplev.parse(\"Sheet1\", skiprows=219)\n",
    "    gdplev = gdplev[['1999q4', 9926.1]]\n",
    "    gdplev.columns = ['Quarter','GDP']\n",
    "    start = get_recession_start()\n",
    "    start_index = gdplev[gdplev['Quarter'] == start].index.tolist()[0]\n",
    "    end = get_recession_end()\n",
    "    end_index = gdplev[gdplev['Quarter'] == end].index.tolist()[0]\n",
    "    gdplev=gdplev.iloc[start_index:end_index+1]\n",
    "    bottom = gdplev['GDP'].min()\n",
    "    bottom_index = gdplev[gdplev['GDP'] == bottom].index.tolist()[0]-start_index\n",
    "    return gdplev.iloc[bottom_index]['Quarter']\n",
    "get_recession_bottom()"
   ]
  },
  {
   "cell_type": "code",
   "execution_count": 214,
   "metadata": {},
   "outputs": [
    {
     "output_type": "execute_result",
     "data": {
      "text/plain": "10031.0"
     },
     "metadata": {},
     "execution_count": 214
    }
   ],
   "source": [
    "gdp['GDP'].min()"
   ]
  },
  {
   "cell_type": "code",
   "execution_count": 216,
   "metadata": {},
   "outputs": [
    {
     "output_type": "execute_result",
     "data": {
      "text/plain": "'2008q3'"
     },
     "metadata": {},
     "execution_count": 216
    }
   ],
   "source": [
    "def get_recession_start():\n",
    "    '''Returns the year and quarter of the recession start time as a \n",
    "    string value in a format such as 2005q3'''\n",
    "    gdp = pd.read_excel('gdplev.xls',skiprows=5)\n",
    "    gdp.drop(gdp.columns[[0,1,2,3,6,7]],axis=1,inplace=True)\n",
    "    gdp.drop(gdp.index[[0,1]],axis=0,inplace=True)\n",
    "    gdp.reset_index(drop=True,inplace=True)\n",
    "    gdp.rename(columns={'Unnamed: 4':'Quarter','GDP in billions of current dollars.1':'GDP'}, inplace=True)\n",
    "    gdp.drop(gdp.index[:212],inplace=True)\n",
    "    gdp.reset_index(drop=True,inplace=True)\n",
    "    # gdp['GDP Diff'] = gdp['GDP'].diff()\n",
    "    for i in range(2, len(gdp)):\n",
    "        if gdp.iloc[i-2][1] > gdp.iloc[i-1][1] and gdp.iloc[i-1][1] > gdp.iloc[1][1]:\n",
    "            a = gdp.iloc[i-4][0]\n",
    "    return a\n",
    "get_recession_start()"
   ]
  },
  {
   "cell_type": "code",
   "execution_count": 215,
   "metadata": {},
   "outputs": [
    {
     "output_type": "execute_result",
     "data": {
      "text/plain": "'2009q4'"
     },
     "metadata": {},
     "execution_count": 215
    }
   ],
   "source": [
    "def get_recession_end():\n",
    "    '''Returns the year and quarter of the recession end time as a \n",
    "    string value in a format such as 2005q3'''    \n",
    "    gdp = pd.read_excel('gdplev.xls',skiprows=5)\n",
    "    gdp.drop(gdp.columns[[0,1,2,3,6,7]],axis=1,inplace=True)\n",
    "    gdp.drop(gdp.index[[0,1]],axis=0,inplace=True)\n",
    "    gdp.reset_index(drop=True,inplace=True)\n",
    "    gdp.rename(columns={'Unnamed: 4':'Quarter','GDP in billions of current dollars.1':'GDP'}, inplace=True)\n",
    "    gdp.drop(gdp.index[:212],inplace=True)\n",
    "    gdp.reset_index(drop=True,inplace=True)\n",
    "    for i in range(2, len(gdp)):\n",
    "        if (gdp.iloc[i-2][1] < gdp.iloc[i-1][1]) and (gdp.iloc[i-1][1] < gdp.iloc[i][1]):\n",
    "            return gdp.iloc[i+37][0]\n",
    "    \n",
    "\n",
    "get_recession_end()"
   ]
  },
  {
   "cell_type": "code",
   "execution_count": 296,
   "metadata": {},
   "outputs": [],
   "source": [
    "a = gdp.loc[gdp['Quarter'] == get_recession_start(),\"GDP\"] #- gdp.loc[gdp['Quarter'] == get_recession_end(),\"GDP\"]"
   ]
  },
  {
   "cell_type": "code",
   "execution_count": 295,
   "metadata": {},
   "outputs": [
    {
     "output_type": "error",
     "ename": "KeyError",
     "evalue": "\"None of [Float64Index([14843.0], dtype='float64')] are in the [columns]\"",
     "traceback": [
      "\u001b[1;31m---------------------------------------------------------------------------\u001b[0m",
      "\u001b[1;31mKeyError\u001b[0m                                  Traceback (most recent call last)",
      "\u001b[1;32m<ipython-input-295-71cc8b736606>\u001b[0m in \u001b[0;36m<module>\u001b[1;34m\u001b[0m\n\u001b[1;32m----> 1\u001b[1;33m \u001b[0mgdp\u001b[0m\u001b[1;33m[\u001b[0m\u001b[0ma\u001b[0m\u001b[1;33m]\u001b[0m\u001b[1;33m\u001b[0m\u001b[1;33m\u001b[0m\u001b[0m\n\u001b[0m",
      "\u001b[1;32m~\\Python\\Python38-32\\lib\\site-packages\\pandas\\core\\frame.py\u001b[0m in \u001b[0;36m__getitem__\u001b[1;34m(self, key)\u001b[0m\n\u001b[0;32m   2903\u001b[0m             \u001b[1;32mif\u001b[0m \u001b[0mis_iterator\u001b[0m\u001b[1;33m(\u001b[0m\u001b[0mkey\u001b[0m\u001b[1;33m)\u001b[0m\u001b[1;33m:\u001b[0m\u001b[1;33m\u001b[0m\u001b[1;33m\u001b[0m\u001b[0m\n\u001b[0;32m   2904\u001b[0m                 \u001b[0mkey\u001b[0m \u001b[1;33m=\u001b[0m \u001b[0mlist\u001b[0m\u001b[1;33m(\u001b[0m\u001b[0mkey\u001b[0m\u001b[1;33m)\u001b[0m\u001b[1;33m\u001b[0m\u001b[1;33m\u001b[0m\u001b[0m\n\u001b[1;32m-> 2905\u001b[1;33m             \u001b[0mindexer\u001b[0m \u001b[1;33m=\u001b[0m \u001b[0mself\u001b[0m\u001b[1;33m.\u001b[0m\u001b[0mloc\u001b[0m\u001b[1;33m.\u001b[0m\u001b[0m_get_listlike_indexer\u001b[0m\u001b[1;33m(\u001b[0m\u001b[0mkey\u001b[0m\u001b[1;33m,\u001b[0m \u001b[0maxis\u001b[0m\u001b[1;33m=\u001b[0m\u001b[1;36m1\u001b[0m\u001b[1;33m,\u001b[0m \u001b[0mraise_missing\u001b[0m\u001b[1;33m=\u001b[0m\u001b[1;32mTrue\u001b[0m\u001b[1;33m)\u001b[0m\u001b[1;33m[\u001b[0m\u001b[1;36m1\u001b[0m\u001b[1;33m]\u001b[0m\u001b[1;33m\u001b[0m\u001b[1;33m\u001b[0m\u001b[0m\n\u001b[0m\u001b[0;32m   2906\u001b[0m \u001b[1;33m\u001b[0m\u001b[0m\n\u001b[0;32m   2907\u001b[0m         \u001b[1;31m# take() does not accept boolean indexers\u001b[0m\u001b[1;33m\u001b[0m\u001b[1;33m\u001b[0m\u001b[1;33m\u001b[0m\u001b[0m\n",
      "\u001b[1;32m~\\Python\\Python38-32\\lib\\site-packages\\pandas\\core\\indexing.py\u001b[0m in \u001b[0;36m_get_listlike_indexer\u001b[1;34m(self, key, axis, raise_missing)\u001b[0m\n\u001b[0;32m   1252\u001b[0m             \u001b[0mkeyarr\u001b[0m\u001b[1;33m,\u001b[0m \u001b[0mindexer\u001b[0m\u001b[1;33m,\u001b[0m \u001b[0mnew_indexer\u001b[0m \u001b[1;33m=\u001b[0m \u001b[0max\u001b[0m\u001b[1;33m.\u001b[0m\u001b[0m_reindex_non_unique\u001b[0m\u001b[1;33m(\u001b[0m\u001b[0mkeyarr\u001b[0m\u001b[1;33m)\u001b[0m\u001b[1;33m\u001b[0m\u001b[1;33m\u001b[0m\u001b[0m\n\u001b[0;32m   1253\u001b[0m \u001b[1;33m\u001b[0m\u001b[0m\n\u001b[1;32m-> 1254\u001b[1;33m         \u001b[0mself\u001b[0m\u001b[1;33m.\u001b[0m\u001b[0m_validate_read_indexer\u001b[0m\u001b[1;33m(\u001b[0m\u001b[0mkeyarr\u001b[0m\u001b[1;33m,\u001b[0m \u001b[0mindexer\u001b[0m\u001b[1;33m,\u001b[0m \u001b[0maxis\u001b[0m\u001b[1;33m,\u001b[0m \u001b[0mraise_missing\u001b[0m\u001b[1;33m=\u001b[0m\u001b[0mraise_missing\u001b[0m\u001b[1;33m)\u001b[0m\u001b[1;33m\u001b[0m\u001b[1;33m\u001b[0m\u001b[0m\n\u001b[0m\u001b[0;32m   1255\u001b[0m         \u001b[1;32mreturn\u001b[0m \u001b[0mkeyarr\u001b[0m\u001b[1;33m,\u001b[0m \u001b[0mindexer\u001b[0m\u001b[1;33m\u001b[0m\u001b[1;33m\u001b[0m\u001b[0m\n\u001b[0;32m   1256\u001b[0m \u001b[1;33m\u001b[0m\u001b[0m\n",
      "\u001b[1;32m~\\Python\\Python38-32\\lib\\site-packages\\pandas\\core\\indexing.py\u001b[0m in \u001b[0;36m_validate_read_indexer\u001b[1;34m(self, key, indexer, axis, raise_missing)\u001b[0m\n\u001b[0;32m   1296\u001b[0m             \u001b[1;32mif\u001b[0m \u001b[0mmissing\u001b[0m \u001b[1;33m==\u001b[0m \u001b[0mlen\u001b[0m\u001b[1;33m(\u001b[0m\u001b[0mindexer\u001b[0m\u001b[1;33m)\u001b[0m\u001b[1;33m:\u001b[0m\u001b[1;33m\u001b[0m\u001b[1;33m\u001b[0m\u001b[0m\n\u001b[0;32m   1297\u001b[0m                 \u001b[0maxis_name\u001b[0m \u001b[1;33m=\u001b[0m \u001b[0mself\u001b[0m\u001b[1;33m.\u001b[0m\u001b[0mobj\u001b[0m\u001b[1;33m.\u001b[0m\u001b[0m_get_axis_name\u001b[0m\u001b[1;33m(\u001b[0m\u001b[0maxis\u001b[0m\u001b[1;33m)\u001b[0m\u001b[1;33m\u001b[0m\u001b[1;33m\u001b[0m\u001b[0m\n\u001b[1;32m-> 1298\u001b[1;33m                 \u001b[1;32mraise\u001b[0m \u001b[0mKeyError\u001b[0m\u001b[1;33m(\u001b[0m\u001b[1;34mf\"None of [{key}] are in the [{axis_name}]\"\u001b[0m\u001b[1;33m)\u001b[0m\u001b[1;33m\u001b[0m\u001b[1;33m\u001b[0m\u001b[0m\n\u001b[0m\u001b[0;32m   1299\u001b[0m \u001b[1;33m\u001b[0m\u001b[0m\n\u001b[0;32m   1300\u001b[0m             \u001b[1;31m# We (temporarily) allow for some missing keys with .loc, except in\u001b[0m\u001b[1;33m\u001b[0m\u001b[1;33m\u001b[0m\u001b[1;33m\u001b[0m\u001b[0m\n",
      "\u001b[1;31mKeyError\u001b[0m: \"None of [Float64Index([14843.0], dtype='float64')] are in the [columns]\""
     ]
    }
   ],
   "source": []
  },
  {
   "cell_type": "code",
   "execution_count": 253,
   "metadata": {},
   "outputs": [
    {
     "output_type": "execute_result",
     "data": {
      "text/plain": "   Quarter      GDP\n0   2000q1  10031.0\n1   2000q2  10278.3\n2   2000q3  10357.4\n3   2000q4  10472.3\n4   2001q1  10508.1\n..     ...      ...\n61  2015q2  17998.3\n62  2015q3  18141.9\n63  2015q4  18222.8\n64  2016q1  18281.6\n65  2016q2  18450.1\n\n[66 rows x 2 columns]",
      "text/html": "<div>\n<style scoped>\n    .dataframe tbody tr th:only-of-type {\n        vertical-align: middle;\n    }\n\n    .dataframe tbody tr th {\n        vertical-align: top;\n    }\n\n    .dataframe thead th {\n        text-align: right;\n    }\n</style>\n<table border=\"1\" class=\"dataframe\">\n  <thead>\n    <tr style=\"text-align: right;\">\n      <th></th>\n      <th>Quarter</th>\n      <th>GDP</th>\n    </tr>\n  </thead>\n  <tbody>\n    <tr>\n      <th>0</th>\n      <td>2000q1</td>\n      <td>10031.0</td>\n    </tr>\n    <tr>\n      <th>1</th>\n      <td>2000q2</td>\n      <td>10278.3</td>\n    </tr>\n    <tr>\n      <th>2</th>\n      <td>2000q3</td>\n      <td>10357.4</td>\n    </tr>\n    <tr>\n      <th>3</th>\n      <td>2000q4</td>\n      <td>10472.3</td>\n    </tr>\n    <tr>\n      <th>4</th>\n      <td>2001q1</td>\n      <td>10508.1</td>\n    </tr>\n    <tr>\n      <th>...</th>\n      <td>...</td>\n      <td>...</td>\n    </tr>\n    <tr>\n      <th>61</th>\n      <td>2015q2</td>\n      <td>17998.3</td>\n    </tr>\n    <tr>\n      <th>62</th>\n      <td>2015q3</td>\n      <td>18141.9</td>\n    </tr>\n    <tr>\n      <th>63</th>\n      <td>2015q4</td>\n      <td>18222.8</td>\n    </tr>\n    <tr>\n      <th>64</th>\n      <td>2016q1</td>\n      <td>18281.6</td>\n    </tr>\n    <tr>\n      <th>65</th>\n      <td>2016q2</td>\n      <td>18450.1</td>\n    </tr>\n  </tbody>\n</table>\n<p>66 rows × 2 columns</p>\n</div>"
     },
     "metadata": {},
     "execution_count": 253
    }
   ],
   "source": [
    "gdp"
   ]
  },
  {
   "cell_type": "code",
   "execution_count": 322,
   "metadata": {},
   "outputs": [
    {
     "output_type": "execute_result",
     "data": {
      "text/plain": "'2009q2'"
     },
     "metadata": {},
     "execution_count": 322
    }
   ],
   "source": [
    "a = gdp[gdp['Quarter'] == get_recession_start()].index[0]\n",
    "b = gdp[gdp['Quarter'] == get_recession_end()].index[0]\n",
    "c = gdp.iloc[a:b+1,1].min()\n",
    "d = gdp[gdp['GDP']==c].index[0] - a\n",
    "gdp.iloc[d+34]['Quarter']"
   ]
  },
  {
   "cell_type": "code",
   "execution_count": 305,
   "metadata": {},
   "outputs": [],
   "source": [
    "a = gdp[gdp['Quarter'] == get_recession_start()].index[0]"
   ]
  },
  {
   "cell_type": "code",
   "execution_count": 306,
   "metadata": {},
   "outputs": [],
   "source": [
    "b = gdp[gdp['Quarter'] == get_recession_end()].index[0]"
   ]
  },
  {
   "cell_type": "code",
   "execution_count": 312,
   "metadata": {},
   "outputs": [],
   "source": [
    "c = gdp.iloc[a:b+1,1].min()"
   ]
  },
  {
   "cell_type": "code",
   "execution_count": 314,
   "metadata": {},
   "outputs": [],
   "source": [
    "d = gdp[gdp['GDP']==c].index[0] - a"
   ]
  },
  {
   "cell_type": "code",
   "execution_count": 321,
   "metadata": {},
   "outputs": [
    {
     "output_type": "execute_result",
     "data": {
      "text/plain": "'2009q2'"
     },
     "metadata": {},
     "execution_count": 321
    }
   ],
   "source": [
    "gdp.iloc[d+34]['Quarter']"
   ]
  },
  {
   "cell_type": "code",
   "execution_count": 318,
   "metadata": {},
   "outputs": [
    {
     "output_type": "execute_result",
     "data": {
      "text/plain": "'2009q2'"
     },
     "metadata": {},
     "execution_count": 318
    }
   ],
   "source": [
    "\n",
    "def get_recession_bottom():\n",
    "    '''Returns the year and quarter of the recession bottom time as a \n",
    "    string value in a format such as 2005q3'''\n",
    "    gdplev = pd.ExcelFile('gdplev.xls')\n",
    "    gdplev = gdplev.parse(\"Sheet1\", skiprows=219)\n",
    "    gdplev = gdplev[['1999q4', 9926.1]]\n",
    "    gdplev.columns = ['Quarter','GDP']\n",
    "    start = get_recession_start()\n",
    "    start_index = gdplev[gdplev['Quarter'] == start].index.tolist()[0]\n",
    "    end = get_recession_end()\n",
    "    end_index = gdplev[gdplev['Quarter'] == end].index.tolist()[0]\n",
    "    gdplev=gdplev.iloc[start_index:end_index+1]\n",
    "    bottom = gdplev['GDP'].min()\n",
    "    bottom_index = gdplev[gdplev['GDP'] == bottom].index.tolist()[0]-start_index\n",
    "    return gdplev.iloc[bottom_index]['Quarter']\n",
    "get_recession_bottom()"
   ]
  },
  {
   "cell_type": "code",
   "execution_count": 442,
   "metadata": {},
   "outputs": [
    {
     "output_type": "execute_result",
     "data": {
      "text/plain": "                            2000q1         2000q2         2000q3  \\\nState   RegionName                                                 \nAlabama Adamsville    69033.333333   69166.666667   69800.000000   \n        Alabaster    122133.333333  123066.666667  123166.666667   \n        Albertville   73966.666667   72600.000000   72833.333333   \n        Arab          83766.666667   81566.666667   81333.333333   \n        Ardmore                NaN            NaN            NaN   \n...                            ...            ...            ...   \nWyoming Burns        101533.333333  104566.666667  108366.666667   \n        Casper        89233.333333   89600.000000   89733.333333   \n        Cheyenne     116866.666667  120033.333333  121533.333333   \n        Evansville   128033.333333  128766.666667  130833.333333   \n        Pine Bluffs   93733.333333   95066.666667   94633.333333   \n\n                            2000q4         2001q1         2001q2  \\\nState   RegionName                                                 \nAlabama Adamsville    71966.666667   73466.666667   74000.000000   \n        Alabaster    123700.000000  123233.333333  125133.333333   \n        Albertville   74200.000000   75900.000000   76000.000000   \n        Arab          82966.666667   84200.000000   84533.333333   \n        Ardmore                NaN            NaN            NaN   \n...                            ...            ...            ...   \nWyoming Burns        113000.000000  115833.333333  117200.000000   \n        Casper        93166.666667   95500.000000   97633.333333   \n        Cheyenne     123633.333333  125533.333333  126300.000000   \n        Evansville   132066.666667  130566.666667  131433.333333   \n        Pine Bluffs   98066.666667  103233.333333  104600.000000   \n\n                            2001q3         2001q4         2002q1  \\\nState   RegionName                                                 \nAlabama Adamsville    73333.333333   73100.000000   73333.333333   \n        Alabaster    127766.666667  127200.000000  127300.000000   \n        Albertville   72066.666667   73566.666667   76533.333333   \n        Arab          81666.666667   83900.000000   87266.666667   \n        Ardmore                NaN            NaN            NaN   \n...                            ...            ...            ...   \nWyoming Burns        117800.000000  117633.333333  117333.333333   \n        Casper        99433.333333  100633.333333  101733.333333   \n        Cheyenne     126466.666667  128133.333333  128466.666667   \n        Evansville   132400.000000  133466.666667  133300.000000   \n        Pine Bluffs  106500.000000  104066.666667  102233.333333   \n\n                            2002q2  ...         2014q2         2014q3  \\\nState   RegionName                  ...                                 \nAlabama Adamsville    73133.333333  ...   77066.666667   75966.666667   \n        Alabaster    128000.000000  ...  147133.333333  147633.333333   \n        Albertville   76366.666667  ...   84033.333333   84766.666667   \n        Arab          87700.000000  ...  113366.666667  111700.000000   \n        Ardmore                NaN  ...  140533.333333  139566.666667   \n...                            ...  ...            ...            ...   \nWyoming Burns        117233.333333  ...  168866.666667  161933.333333   \n        Casper       101533.333333  ...  175766.666667  177300.000000   \n        Cheyenne     129633.333333  ...  177466.666667  176733.333333   \n        Evansville   131066.666667  ...  296733.333333  305666.666667   \n        Pine Bluffs  103566.666667  ...  148666.666667  154366.666667   \n\n                            2014q4         2015q1         2015q2  \\\nState   RegionName                                                 \nAlabama Adamsville    71900.000000   71666.666667   73033.333333   \n        Alabaster    148700.000000  148900.000000  149566.666667   \n        Albertville   86800.000000   88466.666667   89500.000000   \n        Arab         111600.000000  110166.666667  109433.333333   \n        Ardmore      140900.000000  143233.333333  143000.000000   \n...                            ...            ...            ...   \nWyoming Burns        160433.333333  162600.000000  163066.666667   \n        Casper       181000.000000  182066.666667  182633.333333   \n        Cheyenne     178766.666667  181700.000000  183266.666667   \n        Evansville   309500.000000  307300.000000  303166.666667   \n        Pine Bluffs  158100.000000  163900.000000  167433.333333   \n\n                            2015q3         2015q4         2016q1  \\\nState   RegionName                                                 \nAlabama Adamsville    73933.333333   73866.666667   74166.666667   \n        Alabaster    150366.666667  151733.333333  153466.666667   \n        Albertville   90233.333333   91366.666667   92000.000000   \n        Arab         110900.000000  112233.333333  110033.333333   \n        Ardmore      144600.000000  143966.666667  142566.666667   \n...                            ...            ...            ...   \nWyoming Burns        164600.000000  164300.000000  168266.666667   \n        Casper       183300.000000  182700.000000  184333.333333   \n        Cheyenne     186766.666667  190666.666667  194433.333333   \n        Evansville   300966.666667  304200.000000  309433.333333   \n        Pine Bluffs  167466.666667  169200.000000  166833.333333   \n\n                            2016q2    2016q3  \nState   RegionName                            \nAlabama Adamsville    74933.333333   74700.0  \n        Alabaster    155100.000000  155850.0  \n        Albertville   92466.666667   92200.0  \n        Arab         110100.000000  112000.0  \n        Ardmore      143233.333333  141950.0  \n...                            ...       ...  \nWyoming Burns        171600.000000  170500.0  \n        Casper       185166.666667  184350.0  \n        Cheyenne     196500.000000  199100.0  \n        Evansville   309200.000000  309050.0  \n        Pine Bluffs  163800.000000  157650.0  \n\n[10730 rows x 67 columns]",
      "text/html": "<div>\n<style scoped>\n    .dataframe tbody tr th:only-of-type {\n        vertical-align: middle;\n    }\n\n    .dataframe tbody tr th {\n        vertical-align: top;\n    }\n\n    .dataframe thead th {\n        text-align: right;\n    }\n</style>\n<table border=\"1\" class=\"dataframe\">\n  <thead>\n    <tr style=\"text-align: right;\">\n      <th></th>\n      <th></th>\n      <th>2000q1</th>\n      <th>2000q2</th>\n      <th>2000q3</th>\n      <th>2000q4</th>\n      <th>2001q1</th>\n      <th>2001q2</th>\n      <th>2001q3</th>\n      <th>2001q4</th>\n      <th>2002q1</th>\n      <th>2002q2</th>\n      <th>...</th>\n      <th>2014q2</th>\n      <th>2014q3</th>\n      <th>2014q4</th>\n      <th>2015q1</th>\n      <th>2015q2</th>\n      <th>2015q3</th>\n      <th>2015q4</th>\n      <th>2016q1</th>\n      <th>2016q2</th>\n      <th>2016q3</th>\n    </tr>\n    <tr>\n      <th>State</th>\n      <th>RegionName</th>\n      <th></th>\n      <th></th>\n      <th></th>\n      <th></th>\n      <th></th>\n      <th></th>\n      <th></th>\n      <th></th>\n      <th></th>\n      <th></th>\n      <th></th>\n      <th></th>\n      <th></th>\n      <th></th>\n      <th></th>\n      <th></th>\n      <th></th>\n      <th></th>\n      <th></th>\n      <th></th>\n      <th></th>\n    </tr>\n  </thead>\n  <tbody>\n    <tr>\n      <th rowspan=\"5\" valign=\"top\">Alabama</th>\n      <th>Adamsville</th>\n      <td>69033.333333</td>\n      <td>69166.666667</td>\n      <td>69800.000000</td>\n      <td>71966.666667</td>\n      <td>73466.666667</td>\n      <td>74000.000000</td>\n      <td>73333.333333</td>\n      <td>73100.000000</td>\n      <td>73333.333333</td>\n      <td>73133.333333</td>\n      <td>...</td>\n      <td>77066.666667</td>\n      <td>75966.666667</td>\n      <td>71900.000000</td>\n      <td>71666.666667</td>\n      <td>73033.333333</td>\n      <td>73933.333333</td>\n      <td>73866.666667</td>\n      <td>74166.666667</td>\n      <td>74933.333333</td>\n      <td>74700.0</td>\n    </tr>\n    <tr>\n      <th>Alabaster</th>\n      <td>122133.333333</td>\n      <td>123066.666667</td>\n      <td>123166.666667</td>\n      <td>123700.000000</td>\n      <td>123233.333333</td>\n      <td>125133.333333</td>\n      <td>127766.666667</td>\n      <td>127200.000000</td>\n      <td>127300.000000</td>\n      <td>128000.000000</td>\n      <td>...</td>\n      <td>147133.333333</td>\n      <td>147633.333333</td>\n      <td>148700.000000</td>\n      <td>148900.000000</td>\n      <td>149566.666667</td>\n      <td>150366.666667</td>\n      <td>151733.333333</td>\n      <td>153466.666667</td>\n      <td>155100.000000</td>\n      <td>155850.0</td>\n    </tr>\n    <tr>\n      <th>Albertville</th>\n      <td>73966.666667</td>\n      <td>72600.000000</td>\n      <td>72833.333333</td>\n      <td>74200.000000</td>\n      <td>75900.000000</td>\n      <td>76000.000000</td>\n      <td>72066.666667</td>\n      <td>73566.666667</td>\n      <td>76533.333333</td>\n      <td>76366.666667</td>\n      <td>...</td>\n      <td>84033.333333</td>\n      <td>84766.666667</td>\n      <td>86800.000000</td>\n      <td>88466.666667</td>\n      <td>89500.000000</td>\n      <td>90233.333333</td>\n      <td>91366.666667</td>\n      <td>92000.000000</td>\n      <td>92466.666667</td>\n      <td>92200.0</td>\n    </tr>\n    <tr>\n      <th>Arab</th>\n      <td>83766.666667</td>\n      <td>81566.666667</td>\n      <td>81333.333333</td>\n      <td>82966.666667</td>\n      <td>84200.000000</td>\n      <td>84533.333333</td>\n      <td>81666.666667</td>\n      <td>83900.000000</td>\n      <td>87266.666667</td>\n      <td>87700.000000</td>\n      <td>...</td>\n      <td>113366.666667</td>\n      <td>111700.000000</td>\n      <td>111600.000000</td>\n      <td>110166.666667</td>\n      <td>109433.333333</td>\n      <td>110900.000000</td>\n      <td>112233.333333</td>\n      <td>110033.333333</td>\n      <td>110100.000000</td>\n      <td>112000.0</td>\n    </tr>\n    <tr>\n      <th>Ardmore</th>\n      <td>NaN</td>\n      <td>NaN</td>\n      <td>NaN</td>\n      <td>NaN</td>\n      <td>NaN</td>\n      <td>NaN</td>\n      <td>NaN</td>\n      <td>NaN</td>\n      <td>NaN</td>\n      <td>NaN</td>\n      <td>...</td>\n      <td>140533.333333</td>\n      <td>139566.666667</td>\n      <td>140900.000000</td>\n      <td>143233.333333</td>\n      <td>143000.000000</td>\n      <td>144600.000000</td>\n      <td>143966.666667</td>\n      <td>142566.666667</td>\n      <td>143233.333333</td>\n      <td>141950.0</td>\n    </tr>\n    <tr>\n      <th>...</th>\n      <th>...</th>\n      <td>...</td>\n      <td>...</td>\n      <td>...</td>\n      <td>...</td>\n      <td>...</td>\n      <td>...</td>\n      <td>...</td>\n      <td>...</td>\n      <td>...</td>\n      <td>...</td>\n      <td>...</td>\n      <td>...</td>\n      <td>...</td>\n      <td>...</td>\n      <td>...</td>\n      <td>...</td>\n      <td>...</td>\n      <td>...</td>\n      <td>...</td>\n      <td>...</td>\n      <td>...</td>\n    </tr>\n    <tr>\n      <th rowspan=\"5\" valign=\"top\">Wyoming</th>\n      <th>Burns</th>\n      <td>101533.333333</td>\n      <td>104566.666667</td>\n      <td>108366.666667</td>\n      <td>113000.000000</td>\n      <td>115833.333333</td>\n      <td>117200.000000</td>\n      <td>117800.000000</td>\n      <td>117633.333333</td>\n      <td>117333.333333</td>\n      <td>117233.333333</td>\n      <td>...</td>\n      <td>168866.666667</td>\n      <td>161933.333333</td>\n      <td>160433.333333</td>\n      <td>162600.000000</td>\n      <td>163066.666667</td>\n      <td>164600.000000</td>\n      <td>164300.000000</td>\n      <td>168266.666667</td>\n      <td>171600.000000</td>\n      <td>170500.0</td>\n    </tr>\n    <tr>\n      <th>Casper</th>\n      <td>89233.333333</td>\n      <td>89600.000000</td>\n      <td>89733.333333</td>\n      <td>93166.666667</td>\n      <td>95500.000000</td>\n      <td>97633.333333</td>\n      <td>99433.333333</td>\n      <td>100633.333333</td>\n      <td>101733.333333</td>\n      <td>101533.333333</td>\n      <td>...</td>\n      <td>175766.666667</td>\n      <td>177300.000000</td>\n      <td>181000.000000</td>\n      <td>182066.666667</td>\n      <td>182633.333333</td>\n      <td>183300.000000</td>\n      <td>182700.000000</td>\n      <td>184333.333333</td>\n      <td>185166.666667</td>\n      <td>184350.0</td>\n    </tr>\n    <tr>\n      <th>Cheyenne</th>\n      <td>116866.666667</td>\n      <td>120033.333333</td>\n      <td>121533.333333</td>\n      <td>123633.333333</td>\n      <td>125533.333333</td>\n      <td>126300.000000</td>\n      <td>126466.666667</td>\n      <td>128133.333333</td>\n      <td>128466.666667</td>\n      <td>129633.333333</td>\n      <td>...</td>\n      <td>177466.666667</td>\n      <td>176733.333333</td>\n      <td>178766.666667</td>\n      <td>181700.000000</td>\n      <td>183266.666667</td>\n      <td>186766.666667</td>\n      <td>190666.666667</td>\n      <td>194433.333333</td>\n      <td>196500.000000</td>\n      <td>199100.0</td>\n    </tr>\n    <tr>\n      <th>Evansville</th>\n      <td>128033.333333</td>\n      <td>128766.666667</td>\n      <td>130833.333333</td>\n      <td>132066.666667</td>\n      <td>130566.666667</td>\n      <td>131433.333333</td>\n      <td>132400.000000</td>\n      <td>133466.666667</td>\n      <td>133300.000000</td>\n      <td>131066.666667</td>\n      <td>...</td>\n      <td>296733.333333</td>\n      <td>305666.666667</td>\n      <td>309500.000000</td>\n      <td>307300.000000</td>\n      <td>303166.666667</td>\n      <td>300966.666667</td>\n      <td>304200.000000</td>\n      <td>309433.333333</td>\n      <td>309200.000000</td>\n      <td>309050.0</td>\n    </tr>\n    <tr>\n      <th>Pine Bluffs</th>\n      <td>93733.333333</td>\n      <td>95066.666667</td>\n      <td>94633.333333</td>\n      <td>98066.666667</td>\n      <td>103233.333333</td>\n      <td>104600.000000</td>\n      <td>106500.000000</td>\n      <td>104066.666667</td>\n      <td>102233.333333</td>\n      <td>103566.666667</td>\n      <td>...</td>\n      <td>148666.666667</td>\n      <td>154366.666667</td>\n      <td>158100.000000</td>\n      <td>163900.000000</td>\n      <td>167433.333333</td>\n      <td>167466.666667</td>\n      <td>169200.000000</td>\n      <td>166833.333333</td>\n      <td>163800.000000</td>\n      <td>157650.0</td>\n    </tr>\n  </tbody>\n</table>\n<p>10730 rows × 67 columns</p>\n</div>"
     },
     "metadata": {},
     "execution_count": 442
    }
   ],
   "source": [
    "def convert_housing_data_to_quarters():\n",
    "    '''Converts the housing data to quarters and returns it as mean \n",
    "    values in a dataframe. This dataframe should be a dataframe with\n",
    "    columns for 2000q1 through 2016q3, and should have a multi-index\n",
    "    in the shape of [\"State\",\"RegionName\"].\n",
    "    \n",
    "    Note: Quarters are defined in the assignment description, they are\n",
    "    not arbitrary three month periods.\n",
    "    \n",
    "    The resulting dataframe should have 67 columns, and 10,730 rows.\n",
    "    '''\n",
    "    \n",
    "    all_homes = pd.read_csv('City_Zhvi_AllHomes.csv')\n",
    "    \n",
    "    # Drop columns with unnecessary data:\n",
    "    start_rem = all_homes.columns.get_loc('1996-04')\n",
    "    end_rem = all_homes.columns.get_loc('2000-01')\n",
    "    all_homes = all_homes.drop(all_homes.columns[start_rem:end_rem],axis=1) \n",
    "    \n",
    "    # Double square brackets if you're giving specific colums to remove, single square brackets if it's a column range.\n",
    "    \n",
    "    # # Removing more unnecessary columns:\n",
    "    all_homes = all_homes.drop(all_homes.columns[[0,3,4,5]],axis=1)\n",
    "    \n",
    "    # # Map state short forms with given dictionary:\n",
    "    all_homes['State'] = all_homes['State'].map(states)\n",
    "    \n",
    "    # # Switch State and RegionName columns for multiindex:\n",
    "    columnsName = list(all_homes.columns)\n",
    "    S, R = columnsName.index('State'), columnsName.index('RegionName')\n",
    "    columnsName[S], columnsName[R] = columnsName[R],columnsName[S]\n",
    "    all_homes = all_homes[columnsName]\n",
    "\n",
    "    # # Sorts and groups by index:\n",
    "    all_homes = all_homes.set_index(['State','RegionName']).sort_index()\n",
    "    \n",
    "    # # Group by user defined function (above) which changes given dates to year + quarter. Axis = 1 specifies you're passing column names to the function.\n",
    "    all_homes = all_homes.groupby(change_to_quarter, axis=1).mean() # Find mean over the months in a quarter.\n",
    "    \n",
    "    return all_homes\n",
    "\n",
    "convert_housing_data_to_quarters()"
   ]
  },
  {
   "cell_type": "code",
   "execution_count": 441,
   "metadata": {},
   "outputs": [],
   "source": [
    "\n",
    "# Change year and month column header to year and quarter:\n",
    "\n",
    "def change_to_quarter(date: str):\n",
    "    date = date.split('-')\n",
    "    month = int(date[1])\n",
    "    quarter = int((month - 1) / 3) + 1\n",
    "    return date[0] + 'q{}'.format(quarter)"
   ]
  },
  {
   "cell_type": "code",
   "execution_count": 444,
   "metadata": {},
   "outputs": [
    {
     "output_type": "execute_result",
     "data": {
      "text/plain": "                            2000q1         2000q2         2000q3  \\\nState   RegionName                                                 \nAlabama Adamsville    69033.333333   69166.666667   69800.000000   \n        Alabaster    122133.333333  123066.666667  123166.666667   \n        Albertville   73966.666667   72600.000000   72833.333333   \n        Arab          83766.666667   81566.666667   81333.333333   \n        Ardmore                NaN            NaN            NaN   \n...                            ...            ...            ...   \nWyoming Burns        101533.333333  104566.666667  108366.666667   \n        Casper        89233.333333   89600.000000   89733.333333   \n        Cheyenne     116866.666667  120033.333333  121533.333333   \n        Evansville   128033.333333  128766.666667  130833.333333   \n        Pine Bluffs   93733.333333   95066.666667   94633.333333   \n\n                            2000q4         2001q1         2001q2  \\\nState   RegionName                                                 \nAlabama Adamsville    71966.666667   73466.666667   74000.000000   \n        Alabaster    123700.000000  123233.333333  125133.333333   \n        Albertville   74200.000000   75900.000000   76000.000000   \n        Arab          82966.666667   84200.000000   84533.333333   \n        Ardmore                NaN            NaN            NaN   \n...                            ...            ...            ...   \nWyoming Burns        113000.000000  115833.333333  117200.000000   \n        Casper        93166.666667   95500.000000   97633.333333   \n        Cheyenne     123633.333333  125533.333333  126300.000000   \n        Evansville   132066.666667  130566.666667  131433.333333   \n        Pine Bluffs   98066.666667  103233.333333  104600.000000   \n\n                            2001q3         2001q4         2002q1  \\\nState   RegionName                                                 \nAlabama Adamsville    73333.333333   73100.000000   73333.333333   \n        Alabaster    127766.666667  127200.000000  127300.000000   \n        Albertville   72066.666667   73566.666667   76533.333333   \n        Arab          81666.666667   83900.000000   87266.666667   \n        Ardmore                NaN            NaN            NaN   \n...                            ...            ...            ...   \nWyoming Burns        117800.000000  117633.333333  117333.333333   \n        Casper        99433.333333  100633.333333  101733.333333   \n        Cheyenne     126466.666667  128133.333333  128466.666667   \n        Evansville   132400.000000  133466.666667  133300.000000   \n        Pine Bluffs  106500.000000  104066.666667  102233.333333   \n\n                            2002q2  ...         2014q2         2014q3  \\\nState   RegionName                  ...                                 \nAlabama Adamsville    73133.333333  ...   77066.666667   75966.666667   \n        Alabaster    128000.000000  ...  147133.333333  147633.333333   \n        Albertville   76366.666667  ...   84033.333333   84766.666667   \n        Arab          87700.000000  ...  113366.666667  111700.000000   \n        Ardmore                NaN  ...  140533.333333  139566.666667   \n...                            ...  ...            ...            ...   \nWyoming Burns        117233.333333  ...  168866.666667  161933.333333   \n        Casper       101533.333333  ...  175766.666667  177300.000000   \n        Cheyenne     129633.333333  ...  177466.666667  176733.333333   \n        Evansville   131066.666667  ...  296733.333333  305666.666667   \n        Pine Bluffs  103566.666667  ...  148666.666667  154366.666667   \n\n                            2014q4         2015q1         2015q2  \\\nState   RegionName                                                 \nAlabama Adamsville    71900.000000   71666.666667   73033.333333   \n        Alabaster    148700.000000  148900.000000  149566.666667   \n        Albertville   86800.000000   88466.666667   89500.000000   \n        Arab         111600.000000  110166.666667  109433.333333   \n        Ardmore      140900.000000  143233.333333  143000.000000   \n...                            ...            ...            ...   \nWyoming Burns        160433.333333  162600.000000  163066.666667   \n        Casper       181000.000000  182066.666667  182633.333333   \n        Cheyenne     178766.666667  181700.000000  183266.666667   \n        Evansville   309500.000000  307300.000000  303166.666667   \n        Pine Bluffs  158100.000000  163900.000000  167433.333333   \n\n                            2015q3         2015q4         2016q1  \\\nState   RegionName                                                 \nAlabama Adamsville    73933.333333   73866.666667   74166.666667   \n        Alabaster    150366.666667  151733.333333  153466.666667   \n        Albertville   90233.333333   91366.666667   92000.000000   \n        Arab         110900.000000  112233.333333  110033.333333   \n        Ardmore      144600.000000  143966.666667  142566.666667   \n...                            ...            ...            ...   \nWyoming Burns        164600.000000  164300.000000  168266.666667   \n        Casper       183300.000000  182700.000000  184333.333333   \n        Cheyenne     186766.666667  190666.666667  194433.333333   \n        Evansville   300966.666667  304200.000000  309433.333333   \n        Pine Bluffs  167466.666667  169200.000000  166833.333333   \n\n                            2016q2    2016q3  \nState   RegionName                            \nAlabama Adamsville    74933.333333   74700.0  \n        Alabaster    155100.000000  155850.0  \n        Albertville   92466.666667   92200.0  \n        Arab         110100.000000  112000.0  \n        Ardmore      143233.333333  141950.0  \n...                            ...       ...  \nWyoming Burns        171600.000000  170500.0  \n        Casper       185166.666667  184350.0  \n        Cheyenne     196500.000000  199100.0  \n        Evansville   309200.000000  309050.0  \n        Pine Bluffs  163800.000000  157650.0  \n\n[10730 rows x 67 columns]",
      "text/html": "<div>\n<style scoped>\n    .dataframe tbody tr th:only-of-type {\n        vertical-align: middle;\n    }\n\n    .dataframe tbody tr th {\n        vertical-align: top;\n    }\n\n    .dataframe thead th {\n        text-align: right;\n    }\n</style>\n<table border=\"1\" class=\"dataframe\">\n  <thead>\n    <tr style=\"text-align: right;\">\n      <th></th>\n      <th></th>\n      <th>2000q1</th>\n      <th>2000q2</th>\n      <th>2000q3</th>\n      <th>2000q4</th>\n      <th>2001q1</th>\n      <th>2001q2</th>\n      <th>2001q3</th>\n      <th>2001q4</th>\n      <th>2002q1</th>\n      <th>2002q2</th>\n      <th>...</th>\n      <th>2014q2</th>\n      <th>2014q3</th>\n      <th>2014q4</th>\n      <th>2015q1</th>\n      <th>2015q2</th>\n      <th>2015q3</th>\n      <th>2015q4</th>\n      <th>2016q1</th>\n      <th>2016q2</th>\n      <th>2016q3</th>\n    </tr>\n    <tr>\n      <th>State</th>\n      <th>RegionName</th>\n      <th></th>\n      <th></th>\n      <th></th>\n      <th></th>\n      <th></th>\n      <th></th>\n      <th></th>\n      <th></th>\n      <th></th>\n      <th></th>\n      <th></th>\n      <th></th>\n      <th></th>\n      <th></th>\n      <th></th>\n      <th></th>\n      <th></th>\n      <th></th>\n      <th></th>\n      <th></th>\n      <th></th>\n    </tr>\n  </thead>\n  <tbody>\n    <tr>\n      <th rowspan=\"5\" valign=\"top\">Alabama</th>\n      <th>Adamsville</th>\n      <td>69033.333333</td>\n      <td>69166.666667</td>\n      <td>69800.000000</td>\n      <td>71966.666667</td>\n      <td>73466.666667</td>\n      <td>74000.000000</td>\n      <td>73333.333333</td>\n      <td>73100.000000</td>\n      <td>73333.333333</td>\n      <td>73133.333333</td>\n      <td>...</td>\n      <td>77066.666667</td>\n      <td>75966.666667</td>\n      <td>71900.000000</td>\n      <td>71666.666667</td>\n      <td>73033.333333</td>\n      <td>73933.333333</td>\n      <td>73866.666667</td>\n      <td>74166.666667</td>\n      <td>74933.333333</td>\n      <td>74700.0</td>\n    </tr>\n    <tr>\n      <th>Alabaster</th>\n      <td>122133.333333</td>\n      <td>123066.666667</td>\n      <td>123166.666667</td>\n      <td>123700.000000</td>\n      <td>123233.333333</td>\n      <td>125133.333333</td>\n      <td>127766.666667</td>\n      <td>127200.000000</td>\n      <td>127300.000000</td>\n      <td>128000.000000</td>\n      <td>...</td>\n      <td>147133.333333</td>\n      <td>147633.333333</td>\n      <td>148700.000000</td>\n      <td>148900.000000</td>\n      <td>149566.666667</td>\n      <td>150366.666667</td>\n      <td>151733.333333</td>\n      <td>153466.666667</td>\n      <td>155100.000000</td>\n      <td>155850.0</td>\n    </tr>\n    <tr>\n      <th>Albertville</th>\n      <td>73966.666667</td>\n      <td>72600.000000</td>\n      <td>72833.333333</td>\n      <td>74200.000000</td>\n      <td>75900.000000</td>\n      <td>76000.000000</td>\n      <td>72066.666667</td>\n      <td>73566.666667</td>\n      <td>76533.333333</td>\n      <td>76366.666667</td>\n      <td>...</td>\n      <td>84033.333333</td>\n      <td>84766.666667</td>\n      <td>86800.000000</td>\n      <td>88466.666667</td>\n      <td>89500.000000</td>\n      <td>90233.333333</td>\n      <td>91366.666667</td>\n      <td>92000.000000</td>\n      <td>92466.666667</td>\n      <td>92200.0</td>\n    </tr>\n    <tr>\n      <th>Arab</th>\n      <td>83766.666667</td>\n      <td>81566.666667</td>\n      <td>81333.333333</td>\n      <td>82966.666667</td>\n      <td>84200.000000</td>\n      <td>84533.333333</td>\n      <td>81666.666667</td>\n      <td>83900.000000</td>\n      <td>87266.666667</td>\n      <td>87700.000000</td>\n      <td>...</td>\n      <td>113366.666667</td>\n      <td>111700.000000</td>\n      <td>111600.000000</td>\n      <td>110166.666667</td>\n      <td>109433.333333</td>\n      <td>110900.000000</td>\n      <td>112233.333333</td>\n      <td>110033.333333</td>\n      <td>110100.000000</td>\n      <td>112000.0</td>\n    </tr>\n    <tr>\n      <th>Ardmore</th>\n      <td>NaN</td>\n      <td>NaN</td>\n      <td>NaN</td>\n      <td>NaN</td>\n      <td>NaN</td>\n      <td>NaN</td>\n      <td>NaN</td>\n      <td>NaN</td>\n      <td>NaN</td>\n      <td>NaN</td>\n      <td>...</td>\n      <td>140533.333333</td>\n      <td>139566.666667</td>\n      <td>140900.000000</td>\n      <td>143233.333333</td>\n      <td>143000.000000</td>\n      <td>144600.000000</td>\n      <td>143966.666667</td>\n      <td>142566.666667</td>\n      <td>143233.333333</td>\n      <td>141950.0</td>\n    </tr>\n    <tr>\n      <th>...</th>\n      <th>...</th>\n      <td>...</td>\n      <td>...</td>\n      <td>...</td>\n      <td>...</td>\n      <td>...</td>\n      <td>...</td>\n      <td>...</td>\n      <td>...</td>\n      <td>...</td>\n      <td>...</td>\n      <td>...</td>\n      <td>...</td>\n      <td>...</td>\n      <td>...</td>\n      <td>...</td>\n      <td>...</td>\n      <td>...</td>\n      <td>...</td>\n      <td>...</td>\n      <td>...</td>\n      <td>...</td>\n    </tr>\n    <tr>\n      <th rowspan=\"5\" valign=\"top\">Wyoming</th>\n      <th>Burns</th>\n      <td>101533.333333</td>\n      <td>104566.666667</td>\n      <td>108366.666667</td>\n      <td>113000.000000</td>\n      <td>115833.333333</td>\n      <td>117200.000000</td>\n      <td>117800.000000</td>\n      <td>117633.333333</td>\n      <td>117333.333333</td>\n      <td>117233.333333</td>\n      <td>...</td>\n      <td>168866.666667</td>\n      <td>161933.333333</td>\n      <td>160433.333333</td>\n      <td>162600.000000</td>\n      <td>163066.666667</td>\n      <td>164600.000000</td>\n      <td>164300.000000</td>\n      <td>168266.666667</td>\n      <td>171600.000000</td>\n      <td>170500.0</td>\n    </tr>\n    <tr>\n      <th>Casper</th>\n      <td>89233.333333</td>\n      <td>89600.000000</td>\n      <td>89733.333333</td>\n      <td>93166.666667</td>\n      <td>95500.000000</td>\n      <td>97633.333333</td>\n      <td>99433.333333</td>\n      <td>100633.333333</td>\n      <td>101733.333333</td>\n      <td>101533.333333</td>\n      <td>...</td>\n      <td>175766.666667</td>\n      <td>177300.000000</td>\n      <td>181000.000000</td>\n      <td>182066.666667</td>\n      <td>182633.333333</td>\n      <td>183300.000000</td>\n      <td>182700.000000</td>\n      <td>184333.333333</td>\n      <td>185166.666667</td>\n      <td>184350.0</td>\n    </tr>\n    <tr>\n      <th>Cheyenne</th>\n      <td>116866.666667</td>\n      <td>120033.333333</td>\n      <td>121533.333333</td>\n      <td>123633.333333</td>\n      <td>125533.333333</td>\n      <td>126300.000000</td>\n      <td>126466.666667</td>\n      <td>128133.333333</td>\n      <td>128466.666667</td>\n      <td>129633.333333</td>\n      <td>...</td>\n      <td>177466.666667</td>\n      <td>176733.333333</td>\n      <td>178766.666667</td>\n      <td>181700.000000</td>\n      <td>183266.666667</td>\n      <td>186766.666667</td>\n      <td>190666.666667</td>\n      <td>194433.333333</td>\n      <td>196500.000000</td>\n      <td>199100.0</td>\n    </tr>\n    <tr>\n      <th>Evansville</th>\n      <td>128033.333333</td>\n      <td>128766.666667</td>\n      <td>130833.333333</td>\n      <td>132066.666667</td>\n      <td>130566.666667</td>\n      <td>131433.333333</td>\n      <td>132400.000000</td>\n      <td>133466.666667</td>\n      <td>133300.000000</td>\n      <td>131066.666667</td>\n      <td>...</td>\n      <td>296733.333333</td>\n      <td>305666.666667</td>\n      <td>309500.000000</td>\n      <td>307300.000000</td>\n      <td>303166.666667</td>\n      <td>300966.666667</td>\n      <td>304200.000000</td>\n      <td>309433.333333</td>\n      <td>309200.000000</td>\n      <td>309050.0</td>\n    </tr>\n    <tr>\n      <th>Pine Bluffs</th>\n      <td>93733.333333</td>\n      <td>95066.666667</td>\n      <td>94633.333333</td>\n      <td>98066.666667</td>\n      <td>103233.333333</td>\n      <td>104600.000000</td>\n      <td>106500.000000</td>\n      <td>104066.666667</td>\n      <td>102233.333333</td>\n      <td>103566.666667</td>\n      <td>...</td>\n      <td>148666.666667</td>\n      <td>154366.666667</td>\n      <td>158100.000000</td>\n      <td>163900.000000</td>\n      <td>167433.333333</td>\n      <td>167466.666667</td>\n      <td>169200.000000</td>\n      <td>166833.333333</td>\n      <td>163800.000000</td>\n      <td>157650.0</td>\n    </tr>\n  </tbody>\n</table>\n<p>10730 rows × 67 columns</p>\n</div>"
     },
     "metadata": {},
     "execution_count": 444
    }
   ],
   "source": [
    "all_homes = pd.read_csv('City_Zhvi_AllHomes.csv') \n",
    "all_homes = all_homes.drop(all_homes.columns[all_homes.columns.get_loc('1996-04'):all_homes.columns.get_loc('2000-01')],axis = 1)\n",
    "all_homes = all_homes.drop(all_homes.columns[[0,3,4,5]],axis=1)\n",
    "all_homes['State'] = [states[i] for i in all_homes['State']]\n",
    "# all_homes = all_homes['State']\n",
    "all1 = all_homes[['State','RegionName']]\n",
    "all2 = all_homes.iloc[:,2:]\n",
    "merge = pd.merge(all1,all2,left_index=True,right_index=True,how='outer')\n",
    "merge = merge.set_index(['State','RegionName']).sort_index()\n",
    "\n",
    "merge = merge.groupby(change_to_quarter, axis=1).mean()\n",
    "merge\n"
   ]
  },
  {
   "cell_type": "code",
   "execution_count": 440,
   "metadata": {},
   "outputs": [
    {
     "output_type": "execute_result",
     "data": {
      "text/plain": "'2000q2'"
     },
     "metadata": {},
     "execution_count": 440
    }
   ],
   "source": [
    "# a[str(year)+'q2'] = copy_merge[[str(year)+'-04',str(year)+'-05',str(year)+'-06']].mean(axis=1)\n",
    "a = '{}q2'.format(2000)\n",
    "a "
   ]
  },
  {
   "cell_type": "code",
   "execution_count": 463,
   "metadata": {},
   "outputs": [
    {
     "output_type": "execute_result",
     "data": {
      "text/plain": "   col1  col2  col3\nA     1     6    11\nB     2     7    12\nC     1     8    13\nD     2     9    14\nE     3    10    15",
      "text/html": "<div>\n<style scoped>\n    .dataframe tbody tr th:only-of-type {\n        vertical-align: middle;\n    }\n\n    .dataframe tbody tr th {\n        vertical-align: top;\n    }\n\n    .dataframe thead th {\n        text-align: right;\n    }\n</style>\n<table border=\"1\" class=\"dataframe\">\n  <thead>\n    <tr style=\"text-align: right;\">\n      <th></th>\n      <th>col1</th>\n      <th>col2</th>\n      <th>col3</th>\n    </tr>\n  </thead>\n  <tbody>\n    <tr>\n      <th>A</th>\n      <td>1</td>\n      <td>6</td>\n      <td>11</td>\n    </tr>\n    <tr>\n      <th>B</th>\n      <td>2</td>\n      <td>7</td>\n      <td>12</td>\n    </tr>\n    <tr>\n      <th>C</th>\n      <td>1</td>\n      <td>8</td>\n      <td>13</td>\n    </tr>\n    <tr>\n      <th>D</th>\n      <td>2</td>\n      <td>9</td>\n      <td>14</td>\n    </tr>\n    <tr>\n      <th>E</th>\n      <td>3</td>\n      <td>10</td>\n      <td>15</td>\n    </tr>\n  </tbody>\n</table>\n</div>"
     },
     "metadata": {},
     "execution_count": 463
    }
   ],
   "source": [
    "d = {'col1': [1, 2,1,2,3], 'col2': [6,7,8,9,10],'col3': [11,12,13,14,15]}\n",
    "df = pd.DataFrame(data=d,index=['A','B','C','D','E'])\n",
    "df"
   ]
  },
  {
   "cell_type": "code",
   "execution_count": 467,
   "metadata": {},
   "outputs": [
    {
     "output_type": "execute_result",
     "data": {
      "text/plain": "1"
     },
     "metadata": {},
     "execution_count": 467
    }
   ],
   "source": [
    "df['col1'][0]"
   ]
  },
  {
   "cell_type": "code",
   "execution_count": 400,
   "metadata": {},
   "outputs": [
    {
     "output_type": "execute_result",
     "data": {
      "text/plain": "Empty DataFrame\nColumns: []\nIndex: [(6, 11), (7, 12), (8, 13), (9, 14), (10, 15)]",
      "text/html": "<div>\n<style scoped>\n    .dataframe tbody tr th:only-of-type {\n        vertical-align: middle;\n    }\n\n    .dataframe tbody tr th {\n        vertical-align: top;\n    }\n\n    .dataframe thead th {\n        text-align: right;\n    }\n</style>\n<table border=\"1\" class=\"dataframe\">\n  <thead>\n    <tr style=\"text-align: right;\">\n      <th></th>\n      <th></th>\n    </tr>\n    <tr>\n      <th>col2</th>\n      <th>col3</th>\n    </tr>\n  </thead>\n  <tbody>\n    <tr>\n      <th>6</th>\n      <th>11</th>\n    </tr>\n    <tr>\n      <th>7</th>\n      <th>12</th>\n    </tr>\n    <tr>\n      <th>8</th>\n      <th>13</th>\n    </tr>\n    <tr>\n      <th>9</th>\n      <th>14</th>\n    </tr>\n    <tr>\n      <th>10</th>\n      <th>15</th>\n    </tr>\n  </tbody>\n</table>\n</div>"
     },
     "metadata": {},
     "execution_count": 400
    }
   ],
   "source": [
    "# df.drop(['col1','col2'],axis=1)\n",
    "# df.groupby(['col1','col2']).mean()\n",
    "# df = df.set_index('col1')\n",
    "# df.groupby(['col2','col3']).first()\n"
   ]
  },
  {
   "cell_type": "code",
   "execution_count": 437,
   "metadata": {},
   "outputs": [
    {
     "output_type": "execute_result",
     "data": {
      "text/plain": "'hello my id is omkar1'"
     },
     "metadata": {},
     "execution_count": 437
    }
   ],
   "source": [
    "a = 'hello my id is omkar{}'.format(1)\n",
    "a"
   ]
  },
  {
   "cell_type": "code",
   "execution_count": 446,
   "metadata": {},
   "outputs": [
    {
     "output_type": "execute_result",
     "data": {
      "text/plain": "         State     RegionName\n1      Alabama         Auburn\n2      Alabama       Florence\n3      Alabama   Jacksonville\n4      Alabama     Livingston\n5      Alabama     Montevallo\n..         ...            ...\n561  Wisconsin    River Falls\n562  Wisconsin  Stevens Point\n563  Wisconsin       Waukesha\n564  Wisconsin     Whitewater\n566    Wyoming        Laramie\n\n[517 rows x 2 columns]",
      "text/html": "<div>\n<style scoped>\n    .dataframe tbody tr th:only-of-type {\n        vertical-align: middle;\n    }\n\n    .dataframe tbody tr th {\n        vertical-align: top;\n    }\n\n    .dataframe thead th {\n        text-align: right;\n    }\n</style>\n<table border=\"1\" class=\"dataframe\">\n  <thead>\n    <tr style=\"text-align: right;\">\n      <th></th>\n      <th>State</th>\n      <th>RegionName</th>\n    </tr>\n  </thead>\n  <tbody>\n    <tr>\n      <th>1</th>\n      <td>Alabama</td>\n      <td>Auburn</td>\n    </tr>\n    <tr>\n      <th>2</th>\n      <td>Alabama</td>\n      <td>Florence</td>\n    </tr>\n    <tr>\n      <th>3</th>\n      <td>Alabama</td>\n      <td>Jacksonville</td>\n    </tr>\n    <tr>\n      <th>4</th>\n      <td>Alabama</td>\n      <td>Livingston</td>\n    </tr>\n    <tr>\n      <th>5</th>\n      <td>Alabama</td>\n      <td>Montevallo</td>\n    </tr>\n    <tr>\n      <th>...</th>\n      <td>...</td>\n      <td>...</td>\n    </tr>\n    <tr>\n      <th>561</th>\n      <td>Wisconsin</td>\n      <td>River Falls</td>\n    </tr>\n    <tr>\n      <th>562</th>\n      <td>Wisconsin</td>\n      <td>Stevens Point</td>\n    </tr>\n    <tr>\n      <th>563</th>\n      <td>Wisconsin</td>\n      <td>Waukesha</td>\n    </tr>\n    <tr>\n      <th>564</th>\n      <td>Wisconsin</td>\n      <td>Whitewater</td>\n    </tr>\n    <tr>\n      <th>566</th>\n      <td>Wyoming</td>\n      <td>Laramie</td>\n    </tr>\n  </tbody>\n</table>\n<p>517 rows × 2 columns</p>\n</div>"
     },
     "metadata": {},
     "execution_count": 446
    }
   ],
   "source": [
    "def get_list_of_university_towns():\n",
    "    '''Returns a DataFrame of towns and the states they are in from the \n",
    "    university_towns.txt list. The format of the DataFrame should be:\n",
    "    DataFrame( [ [\"Michigan\", \"Ann Arbor\"], [\"Michigan\", \"Yipsilanti\"] ], \n",
    "    columns=[\"State\", \"RegionName\"]  )\n",
    "    \n",
    "    The following cleaning needs to be done:\n",
    "\n",
    "    1. For \"State\", removing characters from \"[\" to the end.\n",
    "    2. For \"RegionName\", when applicable, removing every character from \" (\" to the end.\n",
    "    3. Depending on how you read the data, you may need to remove newline character '\\n'. '''\n",
    "    \n",
    "    state_town_df = pd.read_csv('university_towns.txt',header=None,sep='\\n',names=['RegionName'])\n",
    "    state_town_df['State'] = np.where(state_town_df['RegionName'].str.contains('edit'),state_town_df['RegionName'],np.NaN)\n",
    "    state_town_df['State'].fillna(method='ffill',inplace=True)\n",
    "    state_town_df = state_town_df[['State','RegionName']] \n",
    "    for col in state_town_df:\n",
    "        state_town_df[col] = state_town_df[col].str.split('(',expand=True)[0].str.split('[', expand=True)[0].str.rstrip()\n",
    "    state_town_df = state_town_df[state_town_df['State'] != state_town_df['RegionName']]    \n",
    "\n",
    "    return state_town_df\n",
    "get_list_of_university_towns()"
   ]
  },
  {
   "cell_type": "code",
   "execution_count": 448,
   "metadata": {},
   "outputs": [
    {
     "output_type": "execute_result",
     "data": {
      "text/plain": "'2008q3'"
     },
     "metadata": {},
     "execution_count": 448
    }
   ],
   "source": [
    "def get_recession_start():\n",
    "    '''Returns the year and quarter of the recession start time as a \n",
    "    string value in a format such as 2005q3'''\n",
    "    gdp = pd.read_excel('gdplev.xls',skiprows=5)\n",
    "    gdp.drop(gdp.columns[[0,1,2,3,6,7]],axis=1,inplace=True)\n",
    "    gdp.drop(gdp.index[[0,1]],axis=0,inplace=True)\n",
    "    gdp.reset_index(drop=True,inplace=True)\n",
    "    gdp.rename(columns={'Unnamed: 4':'Quarter','GDP in billions of current dollars.1':'GDP'}, inplace=True)\n",
    "    gdp.drop(gdp.index[:212],inplace=True)\n",
    "    gdp.reset_index(drop=True,inplace=True)\n",
    "    # gdp['GDP Diff'] = gdp['GDP'].diff()\n",
    "    for i in range(2, len(gdp)):\n",
    "        if gdp.iloc[i-2][1] > gdp.iloc[i-1][1] and gdp.iloc[i-1][1] > gdp.iloc[1][1]:\n",
    "            a = gdp.iloc[i-4][0]\n",
    "    return a\n",
    "get_recession_start()"
   ]
  },
  {
   "cell_type": "code",
   "execution_count": 449,
   "metadata": {},
   "outputs": [
    {
     "output_type": "execute_result",
     "data": {
      "text/plain": "'2009q4'"
     },
     "metadata": {},
     "execution_count": 449
    }
   ],
   "source": [
    "def get_recession_end():\n",
    "    '''Returns the year and quarter of the recession end time as a \n",
    "    string value in a format such as 2005q3'''    \n",
    "    gdp = pd.read_excel('gdplev.xls',skiprows=5)\n",
    "    gdp.drop(gdp.columns[[0,1,2,3,6,7]],axis=1,inplace=True)\n",
    "    gdp.drop(gdp.index[[0,1]],axis=0,inplace=True)\n",
    "    gdp.reset_index(drop=True,inplace=True)\n",
    "    gdp.rename(columns={'Unnamed: 4':'Quarter','GDP in billions of current dollars.1':'GDP'}, inplace=True)\n",
    "    gdp.drop(gdp.index[:212],inplace=True)\n",
    "    gdp.reset_index(drop=True,inplace=True)\n",
    "    for i in range(2, len(gdp)):\n",
    "        if (gdp.iloc[i-2][1] < gdp.iloc[i-1][1]) and (gdp.iloc[i-1][1] < gdp.iloc[i][1]):\n",
    "            return gdp.iloc[i+37][0]\n",
    "    \n",
    "\n",
    "get_recession_end()"
   ]
  },
  {
   "cell_type": "code",
   "execution_count": 450,
   "metadata": {},
   "outputs": [
    {
     "output_type": "execute_result",
     "data": {
      "text/plain": "'2009q2'"
     },
     "metadata": {},
     "execution_count": 450
    }
   ],
   "source": [
    "def get_recession_bottom():\n",
    "    '''Returns the year and quarter of the recession bottom time as a \n",
    "    string value in a format such as 2005q3'''\n",
    "    gdp = pd.read_excel('gdplev.xls',skiprows=5)\n",
    "    gdp.drop(gdp.columns[[0,1,2,3,6,7]],axis=1,inplace=True)\n",
    "    gdp.drop(gdp.index[[0,1]],axis=0,inplace=True)\n",
    "    gdp.reset_index(drop=True,inplace=True)\n",
    "    gdp.rename(columns={'Unnamed: 4':'Quarter','GDP in billions of current dollars.1':'GDP'}, inplace=True)\n",
    "    gdp.drop(gdp.index[:212],inplace=True)\n",
    "    gdp.reset_index(drop=True,inplace=True)\n",
    "    a = gdp[gdp['Quarter'] == get_recession_start()].index[0]\n",
    "    b = gdp[gdp['Quarter'] == get_recession_end()].index[0]\n",
    "    c = gdp.iloc[a:b+1,1].min()\n",
    "    d = gdp[gdp['GDP']==c].index[0] - a\n",
    "    e = gdp.iloc[d+34]['Quarter']\n",
    "    \n",
    "    return e \n",
    "get_recession_bottom()"
   ]
  },
  {
   "cell_type": "code",
   "execution_count": 451,
   "metadata": {},
   "outputs": [],
   "source": [
    "def quarter(date: str):\n",
    "    date = date.split('-')\n",
    "    month = int(date[1])\n",
    "    quarter = int((month - 1) / 3) + 1\n",
    "    return date[0] + 'q{}'.format(quarter)"
   ]
  },
  {
   "cell_type": "code",
   "execution_count": 452,
   "metadata": {},
   "outputs": [
    {
     "output_type": "execute_result",
     "data": {
      "text/plain": "                            2000q1         2000q2         2000q3  \\\nState   RegionName                                                 \nAlabama Adamsville    69033.333333   69166.666667   69800.000000   \n        Alabaster    122133.333333  123066.666667  123166.666667   \n        Albertville   73966.666667   72600.000000   72833.333333   \n        Arab          83766.666667   81566.666667   81333.333333   \n        Ardmore                NaN            NaN            NaN   \n...                            ...            ...            ...   \nWyoming Burns        101533.333333  104566.666667  108366.666667   \n        Casper        89233.333333   89600.000000   89733.333333   \n        Cheyenne     116866.666667  120033.333333  121533.333333   \n        Evansville   128033.333333  128766.666667  130833.333333   \n        Pine Bluffs   93733.333333   95066.666667   94633.333333   \n\n                            2000q4         2001q1         2001q2  \\\nState   RegionName                                                 \nAlabama Adamsville    71966.666667   73466.666667   74000.000000   \n        Alabaster    123700.000000  123233.333333  125133.333333   \n        Albertville   74200.000000   75900.000000   76000.000000   \n        Arab          82966.666667   84200.000000   84533.333333   \n        Ardmore                NaN            NaN            NaN   \n...                            ...            ...            ...   \nWyoming Burns        113000.000000  115833.333333  117200.000000   \n        Casper        93166.666667   95500.000000   97633.333333   \n        Cheyenne     123633.333333  125533.333333  126300.000000   \n        Evansville   132066.666667  130566.666667  131433.333333   \n        Pine Bluffs   98066.666667  103233.333333  104600.000000   \n\n                            2001q3         2001q4         2002q1  \\\nState   RegionName                                                 \nAlabama Adamsville    73333.333333   73100.000000   73333.333333   \n        Alabaster    127766.666667  127200.000000  127300.000000   \n        Albertville   72066.666667   73566.666667   76533.333333   \n        Arab          81666.666667   83900.000000   87266.666667   \n        Ardmore                NaN            NaN            NaN   \n...                            ...            ...            ...   \nWyoming Burns        117800.000000  117633.333333  117333.333333   \n        Casper        99433.333333  100633.333333  101733.333333   \n        Cheyenne     126466.666667  128133.333333  128466.666667   \n        Evansville   132400.000000  133466.666667  133300.000000   \n        Pine Bluffs  106500.000000  104066.666667  102233.333333   \n\n                            2002q2  ...         2014q2         2014q3  \\\nState   RegionName                  ...                                 \nAlabama Adamsville    73133.333333  ...   77066.666667   75966.666667   \n        Alabaster    128000.000000  ...  147133.333333  147633.333333   \n        Albertville   76366.666667  ...   84033.333333   84766.666667   \n        Arab          87700.000000  ...  113366.666667  111700.000000   \n        Ardmore                NaN  ...  140533.333333  139566.666667   \n...                            ...  ...            ...            ...   \nWyoming Burns        117233.333333  ...  168866.666667  161933.333333   \n        Casper       101533.333333  ...  175766.666667  177300.000000   \n        Cheyenne     129633.333333  ...  177466.666667  176733.333333   \n        Evansville   131066.666667  ...  296733.333333  305666.666667   \n        Pine Bluffs  103566.666667  ...  148666.666667  154366.666667   \n\n                            2014q4         2015q1         2015q2  \\\nState   RegionName                                                 \nAlabama Adamsville    71900.000000   71666.666667   73033.333333   \n        Alabaster    148700.000000  148900.000000  149566.666667   \n        Albertville   86800.000000   88466.666667   89500.000000   \n        Arab         111600.000000  110166.666667  109433.333333   \n        Ardmore      140900.000000  143233.333333  143000.000000   \n...                            ...            ...            ...   \nWyoming Burns        160433.333333  162600.000000  163066.666667   \n        Casper       181000.000000  182066.666667  182633.333333   \n        Cheyenne     178766.666667  181700.000000  183266.666667   \n        Evansville   309500.000000  307300.000000  303166.666667   \n        Pine Bluffs  158100.000000  163900.000000  167433.333333   \n\n                            2015q3         2015q4         2016q1  \\\nState   RegionName                                                 \nAlabama Adamsville    73933.333333   73866.666667   74166.666667   \n        Alabaster    150366.666667  151733.333333  153466.666667   \n        Albertville   90233.333333   91366.666667   92000.000000   \n        Arab         110900.000000  112233.333333  110033.333333   \n        Ardmore      144600.000000  143966.666667  142566.666667   \n...                            ...            ...            ...   \nWyoming Burns        164600.000000  164300.000000  168266.666667   \n        Casper       183300.000000  182700.000000  184333.333333   \n        Cheyenne     186766.666667  190666.666667  194433.333333   \n        Evansville   300966.666667  304200.000000  309433.333333   \n        Pine Bluffs  167466.666667  169200.000000  166833.333333   \n\n                            2016q2    2016q3  \nState   RegionName                            \nAlabama Adamsville    74933.333333   74700.0  \n        Alabaster    155100.000000  155850.0  \n        Albertville   92466.666667   92200.0  \n        Arab         110100.000000  112000.0  \n        Ardmore      143233.333333  141950.0  \n...                            ...       ...  \nWyoming Burns        171600.000000  170500.0  \n        Casper       185166.666667  184350.0  \n        Cheyenne     196500.000000  199100.0  \n        Evansville   309200.000000  309050.0  \n        Pine Bluffs  163800.000000  157650.0  \n\n[10730 rows x 67 columns]",
      "text/html": "<div>\n<style scoped>\n    .dataframe tbody tr th:only-of-type {\n        vertical-align: middle;\n    }\n\n    .dataframe tbody tr th {\n        vertical-align: top;\n    }\n\n    .dataframe thead th {\n        text-align: right;\n    }\n</style>\n<table border=\"1\" class=\"dataframe\">\n  <thead>\n    <tr style=\"text-align: right;\">\n      <th></th>\n      <th></th>\n      <th>2000q1</th>\n      <th>2000q2</th>\n      <th>2000q3</th>\n      <th>2000q4</th>\n      <th>2001q1</th>\n      <th>2001q2</th>\n      <th>2001q3</th>\n      <th>2001q4</th>\n      <th>2002q1</th>\n      <th>2002q2</th>\n      <th>...</th>\n      <th>2014q2</th>\n      <th>2014q3</th>\n      <th>2014q4</th>\n      <th>2015q1</th>\n      <th>2015q2</th>\n      <th>2015q3</th>\n      <th>2015q4</th>\n      <th>2016q1</th>\n      <th>2016q2</th>\n      <th>2016q3</th>\n    </tr>\n    <tr>\n      <th>State</th>\n      <th>RegionName</th>\n      <th></th>\n      <th></th>\n      <th></th>\n      <th></th>\n      <th></th>\n      <th></th>\n      <th></th>\n      <th></th>\n      <th></th>\n      <th></th>\n      <th></th>\n      <th></th>\n      <th></th>\n      <th></th>\n      <th></th>\n      <th></th>\n      <th></th>\n      <th></th>\n      <th></th>\n      <th></th>\n      <th></th>\n    </tr>\n  </thead>\n  <tbody>\n    <tr>\n      <th rowspan=\"5\" valign=\"top\">Alabama</th>\n      <th>Adamsville</th>\n      <td>69033.333333</td>\n      <td>69166.666667</td>\n      <td>69800.000000</td>\n      <td>71966.666667</td>\n      <td>73466.666667</td>\n      <td>74000.000000</td>\n      <td>73333.333333</td>\n      <td>73100.000000</td>\n      <td>73333.333333</td>\n      <td>73133.333333</td>\n      <td>...</td>\n      <td>77066.666667</td>\n      <td>75966.666667</td>\n      <td>71900.000000</td>\n      <td>71666.666667</td>\n      <td>73033.333333</td>\n      <td>73933.333333</td>\n      <td>73866.666667</td>\n      <td>74166.666667</td>\n      <td>74933.333333</td>\n      <td>74700.0</td>\n    </tr>\n    <tr>\n      <th>Alabaster</th>\n      <td>122133.333333</td>\n      <td>123066.666667</td>\n      <td>123166.666667</td>\n      <td>123700.000000</td>\n      <td>123233.333333</td>\n      <td>125133.333333</td>\n      <td>127766.666667</td>\n      <td>127200.000000</td>\n      <td>127300.000000</td>\n      <td>128000.000000</td>\n      <td>...</td>\n      <td>147133.333333</td>\n      <td>147633.333333</td>\n      <td>148700.000000</td>\n      <td>148900.000000</td>\n      <td>149566.666667</td>\n      <td>150366.666667</td>\n      <td>151733.333333</td>\n      <td>153466.666667</td>\n      <td>155100.000000</td>\n      <td>155850.0</td>\n    </tr>\n    <tr>\n      <th>Albertville</th>\n      <td>73966.666667</td>\n      <td>72600.000000</td>\n      <td>72833.333333</td>\n      <td>74200.000000</td>\n      <td>75900.000000</td>\n      <td>76000.000000</td>\n      <td>72066.666667</td>\n      <td>73566.666667</td>\n      <td>76533.333333</td>\n      <td>76366.666667</td>\n      <td>...</td>\n      <td>84033.333333</td>\n      <td>84766.666667</td>\n      <td>86800.000000</td>\n      <td>88466.666667</td>\n      <td>89500.000000</td>\n      <td>90233.333333</td>\n      <td>91366.666667</td>\n      <td>92000.000000</td>\n      <td>92466.666667</td>\n      <td>92200.0</td>\n    </tr>\n    <tr>\n      <th>Arab</th>\n      <td>83766.666667</td>\n      <td>81566.666667</td>\n      <td>81333.333333</td>\n      <td>82966.666667</td>\n      <td>84200.000000</td>\n      <td>84533.333333</td>\n      <td>81666.666667</td>\n      <td>83900.000000</td>\n      <td>87266.666667</td>\n      <td>87700.000000</td>\n      <td>...</td>\n      <td>113366.666667</td>\n      <td>111700.000000</td>\n      <td>111600.000000</td>\n      <td>110166.666667</td>\n      <td>109433.333333</td>\n      <td>110900.000000</td>\n      <td>112233.333333</td>\n      <td>110033.333333</td>\n      <td>110100.000000</td>\n      <td>112000.0</td>\n    </tr>\n    <tr>\n      <th>Ardmore</th>\n      <td>NaN</td>\n      <td>NaN</td>\n      <td>NaN</td>\n      <td>NaN</td>\n      <td>NaN</td>\n      <td>NaN</td>\n      <td>NaN</td>\n      <td>NaN</td>\n      <td>NaN</td>\n      <td>NaN</td>\n      <td>...</td>\n      <td>140533.333333</td>\n      <td>139566.666667</td>\n      <td>140900.000000</td>\n      <td>143233.333333</td>\n      <td>143000.000000</td>\n      <td>144600.000000</td>\n      <td>143966.666667</td>\n      <td>142566.666667</td>\n      <td>143233.333333</td>\n      <td>141950.0</td>\n    </tr>\n    <tr>\n      <th>...</th>\n      <th>...</th>\n      <td>...</td>\n      <td>...</td>\n      <td>...</td>\n      <td>...</td>\n      <td>...</td>\n      <td>...</td>\n      <td>...</td>\n      <td>...</td>\n      <td>...</td>\n      <td>...</td>\n      <td>...</td>\n      <td>...</td>\n      <td>...</td>\n      <td>...</td>\n      <td>...</td>\n      <td>...</td>\n      <td>...</td>\n      <td>...</td>\n      <td>...</td>\n      <td>...</td>\n      <td>...</td>\n    </tr>\n    <tr>\n      <th rowspan=\"5\" valign=\"top\">Wyoming</th>\n      <th>Burns</th>\n      <td>101533.333333</td>\n      <td>104566.666667</td>\n      <td>108366.666667</td>\n      <td>113000.000000</td>\n      <td>115833.333333</td>\n      <td>117200.000000</td>\n      <td>117800.000000</td>\n      <td>117633.333333</td>\n      <td>117333.333333</td>\n      <td>117233.333333</td>\n      <td>...</td>\n      <td>168866.666667</td>\n      <td>161933.333333</td>\n      <td>160433.333333</td>\n      <td>162600.000000</td>\n      <td>163066.666667</td>\n      <td>164600.000000</td>\n      <td>164300.000000</td>\n      <td>168266.666667</td>\n      <td>171600.000000</td>\n      <td>170500.0</td>\n    </tr>\n    <tr>\n      <th>Casper</th>\n      <td>89233.333333</td>\n      <td>89600.000000</td>\n      <td>89733.333333</td>\n      <td>93166.666667</td>\n      <td>95500.000000</td>\n      <td>97633.333333</td>\n      <td>99433.333333</td>\n      <td>100633.333333</td>\n      <td>101733.333333</td>\n      <td>101533.333333</td>\n      <td>...</td>\n      <td>175766.666667</td>\n      <td>177300.000000</td>\n      <td>181000.000000</td>\n      <td>182066.666667</td>\n      <td>182633.333333</td>\n      <td>183300.000000</td>\n      <td>182700.000000</td>\n      <td>184333.333333</td>\n      <td>185166.666667</td>\n      <td>184350.0</td>\n    </tr>\n    <tr>\n      <th>Cheyenne</th>\n      <td>116866.666667</td>\n      <td>120033.333333</td>\n      <td>121533.333333</td>\n      <td>123633.333333</td>\n      <td>125533.333333</td>\n      <td>126300.000000</td>\n      <td>126466.666667</td>\n      <td>128133.333333</td>\n      <td>128466.666667</td>\n      <td>129633.333333</td>\n      <td>...</td>\n      <td>177466.666667</td>\n      <td>176733.333333</td>\n      <td>178766.666667</td>\n      <td>181700.000000</td>\n      <td>183266.666667</td>\n      <td>186766.666667</td>\n      <td>190666.666667</td>\n      <td>194433.333333</td>\n      <td>196500.000000</td>\n      <td>199100.0</td>\n    </tr>\n    <tr>\n      <th>Evansville</th>\n      <td>128033.333333</td>\n      <td>128766.666667</td>\n      <td>130833.333333</td>\n      <td>132066.666667</td>\n      <td>130566.666667</td>\n      <td>131433.333333</td>\n      <td>132400.000000</td>\n      <td>133466.666667</td>\n      <td>133300.000000</td>\n      <td>131066.666667</td>\n      <td>...</td>\n      <td>296733.333333</td>\n      <td>305666.666667</td>\n      <td>309500.000000</td>\n      <td>307300.000000</td>\n      <td>303166.666667</td>\n      <td>300966.666667</td>\n      <td>304200.000000</td>\n      <td>309433.333333</td>\n      <td>309200.000000</td>\n      <td>309050.0</td>\n    </tr>\n    <tr>\n      <th>Pine Bluffs</th>\n      <td>93733.333333</td>\n      <td>95066.666667</td>\n      <td>94633.333333</td>\n      <td>98066.666667</td>\n      <td>103233.333333</td>\n      <td>104600.000000</td>\n      <td>106500.000000</td>\n      <td>104066.666667</td>\n      <td>102233.333333</td>\n      <td>103566.666667</td>\n      <td>...</td>\n      <td>148666.666667</td>\n      <td>154366.666667</td>\n      <td>158100.000000</td>\n      <td>163900.000000</td>\n      <td>167433.333333</td>\n      <td>167466.666667</td>\n      <td>169200.000000</td>\n      <td>166833.333333</td>\n      <td>163800.000000</td>\n      <td>157650.0</td>\n    </tr>\n  </tbody>\n</table>\n<p>10730 rows × 67 columns</p>\n</div>"
     },
     "metadata": {},
     "execution_count": 452
    }
   ],
   "source": [
    "def convert_housing_data_to_quarters():\n",
    "    '''Converts the housing data to quarters and returns it as mean \n",
    "    values in a dataframe. This dataframe should be a dataframe with\n",
    "    columns for 2000q1 through 2016q3, and should have a multi-index\n",
    "    in the shape of [\"State\",\"RegionName\"].\n",
    "    \n",
    "    Note: Quarters are defined in the assignment description, they are\n",
    "    not arbitrary three month periods.\n",
    "    \n",
    "    The resulting dataframe should have 67 columns, and 10,730 rows.\n",
    "    '''\n",
    "    homes = pd.read_csv('City_Zhvi_AllHomes.csv') \n",
    "    homes = homes.drop(homes.columns[homes.columns.get_loc('1996-04'):homes.columns.get_loc('2000-01')],axis = 1)\n",
    "    homes = homes.drop(homes.columns[[0,3,4,5]],axis=1)\n",
    "    homes['State'] = [states[i] for i in homes['State']]\n",
    "    # all_homes = all_homes['State']\n",
    "    all1 = homes[['State','RegionName']]\n",
    "    all2 = homes.iloc[:,2:]\n",
    "    merge = pd.merge(all1,all2,left_index=True,right_index=True,how='outer')\n",
    "    merge = merge.set_index(['State','RegionName']).sort_index()\n",
    "\n",
    "    merge = merge.groupby(quarter, axis=1).mean()\n",
    "    \n",
    "    return merge\n",
    "convert_housing_data_to_quarters()"
   ]
  },
  {
   "cell_type": "code",
   "execution_count": 508,
   "metadata": {},
   "outputs": [
    {
     "output_type": "execute_result",
     "data": {
      "text/plain": "(True, 0.0020996596579520525, 'university town')"
     },
     "metadata": {},
     "execution_count": 508
    }
   ],
   "source": [
    "def run_ttest():    \n",
    "    unitowns = get_list_of_university_towns()\n",
    "    bottom = get_recession_bottom()\n",
    "    start = get_recession_start()\n",
    "    hdata = convert_housing_data_to_quarters()\n",
    "    bstart = hdata.columns[hdata.columns.get_loc(start) -1]\n",
    "    \n",
    "    hdata['ratio'] = hdata[bottom] - hdata[bstart]\n",
    "    hdata = hdata[[bottom,bstart,'ratio']]\n",
    "    hdata = hdata.reset_index()\n",
    "    unitowns_hdata = pd.merge(hdata,unitowns,how='inner',on=['State','RegionName'])\n",
    "    unitowns_hdata['uni'] = True\n",
    "    hdata2 = pd.merge(hdata,unitowns_hdata,how='outer',on=['State','RegionName',bottom,bstart,'ratio'])\n",
    "    hdata2['uni'] = hdata2['uni'].fillna(False)\n",
    "\n",
    "    ut = hdata2[hdata2['uni'] == True]\n",
    "    nut = hdata2[hdata2['uni'] == False]\n",
    "\n",
    "    t,p = ttest_ind(ut['ratio'].dropna(),nut['ratio'].dropna())\n",
    "    \n",
    "    different = True if p < 0.01 else False\n",
    "\n",
    "    better = \"non-university town\" if ut['ratio'].mean() < nut['ratio'].mean() else \"university town\"\n",
    "\n",
    "    return different, p, better\n",
    "\n",
    "run_ttest()"
   ]
  },
  {
   "cell_type": "code",
   "execution_count": null,
   "metadata": {},
   "outputs": [],
   "source": []
  },
  {
   "cell_type": "code",
   "execution_count": 511,
   "metadata": {},
   "outputs": [
    {
     "output_type": "execute_result",
     "data": {
      "text/plain": "0.0020996596579520525"
     },
     "metadata": {},
     "execution_count": 511
    }
   ],
   "source": [
    "bottom_of_recession = get_recession_bottom()\n",
    "data_to_quarter = convert_housing_data_to_quarters()\n",
    "state_town_df = get_list_of_university_towns()\n",
    "start_of_recession = get_recession_start()\n",
    "\n",
    "new_start = data_to_quarter.columns[data_to_quarter.columns.get_loc(start_of_recession) -1]\n",
    "data_to_quarter['Ratio'] = data_to_quarter[bottom_of_recession] - data_to_quarter[new_start]\n",
    "data_to_quarter = data_to_quarter[['Ratio', bottom_of_recession, new_start]]\n",
    "data_to_quarter.reset_index(inplace=True)\n",
    "merge_state_town_df_data_to_quarter = pd.merge(state_town_df, data_to_quarter,on=['State','RegionName'],how='inner')\n",
    "merge_state_town_df_data_to_quarter['merge_uni'] = True\n",
    "# merge_state_town_df_data_to_quarter\n",
    "new_merge_data_to_quarter_2 = pd.merge(merge_state_town_df_data_to_quarter, data_to_quarter,on=['State','RegionName','Ratio',new_start,bottom_of_recession],how='outer')\n",
    "\n",
    "new_merge_data_to_quarter_2['merge_uni'].fillna(False, inplace=True)\n",
    "# new_merge_data_to_quarter_2\n",
    "\n",
    "true_merge_uni = new_merge_data_to_quarter_2[new_merge_data_to_quarter_2['merge_uni']==True]\n",
    "false_merge_uni =new_merge_data_to_quarter_2[new_merge_data_to_quarter_2['merge_uni']==False]\n",
    "\n",
    "\n",
    "t_dropna = true_merge_uni['Ratio'].dropna()\n",
    "p_dropna = false_merge_uni['Ratio'].dropna()\n",
    "\n",
    "\n",
    "test_t,test_p = ttest_ind(t_dropna, p_dropna)\n",
    "# (p_dropna)\n",
    "diff = True if test_p < 0.01 else False\n",
    "\n",
    "who_is_better = \"non-university town\" if true_merge_uni['Ratio'].mean() < false_merge_uni['Ratio'].mean() else \"university town\"\n",
    "test_p"
   ]
  },
  {
   "cell_type": "code",
   "execution_count": 470,
   "metadata": {},
   "outputs": [
    {
     "output_type": "execute_result",
     "data": {
      "text/plain": "'2008q2'"
     },
     "metadata": {},
     "execution_count": 470
    }
   ],
   "source": [
    "new_start = data_to_quarter.columns[data_to_quarter.columns.get_loc(start_of_recession) -1]\n",
    "# data_to_quarter['2008q2']\n",
    "new_start"
   ]
  },
  {
   "cell_type": "code",
   "execution_count": 469,
   "metadata": {},
   "outputs": [
    {
     "output_type": "execute_result",
     "data": {
      "text/plain": "'2008q2'"
     },
     "metadata": {},
     "execution_count": 469
    }
   ],
   "source": [
    "data_to_quarter.columns[33]"
   ]
  },
  {
   "cell_type": "code",
   "execution_count": null,
   "metadata": {},
   "outputs": [],
   "source": []
  }
 ]
}