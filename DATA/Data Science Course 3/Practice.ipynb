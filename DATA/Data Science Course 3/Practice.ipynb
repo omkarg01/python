{
 "cells": [
  {
   "cell_type": "code",
   "execution_count": 1,
   "metadata": {},
   "outputs": [],
   "source": [
    "import numpy as np\n",
    "import pandas as pd\n",
    "import matplotlib.pyplot as plt\n",
    "import seaborn as sns\n",
    "%matplotlib inline"
   ]
  },
  {
   "cell_type": "code",
   "execution_count": 2,
   "metadata": {},
   "outputs": [],
   "source": [
    "companies = pd.read_csv('1000_Companies.csv')"
   ]
  },
  {
   "cell_type": "code",
   "execution_count": 17,
   "metadata": {},
   "outputs": [],
   "source": [
    "X = companies.iloc[:,:-1].values\n",
    "y = companies.iloc[:, 4].values"
   ]
  },
  {
   "cell_type": "code",
   "execution_count": 4,
   "metadata": {},
   "outputs": [
    {
     "data": {
      "text/plain": [
       "<AxesSubplot:>"
      ]
     },
     "execution_count": 4,
     "metadata": {},
     "output_type": "execute_result"
    },
    {
     "data": {
      "image/png": "[encoded data removed]",
      "text/plain": [
       "<Figure size 432x288 with 2 Axes>"
      ]
     },
     "metadata": {
      "needs_background": "light"
     },
     "output_type": "display_data"
    }
   ],
   "source": [
    "sns.heatmap(companies.corr())"
   ]
  },
  {
   "cell_type": "code",
   "execution_count": 15,
   "metadata": {},
   "outputs": [
    {
     "data": {
      "text/html": [
       "<div>\n",
       "<style scoped>\n",
       "    .dataframe tbody tr th:only-of-type {\n",
       "        vertical-align: middle;\n",
       "    }\n",
       "\n",
       "    .dataframe tbody tr th {\n",
       "        vertical-align: top;\n",
       "    }\n",
       "\n",
       "    .dataframe thead th {\n",
       "        text-align: right;\n",
       "    }\n",
       "</style>\n",
       "<table border=\"1\" class=\"dataframe\">\n",
       "  <thead>\n",
       "    <tr style=\"text-align: right;\">\n",
       "      <th></th>\n",
       "      <th>R&amp;D Spend</th>\n",
       "      <th>Administration</th>\n",
       "      <th>Marketing Spend</th>\n",
       "      <th>State</th>\n",
       "      <th>Profit</th>\n",
       "    </tr>\n",
       "  </thead>\n",
       "  <tbody>\n",
       "    <tr>\n",
       "      <th>0</th>\n",
       "      <td>165349.20</td>\n",
       "      <td>136897.80</td>\n",
       "      <td>471784.10</td>\n",
       "      <td>New York</td>\n",
       "      <td>192261.83</td>\n",
       "    </tr>\n",
       "    <tr>\n",
       "      <th>1</th>\n",
       "      <td>162597.70</td>\n",
       "      <td>151377.59</td>\n",
       "      <td>443898.53</td>\n",
       "      <td>California</td>\n",
       "      <td>191792.06</td>\n",
       "    </tr>\n",
       "    <tr>\n",
       "      <th>2</th>\n",
       "      <td>153441.51</td>\n",
       "      <td>101145.55</td>\n",
       "      <td>407934.54</td>\n",
       "      <td>Florida</td>\n",
       "      <td>191050.39</td>\n",
       "    </tr>\n",
       "    <tr>\n",
       "      <th>3</th>\n",
       "      <td>144372.41</td>\n",
       "      <td>118671.85</td>\n",
       "      <td>383199.62</td>\n",
       "      <td>New York</td>\n",
       "      <td>182901.99</td>\n",
       "    </tr>\n",
       "    <tr>\n",
       "      <th>4</th>\n",
       "      <td>142107.34</td>\n",
       "      <td>91391.77</td>\n",
       "      <td>366168.42</td>\n",
       "      <td>Florida</td>\n",
       "      <td>166187.94</td>\n",
       "    </tr>\n",
       "    <tr>\n",
       "      <th>5</th>\n",
       "      <td>131876.90</td>\n",
       "      <td>99814.71</td>\n",
       "      <td>362861.36</td>\n",
       "      <td>New York</td>\n",
       "      <td>156991.12</td>\n",
       "    </tr>\n",
       "    <tr>\n",
       "      <th>6</th>\n",
       "      <td>134615.46</td>\n",
       "      <td>147198.87</td>\n",
       "      <td>127716.82</td>\n",
       "      <td>California</td>\n",
       "      <td>156122.51</td>\n",
       "    </tr>\n",
       "    <tr>\n",
       "      <th>7</th>\n",
       "      <td>130298.13</td>\n",
       "      <td>145530.06</td>\n",
       "      <td>323876.68</td>\n",
       "      <td>Florida</td>\n",
       "      <td>155752.60</td>\n",
       "    </tr>\n",
       "    <tr>\n",
       "      <th>8</th>\n",
       "      <td>120542.52</td>\n",
       "      <td>148718.95</td>\n",
       "      <td>311613.29</td>\n",
       "      <td>New York</td>\n",
       "      <td>152211.77</td>\n",
       "    </tr>\n",
       "    <tr>\n",
       "      <th>9</th>\n",
       "      <td>123334.88</td>\n",
       "      <td>108679.17</td>\n",
       "      <td>304981.62</td>\n",
       "      <td>California</td>\n",
       "      <td>149759.96</td>\n",
       "    </tr>\n",
       "  </tbody>\n",
       "</table>\n",
       "</div>"
      ],
      "text/plain": [
       "   R&D Spend  Administration  Marketing Spend       State     Profit\n",
       "0  165349.20       136897.80        471784.10    New York  192261.83\n",
       "1  162597.70       151377.59        443898.53  California  191792.06\n",
       "2  153441.51       101145.55        407934.54     Florida  191050.39\n",
       "3  144372.41       118671.85        383199.62    New York  182901.99\n",
       "4  142107.34        91391.77        366168.42     Florida  166187.94\n",
       "5  131876.90        99814.71        362861.36    New York  156991.12\n",
       "6  134615.46       147198.87        127716.82  California  156122.51\n",
       "7  130298.13       145530.06        323876.68     Florida  155752.60\n",
       "8  120542.52       148718.95        311613.29    New York  152211.77\n",
       "9  123334.88       108679.17        304981.62  California  149759.96"
      ]
     },
     "execution_count": 15,
     "metadata": {},
     "output_type": "execute_result"
    }
   ],
   "source": [
    "companies.head(10)"
   ]
  },
  {
   "cell_type": "code",
   "execution_count": 20,
   "metadata": {},
   "outputs": [
    {
     "data": {
      "text/plain": [
       "array([[165349.2, 136897.8, 471784.1, 2],\n",
       "       [162597.7, 151377.59, 443898.53, 0],\n",
       "       [153441.51, 101145.55, 407934.54, 1],\n",
       "       ...,\n",
       "       [100275.47, 241926.31, 227142.82, 0],\n",
       "       [128456.23, 321652.14, 281692.32, 0],\n",
       "       [161181.72, 270939.86, 295442.17, 2]], dtype=object)"
      ]
     },
     "execution_count": 20,
     "metadata": {},
     "output_type": "execute_result"
    }
   ],
   "source": [
    "from sklearn.preprocessing import LabelEncoder, OneHotEncoder\n",
    "labelencoder = LabelEncoder()\n",
    "X[:,3] = labelencoder.fit_transform(X[:,3])\n",
    "X"
   ]
  },
  {
   "cell_type": "code",
   "execution_count": 57,
   "metadata": {},
   "outputs": [],
   "source": [
    "ohe = OneHotEncoder(categories = list(companies['State']))"
   ]
  },
  {
   "cell_type": "code",
   "execution_count": 67,
   "metadata": {},
   "outputs": [],
   "source": [
    "from sklearn.compose import ColumnTransformer\n",
    "\n",
    "a = ColumnTransformer([('ohe',OneHotEncoder(categories = 'auto'),[3])], remainder='passthrough'  )\n",
    "X = a.fit_transform(X).toarray()"
   ]
  },
  {
   "cell_type": "code",
   "execution_count": 82,
   "metadata": {},
   "outputs": [
    {
     "data": {
      "text/plain": [
       "array([[0.0000000e+00, 0.0000000e+00, 0.0000000e+00, ..., 1.0000000e+00,\n",
       "        1.6534920e+05, 4.7178410e+05],\n",
       "       [0.0000000e+00, 0.0000000e+00, 0.0000000e+00, ..., 0.0000000e+00,\n",
       "        1.6259770e+05, 4.4389853e+05],\n",
       "       [0.0000000e+00, 0.0000000e+00, 0.0000000e+00, ..., 0.0000000e+00,\n",
       "        1.5344151e+05, 4.0793454e+05],\n",
       "       ...,\n",
       "       [0.0000000e+00, 0.0000000e+00, 0.0000000e+00, ..., 0.0000000e+00,\n",
       "        1.0027547e+05, 2.2714282e+05],\n",
       "       [0.0000000e+00, 0.0000000e+00, 0.0000000e+00, ..., 0.0000000e+00,\n",
       "        1.2845623e+05, 2.8169232e+05],\n",
       "       [0.0000000e+00, 0.0000000e+00, 0.0000000e+00, ..., 1.0000000e+00,\n",
       "        1.6118172e+05, 2.9544217e+05]])"
      ]
     },
     "execution_count": 82,
     "metadata": {},
     "output_type": "execute_result"
    }
   ],
   "source": [
    "X = X[:, 1:]\n",
    "X"
   ]
  },
  {
   "cell_type": "code",
   "execution_count": 74,
   "metadata": {},
   "outputs": [],
   "source": [
    "from sklearn.model_selection import train_test_split\n",
    "X_train, X_test, y_train, y_test = train_test_split(X, y, test_size = 0.2, random_state = 0)"
   ]
  },
  {
   "cell_type": "code",
   "execution_count": 83,
   "metadata": {},
   "outputs": [
    {
     "data": {
      "text/plain": [
       "LinearRegression()"
      ]
     },
     "execution_count": 83,
     "metadata": {},
     "output_type": "execute_result"
    }
   ],
   "source": [
    "from sklearn.linear_model import LinearRegression\n",
    "regressor = LinearRegression()\n",
    "regressor.fit(X_train, y_train)"
   ]
  },
  {
   "cell_type": "code",
   "execution_count": 84,
   "metadata": {},
   "outputs": [
    {
     "data": {
      "text/plain": [
       "array([ 87924.84391361,  86489.20128119,  93298.79125962, 178599.6684166 ,\n",
       "        78736.85911718, 107333.16166757, 122674.63376972,  89696.58411539,\n",
       "       164214.96686885,  49666.49245998,  63876.70056516, 152157.28154831,\n",
       "       127012.45053721,  55861.85743214, 180286.62765684,  70213.352169  ,\n",
       "       118130.1118869 , 166662.9302712 , 148787.73447224, 182610.88852352,\n",
       "        87438.68299418,  83586.29395246, 184192.25989226,  81980.79555451,\n",
       "       103944.5918052 ,  99972.85802071,  36193.30594738,  50803.71684485,\n",
       "        65925.81162687, 198924.85174346, 120794.49836393, 111018.90380335,\n",
       "        97768.83640748, 138883.23406003,  60738.88631535, 108000.34998975,\n",
       "       186765.12690327, 174137.34058006, 177508.25476494, 117522.96787244,\n",
       "        92760.80175029, 167587.19862081, 106806.84217078,  46478.08287874,\n",
       "       116304.16239402,  55119.19019621, 160422.39089156,  76323.90950553,\n",
       "       161802.92073464, 131701.4069779 , 188285.96457644, 177471.21175317,\n",
       "        92089.02066996,  73398.14780724, 177734.37350084,  82557.074056  ,\n",
       "       144086.42215266, 170554.74301545,  79740.63441736, 101790.26204381,\n",
       "       142779.97832273,  46219.41811272, 142729.52990942, 137450.03473835,\n",
       "        96878.4111975 , 113222.3644109 , 124371.14067514, 151094.51235467,\n",
       "        52891.67789502, 177130.59673419, 124600.13725021, 171391.78710319,\n",
       "        89735.28718681, 155342.71350078,  82151.55480794,  72910.26421864,\n",
       "       120410.51590794,  89232.68062958, 139757.9574738 , 144584.39102352,\n",
       "       173827.44415797, 140876.47577103, 102908.78034103, 157257.61891222,\n",
       "       138349.00541812, 106913.03969805,  66743.46838038,  83724.11355407,\n",
       "       140929.78157424, 147244.74946998, 157181.31183378,  55014.3855737 ,\n",
       "        89576.90961029, 112232.14142833,  50461.29484602, 104009.22887104,\n",
       "       148773.71853368, 151103.54723306, 167595.81941996, 118415.76105339,\n",
       "       120778.23557246, 140010.78723564, 156772.0317183 , 122040.40848792,\n",
       "        82611.01618387, 103963.41813373,  91290.82656967, 178736.73145679,\n",
       "       184949.52985585, 106553.45142407, 167378.49285741, 170065.46653042,\n",
       "       157271.66064879, 174939.37087712, 172582.58444826,  48454.15831874,\n",
       "       179680.38713025, 103677.15932186,  80470.16341075, 137149.17319466,\n",
       "       145532.90663912, 163857.45273375, 172262.60273352, 120449.36590575,\n",
       "       160911.17795761, 109427.86122121, 169560.9060815 ,  57359.84073887,\n",
       "       160832.72141092, 159919.29492576, 174653.86862667, 155473.71927891,\n",
       "       102584.8421824 ,  81078.70033201, 142477.45672976, 165605.43508854,\n",
       "       121219.13778305, 152409.63589632,  99449.59147999,  80067.96428195,\n",
       "       181475.61802623, 100559.22181486,  65150.20473292,  85936.75596645,\n",
       "        55400.66440984,  63470.62032182,  70253.37280748, 179655.08946038,\n",
       "        88077.3864838 ,  93035.78338154,  91202.55190391,  90867.37051827,\n",
       "       175361.71391196,  57499.88139848, 171582.27617301, 168637.95529897,\n",
       "       167802.08187265, 101202.35843718, 182111.25959303,  71229.13998468,\n",
       "        89479.74697184, 136358.13167808,  59270.3040415 ,  66485.56018406,\n",
       "        54723.04831906, 187662.55777053, 179237.53102793, 158224.84061962,\n",
       "       139748.50851619, 153701.07558927,  52560.09775442,  89039.60133301,\n",
       "       151884.1609748 , 170931.76472156,  67232.74485502, 115830.73462125,\n",
       "        77951.99509941, 148665.93628657, 113897.90636908, 130461.96818481,\n",
       "       177392.60829045, 179302.00340785, 147391.52862059, 149526.96046673,\n",
       "        84289.96428075,  67296.25618769,  67432.68289281,  66070.36972255,\n",
       "       117961.79594416,  85334.12938083, 169274.76750642, 125537.9579278 ,\n",
       "        61678.09987895, 165701.6952915 , 118198.92390981, 168056.1089544 ,\n",
       "       171202.81116659, 148169.4318988 , 139787.35850362, 105769.22373097])"
      ]
     },
     "execution_count": 84,
     "metadata": {},
     "output_type": "execute_result"
    }
   ],
   "source": [
    "y_pred = regressor.predict(X_test)\n",
    "y_pred"
   ]
  },
  {
   "cell_type": "code",
   "execution_count": 85,
   "metadata": {},
   "outputs": [
    {
     "data": {
      "text/plain": [
       "array([ 1.24701705e+04, -2.78015937e+03,  3.28924840e+03,  7.48876500e+03,\n",
       "       -9.57275876e+03,  9.03962649e+03,  1.00498248e+03,  4.49085243e+03,\n",
       "        1.24991675e-05,  2.98268649e+03, -2.34667592e+03, -8.21790756e+03,\n",
       "       -7.13094284e+03,  1.28517282e+04,  6.53661175e+03,  6.53395512e+03,\n",
       "        6.51599830e+03,  2.09262407e-06,  3.27653663e+03,  3.27599546e+03,\n",
       "        6.46832665e+03,  3.94438913e+03,  3.94379877e+03,  6.46444011e+03,\n",
       "        3.25685793e+03,  6.44441704e+03,  4.60820502e-08,  3.22360092e+03,\n",
       "        6.42055661e+03,  6.41253753e+03,  3.88677974e+03,  3.19988809e+03,\n",
       "        3.19088509e+03,  1.23787913e-08,  3.17647044e+03,  6.35768316e+03,\n",
       "        6.35492814e+03,  6.34513799e+03, -6.80950052e-09,  3.12363313e+03,\n",
       "        3.78405692e+03,  3.78066234e+03,  3.77569347e+03,  6.29623642e+03,\n",
       "        6.29303862e+03,  6.25663303e+03,  3.73156398e+03,  6.25323845e+03,\n",
       "        3.72467644e+03,  3.71867443e+03,  6.23966015e+03,  6.21683286e+03,\n",
       "        6.21579973e+03,  6.20832183e+03,  6.20482885e+03,  2.98027379e+03,\n",
       "       -9.38962330e-09,  2.94362222e+03,  2.94288427e+03,  6.14972849e+03,\n",
       "        2.93919451e+03,  1.00360467e-08,  2.93117543e+03,  2.92679692e+03,\n",
       "        2.92241842e+03,  6.12271948e+03,  3.58805706e+03,  3.58358016e+03,\n",
       "       -4.08954293e-09,  1.45064405e-10,  2.86274276e+03,  2.86023372e+03,\n",
       "        8.97807695e-09,  3.51878803e+03,  2.49469849e-08,  2.82791146e+03,\n",
       "        4.53292159e-09,  2.81762934e+03,  2.80252593e+03,  3.48435031e+03,\n",
       "        3.48066055e+03,  2.79578598e+03,  2.77886230e+03,  2.77138439e+03,\n",
       "        3.45443868e+03,  2.76921974e+03,  2.75898681e+03,  2.75416553e+03,\n",
       "        2.16573426e-09, -1.59930096e-08,  3.42078811e+03,  5.94128186e+03,\n",
       "       -5.78847903e-09,  3.39190962e+03,  2.70334528e+03,  1.09685061e-08,\n",
       "        3.36677008e+03,  3.36175201e+03,  5.85194056e+03,  5.83678796e+03,\n",
       "        3.29622193e+03,  5.78665648e+03,  1.77112991e-08,  5.77051994e+03,\n",
       "        2.54699801e+03,  3.22646094e+03,  3.22232841e+03,  5.73878803e+03,\n",
       "        3.21288264e+03,  3.19153125e+03,  2.49450507e+03,  3.17293487e+03,\n",
       "        2.48323902e+03, -1.57106115e-08,  3.15601119e+03,  3.15424011e+03,\n",
       "        5.67197884e+03,  3.14361361e+03,  3.14228529e+03,  5.66425496e+03,\n",
       "        5.66218869e+03,  5.64974191e+03,  5.64733127e+03,  3.11581745e+03,\n",
       "        3.11124215e+03,  3.10715882e+03,  3.10405942e+03,  5.61884635e+03,\n",
       "       -1.09112079e-08,  2.39183145e+03,  5.58150601e+03,  2.34332346e+03,\n",
       "       -7.62474883e-09,  5.54544480e+03,  3.01161873e+03,  5.51946891e+03,\n",
       "        2.99056252e+03,  2.28797712e+03,  1.89374987e-08, -1.50812411e-08,\n",
       "        2.26406749e+03,  2.94397319e+03,  2.25865585e+03,  2.25658958e+03,\n",
       "        5.46269586e+03, -4.65957614e+03,  2.24694702e+03,  1.44123078e-08,\n",
       "        1.85464160e-08,  2.23331952e+03,  5.38919591e+03,  1.93722371e-08,\n",
       "        2.16867499e+03,  2.85202446e+03, -1.86471425e-08,  1.44791557e-08,\n",
       "       -8.68786720e+03,  2.15002942e+03,  2.13005554e+03,  2.79495623e+03,\n",
       "        5.30969397e+03,  2.08312184e+03, -9.74978320e-10,  2.75756670e+03,\n",
       "        5.25429842e+03,  1.08429958e-08,  5.23880145e+03,  2.71309284e+03,\n",
       "        2.70861594e+03,  5.22364884e+03, -7.37452410e-09,  2.00037290e+03,\n",
       "        2.66010794e+03,  2.65115414e+03,  5.17066395e+03,  1.96032675e+03,\n",
       "        7.85075827e-09,  2.64175755e+03,  5.15556054e+03,  5.14660673e+03,\n",
       "        1.93302256e+03,  1.92721734e+03,  1.92421633e+03,  2.60682785e+03,\n",
       "        2.56259998e+03, -1.28370630e-08,  5.07536984e+03,  2.52240624e+03,\n",
       "        2.51960203e+03,  5.03020723e+03,  1.81598348e+03,  5.02174538e+03,\n",
       "        1.80845638e+03,  1.80511100e+03,  2.48349161e+03,  1.77790520e+03,\n",
       "        4.97820625e+03,  1.76496644e+03,  2.44216633e+03,  2.42686614e+03,\n",
       "        4.94957374e+03,  2.42455389e+03,  1.73067631e+03,  1.81171345e-09,\n",
       "        4.91941613e+03,  7.57518137e-09,  4.90480470e+03,  2.10966391e-08,\n",
       "        7.78891263e-09,  2.33821360e+03,  4.86082281e+03,  2.33058810e+03,\n",
       "        1.63420148e+03,  4.82973046e+03,  2.30210319e+03,  4.82476159e+03,\n",
       "        2.30126683e+03, -2.01110318e+04,  4.81044534e+03,  1.60232198e+03,\n",
       "        1.60143645e+03,  2.28409717e+03, -2.09638529e-08,  2.26117149e+03,\n",
       "        2.25920361e+03,  4.76670943e+03,  4.76356084e+03,  4.74570241e+03,\n",
       "        4.72203877e+03,  1.50107507e+03, -3.40060069e-09,  1.48203593e+03,\n",
       "        5.38148015e-09,  1.46309518e+03,  4.66777475e+03,  4.66393741e+03,\n",
       "        2.10718566e+03,  9.01854946e-09,  1.70530257e-09,  1.40779803e+03,\n",
       "        1.35460141e-08,  2.08106218e+03,  1.47663286e-08,  2.03811341e+03,\n",
       "        1.34398985e+03, -7.11602866e-09,  1.33218263e+03,  4.53764934e+03,\n",
       "        1.32923082e+03, -1.17452146e-08,  1.99644376e+03,  1.28770877e+03,\n",
       "       -7.06768333e-09,  1.95802110e+03,  4.47728493e+03,  1.95379019e+03,\n",
       "        4.46887229e+03,  1.25479614e+03,  1.19143806e-08,  1.24259535e+03,\n",
       "        1.22532729e+03,  4.43089240e+03,  4.42430004e+03, -2.85100118e+04,\n",
       "        4.41086932e+03, -2.13458407e-08,  1.88452115e+03,  1.19659638e+03,\n",
       "        4.39734022e+03,  4.39729102e+03,  1.18523194e+03, -2.36232154e-08,\n",
       "        4.36865851e+03,  1.14385747e+03,  1.21872290e-10,  1.82479631e+03,\n",
       "        1.12801611e+03,  4.32462742e+03,  1.79542585e+03,  4.31498486e+03,\n",
       "        1.78863669e+03,  4.30986839e+03,  1.77943690e+03,  1.77363168e+03,\n",
       "        1.19252945e-08,  4.26259032e+03,  1.05427019e+03, -1.05646905e-08,\n",
       "       -4.74756234e-09,  1.71922007e+03,  1.70810161e+03, -1.02080548e-08,\n",
       "        1.01230536e+03,  1.07593223e-08,  1.68301126e+03,  9.98579461e+02,\n",
       "        3.38877726e-09, -8.42737791e-09,  1.66780947e+03,  1.64877032e+03,\n",
       "        4.16754218e+03,  4.16572191e+03,  1.97578629e-08,  1.63135468e+03,\n",
       "        1.62087577e+03,  1.61989183e+03,  4.14171389e+03,  1.61128240e+03,\n",
       "        4.13103820e+03,  9.16420883e+02,  8.98464068e+02,  4.10112658e+03,\n",
       "        4.09404224e+03,  1.57025231e+03,  1.53704605e-09,  1.54717903e+03,\n",
       "        8.62107667e+02,  6.00994099e-09, -6.11362339e-09, -1.81571522e-08,\n",
       "        7.96134832e+02, -1.23764039e-08,  7.82999286e+02,  7.82802505e+02,\n",
       "        1.46556163e+03,  7.78227215e+02,  7.76849705e+02,  1.46044517e+03,\n",
       "        7.66567575e+02,  3.95068292e+03,  3.94546805e+03,  1.41788998e+03,\n",
       "        1.41616808e+03,  7.31597538e-09,  3.93425120e+03,  7.26226249e+02,\n",
       "        1.39545626e+03,  1.57588344e+03,  1.35649243e+03,  6.30253972e+03,\n",
       "        3.85819301e+03, -8.14179657e-09,  6.39049600e+02,  3.82031152e+03,\n",
       "        1.29165110e+03,  6.05743396e+02,  3.80835671e+03, -2.37826043e-08,\n",
       "        5.92657068e+02,  5.86113894e+02,  5.76323742e+02,  1.25622944e+03,\n",
       "        5.62155082e+02,  5.48379984e+02,  3.75360072e+03,  3.75089490e+03,\n",
       "        3.74971418e+03,  1.22484193e+03,  1.20895137e+03,  5.23043662e+02,\n",
       "        1.19419235e+03,  5.00413161e+02,  4.96034642e+02,  1.17869536e+03,\n",
       "        3.70125538e+03,  1.17751464e+03,  1.17166023e+03,  4.59776638e+02,\n",
       "       -1.63486220e-08,  4.29323819e+02, -1.20198820e-08,  1.10455588e+03,\n",
       "        4.14466409e+02,  4.10678325e+02, -1.38434189e-08,  1.08133499e+03,\n",
       "        3.95181262e+02,  3.90704448e+02,  3.89966420e+02, -7.75776243e-09,\n",
       "        1.04242039e+03,  1.02495550e+03,  1.01649364e+03, -7.69068720e-09,\n",
       "        3.53034590e+03,  3.51794830e+03,  3.51047040e+03,  9.80678390e+02,\n",
       "        3.50171332e+03,  2.91228557e+02,  2.63219135e-08,  2.82176343e+02,\n",
       "        9.56768866e+02,  9.55883285e+02,  9.51701587e+02,  9.50520879e+02,\n",
       "        3.46673446e+03,  3.46525852e+03,  3.44169331e+03,  3.43652766e+03,\n",
       "       -1.96992005e-08,  2.15317986e+02,  3.74784577e-08,  3.41763612e+03,\n",
       "        1.82405335e+02, -2.38833309e-09,  1.74386276e+02,  3.37473658e+03,\n",
       "        1.66662433e+02, -9.60972102e-09,  8.31366349e+02,  3.34698958e+03,\n",
       "        3.34438210e+03,  3.33980681e+03,  8.11687599e+02,  8.07899404e+02,\n",
       "        3.31471647e+03,  1.04822067e+02,  3.30600867e+03,  7.42602424e-09,\n",
       "        7.79414490e+02,  3.29267638e+03,  7.68000839e+02,  7.63179610e+02,\n",
       "       -6.17365004e-09,  7.34251895e+02, -2.98923624e-08,  7.13343339e+02,\n",
       "        6.96813231e+02,  1.19877753e+01,  3.21760212e+03,  3.20574568e+03,\n",
       "       -5.96628524e-10,  6.53520084e+02,  6.41516079e+02, -5.09840215e+01,\n",
       "        6.26166690e+02,  1.12622729e-08,  6.14113497e+02,  3.12698169e+03,\n",
       "       -8.03053392e+01,  3.12383316e+03,  1.14305294e-08,  1.37169991e-08,\n",
       "        5.81987951e+02,  3.09249482e+03,  1.75600690e-08,  5.61276157e+02,\n",
       "        3.07227490e+03, -1.42391545e+02, -1.20562618e-08, -1.60791200e+02,\n",
       "       -7.20865501e-09, -1.76976893e+02, -1.87013074e+02,  3.01299281e+03,\n",
       "        3.00349791e+03,  3.00123486e+03, -2.16088353e+02, -2.23074267e+02,\n",
       "        2.98091655e+03, -2.39801126e+02,  2.94214952e+03, -8.75206752e-09,\n",
       "       -2.87522010e+02,  2.90180815e+03,  2.88704912e+03, -3.21467816e+02,\n",
       "        6.18716700e+03, -3.26333520e-08,  2.85615358e+03, -3.68204732e+02,\n",
       "        3.10766240e+02, -3.75043073e+02, -3.81930612e+02, -3.98263868e+02,\n",
       "        2.83904824e+02, -4.07709695e+02, -4.52675539e+02,  2.74619883e+03,\n",
       "       -4.65860253e+02,  2.05182005e-08, -4.78848215e+02, -4.81996757e+02,\n",
       "        2.72415875e+03,  3.21597327e-09, -4.97493709e+02,  1.90811988e-08,\n",
       "        2.70044588e+03, -5.27110165e+02,  2.66566377e+03,  2.66192477e+03,\n",
       "       -9.42600309e-09, -1.53413566e-08, -5.64942531e+02,  1.36315066e-08,\n",
       "        2.61720497e+03,  1.61865046e-08, -5.97461579e+02, -6.01446515e+02,\n",
       "        2.57032049e+03, -1.30842335e+04,  2.53937566e+03, -6.82571928e+02,\n",
       "       -8.32382956e+00,  2.51177633e+03, -1.09923302e+04, -7.17255651e+02,\n",
       "       -2.94858182e-09, -2.09856807e-08, -2.16905391e-08, -7.32900177e+02,\n",
       "        1.37515599e-09, -1.04373612e-08, -5.87997427e+01, -7.54399187e+02,\n",
       "       -1.59452611e-08, -7.69256599e+02, -9.86491204e+01, -9.91409988e+01,\n",
       "       -7.84064820e+02, -2.45381671e-09, -1.24280630e+02, -1.46123955e+02,\n",
       "       -1.47501424e+02, -8.45363920e+02, -8.67502482e+02, -1.99207244e+02,\n",
       "        2.30883972e+03, -9.07450236e+02, -2.24691190e+02,  1.39698386e-09,\n",
       "       -9.16994428e+02, -9.43216302e+02,  1.99561327e-08, -2.83678041e+02,\n",
       "       -9.71799603e+02,  2.20596936e+03, -3.28102718e+02, -3.37843662e+02,\n",
       "        2.18314206e+03, -3.51126762e+02, -1.45664671e-08,  2.16508682e+03,\n",
       "        2.16065909e+03, -3.65541482e+02,  2.14698239e+03, -1.06551947e+03,\n",
       "       -1.06802847e+03,  1.60180207e-08,  2.11525056e+03,  2.10678870e+03,\n",
       "        2.10659185e+03,  2.10206574e+03,  2.09212804e+03, -1.12667101e+03,\n",
       "       -4.58129724e+02,  2.06187205e+03, -1.15284369e+03, -1.16155149e+03,\n",
       "       -1.16932461e+03,  1.11294867e-08, -1.17330955e+03,  2.02940219e+03,\n",
       "        1.99486603e+03, -1.21433964e+03, -5.30793387e+02,  1.99152073e+03,\n",
       "       -1.34277798e-08, -1.24331644e+03, -5.68576465e+02, -5.77874618e+02,\n",
       "       -1.26688175e+03,  1.92963118e+03, -1.29782649e+03, -1.30791185e+03,\n",
       "       -6.28842510e+02,  1.42608769e-09, -1.33442885e+03,  1.84299570e+03,\n",
       "       -1.36881744e+03,  1.81401879e+03, -7.31466933e+02, -7.56016110e+02,\n",
       "        1.76575684e+03, -1.44708944e+03, -7.97439709e+02,  1.71287030e+03,\n",
       "       -8.10821274e+02, -8.26564175e+02,  1.68782916e+03, -1.54523695e+03,\n",
       "       -2.84489943e-09,  1.65181715e+03, -1.55999599e+03,  1.64670069e+03,\n",
       "        1.61654307e+03, -1.59522089e+03, -1.59812350e+03, -9.24170608e+02,\n",
       "       -9.37552073e+02, -1.63526701e+03, -1.63693971e+03, -9.67808070e+02,\n",
       "        1.55170172e+03, -9.83354220e+02, -1.70330609e+03, -1.03087834e+03,\n",
       "       -1.03368257e+03,  9.99079930e-10,  9.77524905e-09, -1.73848179e+03,\n",
       "       -1.06211831e+03,  1.06540483e-08, -1.09227582e+03,  1.42728316e+03,\n",
       "       -1.09832706e+03, -1.78320160e+03,  6.45741238e-10,  1.17715899e-08,\n",
       "       -1.10836323e+03,  3.24130269e-08, -6.42376108e-09, -1.13940634e+03,\n",
       "        1.99561327e-08,  1.36263857e+03,  1.34409145e+03, -1.17950166e+03,\n",
       "       -1.86575377e+03, -1.87918452e+03, -1.88307108e+03, -7.60019248e-09,\n",
       "        4.39285941e-10, -1.89920759e+03, -1.89935516e+03, -1.90466837e+03,\n",
       "        1.52833763e-08,  1.29597706e+03,  1.46428647e-09, -1.91706597e+03,\n",
       "        1.28446495e+03, -1.92651180e+03, -1.24611408e+03, -1.93389132e+03,\n",
       "        9.92349669e-09, -1.26948254e+03, -1.27051569e+03, -1.97733203e+03,\n",
       "        1.22597006e+03,  1.21435957e+03,  1.21411363e+03, -1.31331685e+03,\n",
       "        8.32369551e-09,  1.20156846e+03,  2.63025868e-09,  1.19354939e+03,\n",
       "       -1.33024056e+03,  1.18922004e+03,  1.18149620e+03, -2.04109103e+03,\n",
       "       -2.04138616e+03, -1.36172647e+03, -1.39759091e+03,  1.28550255e-08,\n",
       "       -1.40600357e+03,  1.11572008e+03,  1.11089884e+03,  1.09776332e+03,\n",
       "        1.08423419e+03, -2.12585697e+03, -2.12595544e+03, -1.44260594e+03,\n",
       "        1.18491208e+04, -2.14125555e+03,  3.07227310e-09, -2.17623450e+03,\n",
       "       -1.49391815e+03, -1.50351154e+03,  1.01422719e+03, -1.47415449e-08,\n",
       "        1.00094409e+03,  9.83528503e+02,  1.18266070e+04, -1.55029764e+03,\n",
       "       -2.24496231e+03, -1.56382677e+03,  1.98740994e+04, -1.42608769e-08,\n",
       "       -1.61051440e+03,  1.10260032e-08, -1.63481763e+03,  8.53993376e+02,\n",
       "        8.42678101e+02, -2.36598640e+03, -2.37838390e+03,  1.74968591e-08,\n",
       "        8.00959275e+02, -1.11103873e-08, -1.72893101e+03, -2.41631464e+03,\n",
       "       -1.74231258e+03,  3.34948709e-08, -4.48352466e-09, -2.45237584e+03,\n",
       "       -1.77064984e+03,  7.41185208e+02,  7.15652174e+02,  7.47422746e-09,\n",
       "        1.03009370e-08, -1.84478934e+03, -2.53389486e+03, -1.85561262e+03,\n",
       "        6.58977452e+02,  6.56616024e+02, -2.55416396e+03, -2.55563981e+03,\n",
       "        5.63886715e-09, -1.90756438e+03,  6.14897200e+02, -2.59317694e+03,\n",
       "       -1.94977519e+03,  5.61617059e+02, -1.96989673e+03, -2.65703432e+03,\n",
       "        5.48580009e+02,  5.41593994e+02, -2.66628329e+03, -1.28547981e-08,\n",
       "       -2.67558154e+03,  5.31016747e+02, -2.00231740e+03, -4.94537744e-12,\n",
       "       -2.69944199e+03,  4.99629228e+02, -2.05328520e+03, -2.05869690e+03,\n",
       "        1.81898940e-12, -2.76369287e+03,  8.18545232e-12, -2.76787467e+03,\n",
       "       -2.09490565e+03, -2.09692276e+03, -2.10602418e+03, -2.79862254e+03,\n",
       "        4.04974677e+02, -2.82440172e+03,  3.63797881e-12, -7.04858394e-12,\n",
       "        3.60058031e+02,  3.50366265e+02,  0.00000000e+00,  9.56098478e+03,\n",
       "       -2.86213561e+03, -1.45519152e-11,  3.39051000e+02, -3.63797881e-12,\n",
       "       -2.20043267e+03, -2.89490059e+03, -1.04591891e-11, -2.22109528e+03,\n",
       "        6.36646291e-12, -2.91826905e+03,  4.77484718e-12,  2.65846270e+02,\n",
       "       -2.95324801e+03,  2.50546069e+02, -2.27344065e+03, -2.96569480e+03,\n",
       "        2.38788004e+02, -2.28849491e+03,  7.27595761e-12, -2.97858429e+03,\n",
       "        2.06023016e+02, -2.33129608e+03, -2.35397571e+03, -2.35520570e+03,\n",
       "       -2.36529097e+03,  1.52152521e+02, -2.37483516e+03,  1.46396512e+02,\n",
       "       -2.37877091e+03,  1.41329235e+02, -2.39874479e+03, -7.27595761e-12,\n",
       "        1.21552209e+02, -3.08657122e+03,  1.12155580e+02, -2.41276591e+03,\n",
       "        1.03349405e+02,  1.00987978e+02, -2.42826287e+03, -2.44248074e+03,\n",
       "        6.78292771e+01,  6.55170393e+01,  6.32539881e+01, -2.47421257e+03,\n",
       "        4.78062129e+01, -3.17527290e+03,  2.53233461e+01, -3.18255405e+03,\n",
       "        2.02068796e+01,  0.00000000e+00, -2.51662023e+03,  3.03722050e+00,\n",
       "       -2.52119552e+03, -3.21241643e+03, -2.54043138e+03,  0.00000000e+00,\n",
       "        0.00000000e+00, -2.56616137e+03,  0.00000000e+00, -4.59627475e+01,\n",
       "       -3.25566039e+03, -3.27125573e+03, -2.58820146e+03,  0.00000000e+00,\n",
       "       -7.52348773e+01, -8.35982614e+01, -2.61156991e+03,  0.00000000e+00,\n",
       "        0.00000000e+00,  0.00000000e+00, -1.12427601e+02, -3.32246956e+03,\n",
       "       -1.36140375e+02, -3.34569045e+03, -1.62657476e+02, -1.63444565e+02,\n",
       "        0.00000000e+00, -2.69677874e+03,  0.00000000e+00, -3.39833095e+03,\n",
       "       -3.41879681e+03, -3.42548760e+03,  0.00000000e+00, -2.74243331e+03,\n",
       "       -3.42745542e+03, -2.20808033e+02,  0.00000000e+00,  0.00000000e+00,\n",
       "       -2.68873232e+02, -3.47798052e+03,  0.00000000e+00, -2.81123266e+02,\n",
       "       -3.50110304e+03,  0.00000000e+00, -3.00900291e+02, -2.82759286e+03,\n",
       "       -3.51202470e+03,  0.00000000e+00, -2.84481170e+03,  0.00000000e+00,\n",
       "       -3.53726261e+03, -3.53785296e+03, -2.85829164e+03,  0.00000000e+00,\n",
       "       -3.54400257e+03, -2.86758980e+03, -3.55177570e+03, -2.86803259e+03,\n",
       "       -3.48178385e+02, -3.55723648e+03, -3.51031789e+02, -2.87797039e+03,\n",
       "        0.00000000e+00, -3.59649551e+03, -3.96587987e+02, -3.60353060e+03,\n",
       "       -3.60825356e+03,  0.00000000e+00,  0.00000000e+00, -2.96381866e+03,\n",
       "       -3.65833578e+03, -4.54984594e+02, -3.66645331e+03, -2.98777747e+03,\n",
       "        0.00000000e+00, -2.99515700e+03, -3.00696425e+03, -3.71402653e+03,\n",
       "       -5.13528655e+02, -3.72735881e+03, -3.73621427e+03, -5.36946302e+02,\n",
       "       -3.06181861e+03, -3.06349130e+03, -3.76469919e+03, -5.61987456e+02,\n",
       "       -3.76927448e+03, -3.09532161e+03, -3.09601035e+03, -3.11504945e+03,\n",
       "       -3.11711575e+03,  0.00000000e+00,  0.00000000e+00,  0.00000000e+00,\n",
       "        0.00000000e+00,  0.00000000e+00,  0.00000000e+00, -3.14687977e+03,\n",
       "       -3.14727337e+03, -3.86447020e+03, -3.19017292e+03,  0.00000000e+00,\n",
       "       -6.98410121e+02,  0.00000000e+00,  0.00000000e+00, -3.91228947e+03,\n",
       "       -7.09971327e+02,  0.00000000e+00, -3.92330950e+03,  0.00000000e+00,\n",
       "       -3.26308251e+03, -3.95814079e+03, -3.97024317e+03, -7.63694158e+02,\n",
       "       -3.97988574e+03, -4.00532050e+03,  0.00000000e+00, -8.02510391e+02,\n",
       "       -8.11857832e+02, -8.14268447e+02,  0.00000000e+00, -3.37042980e+03,\n",
       "       -4.06927626e+03, -4.08118189e+03, -8.79355730e+02, -8.86882822e+02,\n",
       "       -3.44102715e+03, -3.48333634e+03, -4.17440977e+03, -9.75928918e+02,\n",
       "       -3.50503210e+03,  0.00000000e+00,  0.00000000e+00, -3.51364151e+03,\n",
       "        0.00000000e+00, -3.54015861e+03, -4.22508235e+03, -1.02586367e+03,\n",
       "       -3.55152307e+03, -4.23816868e+03, -4.23969382e+03, -4.24190768e+03,\n",
       "        0.00000000e+00, -3.55949295e+03, -4.26370182e+03, -3.58064754e+03,\n",
       "       -1.06251521e+03, -3.58714147e+03, -1.06654934e+03, -3.59535739e+03,\n",
       "       -1.07909451e+03, -1.09783849e+03, -4.31826104e+03, -1.11338463e+03,\n",
       "       -1.11732039e+03, -4.33075703e+03, -1.17291276e+03,  0.00000000e+00,\n",
       "       -4.38871073e+03, -4.41271884e+03,  0.00000000e+00, -4.41645774e+03,\n",
       "       -4.41936033e+03, -1.21463159e+03, -3.74870367e+03, -3.74998276e+03,\n",
       "       -1.23248997e+03, -3.75810020e+03, -3.75834624e+03, -1.23760644e+03,\n",
       "       -4.45625793e+03, -3.77674579e+03,  0.00000000e+00,  4.06052417e+03,\n",
       "        4.88655281e+03, -8.28714153e+03,  9.11107219e+03,  1.03314152e+03,\n",
       "       -5.82378668e+03, -7.31251186e+03,  9.71341041e+03,  0.00000000e+00,\n",
       "        0.00000000e+00,  0.00000000e+00,  8.45860959e+03,  2.67256870e+04,\n",
       "       -1.02266059e+04,  8.16550388e+03,  0.00000000e+00,  0.00000000e+00,\n",
       "        6.75633793e+03,  2.81363147e+05,  0.00000000e+00,  1.75889735e+05,\n",
       "       -6.84087428e+02, -3.20689343e+03,  7.03067247e-01,  1.03871776e-01])"
      ]
     },
     "execution_count": 85,
     "metadata": {},
     "output_type": "execute_result"
    }
   ],
   "source": [
    "regressor.coef_"
   ]
  },
  {
   "cell_type": "code",
   "execution_count": 86,
   "metadata": {},
   "outputs": [
    {
     "data": {
      "text/plain": [
       "38499.20583029927"
      ]
     },
     "execution_count": 86,
     "metadata": {},
     "output_type": "execute_result"
    }
   ],
   "source": [
    "regressor.intercept_"
   ]
  },
  {
   "cell_type": "code",
   "execution_count": 87,
   "metadata": {},
   "outputs": [
    {
     "data": {
      "text/plain": [
       "0.7887091613509782"
      ]
     },
     "execution_count": 87,
     "metadata": {},
     "output_type": "execute_result"
    }
   ],
   "source": [
    "from sklearn.metrics import r2_score\n",
    "r2_score(y_test, y_pred)"
   ]
  },
  {
   "cell_type": "code",
   "execution_count": null,
   "metadata": {},
   "outputs": [],
   "source": []
  }
 ],
 "metadata": {
  "kernelspec": {
   "display_name": "Python 3",
   "language": "python",
   "name": "python3"
  },
  "language_info": {
   "codemirror_mode": {
    "name": "ipython",
    "version": 3
   },
   "file_extension": ".py",
   "mimetype": "text/x-python",
   "name": "python",
   "nbconvert_exporter": "python",
   "pygments_lexer": "ipython3",
   "version": "3.8.3"
  }
 },
 "nbformat": 4,
 "nbformat_minor": 4
}
